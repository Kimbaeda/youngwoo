{
  "nbformat": 4,
  "nbformat_minor": 0,
  "metadata": {
    "kernelspec": {
      "display_name": "Python 3",
      "language": "python",
      "name": "python3"
    },
    "language_info": {
      "codemirror_mode": {
        "name": "ipython",
        "version": 3
      },
      "file_extension": ".py",
      "mimetype": "text/x-python",
      "name": "python",
      "nbconvert_exporter": "python",
      "pygments_lexer": "ipython3",
      "version": "3.8.5"
    },
    "papermill": {
      "default_parameters": {},
      "duration": 4036.568131,
      "end_time": "2021-05-17T13:55:37.562231",
      "environment_variables": {},
      "exception": null,
      "input_path": "__notebook__.ipynb",
      "output_path": "__notebook__.ipynb",
      "parameters": {},
      "start_time": "2021-05-17T12:48:20.994100",
      "version": "2.2.2"
    },
    "colab": {
      "name": "필사-predict-future-sales-features-lightgbm.ipynb",
      "provenance": [],
      "collapsed_sections": [
        "nfImBBRM01er",
        "w6jTryCH01ey"
      ],
      "include_colab_link": true
    }
  },
  "cells": [
    {
      "cell_type": "markdown",
      "metadata": {
        "id": "view-in-github",
        "colab_type": "text"
      },
      "source": [
        "<a href=\"https://colab.research.google.com/github/Kimbaeda/youngwoo/blob/main/%ED%95%84%EC%82%AC_predict_future_sales_features_lightgbm.ipynb\" target=\"_parent\"><img src=\"https://colab.research.google.com/assets/colab-badge.svg\" alt=\"Open In Colab\"/></a>"
      ]
    },
    {
      "cell_type": "markdown",
      "metadata": {
        "papermill": {
          "duration": 0.055046,
          "end_time": "2021-05-17T12:48:26.908781",
          "exception": false,
          "start_time": "2021-05-17T12:48:26.853735",
          "status": "completed"
        },
        "tags": [],
        "id": "pKp1aiCS01en"
      },
      "source": [
        "\\*\\*\\** 참고! 이 노트북은 리포스트입니다. 몇 번의 조립과 후처리 단계를 거쳐 리더보드의 상위 10개 안에 든 후에 원본을 개인 노트북으로 만들었습니다. Kaggle은 특정 버전의 노트북을 비공개로 만드는 것을 허용하지 않으며, 상위 10개 솔루션을 공유해야 한다고 생각하지 않습니다. \\*\\*\\*"
      ]
    },
    {
      "cell_type": "markdown",
      "metadata": {
        "papermill": {
          "duration": 0.056251,
          "end_time": "2021-05-17T12:48:27.019100",
          "exception": false,
          "start_time": "2021-05-17T12:48:26.962849",
          "status": "completed"
        },
        "tags": [],
        "id": "7YKuixw101eo"
      },
      "source": [
        "# Introduction\n",
        "\n",
        "이 노트북은 Coursera 과정의 최종 프로젝트인 Predict Future Sales(http://www.coursera.org/learn/competitive-data-science/home/welcome)에 대한 예측 모델을 구성합니다. 이 작업은 러시아 회사 1C의 여러 소매점에서 다양한 품목의 월별 매출을 예측하는 것이다.\n",
        "\n",
        "판다를 이용한 연습으로 몇 개월을 보냈기 때문에 어떤 부분은 일반적인 짧은 프로젝트 제출보다 좀 더 복잡합니다.\n",
        "\n",
        "이 대회를 위해 제게 많은 것을 가르쳐 주고 볼 만한 가치가 있는 다른 아주 좋은 노트북들이 있습니다.<br>\n",
        "https://www.kaggle.com/dlarionov/feature-engineering-xgboost<br>\n",
        "https://www.kaggle.com/gordotron85/future-sales-xgboost-top-3<br>\n",
        "https://www.kaggle.com/deepdivelm/feature-engineering-lightgbm-exploring-performance<br>\n",
        "\n",
        "첫째, 동일한 항목의 다른 버전(예: 동일한 게임 또는 음악 앨범의 다른 버전)을 참조할 가능성이 있는 매우 유사한 이름의 항목을 그룹화하는 항목 이름 그룹 기능이 있습니다. 둘째, 테스트 세트를 생성하는 방법을 활용하여 예측되는 한 달에 판매되는 품목이 예측되는 품목과 동일한 그룹(예: 동일한 범주, 동일한 이름 그룹)에 속하는 품목 수를 계산했다. 이 기능은 항목 이름 그룹 기능과 잘 결합되어 잘 팔릴 가능성이 있는 대규모 다중 형식 릴리스의 일부인 새 항목을 탐지합니다. 판매량이 많은 신제품을 찾는 것은 이 경쟁 모델에서 가장 어려운 과제 중 하나입니다(실제로 높은 점수를 받으려면 수동으로 수행해야 한다고 생각합니다)."
      ]
    },
    {
      "cell_type": "markdown",
      "metadata": {
        "papermill": {
          "duration": 0.052428,
          "end_time": "2021-05-17T12:48:27.124766",
          "exception": false,
          "start_time": "2021-05-17T12:48:27.072338",
          "status": "completed"
        },
        "tags": [],
        "id": "XdOsIyuZ01eo"
      },
      "source": [
        "# Data loading and preprocessing, utility function definition"
      ]
    },
    {
      "cell_type": "markdown",
      "metadata": {
        "papermill": {
          "duration": 0.051906,
          "end_time": "2021-05-17T12:48:27.228747",
          "exception": false,
          "start_time": "2021-05-17T12:48:27.176841",
          "status": "completed"
        },
        "tags": [],
        "id": "TOYcvzD701eo"
      },
      "source": [
        "## Imports and data loading"
      ]
    },
    {
      "cell_type": "code",
      "metadata": {
        "execution": {
          "iopub.execute_input": "2021-05-17T12:48:27.336197Z",
          "iopub.status.busy": "2021-05-17T12:48:27.335605Z",
          "iopub.status.idle": "2021-05-17T12:48:28.237004Z",
          "shell.execute_reply": "2021-05-17T12:48:28.237552Z"
        },
        "papermill": {
          "duration": 0.956815,
          "end_time": "2021-05-17T12:48:28.237863",
          "exception": false,
          "start_time": "2021-05-17T12:48:27.281048",
          "status": "completed"
        },
        "tags": [],
        "id": "Fm0ylCCZ01eo"
      },
      "source": [
        "import gc\n",
        "import itertools\n",
        "import matplotlib.pyplot as plt\n",
        "import numpy as np\n",
        "import pandas as pd\n",
        "import seaborn as sns"
      ],
      "execution_count": null,
      "outputs": []
    },
    {
      "cell_type": "markdown",
      "metadata": {
        "papermill": {
          "duration": 0.052107,
          "end_time": "2021-05-17T12:48:28.343591",
          "exception": false,
          "start_time": "2021-05-17T12:48:28.291484",
          "status": "completed"
        },
        "tags": [],
        "id": "M-nzru-Y01eo"
      },
      "source": [
        "노트북 전체에서 사용되는 몇 가지 유틸리티 기능."
      ]
    },
    {
      "cell_type": "code",
      "metadata": {
        "execution": {
          "iopub.execute_input": "2021-05-17T12:48:28.451412Z",
          "iopub.status.busy": "2021-05-17T12:48:28.450749Z",
          "iopub.status.idle": "2021-05-17T12:48:28.466059Z",
          "shell.execute_reply": "2021-05-17T12:48:28.465552Z"
        },
        "papermill": {
          "duration": 0.070195,
          "end_time": "2021-05-17T12:48:28.466228",
          "exception": false,
          "start_time": "2021-05-17T12:48:28.396033",
          "status": "completed"
        },
        "tags": [],
        "id": "EXzrL2Jt01eo"
      },
      "source": [
        "def reduce_mem_usage(df, silent=True, allow_categorical=True, float_dtype=\"float32\"):\n",
        "    \"\"\" \n",
        "    Iterates through all the columns of a dataframe and downcasts the data type\n",
        "     to reduce memory usage. Can also factorize categorical columns to integer dtype.\n",
        "    \"\"\"\n",
        "    def _downcast_numeric(series, allow_categorical=allow_categorical):\n",
        "        \"\"\"\n",
        "        Downcast a numeric series into either the smallest possible int dtype or a specified float dtype.\n",
        "        \"\"\"\n",
        "        if pd.api.types.is_sparse(series.dtype) is True:\n",
        "            return series\n",
        "        elif pd.api.types.is_numeric_dtype(series.dtype) is False:\n",
        "            if pd.api.types.is_datetime64_any_dtype(series.dtype):\n",
        "                return series\n",
        "            else:\n",
        "                if allow_categorical:\n",
        "                    return series\n",
        "                else:\n",
        "                    codes, uniques = series.factorize()\n",
        "                    series = pd.Series(data=codes, index=series.index)\n",
        "                    series = _downcast_numeric(series)\n",
        "                    return series\n",
        "        else:\n",
        "            series = pd.to_numeric(series, downcast=\"integer\")\n",
        "        if pd.api.types.is_float_dtype(series.dtype):\n",
        "            series = series.astype(float_dtype)\n",
        "        return series\n",
        "\n",
        "    if silent is False:\n",
        "        start_mem = np.sum(df.memory_usage()) / 1024 ** 2\n",
        "        print(\"Memory usage of dataframe is {:.2f} MB\".format(start_mem))\n",
        "    if df.ndim == 1:\n",
        "        df = _downcast_numeric(df)\n",
        "    else:\n",
        "        for col in df.columns:\n",
        "            df.loc[:, col] = _downcast_numeric(df.loc[:,col])\n",
        "    if silent is False:\n",
        "        end_mem = np.sum(df.memory_usage()) / 1024 ** 2\n",
        "        print(\"Memory usage after optimization is: {:.2f} MB\".format(end_mem))\n",
        "        print(\"Decreased by {:.1f}%\".format(100 * (start_mem - end_mem) / start_mem))\n",
        "\n",
        "    return df\n",
        "\n",
        "\n",
        "def shrink_mem_new_cols(matrix, oldcols=None, allow_categorical=False):\n",
        "    # Calls reduce_mem_usage on columns which have not yet been optimized\n",
        "    if oldcols is not None:\n",
        "        newcols = matrix.columns.difference(oldcols)\n",
        "    else:\n",
        "        newcols = matrix.columns\n",
        "    matrix.loc[:,newcols] = reduce_mem_usage(matrix.loc[:,newcols], allow_categorical=allow_categorical)\n",
        "    oldcols = matrix.columns  # This is used to track which columns have already been downcast\n",
        "    return matrix, oldcols\n",
        "\n",
        "\n",
        "def list_if_not(s, dtype=str):\n",
        "    # Puts a variable in a list if it is not already a list\n",
        "    if type(s) not in (dtype, list):\n",
        "        raise TypeError\n",
        "    if (s != \"\") & (type(s) is not list):\n",
        "        s = [s]\n",
        "    return s"
      ],
      "execution_count": null,
      "outputs": []
    },
    {
      "cell_type": "markdown",
      "metadata": {
        "papermill": {
          "duration": 0.051997,
          "end_time": "2021-05-17T12:48:28.570657",
          "exception": false,
          "start_time": "2021-05-17T12:48:28.518660",
          "status": "completed"
        },
        "tags": [],
        "id": "BT1csM2c01ep"
      },
      "source": [
        "Load the provided data."
      ]
    },
    {
      "cell_type": "code",
      "metadata": {
        "execution": {
          "iopub.execute_input": "2021-05-17T12:48:28.679546Z",
          "iopub.status.busy": "2021-05-17T12:48:28.678861Z",
          "iopub.status.idle": "2021-05-17T12:48:31.440381Z",
          "shell.execute_reply": "2021-05-17T12:48:31.439665Z"
        },
        "papermill": {
          "duration": 2.817509,
          "end_time": "2021-05-17T12:48:31.440532",
          "exception": false,
          "start_time": "2021-05-17T12:48:28.623023",
          "status": "completed"
        },
        "tags": [],
        "id": "EoC4Domf01ep"
      },
      "source": [
        "# date path\n",
        "data_path = 'C:/Users/User/0_Project/kaggle/competitive-data-science-predict-future-sales/'\n",
        "\n",
        "items = pd.read_csv(data_path + 'items.csv')\n",
        "shops = pd.read_csv(data_path + 'shops.csv')\n",
        "train = pd.read_csv(data_path + 'sales_train.csv')\n",
        "test = pd.read_csv(data_path + 'test.csv')"
      ],
      "execution_count": null,
      "outputs": []
    },
    {
      "cell_type": "markdown",
      "metadata": {
        "papermill": {
          "duration": 0.05263,
          "end_time": "2021-05-17T12:48:31.546095",
          "exception": false,
          "start_time": "2021-05-17T12:48:31.493465",
          "status": "completed"
        },
        "tags": [],
        "id": "wpXIBs_901ep"
      },
      "source": [
        "날짜 열을 datetime dtype으로 변환하여 날짜 시간 작업을 사용하도록 설정합니다."
      ]
    },
    {
      "cell_type": "code",
      "metadata": {
        "execution": {
          "iopub.execute_input": "2021-05-17T12:48:31.655286Z",
          "iopub.status.busy": "2021-05-17T12:48:31.654334Z",
          "iopub.status.idle": "2021-05-17T12:48:32.231121Z",
          "shell.execute_reply": "2021-05-17T12:48:32.231591Z"
        },
        "papermill": {
          "duration": 0.633041,
          "end_time": "2021-05-17T12:48:32.231777",
          "exception": false,
          "start_time": "2021-05-17T12:48:31.598736",
          "status": "completed"
        },
        "tags": [],
        "id": "BwwBObKG01ep"
      },
      "source": [
        "train[\"date\"] = pd.to_datetime(train[\"date\"], format=\"%d.%m.%Y\")"
      ],
      "execution_count": null,
      "outputs": []
    },
    {
      "cell_type": "markdown",
      "metadata": {
        "papermill": {
          "duration": 0.052392,
          "end_time": "2021-05-17T12:48:32.336650",
          "exception": false,
          "start_time": "2021-05-17T12:48:32.284258",
          "status": "completed"
        },
        "tags": [],
        "id": "w7Wd4gQx01ep"
      },
      "source": [
        "## Data cleaning"
      ]
    },
    {
      "cell_type": "markdown",
      "metadata": {
        "papermill": {
          "duration": 0.053066,
          "end_time": "2021-05-17T12:48:32.442475",
          "exception": false,
          "start_time": "2021-05-17T12:48:32.389409",
          "status": "completed"
        },
        "tags": [],
        "id": "0sDH8Acf01ep"
      },
      "source": [
        "The training dataframe is cleaned with standard steps  \n"
      ]
    },
    {
      "cell_type": "code",
      "metadata": {
        "execution": {
          "iopub.execute_input": "2021-05-17T12:48:32.552448Z",
          "iopub.status.busy": "2021-05-17T12:48:32.551512Z",
          "iopub.status.idle": "2021-05-17T12:48:32.914779Z",
          "shell.execute_reply": "2021-05-17T12:48:32.914261Z"
        },
        "papermill": {
          "duration": 0.419525,
          "end_time": "2021-05-17T12:48:32.914950",
          "exception": false,
          "start_time": "2021-05-17T12:48:32.495425",
          "status": "completed"
        },
        "tags": [],
        "id": "GvM-DqDa01eq"
      },
      "source": [
        "# Merge some duplicate shops\n",
        "train[\"shop_id\"] = train[\"shop_id\"].replace({0: 57, 1: 58, 11: 10, 40: 39})\n",
        "# Keep only shops that are in the test set\n",
        "train = train.loc[train.shop_id.isin(test[\"shop_id\"].unique()), :]\n",
        "# Drop training items with extreme or negative prices or sales counts\n",
        "train = train[(train[\"item_price\"] > 0) & (train[\"item_price\"] < 50000)]\n",
        "train = train[(train[\"item_cnt_day\"] > 0) & (train[\"item_cnt_day\"] < 1000)]"
      ],
      "execution_count": null,
      "outputs": []
    },
    {
      "cell_type": "markdown",
      "metadata": {
        "papermill": {
          "duration": 0.052774,
          "end_time": "2021-05-17T12:48:33.020792",
          "exception": false,
          "start_time": "2021-05-17T12:48:32.968018",
          "status": "completed"
        },
        "tags": [],
        "id": "-cJ4hkjM01eq"
      },
      "source": [
        "## Preprocessing"
      ]
    },
    {
      "cell_type": "markdown",
      "metadata": {
        "papermill": {
          "duration": 0.052467,
          "end_time": "2021-05-17T12:48:33.126092",
          "exception": false,
          "start_time": "2021-05-17T12:48:33.073625",
          "status": "completed"
        },
        "tags": [],
        "id": "B3jZLzSI01eq"
      },
      "source": [
        "테스트 데이터는 테스트 달에 판매를 등록한 상점 및 품목의 가능한 모든 조합(데카르트 제품)이며, 목표는 이러한 각각의 상점 항목 조합에 대해 이루어진 총 달의 판매량이다. 여기서 교육 데이터 기간의 매달 이 구조를 복제하는 교육 매트릭스가 만들어집니다. 테스트 항목은 테스트 기간 동안 기능을 생성할 수 있도록 교육 데이터 끝에 연결됩니다."
      ]
    },
    {
      "cell_type": "code",
      "metadata": {
        "execution": {
          "iopub.execute_input": "2021-05-17T12:48:33.245859Z",
          "iopub.status.busy": "2021-05-17T12:48:33.245193Z",
          "iopub.status.idle": "2021-05-17T12:48:33.248116Z",
          "shell.execute_reply": "2021-05-17T12:48:33.247623Z"
        },
        "papermill": {
          "duration": 0.068349,
          "end_time": "2021-05-17T12:48:33.248277",
          "exception": false,
          "start_time": "2021-05-17T12:48:33.179928",
          "status": "completed"
        },
        "tags": [],
        "id": "zwhUlS2F01eq"
      },
      "source": [
        "def create_testlike_train(sales_train, test=None):\n",
        "    indexlist = []\n",
        "    for i in sales_train.date_block_num.unique():\n",
        "        x = itertools.product(\n",
        "            [i],\n",
        "            sales_train.loc[sales_train.date_block_num == i].shop_id.unique(),\n",
        "            sales_train.loc[sales_train.date_block_num == i].item_id.unique(),\n",
        "        )\n",
        "        indexlist.append(np.array(list(x)))\n",
        "    df = pd.DataFrame(\n",
        "        data=np.concatenate(indexlist, axis=0),\n",
        "        columns=[\"date_block_num\", \"shop_id\", \"item_id\"],\n",
        "    )\n",
        "\n",
        "    # Add revenue column to sales_train\n",
        "    sales_train[\"item_revenue_day\"] = sales_train[\"item_price\"] * sales_train[\"item_cnt_day\"]\n",
        "    # Aggregate item_id / shop_id item_cnts and revenue at the month level\n",
        "    sales_train_grouped = sales_train.groupby([\"date_block_num\", \"shop_id\", \"item_id\"]).agg(\n",
        "        item_cnt_month=pd.NamedAgg(column=\"item_cnt_day\", aggfunc=\"sum\"),\n",
        "        item_revenue_month=pd.NamedAgg(column=\"item_revenue_day\", aggfunc=\"sum\"),\n",
        "    )\n",
        "\n",
        "    # Merge the grouped data with the index\n",
        "    df = df.merge(\n",
        "        sales_train_grouped, how=\"left\", on=[\"date_block_num\", \"shop_id\", \"item_id\"],\n",
        "    )\n",
        "\n",
        "    if test is not None:\n",
        "        test[\"date_block_num\"] = 34\n",
        "        test[\"date_block_num\"] = test[\"date_block_num\"].astype(np.int8)\n",
        "        test[\"shop_id\"] = test.shop_id.astype(np.int8)\n",
        "        test[\"item_id\"] = test.item_id.astype(np.int16)\n",
        "        test = test.drop(columns=\"ID\")\n",
        "\n",
        "        df = pd.concat([df, test[[\"date_block_num\", \"shop_id\", \"item_id\"]]])\n",
        "\n",
        "    # Fill empty item_cnt entries with 0\n",
        "    df.item_cnt_month = df.item_cnt_month.fillna(0)\n",
        "    df.item_revenue_month = df.item_revenue_month.fillna(0)\n",
        "\n",
        "    return df"
      ],
      "execution_count": null,
      "outputs": []
    },
    {
      "cell_type": "code",
      "metadata": {
        "execution": {
          "iopub.execute_input": "2021-05-17T12:48:33.361410Z",
          "iopub.status.busy": "2021-05-17T12:48:33.360737Z",
          "iopub.status.idle": "2021-05-17T12:48:53.879072Z",
          "shell.execute_reply": "2021-05-17T12:48:53.879624Z"
        },
        "papermill": {
          "duration": 20.578174,
          "end_time": "2021-05-17T12:48:53.879817",
          "exception": false,
          "start_time": "2021-05-17T12:48:33.301643",
          "status": "completed"
        },
        "tags": [],
        "id": "bjoA_8tF01eq"
      },
      "source": [
        "matrix = create_testlike_train(train, test)\n",
        "del(test)"
      ],
      "execution_count": null,
      "outputs": []
    },
    {
      "cell_type": "markdown",
      "metadata": {
        "papermill": {
          "duration": 0.053227,
          "end_time": "2021-05-17T12:48:53.987695",
          "exception": false,
          "start_time": "2021-05-17T12:48:53.934468",
          "status": "completed"
        },
        "tags": [],
        "id": "_ynGQQ5t01eq"
      },
      "source": [
        "reduce_mem_usage 기능은 메모리 사용량을 줄이기 위해 데이터 유형을 다운캐스트하며, 이는 Kaggle 노트북의 메모리 오버플로 오류를 방지하기 위해 필요합니다."
      ]
    },
    {
      "cell_type": "code",
      "metadata": {
        "execution": {
          "iopub.execute_input": "2021-05-17T12:48:54.098587Z",
          "iopub.status.busy": "2021-05-17T12:48:54.097929Z",
          "iopub.status.idle": "2021-05-17T12:48:55.654434Z",
          "shell.execute_reply": "2021-05-17T12:48:55.655119Z"
        },
        "papermill": {
          "duration": 1.614319,
          "end_time": "2021-05-17T12:48:55.655390",
          "exception": false,
          "start_time": "2021-05-17T12:48:54.041071",
          "status": "completed"
        },
        "tags": [],
        "id": "ZYFPS13b01eq",
        "outputId": "28677506-0a3c-4682-81ba-bc03db2df480"
      },
      "source": [
        "matrix = reduce_mem_usage(matrix, silent=False)\n",
        "oldcols = matrix.columns"
      ],
      "execution_count": null,
      "outputs": [
        {
          "output_type": "stream",
          "text": [
            "Memory usage of dataframe is 405.44 MB\n",
            "Memory usage after optimization is: 152.04 MB\n",
            "Decreased by 62.5%\n"
          ],
          "name": "stdout"
        }
      ]
    },
    {
      "cell_type": "markdown",
      "metadata": {
        "papermill": {
          "duration": 0.054581,
          "end_time": "2021-05-17T12:48:55.768219",
          "exception": false,
          "start_time": "2021-05-17T12:48:55.713638",
          "status": "completed"
        },
        "tags": [],
        "id": "nfImBBRM01er"
      },
      "source": [
        "## Feature engineering  \n",
        "이 섹션에서는 예측 변수 특성 열이 생성되어 행렬에 추가됩니다."
      ]
    },
    {
      "cell_type": "markdown",
      "metadata": {
        "papermill": {
          "duration": 0.054768,
          "end_time": "2021-05-17T12:48:55.877775",
          "exception": false,
          "start_time": "2021-05-17T12:48:55.823007",
          "status": "completed"
        },
        "tags": [],
        "id": "rZ70__aH01er"
      },
      "source": [
        "# Item name groups with fuzzywuzzy\n",
        "\n",
        "항목 테이블의 항목은 item_name 필드에 따라 알파벳 순서로 정렬되므로 유사한 항목이 일반적으로 서로 옆에 나열됩니다. 예를 들어 아래 표의 처음 두 항목은 두 개의 서로 다른 콘솔에 대해 동일한 게임 \"퓨즈\"를 사용하고, 이어서 동일한 인터넷 보안 프로그램에 대해 두 개의 서로 다른 라이센스 옵션을 사용합니다. 이 순서를 사용하여 관련 항목을 그룹화할 수 있습니다."
      ]
    },
    {
      "cell_type": "code",
      "metadata": {
        "execution": {
          "iopub.execute_input": "2021-05-17T12:48:55.993261Z",
          "iopub.status.busy": "2021-05-17T12:48:55.992494Z",
          "iopub.status.idle": "2021-05-17T12:48:56.013315Z",
          "shell.execute_reply": "2021-05-17T12:48:56.012674Z"
        },
        "papermill": {
          "duration": 0.079803,
          "end_time": "2021-05-17T12:48:56.013458",
          "exception": false,
          "start_time": "2021-05-17T12:48:55.933655",
          "status": "completed"
        },
        "tags": [],
        "id": "w_UHW9S701er",
        "outputId": "506e6f6a-32c1-4aff-84fa-22a2d4e1ebbb"
      },
      "source": [
        "items.query(\"item_id>3564\").head(5)"
      ],
      "execution_count": null,
      "outputs": [
        {
          "output_type": "execute_result",
          "data": {
            "text/html": [
              "<div>\n",
              "<style scoped>\n",
              "    .dataframe tbody tr th:only-of-type {\n",
              "        vertical-align: middle;\n",
              "    }\n",
              "\n",
              "    .dataframe tbody tr th {\n",
              "        vertical-align: top;\n",
              "    }\n",
              "\n",
              "    .dataframe thead th {\n",
              "        text-align: right;\n",
              "    }\n",
              "</style>\n",
              "<table border=\"1\" class=\"dataframe\">\n",
              "  <thead>\n",
              "    <tr style=\"text-align: right;\">\n",
              "      <th></th>\n",
              "      <th>item_name</th>\n",
              "      <th>item_id</th>\n",
              "      <th>item_category_id</th>\n",
              "    </tr>\n",
              "  </thead>\n",
              "  <tbody>\n",
              "    <tr>\n",
              "      <th>3565</th>\n",
              "      <td>Fuse [PS3, английская версия]</td>\n",
              "      <td>3565</td>\n",
              "      <td>19</td>\n",
              "    </tr>\n",
              "    <tr>\n",
              "      <th>3566</th>\n",
              "      <td>Fuse [Xbox 360, английская версия]</td>\n",
              "      <td>3566</td>\n",
              "      <td>23</td>\n",
              "    </tr>\n",
              "    <tr>\n",
              "      <th>3567</th>\n",
              "      <td>G Data Internet Security 2013 (1ПК / 1 год) (G...</td>\n",
              "      <td>3567</td>\n",
              "      <td>76</td>\n",
              "    </tr>\n",
              "    <tr>\n",
              "      <th>3568</th>\n",
              "      <td>G Data Internet Security 2013 (3ПК / 1 год) (G...</td>\n",
              "      <td>3568</td>\n",
              "      <td>76</td>\n",
              "    </tr>\n",
              "    <tr>\n",
              "      <th>3569</th>\n",
              "      <td>GABIN  The Best Of Gabin  2CD</td>\n",
              "      <td>3569</td>\n",
              "      <td>55</td>\n",
              "    </tr>\n",
              "  </tbody>\n",
              "</table>\n",
              "</div>"
            ],
            "text/plain": [
              "                                              item_name  item_id  \\\n",
              "3565                      Fuse [PS3, английская версия]     3565   \n",
              "3566                 Fuse [Xbox 360, английская версия]     3566   \n",
              "3567  G Data Internet Security 2013 (1ПК / 1 год) (G...     3567   \n",
              "3568  G Data Internet Security 2013 (3ПК / 1 год) (G...     3568   \n",
              "3569                      GABIN  The Best Of Gabin  2CD     3569   \n",
              "\n",
              "      item_category_id  \n",
              "3565                19  \n",
              "3566                23  \n",
              "3567                76  \n",
              "3568                76  \n",
              "3569                55  "
            ]
          },
          "metadata": {
            "tags": []
          },
          "execution_count": 9
        }
      ]
    },
    {
      "cell_type": "markdown",
      "metadata": {
        "papermill": {
          "duration": 0.054893,
          "end_time": "2021-05-17T12:48:56.124803",
          "exception": false,
          "start_time": "2021-05-17T12:48:56.069910",
          "status": "completed"
        },
        "tags": [],
        "id": "QXXKiiIB01er"
      },
      "source": [
        "다음 셀은 항목을 순차적으로 루핑하고 패키지 fuzzywuzzy(https://github.com/seatgeek/fuzzywuzzy),를 사용하여 인접 항목의 이름의 유사성을 측정하고 일치 값이 임계값을 초과할 경우 항목을 동일한 그룹에 할당하는 방식으로 유사한 항목을 그룹화합니다."
      ]
    },
    {
      "cell_type": "code",
      "metadata": {
        "id": "JmXKH5mF01er",
        "outputId": "04d11084-b0de-461f-e6fe-29c11c24e8ff"
      },
      "source": [
        "!pip install fuzzywuzzy"
      ],
      "execution_count": null,
      "outputs": [
        {
          "output_type": "stream",
          "text": [
            "Requirement already satisfied: fuzzywuzzy in c:\\programdata\\anaconda3\\lib\\site-packages (0.18.0)\n"
          ],
          "name": "stdout"
        }
      ]
    },
    {
      "cell_type": "code",
      "metadata": {
        "execution": {
          "iopub.execute_input": "2021-05-17T12:48:56.248359Z",
          "iopub.status.busy": "2021-05-17T12:48:56.247639Z",
          "iopub.status.idle": "2021-05-17T12:49:05.920169Z",
          "shell.execute_reply": "2021-05-17T12:49:05.920692Z"
        },
        "papermill": {
          "duration": 9.740651,
          "end_time": "2021-05-17T12:49:05.920881",
          "exception": false,
          "start_time": "2021-05-17T12:48:56.180230",
          "status": "completed"
        },
        "tags": [],
        "id": "t60u6E4E01er",
        "outputId": "f816585c-c5b5-429b-f151-b9b9e4a024a1"
      },
      "source": [
        "import re\n",
        "\n",
        "from fuzzywuzzy import fuzz\n",
        "\n",
        "\n",
        "def add_item_name_groups(matrix, train, items, sim_thresh, feature_name=\"item_name_group\"):\n",
        "    def partialmatchgroups(items, sim_thresh=sim_thresh):\n",
        "        def strip_brackets(string):\n",
        "            string = re.sub(r\"\\(.*?\\)\", \"\", string)\n",
        "            string = re.sub(r\"\\[.*?\\]\", \"\", string)\n",
        "            return string\n",
        "\n",
        "        items = items.copy()\n",
        "        items[\"nc\"] = items.item_name.apply(strip_brackets)\n",
        "        items[\"ncnext\"] = np.concatenate((items[\"nc\"].to_numpy()[1:], np.array([\"\"])))\n",
        "\n",
        "        def partialcompare(s):\n",
        "            return fuzz.partial_ratio(s[\"nc\"], s[\"ncnext\"])\n",
        "\n",
        "        items[\"partialmatch\"] = items.apply(partialcompare, axis=1)\n",
        "        # Assign groups\n",
        "        grp = 0\n",
        "        for i in range(items.shape[0]):\n",
        "            items.loc[i, \"partialmatchgroup\"] = grp\n",
        "            if items.loc[i, \"partialmatch\"] < sim_thresh:\n",
        "                grp += 1\n",
        "        items = items.drop(columns=[\"nc\", \"ncnext\", \"partialmatch\"])\n",
        "        return items\n",
        "\n",
        "    items = partialmatchgroups(items)\n",
        "    items = items.rename(columns={\"partialmatchgroup\": feature_name})\n",
        "    items = items.drop(columns=\"partialmatchgroup\", errors=\"ignore\")\n",
        "\n",
        "    items[feature_name] = items[feature_name].apply(str)\n",
        "    items[feature_name] = items[feature_name].factorize()[0]\n",
        "    matrix = matrix.merge(items[[\"item_id\", feature_name]], on=\"item_id\", how=\"left\")\n",
        "    train = train.merge(items[[\"item_id\", feature_name]], on=\"item_id\", how=\"left\")\n",
        "    return matrix, train\n",
        "\n",
        "\n",
        "matrix, train = add_item_name_groups(matrix, train, items, 65)"
      ],
      "execution_count": null,
      "outputs": [
        {
          "output_type": "stream",
          "text": [
            "C:\\ProgramData\\Anaconda3\\lib\\site-packages\\fuzzywuzzy\\fuzz.py:11: UserWarning: Using slow pure-python SequenceMatcher. Install python-Levenshtein to remove this warning\n",
            "  warnings.warn('Using slow pure-python SequenceMatcher. Install python-Levenshtein to remove this warning')\n"
          ],
          "name": "stderr"
        }
      ]
    },
    {
      "cell_type": "markdown",
      "metadata": {
        "papermill": {
          "duration": 0.056094,
          "end_time": "2021-05-17T12:49:06.032115",
          "exception": false,
          "start_time": "2021-05-17T12:49:05.976021",
          "status": "completed"
        },
        "tags": [],
        "id": "7od_OJol01es"
      },
      "source": [
        "# Music artist / first word of item name  \n",
        "\n",
        "이 기능은 아티스트 이름에 따라 음악 항목을 그룹으로 할당하며, 아티스트 이름을 나타내는 데 사용되는 3가지 일반적인 패턴(모두 대문자로, 릴리스 제목과 두 개의 공백으로 구분되거나 점 공백(.)으로 구분됨)에 따라 정규 표현식으로 항목 이름에서 추출됩니다.\n",
        "비음악 카테고리의 경우 항목 이름의 첫 번째 단어에 따라 항목이 그룹화됩니다."
      ]
    },
    {
      "cell_type": "code",
      "metadata": {
        "scrolled": true,
        "id": "KlCvcx4j01es",
        "outputId": "e1f2166e-aacd-490a-f93e-1e1e7811810b"
      },
      "source": [
        "!pip install nltk"
      ],
      "execution_count": null,
      "outputs": [
        {
          "output_type": "stream",
          "text": [
            "Requirement already satisfied: nltk in c:\\programdata\\anaconda3\\lib\\site-packages (3.5)\n",
            "Requirement already satisfied: regex in c:\\programdata\\anaconda3\\lib\\site-packages (from nltk) (2020.10.15)\n",
            "Requirement already satisfied: joblib in c:\\programdata\\anaconda3\\lib\\site-packages (from nltk) (0.17.0)\n",
            "Requirement already satisfied: tqdm in c:\\programdata\\anaconda3\\lib\\site-packages (from nltk) (4.50.2)\n",
            "Requirement already satisfied: click in c:\\programdata\\anaconda3\\lib\\site-packages (from nltk) (7.1.2)\n"
          ],
          "name": "stdout"
        }
      ]
    },
    {
      "cell_type": "code",
      "metadata": {
        "id": "1RRlDISQ01es",
        "outputId": "3be499b5-70b9-4eff-a189-ca4d99bbd47d"
      },
      "source": [
        "import nltk\n",
        "nltk.download('stopwords')"
      ],
      "execution_count": null,
      "outputs": [
        {
          "output_type": "stream",
          "text": [
            "[nltk_data] Downloading package stopwords to\n",
            "[nltk_data]     C:\\Users\\User\\AppData\\Roaming\\nltk_data...\n",
            "[nltk_data]   Package stopwords is already up-to-date!\n"
          ],
          "name": "stderr"
        },
        {
          "output_type": "execute_result",
          "data": {
            "text/plain": [
              "True"
            ]
          },
          "metadata": {
            "tags": []
          },
          "execution_count": 13
        }
      ]
    },
    {
      "cell_type": "code",
      "metadata": {
        "execution": {
          "iopub.execute_input": "2021-05-17T12:49:06.161329Z",
          "iopub.status.busy": "2021-05-17T12:49:06.160551Z",
          "iopub.status.idle": "2021-05-17T12:49:08.770362Z",
          "shell.execute_reply": "2021-05-17T12:49:08.769804Z"
        },
        "papermill": {
          "duration": 2.682273,
          "end_time": "2021-05-17T12:49:08.770522",
          "exception": false,
          "start_time": "2021-05-17T12:49:06.088249",
          "status": "completed"
        },
        "tags": [],
        "id": "1EWPsfDD01es"
      },
      "source": [
        "from nltk.corpus import stopwords\n",
        "\n",
        "\n",
        "def add_first_word_features(matrix, items=items, feature_name=\"artist_name_or_first_word\"):\n",
        "    # This extracts artist names for music categories and adds them as a feature.\n",
        "    def extract_artist(st):\n",
        "        st = st.strip()\n",
        "        if st.startswith(\"V/A\"):\n",
        "            artist = \"V/A\"\n",
        "        elif st.startswith(\"СБ\"):\n",
        "            artist = \"СБ\"\n",
        "        else:\n",
        "            # Retrieves artist names using the double space or all uppercase pattern\n",
        "            mus_artist_dubspace = re.compile(r\".{2,}?(?=\\s{2,})\")\n",
        "            match_dubspace = mus_artist_dubspace.match(st)\n",
        "            mus_artist_capsonly = re.compile(r\"^([^a-zа-я]+\\s)+\")\n",
        "            match_capsonly = mus_artist_capsonly.match(st)\n",
        "            candidates = [match_dubspace, match_capsonly]\n",
        "            candidates = [m[0] for m in candidates if m is not None]\n",
        "            # Sometimes one of the patterns catches some extra words so choose the shortest one\n",
        "            if len(candidates):\n",
        "                artist = min(candidates, key=len)\n",
        "            else:\n",
        "                # If neither of the previous patterns found something, use the dot-space pattern\n",
        "                mus_artist_dotspace = re.compile(r\".{2,}?(?=\\.\\s)\")\n",
        "                match = mus_artist_dotspace.match(st)\n",
        "                if match:\n",
        "                    artist = match[0]\n",
        "                else:\n",
        "                    artist = \"\"\n",
        "        artist = artist.upper()\n",
        "        artist = re.sub(r\"[^A-ZА-Я ]||\\bTHE\\b\", \"\", artist)\n",
        "        artist = re.sub(r\"\\s{2,}\", \" \", artist)\n",
        "        artist = artist.strip()\n",
        "        return artist\n",
        "\n",
        "    items = items.copy()\n",
        "    all_stopwords = stopwords.words(\"russian\")\n",
        "    all_stopwords = all_stopwords + stopwords.words(\"english\")\n",
        "\n",
        "    def first_word(string):\n",
        "        # This cleans the string of special characters, excess spaces and stopwords then extracts the first word\n",
        "        string = re.sub(r\"[^\\w\\s]\", \"\", string)\n",
        "        string = re.sub(r\"\\s{2,}\", \" \", string)\n",
        "        tokens = string.lower().split()\n",
        "        tokens = [t for t in tokens if t not in all_stopwords]\n",
        "        token = tokens[0] if len(tokens) > 0 else \"\"\n",
        "        return token\n",
        "\n",
        "    music_categories = [55, 56, 57, 58, 59, 60]\n",
        "    items.loc[items.item_category_id.isin(music_categories), feature_name] = items.loc[\n",
        "        items.item_category_id.isin(music_categories), \"item_name\"\n",
        "    ].apply(extract_artist)\n",
        "    items.loc[items[feature_name] == \"\", feature_name] = \"other music\"\n",
        "    items.loc[~items.item_category_id.isin(music_categories), feature_name] = items.loc[\n",
        "        ~items.item_category_id.isin(music_categories), \"item_name\"\n",
        "    ].apply(first_word)\n",
        "    items.loc[items[feature_name] == \"\", feature_name] = \"other non-music\"\n",
        "    items[feature_name] = items[feature_name].factorize()[0]\n",
        "    matrix = matrix.merge(items[[\"item_id\", feature_name]], on=\"item_id\", how=\"left\",)\n",
        "    return matrix\n",
        "\n",
        "\n",
        "matrix = add_first_word_features(\n",
        "    matrix, items=items, feature_name=\"artist_name_or_first_word\"\n",
        ")"
      ],
      "execution_count": null,
      "outputs": []
    },
    {
      "cell_type": "markdown",
      "metadata": {
        "papermill": {
          "duration": 0.055784,
          "end_time": "2021-05-17T12:49:08.881967",
          "exception": false,
          "start_time": "2021-05-17T12:49:08.826183",
          "status": "completed"
        },
        "tags": [],
        "id": "ZKmsaFny01et"
      },
      "source": [
        "# Item name length as a feature\n",
        "item_name 필드의 이름은 놀라울 정도로 예측 가능한데, 유사한 항목의 길이가 유사한 경우가 많기 때문일 수 있습니다. 이는 종종 항목 간의 유사성을 모호하게 하는 릴리스 형식에 대한 정보를 포함하는 특수 문자 및 괄호 용어의 원시 항목 이름과 정리된 이름 모두에서 기록됩니다."
      ]
    },
    {
      "cell_type": "code",
      "metadata": {
        "execution": {
          "iopub.execute_input": "2021-05-17T12:49:09.006319Z",
          "iopub.status.busy": "2021-05-17T12:49:09.001879Z",
          "iopub.status.idle": "2021-05-17T12:49:10.457895Z",
          "shell.execute_reply": "2021-05-17T12:49:10.457358Z"
        },
        "papermill": {
          "duration": 1.519884,
          "end_time": "2021-05-17T12:49:10.458041",
          "exception": false,
          "start_time": "2021-05-17T12:49:08.938157",
          "status": "completed"
        },
        "tags": [],
        "id": "jCkcWbpV01et"
      },
      "source": [
        "import re\n",
        "def clean_item_name(string):\n",
        "    # Removes bracketed terms, special characters and extra whitespace\n",
        "    string = re.sub(r\"\\[.*?\\]\", \"\", string)\n",
        "    string = re.sub(r\"\\(.*?\\)\", \"\", string)\n",
        "    string = re.sub(r\"[^A-ZА-Яa-zа-я0-9 ]\", \"\", string)\n",
        "    string = re.sub(r\"\\s{2,}\", \" \", string)\n",
        "    string = string.lower()\n",
        "    return string\n",
        "\n",
        "items[\"item_name_cleaned_length\"] = items[\"item_name\"].apply(clean_item_name).apply(len)\n",
        "items[\"item_name_length\"] = items[\"item_name\"].apply(len)\n",
        "matrix = matrix.merge(items[['item_id', 'item_name_length', 'item_name_cleaned_length']], how='left', on='item_id')\n",
        "items = items.drop(columns=['item_name_length', 'item_name_cleaned_length'])"
      ],
      "execution_count": null,
      "outputs": []
    },
    {
      "cell_type": "code",
      "metadata": {
        "execution": {
          "iopub.execute_input": "2021-05-17T12:49:10.575518Z",
          "iopub.status.busy": "2021-05-17T12:49:10.574825Z",
          "iopub.status.idle": "2021-05-17T12:49:12.411734Z",
          "shell.execute_reply": "2021-05-17T12:49:12.410977Z"
        },
        "papermill": {
          "duration": 1.898261,
          "end_time": "2021-05-17T12:49:12.411897",
          "exception": false,
          "start_time": "2021-05-17T12:49:10.513636",
          "status": "completed"
        },
        "tags": [],
        "id": "RQtB809b01et",
        "outputId": "fe4cf870-8507-4cec-d100-d8905fa9b157"
      },
      "source": [
        "print(\"Created name features\")\n",
        "matrix, oldcols = shrink_mem_new_cols(matrix, oldcols)"
      ],
      "execution_count": null,
      "outputs": [
        {
          "output_type": "stream",
          "text": [
            "Created name features\n"
          ],
          "name": "stdout"
        }
      ]
    },
    {
      "cell_type": "markdown",
      "metadata": {
        "papermill": {
          "duration": 0.055288,
          "end_time": "2021-05-17T12:49:12.523645",
          "exception": false,
          "start_time": "2021-05-17T12:49:12.468357",
          "status": "completed"
        },
        "tags": [],
        "id": "3uZ79jUo01et"
      },
      "source": [
        "# Time features\n",
        "일별 및 월별 해상도 시간 기능은 교육 데이터 프레임에서 생성됩니다(예: 각 항목의 최초 및 마지막 판매 이후 일수).\n",
        "\n",
        "각 항목의 첫 번째 판매 이후 시간은 평균 일일 판매 기능(\"항목_cnt_day_avg\")을 생성하는 데에도 사용되는데, 이는 한 달 미만이기 때문에 전 달 동안 구매할 수 없었던 품목의 판매 수를 수정하는 데 유용할 수 있다."
      ]
    },
    {
      "cell_type": "code",
      "metadata": {
        "execution": {
          "iopub.execute_input": "2021-05-17T12:49:12.664367Z",
          "iopub.status.busy": "2021-05-17T12:49:12.643176Z",
          "iopub.status.idle": "2021-05-17T12:49:12.667056Z",
          "shell.execute_reply": "2021-05-17T12:49:12.666460Z"
        },
        "papermill": {
          "duration": 0.088274,
          "end_time": "2021-05-17T12:49:12.667208",
          "exception": false,
          "start_time": "2021-05-17T12:49:12.578934",
          "status": "completed"
        },
        "tags": [],
        "id": "7OLCM2Xl01et"
      },
      "source": [
        "def add_time_features(m, train, correct_item_cnt_day=False):\n",
        "    from pandas.tseries.offsets import Day, MonthBegin, MonthEnd\n",
        "\n",
        "    def item_shop_age_months(m):\n",
        "        m[\"item_age\"] = m.groupby(\"item_id\")[\"date_block_num\"].transform(\n",
        "            lambda x: x - x.min()\n",
        "        )\n",
        "        # Sales tend to plateau after 12 months\n",
        "        m[\"new_item\"] = m[\"item_age\"] == 0\n",
        "        m[\"new_item\"] = m[\"new_item\"].astype(\"int8\")\n",
        "        m[\"shop_age\"] = (\n",
        "            m.groupby(\"shop_id\")[\"date_block_num\"]\n",
        "            .transform(lambda x: x - x.min())\n",
        "            .astype(\"int8\")\n",
        "        )\n",
        "        return m\n",
        "\n",
        "    # Add dummy values for the test month so that features are created correctly\n",
        "    dummies = m.loc[m.date_block_num == 34, [\"date_block_num\", \"shop_id\", \"item_id\"]]\n",
        "    dummies = dummies.assign(\n",
        "        date=pd.to_datetime(\"2015-11-30\"), item_price=1, item_cnt_day=0, item_revenue_day=0,\n",
        "    )\n",
        "    train = pd.concat([train, dummies])\n",
        "    del dummies\n",
        "\n",
        "    month_last_day = train.groupby(\"date_block_num\").date.max().rename(\"month_last_day\")\n",
        "    month_last_day[~month_last_day.dt.is_month_end] = (\n",
        "        month_last_day[~month_last_day.dt.is_month_end] + MonthEnd()\n",
        "    )\n",
        "    month_first_day = train.groupby(\"date_block_num\").date.min().rename(\"month_first_day\")\n",
        "    month_first_day[~month_first_day.dt.is_month_start] = (\n",
        "        month_first_day[~month_first_day.dt.is_month_start] - MonthBegin()\n",
        "    )\n",
        "    month_length = (month_last_day - month_first_day + Day()).rename(\"month_length\")\n",
        "    first_shop_date = train.groupby(\"shop_id\").date.min().rename(\"first_shop_date\")\n",
        "    first_item_date = train.groupby(\"item_id\").date.min().rename(\"first_item_date\")\n",
        "    first_shop_item_date = (\n",
        "        train.groupby([\"shop_id\", \"item_id\"]).date.min().rename(\"first_shop_item_date\")\n",
        "    )\n",
        "    first_item_name_group_date = (\n",
        "        train.groupby(\"item_name_group\").date.min().rename(\"first_name_group_date\")\n",
        "    )\n",
        "\n",
        "    m = m.merge(month_first_day, left_on=\"date_block_num\", right_index=True, how=\"left\")\n",
        "    m = m.merge(month_last_day, left_on=\"date_block_num\", right_index=True, how=\"left\")\n",
        "    m = m.merge(month_length, left_on=\"date_block_num\", right_index=True, how=\"left\")\n",
        "    m = m.merge(first_shop_date, left_on=\"shop_id\", right_index=True, how=\"left\")\n",
        "    m = m.merge(first_item_date, left_on=\"item_id\", right_index=True, how=\"left\")\n",
        "    m = m.merge(\n",
        "        first_shop_item_date, left_on=[\"shop_id\", \"item_id\"], right_index=True, how=\"left\"\n",
        "    )\n",
        "    m = m.merge(\n",
        "        first_item_name_group_date, left_on=\"item_name_group\", right_index=True, how=\"left\"\n",
        "    )\n",
        "\n",
        "    # Calculate how long the item was sold for in each month and use this to calculate average sales per day\n",
        "    m[\"shop_open_days\"] = m[\"month_last_day\"] - m[\"first_shop_date\"] + Day()\n",
        "    m[\"item_first_sale_days\"] = m[\"month_last_day\"] - m[\"first_item_date\"] + Day()\n",
        "    m[\"item_in_shop_days\"] = (\n",
        "        m[[\"shop_open_days\", \"item_first_sale_days\", \"month_length\"]].min(axis=1).dt.days\n",
        "    )\n",
        "    m = m.drop(columns=\"item_first_sale_days\")\n",
        "    m[\"item_cnt_day_avg\"] = m[\"item_cnt_month\"] / m[\"item_in_shop_days\"]\n",
        "    m[\"month_length\"] = m[\"month_length\"].dt.days\n",
        "\n",
        "    # Calculate the time differences from the beginning of the month so they can be used as features without lagging\n",
        "    m[\"shop_open_days\"] = m[\"month_first_day\"] - m[\"first_shop_date\"]\n",
        "    m[\"first_item_sale_days\"] = m[\"month_first_day\"] - m[\"first_item_date\"]\n",
        "    m[\"first_shop_item_sale_days\"] = m[\"month_first_day\"] - m[\"first_shop_item_date\"]\n",
        "    m[\"first_name_group_sale_days\"] = m[\"month_first_day\"] - m[\"first_name_group_date\"]\n",
        "    m[\"shop_open_days\"] = m[\"shop_open_days\"].dt.days.fillna(0).clip(lower=0)\n",
        "    m[\"first_item_sale_days\"] = (\n",
        "        m[\"first_item_sale_days\"].dt.days.fillna(0).clip(lower=0).replace(0, 9999)\n",
        "    )\n",
        "    m[\"first_shop_item_sale_days\"] = (\n",
        "        m[\"first_shop_item_sale_days\"].dt.days.fillna(0).clip(lower=0).replace(0, 9999)\n",
        "    )\n",
        "    m[\"first_name_group_sale_days\"] = (\n",
        "        m[\"first_name_group_sale_days\"].dt.days.fillna(0).clip(lower=0).replace(0, 9999)\n",
        "    )\n",
        "\n",
        "    # Add days since last sale\n",
        "    def last_sale_days(matrix):\n",
        "        last_shop_item_dates = []\n",
        "        for dbn in range(1, 35):\n",
        "            lsid_temp = (\n",
        "                train.query(f\"date_block_num<{dbn}\")\n",
        "                .groupby([\"shop_id\", \"item_id\"])\n",
        "                .date.max()\n",
        "                .rename(\"last_shop_item_sale_date\")\n",
        "                .reset_index()\n",
        "            )\n",
        "            lsid_temp[\"date_block_num\"] = dbn\n",
        "            last_shop_item_dates.append(lsid_temp)\n",
        "\n",
        "        last_shop_item_dates = pd.concat(last_shop_item_dates)\n",
        "        matrix = matrix.merge(\n",
        "            last_shop_item_dates, on=[\"date_block_num\", \"shop_id\", \"item_id\"], how=\"left\"\n",
        "        )\n",
        "\n",
        "        def days_since_last_feat(m, feat_name, date_feat_name, missingval):\n",
        "            m[feat_name] = (m[\"month_first_day\"] - m[date_feat_name]).dt.days\n",
        "            m.loc[m[feat_name] > 2000, feat_name] = missingval\n",
        "            m.loc[m[feat_name].isna(), feat_name] = missingval\n",
        "            return m\n",
        "\n",
        "        matrix = days_since_last_feat(\n",
        "            matrix, \"last_shop_item_sale_days\", \"last_shop_item_sale_date\", 9999\n",
        "        )\n",
        "\n",
        "        matrix = matrix.drop(columns=[\"last_shop_item_sale_date\"])\n",
        "        return matrix\n",
        "\n",
        "    m = last_sale_days(m)\n",
        "    # Month id feature\n",
        "    m[\"month\"] = m[\"month_first_day\"].dt.month\n",
        "\n",
        "    m = m.drop(\n",
        "        columns=[\n",
        "            \"first_day\",\n",
        "            \"month_first_day\",\n",
        "            \"month_last_day\",\n",
        "            \"first_shop_date\",\n",
        "            \"first_item_date\",\n",
        "            \"first_name_group_date\",\n",
        "            \"item_in_shop_days\",\n",
        "            \"first_shop_item_date\",\n",
        "            \"month_length\",\n",
        "        ],\n",
        "        errors=\"ignore\",\n",
        "    )\n",
        "\n",
        "    m = item_shop_age_months(m)\n",
        "\n",
        "    if correct_item_cnt_day == True:\n",
        "        m[\"item_cnt_month_original\"] = m[\"item_cnt_month\"]\n",
        "        m[\"item_cnt_month\"] = m[\"item_cnt_day_avg\"] * m[\"month_length\"]\n",
        "\n",
        "    return m"
      ],
      "execution_count": null,
      "outputs": []
    },
    {
      "cell_type": "code",
      "metadata": {
        "execution": {
          "iopub.execute_input": "2021-05-17T12:49:12.784001Z",
          "iopub.status.busy": "2021-05-17T12:49:12.783386Z",
          "iopub.status.idle": "2021-05-17T12:49:55.062758Z",
          "shell.execute_reply": "2021-05-17T12:49:55.063536Z"
        },
        "papermill": {
          "duration": 42.34097,
          "end_time": "2021-05-17T12:49:55.063758",
          "exception": false,
          "start_time": "2021-05-17T12:49:12.722788",
          "status": "completed"
        },
        "tags": [],
        "id": "otUCzBaN01et",
        "outputId": "53bc49cc-d2ba-489a-e433-b5b615228cb9"
      },
      "source": [
        "matrix = add_time_features(matrix, train, False)\n",
        "print(\"Time features created\")"
      ],
      "execution_count": null,
      "outputs": [
        {
          "output_type": "stream",
          "text": [
            "Time features created\n"
          ],
          "name": "stdout"
        }
      ]
    },
    {
      "cell_type": "markdown",
      "metadata": {
        "papermill": {
          "duration": 0.056244,
          "end_time": "2021-05-17T12:49:55.177827",
          "exception": false,
          "start_time": "2021-05-17T12:49:55.121583",
          "status": "completed"
        },
        "tags": [],
        "id": "AjuFwrZG01et"
      },
      "source": [
        "# Price features  \n",
        "\n",
        "해당 제품이 판매된 마지막 달의 가격 및 동일한 범주의 다른 품목에 상대적인 가격."
      ]
    },
    {
      "cell_type": "code",
      "metadata": {
        "execution": {
          "iopub.execute_input": "2021-05-17T12:49:55.301599Z",
          "iopub.status.busy": "2021-05-17T12:49:55.300927Z",
          "iopub.status.idle": "2021-05-17T12:49:55.304003Z",
          "shell.execute_reply": "2021-05-17T12:49:55.303514Z"
        },
        "papermill": {
          "duration": 0.069829,
          "end_time": "2021-05-17T12:49:55.304169",
          "exception": false,
          "start_time": "2021-05-17T12:49:55.234340",
          "status": "completed"
        },
        "tags": [],
        "id": "Wh0ApKMP01et"
      },
      "source": [
        "def add_price_features(matrix, train):\n",
        "    # Get mean prices per month from train dataframe\n",
        "    price_features = train.groupby([\"date_block_num\", \"item_id\"]).item_price.mean()\n",
        "    price_features = pd.DataFrame(price_features)\n",
        "    price_features = price_features.reset_index()\n",
        "    # Calculate normalized differenced from mean category price per month\n",
        "    price_features = price_features.merge(\n",
        "        items[[\"item_id\", \"item_category_id\"]], how=\"left\", on=\"item_id\"\n",
        "    )\n",
        "    price_features[\"norm_diff_cat_price\"] = price_features.groupby(\n",
        "        [\"date_block_num\", \"item_category_id\"]\n",
        "    )[\"item_price\"].transform(lambda x: (x - x.mean()) / x.mean())\n",
        "    # Retain only the necessary features\n",
        "    price_features = price_features[\n",
        "        [\n",
        "            \"date_block_num\",\n",
        "            \"item_id\",\n",
        "            \"item_price\",\n",
        "            \"norm_diff_cat_price\",\n",
        "        ]\n",
        "    ]\n",
        "\n",
        "    features = [\n",
        "        \"item_price\",\n",
        "        \"norm_diff_cat_price\",\n",
        "    ]\n",
        "    newnames = [\"last_\" + f for f in features]\n",
        "    aggs = {f: \"last\" for f in features}\n",
        "    renames = {f: \"last_\" + f for f in features}\n",
        "    features = []\n",
        "    for dbn in range(1, 35):\n",
        "        f_temp = (\n",
        "            price_features.query(f\"date_block_num<{dbn}\")\n",
        "            .groupby(\"item_id\")\n",
        "            .agg(aggs)\n",
        "            .rename(columns=renames)\n",
        "        )\n",
        "        f_temp[\"date_block_num\"] = dbn\n",
        "        features.append(f_temp)\n",
        "    features = pd.concat(features).reset_index()\n",
        "    matrix = matrix.merge(features, on=[\"date_block_num\", \"item_id\"], how=\"left\")\n",
        "    return matrix"
      ],
      "execution_count": null,
      "outputs": []
    },
    {
      "cell_type": "code",
      "metadata": {
        "execution": {
          "iopub.execute_input": "2021-05-17T12:49:55.422782Z",
          "iopub.status.busy": "2021-05-17T12:49:55.422043Z",
          "iopub.status.idle": "2021-05-17T12:49:59.311492Z",
          "shell.execute_reply": "2021-05-17T12:49:59.310782Z"
        },
        "papermill": {
          "duration": 3.950836,
          "end_time": "2021-05-17T12:49:59.311640",
          "exception": false,
          "start_time": "2021-05-17T12:49:55.360804",
          "status": "completed"
        },
        "tags": [],
        "id": "JTEOQ4M801eu"
      },
      "source": [
        "matrix = add_price_features(matrix, train)\n",
        "del(train)"
      ],
      "execution_count": null,
      "outputs": []
    },
    {
      "cell_type": "markdown",
      "metadata": {
        "papermill": {
          "duration": 0.056872,
          "end_time": "2021-05-17T12:49:59.425689",
          "exception": false,
          "start_time": "2021-05-17T12:49:59.368817",
          "status": "completed"
        },
        "tags": [],
        "id": "IAs6OesV01eu"
      },
      "source": [
        "# Item category features  \n",
        "데이터와 함께 제공된 항목 범주 외에도 supercategory(예: \"games\", \"music\")와 platform(예: \"PS4, \"mp3\")의 두 가지 추가 범주 그룹도 수동으로 정의했습니다."
      ]
    },
    {
      "cell_type": "code",
      "metadata": {
        "execution": {
          "iopub.execute_input": "2021-05-17T12:49:59.560638Z",
          "iopub.status.busy": "2021-05-17T12:49:59.559855Z",
          "iopub.status.idle": "2021-05-17T12:50:01.373938Z",
          "shell.execute_reply": "2021-05-17T12:50:01.373249Z"
        },
        "papermill": {
          "duration": 1.891401,
          "end_time": "2021-05-17T12:50:01.374083",
          "exception": false,
          "start_time": "2021-05-17T12:49:59.482682",
          "status": "completed"
        },
        "tags": [],
        "id": "-Q-V2aOy01eu"
      },
      "source": [
        "matrix = matrix.merge(items[['item_id', 'item_category_id']], on='item_id', how='left')\n",
        "\n",
        "platform_map = {\n",
        "    0: 0, 1: 1, 2: 2, 3: 3, 4: 4, 5: 5, 6: 6, 7: 7, 8: 8, 9: 8, 10: 1, 11: 2,\n",
        "    12: 3, 13: 4, 14: 5, 15: 6, 16: 7, 17: 8, 18: 1, 19: 2, 20: 3, 21: 4, 22: 5,\n",
        "    23: 6, 24: 7, 25: 8, 26: 9, 27: 10, 28: 0, 29: 0, 30: 0, 31: 0, 32: 8, 33: 11,\n",
        "    34: 11, 35: 3, 36: 0, 37: 12, 38: 12, 39: 12, 40: 13, 41: 13, 42: 14, 43: 15,\n",
        "    44: 15, 45: 15, 46: 14, 47: 14, 48: 14, 49: 14, 50: 14, 51: 14, 52: 14, 53: 14,\n",
        "    54: 8, 55: 16, 56: 16, 57: 17, 58: 18, 59: 13, 60: 16, 61: 8, 62: 8, 63: 8, 64: 8,\n",
        "    65: 8, 66: 8, 67: 8, 68: 8, 69: 8, 70: 8, 71: 8, 72: 8, 73: 0, 74: 10, 75: 0,\n",
        "    76: 0, 77: 0, 78: 0, 79: 8, 80: 8, 81: 8, 82: 8, 83: 8,\n",
        "}\n",
        "matrix['platform_id'] = matrix['item_category_id'].map(platform_map)\n",
        "\n",
        "supercat_map = {\n",
        "    0: 0, 1: 1, 2: 1, 3: 1, 4: 1, 5: 1, 6: 1, 7: 1, 8: 2, 9: 2, 10: 1, 11: 1, 12: 1,\n",
        "    13: 1, 14: 1, 15: 1, 16: 1, 17: 1, 18: 3, 19: 3, 20: 3, 21: 3, 22: 3, 23: 3,\n",
        "    24: 3, 25: 0, 26: 2, 27: 3, 28: 3, 29: 3, 30: 3, 31: 3, 32: 2, 33: 2, 34: 2,\n",
        "    35: 2, 36: 2, 37: 4, 38: 4, 39: 4, 40: 4, 41: 4, 42: 5, 43: 5, 44: 5, 45: 5,\n",
        "    46: 5, 47: 5, 48: 5, 49: 5, 50: 5, 51: 5, 52: 5, 53: 5, 54: 5, 55: 6, 56: 6,\n",
        "    57: 6, 58: 6, 59: 6, 60: 6, 61: 0, 62: 0, 63: 0, 64: 0, 65: 0, 66: 0, 67: 0,\n",
        "    68: 0, 69: 0, 70: 0, 71: 0, 72: 0, 73: 7, 74: 7, 75: 7, 76: 7, 77: 7, 78: 7,\n",
        "    79: 2, 80: 2, 81: 0, 82: 0, 83: 0\n",
        "}\n",
        "matrix['supercategory_id'] = matrix['item_category_id'].map(supercat_map)"
      ],
      "execution_count": null,
      "outputs": []
    },
    {
      "cell_type": "markdown",
      "metadata": {
        "papermill": {
          "duration": 0.056556,
          "end_time": "2021-05-17T12:50:01.488891",
          "exception": false,
          "start_time": "2021-05-17T12:50:01.432335",
          "status": "completed"
        },
        "tags": [],
        "id": "KP1Qe2f201eu"
      },
      "source": [
        "# Shop city\n",
        "(from https://www.kaggle.com/dlarionov/feature-engineering-xgboost)"
      ]
    },
    {
      "cell_type": "code",
      "metadata": {
        "execution": {
          "iopub.execute_input": "2021-05-17T12:50:01.615762Z",
          "iopub.status.busy": "2021-05-17T12:50:01.615068Z",
          "iopub.status.idle": "2021-05-17T12:50:03.393822Z",
          "shell.execute_reply": "2021-05-17T12:50:03.393294Z"
        },
        "papermill": {
          "duration": 1.848281,
          "end_time": "2021-05-17T12:50:03.393958",
          "exception": false,
          "start_time": "2021-05-17T12:50:01.545677",
          "status": "completed"
        },
        "tags": [],
        "id": "JTHx5f6z01eu"
      },
      "source": [
        "def add_city_codes(matrix, shops):\n",
        "    shops.loc[\n",
        "        shops.shop_name == 'Сергиев Посад ТЦ \"7Я\"', \"shop_name\"\n",
        "    ] = 'СергиевПосад ТЦ \"7Я\"'\n",
        "    shops[\"city\"] = shops[\"shop_name\"].str.split(\" \").map(lambda x: x[0])\n",
        "    shops.loc[shops.city == \"!Якутск\", \"city\"] = \"Якутск\"\n",
        "    shops[\"city_code\"] = shops[\"city\"].factorize()[0]\n",
        "    shop_labels = shops[[\"shop_id\", \"city_code\"]]\n",
        "    matrix = matrix.merge(shop_labels, on='shop_id', how='left')\n",
        "    return matrix\n",
        "\n",
        "matrix = add_city_codes(matrix, shops)\n",
        "del(shops)"
      ],
      "execution_count": null,
      "outputs": []
    },
    {
      "cell_type": "markdown",
      "metadata": {
        "papermill": {
          "duration": 0.056522,
          "end_time": "2021-05-17T12:50:03.507355",
          "exception": false,
          "start_time": "2021-05-17T12:50:03.450833",
          "status": "completed"
        },
        "tags": [],
        "id": "Uld234WG01eu"
      },
      "source": [
        "# Shop and item category clustering\n",
        "\n",
        "상점 및 품목 범주는 판매 프로필에 따라 클러스터로 그룹화됩니다.\n",
        "다음 함수는 상점 및 품목 카테고리의 주성분 분석 분해 및 군집화 결과를 수행하고 표시합니다.\n",
        "\n",
        "각 PCA 치수에 의해 설명되는 항목 간의 차이를 설명하고, 개별 항목은 PCA 치수에 대한 점수에 따라 그리고 클러스터 할당에 따라 색상으로 표시됩니다.\n",
        "\n",
        "클러스터 번호 매개 변수의 다양한 값에 대한 실루엣 점수(클러스터 품질 메트릭)도 표시됩니다. 이 그림은 군집의 수를 결정하는 데 사용되었습니다.\n",
        "\n",
        "상점 및 품목 범주 모두에서 80% 이상의 차이가 1차원에서 발생하며, 이는 차이가 주로 비율이 아닌 규모임을 나타낸다. 항목 성분 점수 그림은 군집화가 주로 대부분의 항목을 포함하는 대규모 군집과 이상치 항목을 포함하는 일부 군집임을 보여 줍니다."
      ]
    },
    {
      "cell_type": "code",
      "metadata": {
        "execution": {
          "iopub.execute_input": "2021-05-17T12:50:03.637377Z",
          "iopub.status.busy": "2021-05-17T12:50:03.636703Z",
          "iopub.status.idle": "2021-05-17T12:50:03.833986Z",
          "shell.execute_reply": "2021-05-17T12:50:03.833397Z"
        },
        "papermill": {
          "duration": 0.269972,
          "end_time": "2021-05-17T12:50:03.834169",
          "exception": false,
          "start_time": "2021-05-17T12:50:03.564197",
          "status": "completed"
        },
        "tags": [],
        "id": "nifxxnJd01eu"
      },
      "source": [
        "import matplotlib.pyplot as plt\n",
        "import seaborn as sns\n",
        "from sklearn.cluster import AgglomerativeClustering\n",
        "from sklearn.decomposition import PCA\n",
        "from sklearn.metrics import silhouette_score\n",
        "\n",
        "\n",
        "def cluster_feature(matrix, target_feature, clust_feature, level_feature, n_components=4, n_clusters=5, aggfunc=\"mean\", exclude=None):\n",
        "    start_month = 20\n",
        "    end_month = 32\n",
        "    pt = matrix.query(f\"date_block_num>{start_month} & date_block_num<={end_month}\")\n",
        "    if exclude is not None:\n",
        "        pt = matrix[~matrix[clust_feature].isin(exclude)]\n",
        "    pt = pt.pivot_table(values=target_feature, columns=clust_feature, index=level_feature, fill_value=0, aggfunc=aggfunc)\n",
        "    pt = pt.transpose()\n",
        "    pca = PCA(n_components=10)\n",
        "    components = pca.fit_transform(pt)\n",
        "    components = pd.DataFrame(components)\n",
        "    # Plot PCA explained variance\n",
        "    sns.set_theme()\n",
        "    features = list(range(pca.n_components_))\n",
        "    fig = plt.figure(figsize=(10,4))\n",
        "    ax = fig.add_subplot(121)\n",
        "#     ax.bar(features, pca.explained_variance_ratio_, color=\"black\")\n",
        "    sns.barplot(x=features, y=pca.explained_variance_ratio_, ax=ax)\n",
        "    plt.title(\"Variance by PCA components\")\n",
        "    plt.xlabel(\"component\")\n",
        "    plt.ylabel(\"explained variance\")\n",
        "    plt.xticks(features)\n",
        "\n",
        "    scorelist = []\n",
        "    nrange = range(2, 10)\n",
        "    for n in nrange:\n",
        "        clusterer = AgglomerativeClustering(n_clusters=n)\n",
        "        labels = clusterer.fit_predict(components)\n",
        "        silscore = silhouette_score(pt, labels)\n",
        "        scorelist.append(silscore)\n",
        "    ax = fig.add_subplot(122)\n",
        "    sns.lineplot(x=nrange, y=scorelist, ax=ax)\n",
        "    plt.title(\"Clustering quality by number of clusters\")\n",
        "    plt.xlabel(\"n clusters\")\n",
        "    plt.ylabel(\"silhouette score\")\n",
        "\n",
        "    pca = PCA(n_components=n_components)\n",
        "    components = pca.fit_transform(pt)\n",
        "    components = pd.DataFrame(components)\n",
        "    clusterer = AgglomerativeClustering(n_clusters=n_clusters, linkage=\"average\")\n",
        "    labels = clusterer.fit_predict(components)\n",
        "    x = components[0]\n",
        "    y = components[1]\n",
        "    fig = plt.figure(figsize=(10, 4))\n",
        "    ax = fig.add_subplot(111)\n",
        "    sns.scatterplot(x=x, y=y, hue=labels, palette=sns.color_palette(\"hls\", n_clusters), ax=ax)\n",
        "    plt.title(\"Items by cluster\")\n",
        "    plt.xlabel(\"component 1 score\")\n",
        "    plt.ylabel(\"component 2 score\")\n",
        "    for i, txt in enumerate(pt.index.to_list()):\n",
        "        ax.annotate(str(txt), (x[i], y[i]))\n",
        "    groups = {}\n",
        "    for i, s in enumerate(pt.index):\n",
        "        groups[s] = labels[i]\n",
        "    return groups"
      ],
      "execution_count": null,
      "outputs": []
    },
    {
      "cell_type": "markdown",
      "metadata": {
        "papermill": {
          "duration": 0.057193,
          "end_time": "2021-05-17T12:50:03.948760",
          "exception": false,
          "start_time": "2021-05-17T12:50:03.891567",
          "status": "completed"
        },
        "tags": [],
        "id": "bK4Ejf0601eu"
      },
      "source": [
        "품목 카테고리는 해당 연도의 평균 매출에 따라 군집화됩니다. 주성분 그림은 이 점에서 3개 범주가 특이치임을 보여줍니다."
      ]
    },
    {
      "cell_type": "code",
      "metadata": {
        "execution": {
          "iopub.execute_input": "2021-05-17T12:50:04.073683Z",
          "iopub.status.busy": "2021-05-17T12:50:04.072124Z",
          "iopub.status.idle": "2021-05-17T12:50:07.703318Z",
          "shell.execute_reply": "2021-05-17T12:50:07.702665Z"
        },
        "papermill": {
          "duration": 3.69429,
          "end_time": "2021-05-17T12:50:07.703462",
          "exception": false,
          "start_time": "2021-05-17T12:50:04.009172",
          "status": "completed"
        },
        "tags": [],
        "id": "K2w4GC9101eu",
        "outputId": "7013a242-3b2e-4977-f40b-228acfb58e91"
      },
      "source": [
        "category_group_dict = cluster_feature(matrix, 'item_cnt_month', 'item_category_id', 'date_block_num', n_components=2, n_clusters=4, aggfunc=\"mean\", exclude =[])\n",
        "matrix['category_cluster'] = matrix['item_category_id'].map(category_group_dict)"
      ],
      "execution_count": null,
      "outputs": [
        {
          "output_type": "display_data",
          "data": {
            "image/png": "[encoded data removed]",
            "text/plain": [
              "<Figure size 720x288 with 2 Axes>"
            ]
          },
          "metadata": {
            "tags": []
          }
        },
        {
          "output_type": "display_data",
          "data": {
            "image/png": "[encoded data removed]",
            "text/plain": [
              "<Figure size 720x288 with 1 Axes>"
            ]
          },
          "metadata": {
            "tags": []
          }
        }
      ]
    },
    {
      "cell_type": "markdown",
      "metadata": {
        "papermill": {
          "duration": 0.058848,
          "end_time": "2021-05-17T12:50:07.821504",
          "exception": false,
          "start_time": "2021-05-17T12:50:07.762656",
          "status": "completed"
        },
        "tags": [],
        "id": "rOtkA63U01ev"
      },
      "source": [
        "상점들은 각 상품 카테고리의 매출 합계를 기준으로 군집화되어 있다. 주요 구성 요소 그림에 따르면 상점 31은 판매량 때문에 특이점이 되는 등 주로 판매 규모에서 차이가 납니다. 상점 12와 55는 서로 다른(online only) 품목을 판매하므로 직교 차원의 특이치입니다."
      ]
    },
    {
      "cell_type": "code",
      "metadata": {
        "execution": {
          "iopub.execute_input": "2021-05-17T12:50:07.943724Z",
          "iopub.status.busy": "2021-05-17T12:50:07.943048Z",
          "iopub.status.idle": "2021-05-17T12:50:11.114742Z",
          "shell.execute_reply": "2021-05-17T12:50:11.114224Z"
        },
        "papermill": {
          "duration": 3.234267,
          "end_time": "2021-05-17T12:50:11.114904",
          "exception": false,
          "start_time": "2021-05-17T12:50:07.880637",
          "status": "completed"
        },
        "tags": [],
        "id": "aedjxTaS01ev",
        "outputId": "2bf65f12-3ccf-47b9-ae85-c78286e50fdd"
      },
      "source": [
        "shop_group_dict = cluster_feature(matrix, 'item_cnt_month', 'shop_id', 'item_category_id', n_components=4, n_clusters=4, aggfunc=\"mean\", exclude=[36])\n",
        "shop_group_dict[36] = shop_group_dict[37]  # Shop36 added separately because it only has one month of data\n",
        "matrix['shop_cluster'] = matrix['shop_id'].map(shop_group_dict)"
      ],
      "execution_count": null,
      "outputs": [
        {
          "output_type": "display_data",
          "data": {
            "image/png": "[encoded data removed]",
            "text/plain": [
              "<Figure size 720x288 with 2 Axes>"
            ]
          },
          "metadata": {
            "tags": []
          }
        },
        {
          "output_type": "display_data",
          "data": {
            "image/png": "[encoded data removed]",
            "text/plain": [
              "<Figure size 720x288 with 1 Axes>"
            ]
          },
          "metadata": {
            "tags": []
          }
        }
      ]
    },
    {
      "cell_type": "code",
      "metadata": {
        "execution": {
          "iopub.execute_input": "2021-05-17T12:50:11.352437Z",
          "iopub.status.busy": "2021-05-17T12:50:11.351740Z",
          "iopub.status.idle": "2021-05-17T12:50:18.133230Z",
          "shell.execute_reply": "2021-05-17T12:50:18.133695Z"
        },
        "papermill": {
          "duration": 6.956954,
          "end_time": "2021-05-17T12:50:18.133879",
          "exception": false,
          "start_time": "2021-05-17T12:50:11.176925",
          "status": "completed"
        },
        "tags": [],
        "id": "cuQdkOks01ev"
      },
      "source": [
        "gc.collect()\n",
        "matrix, oldcols = shrink_mem_new_cols(matrix, oldcols)  # Use this function periodically to downcast dtypes to save memory"
      ],
      "execution_count": null,
      "outputs": []
    },
    {
      "cell_type": "markdown",
      "metadata": {
        "papermill": {
          "duration": 0.061265,
          "end_time": "2021-05-17T12:50:18.256820",
          "exception": false,
          "start_time": "2021-05-17T12:50:18.195555",
          "status": "completed"
        },
        "tags": [],
        "id": "4mu7Q7nU01ev"
      },
      "source": [
        "# Number of unique item features\n",
        "\n",
        "이러한 기능은 그룹 기능 또는 기능 집합의 동일한 값을 공유하는 고유 항목의 수(예: 동일한 범주의 새 항목 수)를 계산합니다.\n",
        "\n",
        "이는 데이터 유출 기능의 일종으로 간주될 수 있는데, 이는 각 항목이 예측되는 달의 판매를 기록했는지 여부에 따라 결정되기 때문입니다(예: 미리 알려지지 않음)."
      ]
    },
    {
      "cell_type": "code",
      "metadata": {
        "execution": {
          "iopub.execute_input": "2021-05-17T12:50:18.394063Z",
          "iopub.status.busy": "2021-05-17T12:50:18.393394Z",
          "iopub.status.idle": "2021-05-17T12:51:10.993498Z",
          "shell.execute_reply": "2021-05-17T12:51:10.994205Z"
        },
        "papermill": {
          "duration": 52.676015,
          "end_time": "2021-05-17T12:51:10.994390",
          "exception": false,
          "start_time": "2021-05-17T12:50:18.318375",
          "status": "completed"
        },
        "tags": [],
        "id": "hUsfqxDy01ev"
      },
      "source": [
        "def uniques(matrix, groupers, name, limitation=None):\n",
        "    if limitation is not None:\n",
        "        s = (\n",
        "            matrix.query(limitation)\n",
        "            .groupby(groupers)\n",
        "            .item_id.nunique()\n",
        "            .rename(name)\n",
        "            .reset_index()\n",
        "        )\n",
        "    else:\n",
        "        s = matrix.groupby(groupers).item_id.nunique().rename(name).reset_index()\n",
        "    matrix = matrix.merge(s, on=groupers, how=\"left\")\n",
        "    matrix[name] = matrix[name].fillna(0)\n",
        "    return matrix\n",
        "\n",
        "\n",
        "matrix = uniques(matrix, [\"date_block_num\"], \"unique_items_month\")\n",
        "\n",
        "matrix = uniques(matrix, [\"date_block_num\", \"item_name_group\"], \"name_group_unique_month\")\n",
        "matrix = uniques(\n",
        "    matrix,\n",
        "    [\"date_block_num\", \"item_category_id\", \"item_name_group\"],\n",
        "    \"name_group_cat_unique_month\",\n",
        ")\n",
        "matrix = uniques(\n",
        "    matrix,\n",
        "    [\"date_block_num\", \"item_name_group\"],\n",
        "    \"name_group_new_unique_month\",\n",
        "    limitation=\"new_item==True\",\n",
        ")\n",
        "matrix = uniques(\n",
        "    matrix,\n",
        "    [\"date_block_num\", \"item_category_id\", \"item_name_group\"],\n",
        "    \"name_group_new_cat_unique_month\",\n",
        "    limitation=\"new_item==True\",\n",
        ")\n",
        "\n",
        "matrix = uniques(\n",
        "    matrix, [\"date_block_num\", \"artist_name_or_first_word\"], \"first_word_unique_month\"\n",
        ")\n",
        "matrix = uniques(\n",
        "    matrix,\n",
        "    [\"date_block_num\", \"item_category_id\", \"artist_name_or_first_word\"],\n",
        "    \"first_word_cat_unique_month\",\n",
        ")\n",
        "matrix = uniques(\n",
        "    matrix,\n",
        "    [\"date_block_num\", \"artist_name_or_first_word\"],\n",
        "    \"first_word_new_unique_month\",\n",
        "    limitation=\"new_item==True\",\n",
        ")\n",
        "matrix = uniques(\n",
        "    matrix,\n",
        "    [\"date_block_num\", \"item_category_id\", \"artist_name_or_first_word\"],\n",
        "    \"first_word_new_cat_unique_month\",\n",
        "    limitation=\"new_item==True\",\n",
        ")\n",
        "\n",
        "matrix = uniques(matrix, [\"date_block_num\", \"item_category_id\"], \"unique_items_cat\")\n",
        "matrix = uniques(\n",
        "    matrix,\n",
        "    [\"date_block_num\", \"item_category_id\"],\n",
        "    \"new_items_cat\",\n",
        "    limitation=\"new_item==True\",\n",
        ")\n",
        "matrix = uniques(matrix, [\"date_block_num\"], \"new_items_month\", limitation=\"new_item==True\")\n",
        "\n",
        "matrix[\"cat_items_proportion\"] = matrix[\"unique_items_cat\"] / matrix[\"unique_items_month\"]\n",
        "matrix[\"name_group_new_proportion_month\"] = (\n",
        "    matrix[\"name_group_new_unique_month\"] / matrix[\"name_group_unique_month\"]\n",
        ")\n",
        "\n",
        "matrix = matrix.drop(columns=[\"unique_items_month\", \"name_group_unique_month\"])"
      ],
      "execution_count": null,
      "outputs": []
    },
    {
      "cell_type": "code",
      "metadata": {
        "execution": {
          "iopub.execute_input": "2021-05-17T12:51:11.121971Z",
          "iopub.status.busy": "2021-05-17T12:51:11.121028Z",
          "iopub.status.idle": "2021-05-17T12:51:16.896782Z",
          "shell.execute_reply": "2021-05-17T12:51:16.896212Z"
        },
        "papermill": {
          "duration": 5.840677,
          "end_time": "2021-05-17T12:51:16.896932",
          "exception": false,
          "start_time": "2021-05-17T12:51:11.056255",
          "status": "completed"
        },
        "tags": [],
        "id": "43TxwCQx01ev"
      },
      "source": [
        "matrix, oldcols = shrink_mem_new_cols(matrix, oldcols)"
      ],
      "execution_count": null,
      "outputs": []
    },
    {
      "cell_type": "markdown",
      "metadata": {
        "papermill": {
          "duration": 0.063318,
          "end_time": "2021-05-17T12:51:17.022306",
          "exception": false,
          "start_time": "2021-05-17T12:51:16.958988",
          "status": "completed"
        },
        "tags": [],
        "id": "UScQfzBn01ev"
      },
      "source": [
        "# Percentage change in an aggregate feature  \n",
        "이는 pasdas의 pct_change 방법을 사용하여 특정 시간 간격(예: 지난 2개월 동안의 품목 평균 판매 증가/감소) 동안 특정 그룹에 대한 평균 판매 카운트의 비례적 변화를 계산한다."
      ]
    },
    {
      "cell_type": "code",
      "metadata": {
        "execution": {
          "iopub.execute_input": "2021-05-17T12:51:17.159629Z",
          "iopub.status.busy": "2021-05-17T12:51:17.158959Z",
          "iopub.status.idle": "2021-05-17T12:51:17.161969Z",
          "shell.execute_reply": "2021-05-17T12:51:17.161439Z"
        },
        "papermill": {
          "duration": 0.077169,
          "end_time": "2021-05-17T12:51:17.162123",
          "exception": false,
          "start_time": "2021-05-17T12:51:17.084954",
          "status": "completed"
        },
        "tags": [],
        "id": "gudOYcCy01ev"
      },
      "source": [
        "def add_pct_change(\n",
        "    matrix,\n",
        "    group_feats,\n",
        "    target=\"item_cnt_month\",\n",
        "    aggfunc=\"mean\",\n",
        "    periods=1,\n",
        "    lag=1,\n",
        "    clip_value=None,\n",
        "):\n",
        "    periods = list_if_not(periods, int)\n",
        "    group_feats = list_if_not(group_feats)\n",
        "    group_feats_full = [\"date_block_num\"] + group_feats\n",
        "    dat = matrix.pivot_table(\n",
        "        index=group_feats + [\"date_block_num\"],\n",
        "        values=target,\n",
        "        aggfunc=aggfunc,\n",
        "        fill_value=0,\n",
        "        dropna=False,\n",
        "    ).astype(\"float32\")\n",
        "    for g in group_feats:\n",
        "        firsts = matrix.groupby(g).date_block_num.min().rename(\"firsts\")\n",
        "        dat = dat.merge(firsts, left_on=g, right_index=True, how=\"left\")\n",
        "        dat.loc[dat.index.get_level_values(\"date_block_num\") < dat[\"firsts\"], target] = float(\n",
        "            \"nan\"\n",
        "        )\n",
        "        del dat[\"firsts\"]\n",
        "    for period in periods:\n",
        "        feat_name = \"_\".join(\n",
        "            group_feats + [target] + [aggfunc] + [\"delta\"] + [str(period)] + [f\"lag_{lag}\"]\n",
        "        )\n",
        "        print(f\"Adding feature {feat_name}\")\n",
        "        dat = (\n",
        "            dat.groupby(group_feats)[target]\n",
        "            .transform(lambda x: x.pct_change(periods=period, fill_method=\"pad\"))\n",
        "            .rename(feat_name)\n",
        "        )\n",
        "        if clip_value is not None:\n",
        "            dat = dat.clip(lower=-clip_value, upper=clip_value)\n",
        "    dat = dat.reset_index()\n",
        "    dat[\"date_block_num\"] += lag\n",
        "    matrix = matrix.merge(dat, on=[\"date_block_num\"] + group_feats, how=\"left\")\n",
        "    matrix[feat_name] = reduce_mem_usage(matrix[feat_name])\n",
        "    return matrix"
      ],
      "execution_count": null,
      "outputs": []
    },
    {
      "cell_type": "code",
      "metadata": {
        "execution": {
          "iopub.execute_input": "2021-05-17T12:51:17.294399Z",
          "iopub.status.busy": "2021-05-17T12:51:17.293737Z",
          "iopub.status.idle": "2021-05-17T12:52:08.698384Z",
          "shell.execute_reply": "2021-05-17T12:52:08.697736Z"
        },
        "papermill": {
          "duration": 51.473445,
          "end_time": "2021-05-17T12:52:08.698528",
          "exception": false,
          "start_time": "2021-05-17T12:51:17.225083",
          "status": "completed"
        },
        "tags": [],
        "id": "oUaNmVbN01ev",
        "outputId": "82e1501e-3aa3-43c5-82fe-08fe622c996a"
      },
      "source": [
        "matrix = add_pct_change(matrix, [\"item_id\"], \"item_cnt_month\", clip_value=3)\n",
        "matrix = add_pct_change(matrix, [\"item_category_id\"], \"item_cnt_month\", clip_value=3)\n",
        "matrix = add_pct_change(matrix, [\"item_name_group\"], \"item_cnt_month\", clip_value=3)\n",
        "# Delta 1 feature lagged by 12 months, intended to capture seasonal trends\n",
        "matrix = add_pct_change(matrix, [\"item_category_id\"], \"item_cnt_month\", lag=12, clip_value=3,)\n",
        "gc.collect()"
      ],
      "execution_count": null,
      "outputs": [
        {
          "output_type": "stream",
          "text": [
            "Adding feature item_id_item_cnt_month_mean_delta_1_lag_1\n",
            "Adding feature item_category_id_item_cnt_month_mean_delta_1_lag_1\n",
            "Adding feature item_name_group_item_cnt_month_mean_delta_1_lag_1\n",
            "Adding feature item_category_id_item_cnt_month_mean_delta_1_lag_12\n"
          ],
          "name": "stdout"
        },
        {
          "output_type": "execute_result",
          "data": {
            "text/plain": [
              "5"
            ]
          },
          "metadata": {
            "tags": []
          },
          "execution_count": 30
        }
      ]
    },
    {
      "cell_type": "code",
      "metadata": {
        "execution": {
          "iopub.execute_input": "2021-05-17T12:52:08.833651Z",
          "iopub.status.busy": "2021-05-17T12:52:08.832822Z",
          "iopub.status.idle": "2021-05-17T12:52:09.611804Z",
          "shell.execute_reply": "2021-05-17T12:52:09.611114Z"
        },
        "papermill": {
          "duration": 0.848287,
          "end_time": "2021-05-17T12:52:09.611982",
          "exception": false,
          "start_time": "2021-05-17T12:52:08.763695",
          "status": "completed"
        },
        "tags": [],
        "id": "t8Pnkhul01ew"
      },
      "source": [
        "matrix, oldcols = shrink_mem_new_cols(matrix, oldcols)"
      ],
      "execution_count": null,
      "outputs": []
    },
    {
      "cell_type": "markdown",
      "metadata": {
        "papermill": {
          "duration": 0.063605,
          "end_time": "2021-05-17T12:52:09.739625",
          "exception": false,
          "start_time": "2021-05-17T12:52:09.676020",
          "status": "completed"
        },
        "tags": [],
        "id": "T_W6Su_E01ew"
      },
      "source": [
        "# Windowed aggregates\n",
        "\n",
        "특정 윈도우를 통해 통합된 기능을 통해 노이즈를 줄일 수 있습니다. 이용 가능한 창은 확장(즉, 모든 이전 시점), 롤링(즉, 동일하게 가중된 시점의 고정된 수), 지수 가중 평균이다.\n",
        "\n",
        "\n",
        "특징명 참고사항 : 패턴 grouping - aggregate features aggreg - aggregation function < - < window type >에 따라 자동으로 설정되며, 여기서 < window type >은 square rolling 창에 대한 \"rolling - < 창 집계기능 > - window aggregation function in months in - aggregation funths\" 중 하나입니다.egation function \"\"은 창을 확장하는 데 사용되며, \"ewm_hl - < 반감기 for는 지수 가중 평균에 적용되며 모두 밑줄로 연결됩니다."
      ]
    },
    {
      "cell_type": "code",
      "metadata": {
        "execution": {
          "iopub.execute_input": "2021-05-17T12:52:09.876939Z",
          "iopub.status.busy": "2021-05-17T12:52:09.875354Z",
          "iopub.status.idle": "2021-05-17T12:52:10.267696Z",
          "shell.execute_reply": "2021-05-17T12:52:10.267126Z"
        },
        "papermill": {
          "duration": 0.463671,
          "end_time": "2021-05-17T12:52:10.267844",
          "exception": false,
          "start_time": "2021-05-17T12:52:09.804173",
          "status": "completed"
        },
        "tags": [],
        "id": "7OJFKdh301ew",
        "outputId": "18ac57a4-3984-4982-ef97-3e683745f987"
      },
      "source": [
        "shop_id = 16\n",
        "item_id = 482\n",
        "im = matrix.query(f\"shop_id=={shop_id} & item_id=={item_id}\")[['date_block_num', 'item_cnt_month']]\n",
        "im['moving average'] = im['item_cnt_month'].ewm(halflife=1).mean()\n",
        "im['expanding mean'] = im['item_cnt_month'].expanding().mean()\n",
        "im['rolling 12 month mean'] = im['item_cnt_month'].rolling(window=12, min_periods=1).mean()\n",
        "im = im.set_index('date_block_num')\n",
        "ax = im.plot(figsize=(12,5), marker='.', title='Time series averaging methods')"
      ],
      "execution_count": null,
      "outputs": [
        {
          "output_type": "display_data",
          "data": {
            "image/png": "[encoded data removed]",
            "text/plain": [
              "<Figure size 864x360 with 1 Axes>"
            ]
          },
          "metadata": {
            "tags": []
          }
        }
      ]
    },
    {
      "cell_type": "code",
      "metadata": {
        "execution": {
          "iopub.execute_input": "2021-05-17T12:52:10.422529Z",
          "iopub.status.busy": "2021-05-17T12:52:10.421825Z",
          "iopub.status.idle": "2021-05-17T12:52:10.424537Z",
          "shell.execute_reply": "2021-05-17T12:52:10.425031Z"
        },
        "papermill": {
          "duration": 0.089962,
          "end_time": "2021-05-17T12:52:10.425254",
          "exception": false,
          "start_time": "2021-05-17T12:52:10.335292",
          "status": "completed"
        },
        "tags": [],
        "id": "GjbrJnMn01ew"
      },
      "source": [
        "def add_rolling_stats(\n",
        "    matrix,\n",
        "    features,\n",
        "    window=12,\n",
        "    kind=\"rolling\",\n",
        "    argfeat=\"item_cnt_month\",\n",
        "    aggfunc=\"mean\",\n",
        "    rolling_aggfunc=\"mean\",\n",
        "    dtype=\"float16\",\n",
        "    reshape_source=True,\n",
        "    lag_offset=0,\n",
        "):\n",
        "    def rolling_stat(\n",
        "        matrix,\n",
        "        source,\n",
        "        feats,\n",
        "        feat_name,\n",
        "        window=12,\n",
        "        argfeat=\"item_cnt_month\",\n",
        "        aggfunc=\"mean\",\n",
        "        dtype=dtype,\n",
        "        lag_offset=0,\n",
        "    ):\n",
        "        # Calculate a statistic on a windowed section of a source table,  grouping on specific features\n",
        "        store = []\n",
        "        for i in range(2 + lag_offset, 35 + lag_offset):\n",
        "            if len(feats) > 0:\n",
        "                mes = (\n",
        "                    source[source.date_block_num.isin(range(max([i - window, 0]), i))]\n",
        "                    .groupby(feats)[argfeat]\n",
        "                    .agg(aggfunc)\n",
        "                    .astype(dtype)\n",
        "                    .rename(feat_name)\n",
        "                    .reset_index()\n",
        "                )\n",
        "            else:\n",
        "                mes = {}\n",
        "                mes[feat_name] = (\n",
        "                    source.loc[\n",
        "                        source.date_block_num.isin(range(max([i - window, 0]), i)), argfeat\n",
        "                    ]\n",
        "                    .agg(aggfunc)\n",
        "                    .astype(dtype)\n",
        "                )\n",
        "                mes = pd.DataFrame(data=mes, index=[i])\n",
        "            mes[\"date_block_num\"] = i - lag_offset\n",
        "            store.append(mes)\n",
        "        store = pd.concat(store)\n",
        "        matrix = matrix.merge(store, on=feats + [\"date_block_num\"], how=\"left\")\n",
        "        return matrix\n",
        "\n",
        "    \"\"\" An issue when using windowed functions is that missing values from months when items recorded no sales are skipped rather than being correctly\n",
        "    treated as zeroes. Creating a pivot_table fills in the zeros.\"\"\"\n",
        "    if (reshape_source == True) or (kind == \"ewm\"):\n",
        "        source = matrix.pivot_table(\n",
        "            index=features + [\"date_block_num\"],\n",
        "            values=argfeat,\n",
        "            aggfunc=aggfunc,\n",
        "            fill_value=0,\n",
        "            dropna=False,\n",
        "        ).astype(dtype)\n",
        "        for g in features:\n",
        "            firsts = matrix.groupby(g).date_block_num.min().rename(\"firsts\")\n",
        "            source = source.merge(firsts, left_on=g, right_index=True, how=\"left\")\n",
        "            # Set values before the items first appearance to nan so they are ignored rather than being treated as zero sales.\n",
        "            source.loc[\n",
        "                source.index.get_level_values(\"date_block_num\") < source[\"firsts\"], argfeat\n",
        "            ] = float(\"nan\")\n",
        "            del source[\"firsts\"]\n",
        "        source = source.reset_index()\n",
        "    else:\n",
        "        source = matrix\n",
        "\n",
        "    if kind == \"rolling\":\n",
        "        feat_name = (\n",
        "            f\"{'_'.join(features)}_{argfeat}_{aggfunc}_rolling_{rolling_aggfunc}_win_{window}\"\n",
        "        )\n",
        "        print(f'Creating feature \"{feat_name}\"')\n",
        "        return rolling_stat(\n",
        "            matrix,\n",
        "            source,\n",
        "            features,\n",
        "            feat_name,\n",
        "            window=window,\n",
        "            argfeat=argfeat,\n",
        "            aggfunc=rolling_aggfunc,\n",
        "            dtype=dtype,\n",
        "            lag_offset=lag_offset,\n",
        "        )\n",
        "    elif kind == \"expanding\":\n",
        "        feat_name = f\"{'_'.join(features)}_{argfeat}_{aggfunc}_expanding_{rolling_aggfunc}\"\n",
        "        print(f'Creating feature \"{feat_name}\"')\n",
        "        return rolling_stat(\n",
        "            matrix,\n",
        "            source,\n",
        "            features,\n",
        "            feat_name,\n",
        "            window=100,\n",
        "            argfeat=argfeat,\n",
        "            aggfunc=aggfunc,\n",
        "            dtype=dtype,\n",
        "            lag_offset=lag_offset,\n",
        "        )\n",
        "    elif kind == \"ewm\":\n",
        "        feat_name = f\"{'_'.join(features)}_{argfeat}_{aggfunc}_ewm_hl_{window}\"\n",
        "        print(f'Creating feature \"{feat_name}\"')\n",
        "        source[feat_name] = (\n",
        "            source.groupby(features)[argfeat]\n",
        "            .ewm(halflife=window, min_periods=1)\n",
        "            .agg(rolling_aggfunc)\n",
        "            .to_numpy(dtype=dtype)\n",
        "        )\n",
        "        del source[argfeat]\n",
        "        #         source = source.reset_index()\n",
        "        source[\"date_block_num\"] += 1 - lag_offset\n",
        "        return matrix.merge(source, on=[\"date_block_num\"] + features, how=\"left\")"
      ],
      "execution_count": null,
      "outputs": []
    },
    {
      "cell_type": "markdown",
      "metadata": {
        "papermill": {
          "duration": 0.067168,
          "end_time": "2021-05-17T12:52:10.561074",
          "exception": false,
          "start_time": "2021-05-17T12:52:10.493906",
          "status": "completed"
        },
        "tags": [],
        "id": "mkMWkV7901ew"
      },
      "source": [
        "rolling mean features를 생성합니다. 여기에서 그룹화 기능과 창 유형의 조합은 많은 기능을 생성한 다음 sickit-learn RFECV 기능으로 가지치기함으로써 선택되었습니다."
      ]
    },
    {
      "cell_type": "code",
      "metadata": {
        "id": "INwkXVns01ew",
        "outputId": "8fb51867-16b9-4992-c6ad-af7ef92a30fa"
      },
      "source": [
        "pd.__version__"
      ],
      "execution_count": null,
      "outputs": [
        {
          "output_type": "execute_result",
          "data": {
            "text/plain": [
              "'1.2.4'"
            ]
          },
          "metadata": {
            "tags": []
          },
          "execution_count": 36
        }
      ]
    },
    {
      "cell_type": "code",
      "metadata": {
        "execution": {
          "iopub.execute_input": "2021-05-17T12:52:10.717887Z",
          "iopub.status.busy": "2021-05-17T12:52:10.716441Z",
          "iopub.status.idle": "2021-05-17T13:20:42.660317Z",
          "shell.execute_reply": "2021-05-17T13:20:42.660842Z"
        },
        "papermill": {
          "duration": 1712.032738,
          "end_time": "2021-05-17T13:20:42.661050",
          "exception": false,
          "start_time": "2021-05-17T12:52:10.628312",
          "status": "completed"
        },
        "tags": [],
        "id": "sT4n_U7n01ew",
        "outputId": "b60ebe5d-b5bd-47e7-8de0-c799004db79a"
      },
      "source": [
        "matrix = add_rolling_stats(\n",
        "    matrix,\n",
        "    [\"shop_id\", \"artist_name_or_first_word\", \"item_category_id\", \"item_age\"],\n",
        "    window=12,\n",
        "    reshape_source=False,\n",
        ")\n",
        "matrix = add_rolling_stats(\n",
        "    matrix,\n",
        "    [\"shop_id\", \"artist_name_or_first_word\", \"item_category_id\", \"new_item\"],\n",
        "    kind=\"expanding\",\n",
        "    reshape_source=False,\n",
        ")\n",
        "matrix = add_rolling_stats(\n",
        "    matrix,\n",
        "    [\"shop_id\", \"artist_name_or_first_word\", \"new_item\"],\n",
        "    kind=\"expanding\",\n",
        "    reshape_source=False,\n",
        ")\n",
        "matrix = add_rolling_stats(matrix, [\"shop_id\", \"category_cluster\"], window=12)\n",
        "matrix = add_rolling_stats(\n",
        "    matrix,\n",
        "    [\"shop_id\", \"item_category_id\", \"item_age\"],\n",
        "    kind=\"expanding\",\n",
        "    reshape_source=False,\n",
        ")\n",
        "matrix = add_rolling_stats(\n",
        "    matrix, [\"shop_id\", \"item_category_id\", \"item_age\"], window=12, reshape_source=False\n",
        ")\n",
        "matrix = add_rolling_stats(matrix, [\"shop_id\", \"item_category_id\"], kind=\"ewm\", window=1)\n",
        "matrix = add_rolling_stats(\n",
        "    matrix,\n",
        "    [\"shop_id\", \"item_category_id\", \"new_item\"],\n",
        "    kind=\"expanding\",\n",
        "    reshape_source=False,\n",
        ")\n",
        "matrix = add_rolling_stats(\n",
        "    matrix, [\"shop_id\", \"item_category_id\", \"new_item\"], window=12, reshape_source=False\n",
        ")\n",
        "matrix = add_rolling_stats(matrix, [\"shop_id\"], window=12)\n",
        "matrix = add_rolling_stats(matrix, [\"shop_id\", \"item_id\"], kind=\"ewm\", window=1)\n",
        "matrix = add_rolling_stats(matrix, [\"shop_id\", \"item_id\"], window=12)\n",
        "matrix = add_rolling_stats(\n",
        "    matrix,\n",
        "    [\"shop_id\", \"item_name_group\", \"item_category_id\", \"new_item\"],\n",
        "    window=12,\n",
        "    reshape_source=False,\n",
        ")\n",
        "matrix = add_rolling_stats(\n",
        "    matrix, [\"shop_id\", \"item_name_group\", \"new_item\"], kind=\"expanding\", reshape_source=False\n",
        ")\n",
        "matrix = add_rolling_stats(\n",
        "    matrix, [\"shop_id\", \"supercategory_id\", \"new_item\"], window=12, reshape_source=False\n",
        ")\n",
        "\n",
        "matrix = add_rolling_stats(matrix, [\"shop_cluster\", \"item_id\"], kind=\"ewm\", window=1)\n",
        "matrix = add_rolling_stats(\n",
        "    matrix,\n",
        "    [\"shop_cluster\", \"item_category_id\", \"item_age\"],\n",
        "    kind=\"expanding\",\n",
        "    reshape_source=False,\n",
        ")\n",
        "matrix = add_rolling_stats(\n",
        "    matrix, [\"shop_cluster\", \"item_name_group\", \"new_item\"], window=12, reshape_source=False\n",
        ")\n",
        "\n",
        "matrix = add_rolling_stats(\n",
        "    matrix, [\"category_cluster\", \"item_age\"], kind=\"expanding\", reshape_source=False\n",
        ")\n",
        "matrix = add_rolling_stats(\n",
        "    matrix, [\"category_cluster\", \"new_item\"], kind=\"expanding\", reshape_source=False\n",
        ")\n",
        "\n",
        "matrix = add_rolling_stats(matrix, [\"item_id\"], window=12)\n",
        "\n",
        "matrix = add_rolling_stats(matrix, [\"artist_name_or_first_word\"], window=12)\n",
        "matrix = add_rolling_stats(matrix, [\"artist_name_or_first_word\"], kind=\"ewm\", window=1)\n",
        "matrix = add_rolling_stats(\n",
        "    matrix, [\"artist_name_or_first_word\", \"item_age\"], window=12, reshape_source=False\n",
        ")\n",
        "matrix = add_rolling_stats(\n",
        "    matrix,\n",
        "    [\"artist_name_or_first_word\", \"item_category_id\", \"item_age\"],\n",
        "    window=12,\n",
        "    reshape_source=False,\n",
        ")\n",
        "matrix = add_rolling_stats(\n",
        "    matrix, [\"artist_name_or_first_word\", \"new_item\"], kind=\"expanding\", reshape_source=False\n",
        ")\n",
        "\n",
        "matrix = add_rolling_stats(\n",
        "    matrix, [\"item_category_id\", \"item_age\"], kind=\"expanding\", reshape_source=False\n",
        ")\n",
        "matrix = add_rolling_stats(matrix, [\"item_category_id\"], window=12)\n",
        "matrix = add_rolling_stats(matrix, [\"item_category_id\"], kind=\"ewm\", window=1)\n",
        "matrix = add_rolling_stats(\n",
        "    matrix, [\"item_category_id\", \"new_item\"], kind=\"expanding\", reshape_source=False\n",
        ")\n",
        "\n",
        "matrix = add_rolling_stats(\n",
        "    matrix, [\"item_name_group\", \"item_age\"], window=12, reshape_source=False\n",
        ")\n",
        "matrix = add_rolling_stats(matrix, [\"item_name_group\"], kind=\"ewm\", window=1)\n",
        "matrix = add_rolling_stats(matrix, [\"item_name_group\"], window=12)\n",
        "\n",
        "matrix = add_rolling_stats(matrix, [\"platform_id\"], window=12)\n",
        "matrix = add_rolling_stats(matrix, [\"platform_id\"], kind=\"ewm\", window=1)"
      ],
      "execution_count": null,
      "outputs": [
        {
          "output_type": "stream",
          "text": [
            "Creating feature \"shop_id_artist_name_or_first_word_item_category_id_item_age_item_cnt_month_mean_rolling_mean_win_12\"\n",
            "Creating feature \"shop_id_artist_name_or_first_word_item_category_id_new_item_item_cnt_month_mean_expanding_mean\"\n",
            "Creating feature \"shop_id_artist_name_or_first_word_new_item_item_cnt_month_mean_expanding_mean\"\n",
            "Creating feature \"shop_id_category_cluster_item_cnt_month_mean_rolling_mean_win_12\"\n",
            "Creating feature \"shop_id_item_category_id_item_age_item_cnt_month_mean_expanding_mean\"\n",
            "Creating feature \"shop_id_item_category_id_item_age_item_cnt_month_mean_rolling_mean_win_12\"\n",
            "Creating feature \"shop_id_item_category_id_item_cnt_month_mean_ewm_hl_1\"\n",
            "Creating feature \"shop_id_item_category_id_new_item_item_cnt_month_mean_expanding_mean\"\n",
            "Creating feature \"shop_id_item_category_id_new_item_item_cnt_month_mean_rolling_mean_win_12\"\n",
            "Creating feature \"shop_id_item_cnt_month_mean_rolling_mean_win_12\"\n",
            "Creating feature \"shop_id_item_id_item_cnt_month_mean_ewm_hl_1\"\n",
            "Creating feature \"shop_id_item_id_item_cnt_month_mean_rolling_mean_win_12\"\n",
            "Creating feature \"shop_id_item_name_group_item_category_id_new_item_item_cnt_month_mean_rolling_mean_win_12\"\n",
            "Creating feature \"shop_id_item_name_group_new_item_item_cnt_month_mean_expanding_mean\"\n",
            "Creating feature \"shop_id_supercategory_id_new_item_item_cnt_month_mean_rolling_mean_win_12\"\n",
            "Creating feature \"shop_cluster_item_id_item_cnt_month_mean_ewm_hl_1\"\n",
            "Creating feature \"shop_cluster_item_category_id_item_age_item_cnt_month_mean_expanding_mean\"\n",
            "Creating feature \"shop_cluster_item_name_group_new_item_item_cnt_month_mean_rolling_mean_win_12\"\n",
            "Creating feature \"category_cluster_item_age_item_cnt_month_mean_expanding_mean\"\n",
            "Creating feature \"category_cluster_new_item_item_cnt_month_mean_expanding_mean\"\n",
            "Creating feature \"item_id_item_cnt_month_mean_rolling_mean_win_12\"\n",
            "Creating feature \"artist_name_or_first_word_item_cnt_month_mean_rolling_mean_win_12\"\n",
            "Creating feature \"artist_name_or_first_word_item_cnt_month_mean_ewm_hl_1\"\n",
            "Creating feature \"artist_name_or_first_word_item_age_item_cnt_month_mean_rolling_mean_win_12\"\n",
            "Creating feature \"artist_name_or_first_word_item_category_id_item_age_item_cnt_month_mean_rolling_mean_win_12\"\n",
            "Creating feature \"artist_name_or_first_word_new_item_item_cnt_month_mean_expanding_mean\"\n",
            "Creating feature \"item_category_id_item_age_item_cnt_month_mean_expanding_mean\"\n",
            "Creating feature \"item_category_id_item_cnt_month_mean_rolling_mean_win_12\"\n",
            "Creating feature \"item_category_id_item_cnt_month_mean_ewm_hl_1\"\n",
            "Creating feature \"item_category_id_new_item_item_cnt_month_mean_expanding_mean\"\n",
            "Creating feature \"item_name_group_item_age_item_cnt_month_mean_rolling_mean_win_12\"\n",
            "Creating feature \"item_name_group_item_cnt_month_mean_ewm_hl_1\"\n",
            "Creating feature \"item_name_group_item_cnt_month_mean_rolling_mean_win_12\"\n",
            "Creating feature \"platform_id_item_cnt_month_mean_rolling_mean_win_12\"\n",
            "Creating feature \"platform_id_item_cnt_month_mean_ewm_hl_1\"\n"
          ],
          "name": "stdout"
        }
      ]
    },
    {
      "cell_type": "code",
      "metadata": {
        "execution": {
          "iopub.execute_input": "2021-05-17T13:20:42.919568Z",
          "iopub.status.busy": "2021-05-17T13:20:42.918859Z",
          "iopub.status.idle": "2021-05-17T13:20:54.316539Z",
          "shell.execute_reply": "2021-05-17T13:20:54.315997Z"
        },
        "papermill": {
          "duration": 11.577824,
          "end_time": "2021-05-17T13:20:54.316691",
          "exception": false,
          "start_time": "2021-05-17T13:20:42.738867",
          "status": "completed"
        },
        "tags": [],
        "id": "CHozuy1A01ex"
      },
      "source": [
        "gc.collect()\n",
        "matrix, oldcols = shrink_mem_new_cols(matrix, oldcols)"
      ],
      "execution_count": null,
      "outputs": []
    },
    {
      "cell_type": "markdown",
      "metadata": {
        "papermill": {
          "duration": 0.076005,
          "end_time": "2021-05-17T13:20:54.469408",
          "exception": false,
          "start_time": "2021-05-17T13:20:54.393403",
          "status": "completed"
        },
        "tags": [],
        "id": "ZLxhtmx201ex"
      },
      "source": [
        "The following code block calculates windowed mean sales features with day resolution accuracy"
      ]
    },
    {
      "cell_type": "code",
      "metadata": {
        "execution": {
          "iopub.execute_input": "2021-05-17T13:20:54.632990Z",
          "iopub.status.busy": "2021-05-17T13:20:54.631620Z",
          "iopub.status.idle": "2021-05-17T13:22:18.500104Z",
          "shell.execute_reply": "2021-05-17T13:22:18.499500Z"
        },
        "papermill": {
          "duration": 83.954397,
          "end_time": "2021-05-17T13:22:18.500286",
          "exception": false,
          "start_time": "2021-05-17T13:20:54.545889",
          "status": "completed"
        },
        "tags": [],
        "id": "v1pxd_Q001ex",
        "outputId": "4ce30aea-79d8-4e1c-d39e-d5e8ac6a57de"
      },
      "source": [
        "# Summed sales & accurate windowed mean sales per day features\n",
        "matrix = add_rolling_stats(\n",
        "    matrix,\n",
        "    [\"shop_id\", \"item_id\"],\n",
        "    aggfunc=\"sum\",\n",
        "    rolling_aggfunc=\"sum\",\n",
        "    kind=\"rolling\",\n",
        "    window=12,\n",
        "    reshape_source=False,\n",
        ")\n",
        "matrix = add_rolling_stats(\n",
        "    matrix,\n",
        "    [\"item_id\"],\n",
        "    aggfunc=\"sum\",\n",
        "    rolling_aggfunc=\"sum\",\n",
        "    kind=\"expanding\",\n",
        "    reshape_source=False,\n",
        ")\n",
        "matrix[\"1year\"] = 365\n",
        "matrix[\"item_id_day_mean_expanding\"] = matrix[\n",
        "    \"item_id_item_cnt_month_sum_expanding_sum\"\n",
        "] / matrix[[\"first_item_sale_days\"]].min(axis=1)\n",
        "matrix[\"shop_id_item_id_day_mean_win_12\"] = matrix[\n",
        "    \"shop_id_item_id_item_cnt_month_sum_rolling_sum_win_12\"\n",
        "] / matrix[[\"first_item_sale_days\", \"shop_open_days\", \"1year\"]].min(axis=1)\n",
        "matrix.loc[matrix.new_item == True, \"item_id_day_mean_expanding\",] = float(\"nan\")\n",
        "matrix = matrix.drop(columns=[\"1year\", \"item_id_item_cnt_month_sum_expanding_sum\"])"
      ],
      "execution_count": null,
      "outputs": [
        {
          "output_type": "stream",
          "text": [
            "Creating feature \"shop_id_item_id_item_cnt_month_sum_rolling_sum_win_12\"\n",
            "Creating feature \"item_id_item_cnt_month_sum_expanding_sum\"\n"
          ],
          "name": "stdout"
        }
      ]
    },
    {
      "cell_type": "markdown",
      "metadata": {
        "papermill": {
          "duration": 0.078279,
          "end_time": "2021-05-17T13:22:18.656743",
          "exception": false,
          "start_time": "2021-05-17T13:22:18.578464",
          "status": "completed"
        },
        "tags": [],
        "id": "zT0wOXDd01ex"
      },
      "source": [
        "Revenue features"
      ]
    },
    {
      "cell_type": "code",
      "metadata": {
        "execution": {
          "iopub.execute_input": "2021-05-17T13:22:18.864861Z",
          "iopub.status.busy": "2021-05-17T13:22:18.864167Z",
          "iopub.status.idle": "2021-05-17T13:23:31.800082Z",
          "shell.execute_reply": "2021-05-17T13:23:31.797020Z"
        },
        "papermill": {
          "duration": 73.066038,
          "end_time": "2021-05-17T13:23:31.800716",
          "exception": false,
          "start_time": "2021-05-17T13:22:18.734678",
          "status": "completed"
        },
        "tags": [],
        "id": "fZPvotTn01ex",
        "outputId": "0b098226-f631-4bc0-9a76-82d05f94fe29"
      },
      "source": [
        "matrix = add_rolling_stats(\n",
        "    matrix,\n",
        "    [\"shop_id\", \"item_name_group\"],\n",
        "    window=12,\n",
        "    argfeat=\"item_revenue_month\",\n",
        "    dtype=\"float32\",\n",
        ")"
      ],
      "execution_count": null,
      "outputs": [
        {
          "output_type": "stream",
          "text": [
            "Creating feature \"shop_id_item_name_group_item_revenue_month_mean_rolling_mean_win_12\"\n"
          ],
          "name": "stdout"
        }
      ]
    },
    {
      "cell_type": "markdown",
      "metadata": {
        "papermill": {
          "duration": 0.299519,
          "end_time": "2021-05-17T13:23:32.405638",
          "exception": false,
          "start_time": "2021-05-17T13:23:32.106119",
          "status": "completed"
        },
        "tags": [],
        "id": "5RPbxl3s01ex"
      },
      "source": [
        "Windowed mean unique item features and ratio of new items in category with mean over the previous year"
      ]
    },
    {
      "cell_type": "code",
      "metadata": {
        "execution": {
          "iopub.execute_input": "2021-05-17T13:23:33.090815Z",
          "iopub.status.busy": "2021-05-17T13:23:33.085523Z",
          "iopub.status.idle": "2021-05-17T13:24:01.524635Z",
          "shell.execute_reply": "2021-05-17T13:24:01.525107Z"
        },
        "papermill": {
          "duration": 28.825402,
          "end_time": "2021-05-17T13:24:01.525314",
          "exception": false,
          "start_time": "2021-05-17T13:23:32.699912",
          "status": "completed"
        },
        "tags": [],
        "id": "AFOM2LaE01ex",
        "outputId": "e491a8a2-9cf3-447f-b549-1ba36119524e"
      },
      "source": [
        "matrix = add_rolling_stats(\n",
        "    matrix,\n",
        "    [\"item_category_id\"],\n",
        "    argfeat=\"new_items_cat\",\n",
        "    window=12,\n",
        "    reshape_source=True,\n",
        "    lag_offset=1,\n",
        ")\n",
        "matrix = add_rolling_stats(\n",
        "    matrix,\n",
        "    [\"item_name_group\"],\n",
        "    argfeat=\"name_group_new_unique_month\",\n",
        "    window=12,\n",
        "    reshape_source=True,\n",
        "    lag_offset=1,\n",
        ")\n",
        "\n",
        "matrix[\"new_items_cat_1_12_ratio\"] = (\n",
        "    matrix[\"new_items_cat\"]\n",
        "    / matrix[\"item_category_id_new_items_cat_mean_rolling_mean_win_12\"]\n",
        ")"
      ],
      "execution_count": null,
      "outputs": [
        {
          "output_type": "stream",
          "text": [
            "Creating feature \"item_category_id_new_items_cat_mean_rolling_mean_win_12\"\n",
            "Creating feature \"item_name_group_name_group_new_unique_month_mean_rolling_mean_win_12\"\n"
          ],
          "name": "stdout"
        }
      ]
    },
    {
      "cell_type": "code",
      "metadata": {
        "execution": {
          "iopub.execute_input": "2021-05-17T13:24:01.688395Z",
          "iopub.status.busy": "2021-05-17T13:24:01.687760Z",
          "iopub.status.idle": "2021-05-17T13:24:03.983414Z",
          "shell.execute_reply": "2021-05-17T13:24:03.982654Z"
        },
        "papermill": {
          "duration": 2.378617,
          "end_time": "2021-05-17T13:24:03.983561",
          "exception": false,
          "start_time": "2021-05-17T13:24:01.604944",
          "status": "completed"
        },
        "tags": [],
        "id": "b6Owytbz01ex"
      },
      "source": [
        "gc.collect()\n",
        "matrix, oldcols = shrink_mem_new_cols(matrix, oldcols)"
      ],
      "execution_count": null,
      "outputs": []
    },
    {
      "cell_type": "markdown",
      "metadata": {
        "papermill": {
          "duration": 0.08152,
          "end_time": "2021-05-17T13:24:04.165791",
          "exception": false,
          "start_time": "2021-05-17T13:24:04.084271",
          "status": "completed"
        },
        "tags": [],
        "id": "k3GYy96r01ex"
      },
      "source": [
        "# Lagged features and mean encodings  \n",
        "이전 달의 동일한 상점-항목 조합에 대한 값"
      ]
    },
    {
      "cell_type": "code",
      "metadata": {
        "execution": {
          "iopub.execute_input": "2021-05-17T13:24:04.333757Z",
          "iopub.status.busy": "2021-05-17T13:24:04.333046Z",
          "iopub.status.idle": "2021-05-17T13:24:04.336260Z",
          "shell.execute_reply": "2021-05-17T13:24:04.335659Z"
        },
        "papermill": {
          "duration": 0.090057,
          "end_time": "2021-05-17T13:24:04.336409",
          "exception": false,
          "start_time": "2021-05-17T13:24:04.246352",
          "status": "completed"
        },
        "tags": [],
        "id": "r6_Ge6Sw01ex"
      },
      "source": [
        "def simple_lag_feature(matrix, lag_feature, lags):\n",
        "    for lag in lags:\n",
        "        newname = lag_feature + f\"_lag_{lag}\"\n",
        "        print(f\"Adding feature {newname}\")\n",
        "        targetseries = matrix.loc[:, [\"date_block_num\", \"item_id\", \"shop_id\"] + [lag_feature]]\n",
        "        targetseries[\"date_block_num\"] += lag\n",
        "        targetseries = targetseries.rename(columns={lag_feature: newname})\n",
        "        matrix = matrix.merge(\n",
        "            targetseries, on=[\"date_block_num\", \"item_id\", \"shop_id\"], how=\"left\"\n",
        "        )\n",
        "        matrix.loc[\n",
        "            (matrix.item_age >= lag) & (matrix.shop_age >= lag) & (matrix[newname].isna()),\n",
        "            newname,\n",
        "        ] = 0\n",
        "    return matrix"
      ],
      "execution_count": null,
      "outputs": []
    },
    {
      "cell_type": "code",
      "metadata": {
        "execution": {
          "iopub.execute_input": "2021-05-17T13:24:04.504101Z",
          "iopub.status.busy": "2021-05-17T13:24:04.502679Z",
          "iopub.status.idle": "2021-05-17T13:25:47.685584Z",
          "shell.execute_reply": "2021-05-17T13:25:47.686103Z"
        },
        "papermill": {
          "duration": 103.269926,
          "end_time": "2021-05-17T13:25:47.686312",
          "exception": false,
          "start_time": "2021-05-17T13:24:04.416386",
          "status": "completed"
        },
        "tags": [],
        "id": "gWK-0VhQ01ey",
        "outputId": "0ae39652-f278-4aa0-cfb6-36fea07ffc0a"
      },
      "source": [
        "matrix = simple_lag_feature(matrix, 'item_cnt_month', lags=[1,2,3])\n",
        "matrix = simple_lag_feature(matrix, 'item_cnt_day_avg', lags=[1, 2, 3])\n",
        "matrix = simple_lag_feature(matrix, 'item_revenue_month', lags=[1])\n",
        "gc.collect()\n",
        "print(\"Lag features created\")"
      ],
      "execution_count": null,
      "outputs": [
        {
          "output_type": "stream",
          "text": [
            "Adding feature item_cnt_month_lag_1\n",
            "Adding feature item_cnt_month_lag_2\n",
            "Adding feature item_cnt_month_lag_3\n",
            "Adding feature item_cnt_day_avg_lag_1\n",
            "Adding feature item_cnt_day_avg_lag_2\n",
            "Adding feature item_cnt_day_avg_lag_3\n",
            "Adding feature item_revenue_month_lag_1\n",
            "Lag features created\n"
          ],
          "name": "stdout"
        }
      ]
    },
    {
      "cell_type": "markdown",
      "metadata": {
        "papermill": {
          "duration": 0.08153,
          "end_time": "2021-05-17T13:25:47.849629",
          "exception": false,
          "start_time": "2021-05-17T13:25:47.768099",
          "status": "completed"
        },
        "tags": [],
        "id": "w6jTryCH01ey"
      },
      "source": [
        "## Mean encodings\n",
        "범주형 특성의 각 수준 또는 범주형 특성의 조합에 대한 대상 특성의 평균 또는 합계 값, 지연됨"
      ]
    },
    {
      "cell_type": "code",
      "metadata": {
        "execution": {
          "iopub.execute_input": "2021-05-17T13:25:48.029418Z",
          "iopub.status.busy": "2021-05-17T13:25:48.028719Z",
          "iopub.status.idle": "2021-05-17T13:25:48.030919Z",
          "shell.execute_reply": "2021-05-17T13:25:48.031419Z"
        },
        "papermill": {
          "duration": 0.099813,
          "end_time": "2021-05-17T13:25:48.031590",
          "exception": false,
          "start_time": "2021-05-17T13:25:47.931777",
          "status": "completed"
        },
        "tags": [],
        "id": "1xJjJGu401ey"
      },
      "source": [
        "def create_apply_ME(\n",
        "    matrix, grouping_fields, lags=[1], target=\"item_cnt_day_avg\", aggfunc=\"mean\"\n",
        "):\n",
        "    grouping_fields = list_if_not(grouping_fields)\n",
        "    for lag in lags:\n",
        "        newname = \"_\".join(grouping_fields + [target] + [aggfunc] + [f\"lag_{lag}\"])\n",
        "        print(f\"Adding feature {newname}\")\n",
        "        me_series = (\n",
        "            matrix.groupby([\"date_block_num\"] + grouping_fields)[target]\n",
        "            .agg(aggfunc)\n",
        "            .rename(newname)\n",
        "            .reset_index()\n",
        "        )\n",
        "        me_series[\"date_block_num\"] += lag\n",
        "        matrix = matrix.merge(me_series, on=[\"date_block_num\"] + grouping_fields, how=\"left\")\n",
        "        del me_series\n",
        "        matrix[newname] = matrix[newname].fillna(0)\n",
        "        for g in grouping_fields:\n",
        "            firsts = matrix.groupby(g).date_block_num.min().rename(\"firsts\")\n",
        "            matrix = matrix.merge(firsts, left_on=g, right_index=True, how=\"left\")\n",
        "            matrix.loc[\n",
        "                matrix[\"date_block_num\"] < (matrix[\"firsts\"] + (lag)), newname\n",
        "            ] = float(\"nan\")\n",
        "            del matrix[\"firsts\"]\n",
        "        matrix[newname] = reduce_mem_usage(matrix[newname])\n",
        "    return matrix"
      ],
      "execution_count": null,
      "outputs": []
    },
    {
      "cell_type": "code",
      "metadata": {
        "execution": {
          "iopub.execute_input": "2021-05-17T13:25:48.198200Z",
          "iopub.status.busy": "2021-05-17T13:25:48.197561Z",
          "iopub.status.idle": "2021-05-17T13:27:31.107820Z",
          "shell.execute_reply": "2021-05-17T13:27:31.107081Z"
        },
        "papermill": {
          "duration": 102.994486,
          "end_time": "2021-05-17T13:27:31.107981",
          "exception": false,
          "start_time": "2021-05-17T13:25:48.113495",
          "status": "completed"
        },
        "tags": [],
        "id": "_ZUZiQRh01ey",
        "outputId": "1fc9fdf9-b121-4c82-a0e9-af8251e124d8"
      },
      "source": [
        "matrix = create_apply_ME(matrix, [\"item_name_group\"], target=\"item_cnt_month\")\n",
        "matrix = create_apply_ME(matrix, [\"item_name_group\"], target=\"item_cnt_month\", aggfunc=\"sum\")\n",
        "matrix = create_apply_ME(matrix, [\"item_id\"], target=\"item_cnt_month\")\n",
        "matrix = create_apply_ME(matrix, [\"item_id\"])\n",
        "matrix = create_apply_ME(matrix, [\"platform_id\"])\n",
        "matrix = create_apply_ME(matrix, [\"item_name_group\"])\n",
        "matrix = create_apply_ME(matrix, [\"platform_id\"], target=\"item_cnt_month\")\n",
        "matrix = create_apply_ME(matrix, [\"supercategory_id\"])\n",
        "matrix = create_apply_ME(matrix, [\"item_category_id\", \"new_item\"], target=\"item_cnt_month\")\n",
        "matrix = create_apply_ME(matrix, [\"shop_id\", \"item_category_id\"], target=\"item_cnt_month\")\n",
        "matrix = create_apply_ME(matrix, [\"shop_cluster\", \"item_id\"], target=\"item_cnt_month\")\n",
        "matrix = create_apply_ME(matrix, [\"shop_cluster\", \"item_id\"])\n",
        "matrix = create_apply_ME(matrix, [\"city_code\", \"item_id\"])\n",
        "matrix = create_apply_ME(matrix, [\"city_code\", \"item_name_group\"])"
      ],
      "execution_count": null,
      "outputs": [
        {
          "output_type": "stream",
          "text": [
            "Adding feature item_name_group_item_cnt_month_mean_lag_1\n",
            "Adding feature item_name_group_item_cnt_month_sum_lag_1\n",
            "Adding feature item_id_item_cnt_month_mean_lag_1\n",
            "Adding feature item_id_item_cnt_day_avg_mean_lag_1\n",
            "Adding feature platform_id_item_cnt_day_avg_mean_lag_1\n",
            "Adding feature item_name_group_item_cnt_day_avg_mean_lag_1\n",
            "Adding feature platform_id_item_cnt_month_mean_lag_1\n",
            "Adding feature supercategory_id_item_cnt_day_avg_mean_lag_1\n",
            "Adding feature item_category_id_new_item_item_cnt_month_mean_lag_1\n",
            "Adding feature shop_id_item_category_id_item_cnt_month_mean_lag_1\n",
            "Adding feature shop_cluster_item_id_item_cnt_month_mean_lag_1\n",
            "Adding feature shop_cluster_item_id_item_cnt_day_avg_mean_lag_1\n",
            "Adding feature city_code_item_id_item_cnt_day_avg_mean_lag_1\n",
            "Adding feature city_code_item_name_group_item_cnt_day_avg_mean_lag_1\n"
          ],
          "name": "stdout"
        }
      ]
    },
    {
      "cell_type": "markdown",
      "metadata": {
        "papermill": {
          "duration": 0.086047,
          "end_time": "2021-05-17T13:27:31.280776",
          "exception": false,
          "start_time": "2021-05-17T13:27:31.194729",
          "status": "completed"
        },
        "tags": [],
        "id": "j_aMp-DT01ey"
      },
      "source": [
        "Ratios between lag 1 sales and rolling 12 month means, to capture decreases from previous means"
      ]
    },
    {
      "cell_type": "code",
      "metadata": {
        "execution": {
          "iopub.execute_input": "2021-05-17T13:27:31.464102Z",
          "iopub.status.busy": "2021-05-17T13:27:31.463447Z",
          "iopub.status.idle": "2021-05-17T13:27:31.490497Z",
          "shell.execute_reply": "2021-05-17T13:27:31.489789Z"
        },
        "papermill": {
          "duration": 0.123638,
          "end_time": "2021-05-17T13:27:31.490655",
          "exception": false,
          "start_time": "2021-05-17T13:27:31.367017",
          "status": "completed"
        },
        "tags": [],
        "id": "uSwFuusA01ey"
      },
      "source": [
        "matrix[\"item_id_item_cnt_1_12_ratio\"] = (\n",
        "    matrix[\"item_id_item_cnt_month_mean_lag_1\"]\n",
        "    / matrix[\"item_id_item_cnt_month_mean_rolling_mean_win_12\"]\n",
        ")\n",
        "matrix[\"shop_id_item_id_item_cnt_1_12_ratio\"] = (\n",
        "    matrix[\"item_cnt_day_avg_lag_1\"] / matrix[\"shop_id_item_id_day_mean_win_12\"]\n",
        ")"
      ],
      "execution_count": null,
      "outputs": []
    },
    {
      "cell_type": "code",
      "metadata": {
        "execution": {
          "iopub.execute_input": "2021-05-17T13:27:31.673342Z",
          "iopub.status.busy": "2021-05-17T13:27:31.671847Z",
          "iopub.status.idle": "2021-05-17T13:27:43.193036Z",
          "shell.execute_reply": "2021-05-17T13:27:43.192323Z"
        },
        "papermill": {
          "duration": 11.615142,
          "end_time": "2021-05-17T13:27:43.193216",
          "exception": false,
          "start_time": "2021-05-17T13:27:31.578074",
          "status": "completed"
        },
        "tags": [],
        "id": "YCJYd6vY01ey",
        "outputId": "bd395c49-ae7e-4d64-a613-6abdbab1af3b"
      },
      "source": [
        "matrix, oldcols = shrink_mem_new_cols(matrix, oldcols)\n",
        "matrix.to_pickle(\"matrixcheckpoint.pkl\")\n",
        "print(\"Saved matrixcheckpoint\")\n",
        "gc.collect()\n",
        "print(\"Mean encoding features created\")"
      ],
      "execution_count": null,
      "outputs": [
        {
          "output_type": "stream",
          "text": [
            "Saved matrixcheckpoint\n",
            "Mean encoding features created\n"
          ],
          "name": "stdout"
        }
      ]
    },
    {
      "cell_type": "markdown",
      "metadata": {
        "papermill": {
          "duration": 0.102603,
          "end_time": "2021-05-17T13:27:43.400518",
          "exception": false,
          "start_time": "2021-05-17T13:27:43.297915",
          "status": "completed"
        },
        "tags": [],
        "id": "2wNxrcYk01ey"
      },
      "source": [
        "이제 다른 기능을 생성하는 데 사용된 일부 열을 폐기할 수 있습니다."
      ]
    },
    {
      "cell_type": "code",
      "metadata": {
        "execution": {
          "iopub.execute_input": "2021-05-17T13:27:43.580341Z",
          "iopub.status.busy": "2021-05-17T13:27:43.579654Z",
          "iopub.status.idle": "2021-05-17T13:27:48.375827Z",
          "shell.execute_reply": "2021-05-17T13:27:48.375250Z"
        },
        "papermill": {
          "duration": 4.888751,
          "end_time": "2021-05-17T13:27:48.375972",
          "exception": false,
          "start_time": "2021-05-17T13:27:43.487221",
          "status": "completed"
        },
        "tags": [],
        "id": "_wa9CimW01ey"
      },
      "source": [
        "surplus_columns = [\n",
        "    \"item_revenue_month\",\n",
        "    \"item_cnt_day_avg\",\n",
        "    \"item_name_group\",\n",
        "    \"artist_name_or_first_word\",\n",
        "    \"item_age\",\n",
        "    \"shop_open_days\",\n",
        "    \"shop_age\",\n",
        "    \"platform_id\",\n",
        "    \"supercategory_id\",\n",
        "    \"city_code\",\n",
        "    \"category_cluster\",\n",
        "    \"shop_cluster\",\n",
        "    \"new_items_cat\",\n",
        "    \"shop_id_item_id_day_mean_win_12\",\n",
        "    \"item_id_item_cnt_month_mean_rolling_mean_win_12\",\n",
        "]\n",
        "matrix = matrix.drop(columns=surplus_columns)"
      ],
      "execution_count": null,
      "outputs": []
    },
    {
      "cell_type": "markdown",
      "metadata": {
        "papermill": {
          "duration": 24.39625,
          "end_time": "2021-05-17T13:28:12.860317",
          "exception": false,
          "start_time": "2021-05-17T13:27:48.464067",
          "status": "completed"
        },
        "tags": [],
        "id": "qdY7lx8F01ey"
      },
      "source": [
        "# Predictive words in item_name\n",
        "\n",
        "One-hot features are made for words in the item_name field that are predictive of item sales.  \n",
        "\n",
        "To select *k* word features from the 1000's of words found in item names, words are discarded if they are not in the names of a threshold number of items, or are not in the names of new items in the test or validation months. Remaining words are then selected by the scikit-learn SelectKBest function according to their correlation with the target."
      ]
    },
    {
      "cell_type": "code",
      "metadata": {
        "execution": {
          "iopub.execute_input": "2021-05-17T13:28:13.052319Z",
          "iopub.status.busy": "2021-05-17T13:28:13.051449Z",
          "iopub.status.idle": "2021-05-17T13:28:13.068308Z",
          "shell.execute_reply": "2021-05-17T13:28:13.067621Z"
        },
        "papermill": {
          "duration": 0.119006,
          "end_time": "2021-05-17T13:28:13.068456",
          "exception": false,
          "start_time": "2021-05-17T13:28:12.949450",
          "status": "completed"
        },
        "tags": [],
        "id": "R7PjOD5l01ez"
      },
      "source": [
        "import re\n",
        "import warnings\n",
        "\n",
        "warnings.filterwarnings(\"ignore\", module=\"sklearn\")\n",
        "\n",
        "from nltk.corpus import stopwords\n",
        "from sklearn.feature_extraction.text import CountVectorizer\n",
        "from sklearn.feature_selection import SelectKBest, f_regression\n",
        "\n",
        "\n",
        "def name_token_feats(matrix, items, k=50, item_n_threshold=5, target_month_start=33):\n",
        "    def name_correction(st):\n",
        "        st = re.sub(r\"[^\\w\\s]\", \"\", st)\n",
        "        st = re.sub(r\"\\s{2,}\", \" \", st)\n",
        "        st = st.lower().strip()\n",
        "        return st\n",
        "\n",
        "    items[\"item_name_clean\"] = items[\"item_name\"].apply(name_correction)\n",
        "\n",
        "    def create_item_id_bow_matrix(items):\n",
        "        all_stopwords = stopwords.words(\"russian\")\n",
        "        all_stopwords = all_stopwords + stopwords.words(\"english\")\n",
        "\n",
        "        vectorizer = CountVectorizer(stop_words=all_stopwords)\n",
        "        X = vectorizer.fit_transform(items.loc[:, \"item_name_clean\"])\n",
        "        X = pd.DataFrame.sparse.from_spmatrix(X)\n",
        "        print(f\"{len(vectorizer.vocabulary_)} words found in all items\")\n",
        "        featuremap = {\n",
        "            col: \"word_\" + token\n",
        "            for col, token in zip(\n",
        "                range(len(vectorizer.vocabulary_)), vectorizer.get_feature_names()\n",
        "            )\n",
        "        }\n",
        "        X = X.rename(columns=featuremap)\n",
        "        return X\n",
        "\n",
        "    items_bow = create_item_id_bow_matrix(items)\n",
        "    items_bow = items_bow.clip(0, 1)  # Made the word counts binary\n",
        "    common_word_mask = items_bow.sum(axis=0) > item_n_threshold\n",
        "    target_items = matrix.query(\n",
        "        f\"date_block_num>={target_month_start} & new_item==True\"\n",
        "    ).item_id.unique()\n",
        "    target_item_mask = items_bow.loc[target_items, :].sum(axis=0) > 1\n",
        "    items_bow = items_bow.loc[:, common_word_mask & target_item_mask]\n",
        "    print(f\"{items_bow.shape[1]} words of interest\")\n",
        "    mxbow = matrix[[\"date_block_num\", \"item_id\", \"item_cnt_month\"]].query(\"date_block_num<34\")\n",
        "    mxbow = mxbow.merge(items_bow, left_on=\"item_id\", right_index=True, how=\"left\")\n",
        "    X = mxbow.drop(columns=[\"date_block_num\", \"item_id\", \"item_cnt_month\"])\n",
        "    y = mxbow[\"item_cnt_month\"].clip(0, 20)\n",
        "    selektor = SelectKBest(f_regression, k=k)\n",
        "    selektor.fit(X, y)\n",
        "    tokencols = X.columns[selektor.get_support()]\n",
        "    print(f\"{k} word features selected\")\n",
        "    return items_bow[tokencols]"
      ],
      "execution_count": null,
      "outputs": []
    },
    {
      "cell_type": "code",
      "metadata": {
        "execution": {
          "iopub.execute_input": "2021-05-17T13:28:13.249287Z",
          "iopub.status.busy": "2021-05-17T13:28:13.248541Z",
          "iopub.status.idle": "2021-05-17T13:31:48.659704Z",
          "shell.execute_reply": "2021-05-17T13:31:48.660467Z"
        },
        "papermill": {
          "duration": 215.504845,
          "end_time": "2021-05-17T13:31:48.660660",
          "exception": false,
          "start_time": "2021-05-17T13:28:13.155815",
          "status": "completed"
        },
        "tags": [],
        "id": "h2rKaWOE01ez",
        "outputId": "d46bf6cf-86b4-4b33-dca6-9d9e5b40d195"
      },
      "source": [
        "items = pd.read_csv(data_path + 'items.csv')\n",
        "word_frame = name_token_feats(matrix, items, k=50, item_n_threshold=5)\n",
        "matrix = matrix.merge(word_frame, left_on='item_id', right_index=True, how='left')\n",
        "# LightGBM didn't seem to work with sparse features in this case, so we'll convert them to int\n",
        "sparsecols = [c for c in matrix.columns if pd.api.types.is_sparse(matrix[c].dtype)]\n",
        "matrix[sparsecols] = matrix[sparsecols].sparse.to_dense().astype('int8')"
      ],
      "execution_count": null,
      "outputs": [
        {
          "output_type": "stream",
          "text": [
            "19134 words found in all items\n",
            "449 words of interest\n",
            "50 word features selected\n"
          ],
          "name": "stdout"
        }
      ]
    },
    {
      "cell_type": "markdown",
      "metadata": {
        "papermill": {
          "duration": 0.089675,
          "end_time": "2021-05-17T13:31:48.838118",
          "exception": false,
          "start_time": "2021-05-17T13:31:48.748443",
          "status": "completed"
        },
        "tags": [],
        "id": "rL2-Gxq001ez"
      },
      "source": [
        "The final feature frame is saved and the notebook kernel is reset to free up memory for LightGBM."
      ]
    },
    {
      "cell_type": "code",
      "metadata": {
        "execution": {
          "iopub.execute_input": "2021-05-17T13:31:49.018357Z",
          "iopub.status.busy": "2021-05-17T13:31:49.017715Z",
          "iopub.status.idle": "2021-05-17T13:31:57.031559Z",
          "shell.execute_reply": "2021-05-17T13:31:57.030628Z"
        },
        "papermill": {
          "duration": 8.105227,
          "end_time": "2021-05-17T13:31:57.031754",
          "exception": false,
          "start_time": "2021-05-17T13:31:48.926527",
          "status": "completed"
        },
        "tags": [],
        "id": "pXh6KbNX01ez",
        "outputId": "21c4b89b-1618-497a-f1a1-35b0d6e3ee3d"
      },
      "source": [
        "gc.collect()\n",
        "matrix.to_pickle(\"checkpoint_final.pkl\")\n",
        "print(\"All features generated, dataframe saved\")"
      ],
      "execution_count": null,
      "outputs": [
        {
          "output_type": "stream",
          "text": [
            "All features generated, dataframe saved\n"
          ],
          "name": "stdout"
        }
      ]
    },
    {
      "cell_type": "code",
      "metadata": {
        "execution": {
          "iopub.execute_input": "2021-05-17T13:32:11.366867Z",
          "iopub.status.busy": "2021-05-17T13:32:11.365872Z",
          "iopub.status.idle": "2021-05-17T13:32:11.496665Z",
          "shell.execute_reply": "2021-05-17T13:32:11.497160Z"
        },
        "papermill": {
          "duration": 1.791841,
          "end_time": "2021-05-17T13:32:11.497502",
          "exception": false,
          "start_time": "2021-05-17T13:32:09.705661",
          "status": "completed"
        },
        "tags": [],
        "id": "aUqhASQG01ez"
      },
      "source": [
        "%reset -f"
      ],
      "execution_count": null,
      "outputs": []
    },
    {
      "cell_type": "markdown",
      "metadata": {
        "papermill": {
          "duration": 1.021288,
          "end_time": "2021-05-17T13:32:14.625125",
          "exception": false,
          "start_time": "2021-05-17T13:32:13.603837",
          "status": "completed"
        },
        "tags": [],
        "id": "Oc1tTRbN01ez"
      },
      "source": [
        "# Model fitting"
      ]
    },
    {
      "cell_type": "code",
      "metadata": {
        "execution": {
          "iopub.execute_input": "2021-05-17T13:32:14.814128Z",
          "iopub.status.busy": "2021-05-17T13:32:14.813124Z",
          "iopub.status.idle": "2021-05-17T13:32:14.817674Z",
          "shell.execute_reply": "2021-05-17T13:32:14.818253Z"
        },
        "papermill": {
          "duration": 0.097106,
          "end_time": "2021-05-17T13:32:14.818430",
          "exception": false,
          "start_time": "2021-05-17T13:32:14.721324",
          "status": "completed"
        },
        "tags": [],
        "id": "g8Wt266b01ez"
      },
      "source": [
        "import pandas as pd\n",
        "import numpy as np"
      ],
      "execution_count": null,
      "outputs": []
    },
    {
      "cell_type": "markdown",
      "metadata": {
        "papermill": {
          "duration": 0.089932,
          "end_time": "2021-05-17T13:32:14.998159",
          "exception": false,
          "start_time": "2021-05-17T13:32:14.908227",
          "status": "completed"
        },
        "tags": [],
        "id": "5W7ROeNU01ez"
      },
      "source": [
        ""
      ]
    },
    {
      "cell_type": "markdown",
      "metadata": {
        "papermill": {
          "duration": 0.088744,
          "end_time": "2021-05-17T13:32:15.176438",
          "exception": false,
          "start_time": "2021-05-17T13:32:15.087694",
          "status": "completed"
        },
        "tags": [],
        "id": "6Dz76pjJ01ez"
      },
      "source": [
        "The feature frame is loaded and the target is clipped to match the test items"
      ]
    },
    {
      "cell_type": "code",
      "metadata": {
        "execution": {
          "iopub.execute_input": "2021-05-17T13:32:15.361517Z",
          "iopub.status.busy": "2021-05-17T13:32:15.360285Z",
          "iopub.status.idle": "2021-05-17T13:32:19.659232Z",
          "shell.execute_reply": "2021-05-17T13:32:19.659785Z"
        },
        "papermill": {
          "duration": 4.394934,
          "end_time": "2021-05-17T13:32:19.659966",
          "exception": false,
          "start_time": "2021-05-17T13:32:15.265032",
          "status": "completed"
        },
        "tags": [],
        "id": "yxcBhZWb01ez"
      },
      "source": [
        "matrix = pd.read_pickle(\"checkpoint_final.pkl\")\n",
        "matrix['item_cnt_month'] = matrix['item_cnt_month'].clip(0,20)"
      ],
      "execution_count": null,
      "outputs": []
    },
    {
      "cell_type": "markdown",
      "metadata": {
        "papermill": {
          "duration": 0.088676,
          "end_time": "2021-05-17T13:32:20.442769",
          "exception": false,
          "start_time": "2021-05-17T13:32:20.354093",
          "status": "completed"
        },
        "tags": [],
        "id": "SnT5MTvs01e0"
      },
      "source": [
        "Split train and validation sets from the feature matrix, month 33 used as validation set"
      ]
    },
    {
      "cell_type": "code",
      "metadata": {
        "id": "Nh68NdY501e0"
      },
      "source": [
        "dropcols = [\n",
        "    \"shop_id\",\n",
        "    \"item_id\",\n",
        "    \"new_item\",\n",
        "]  # The features are dropped to reduce overfitting\n",
        "\n",
        "\n",
        "valid = matrix.drop(columns=dropcols).loc[matrix.date_block_num == 33, :]\n",
        "train = matrix.drop(columns=dropcols).loc[matrix.date_block_num < 33, :]\n",
        "train = train[train.date_block_num >= 2]\n",
        "test = matrix.drop(columns=dropcols).loc[matrix.date_block_num==34, :]\n",
        "X_test = test.drop(columns=\"item_cnt_month\")\n",
        "X_train = train.drop(columns=\"item_cnt_month\")\n",
        "y_train = train.item_cnt_month\n",
        "X_valid = valid.drop(columns=\"item_cnt_month\")\n",
        "y_valid = valid.item_cnt_month\n",
        "del matrix"
      ],
      "execution_count": null,
      "outputs": []
    },
    {
      "cell_type": "markdown",
      "metadata": {
        "papermill": {
          "duration": 0.090443,
          "end_time": "2021-05-17T13:32:19.839652",
          "exception": false,
          "start_time": "2021-05-17T13:32:19.749209",
          "status": "completed"
        },
        "tags": [],
        "id": "5d1gxs6Z01e0"
      },
      "source": [
        "Define a function to fit and return a lightgbm regressor with or without early stopping"
      ]
    },
    {
      "cell_type": "code",
      "metadata": {
        "execution": {
          "iopub.execute_input": "2021-05-17T13:32:20.028328Z",
          "iopub.status.busy": "2021-05-17T13:32:20.027629Z",
          "iopub.status.idle": "2021-05-17T13:32:20.264191Z",
          "shell.execute_reply": "2021-05-17T13:32:20.263621Z"
        },
        "papermill": {
          "duration": 0.335333,
          "end_time": "2021-05-17T13:32:20.264341",
          "exception": false,
          "start_time": "2021-05-17T13:32:19.929008",
          "status": "completed"
        },
        "tags": [],
        "id": "K2nAJDVi01e0"
      },
      "source": [
        "import warnings\n",
        "\n",
        "warnings.filterwarnings(\"ignore\", module=\"lightgbm\")\n",
        "\n",
        "import lightgbm as lgbm\n",
        "\n",
        "\n",
        "def fit_booster(\n",
        "    X_train,\n",
        "    y_train,\n",
        "    X_test=None,\n",
        "    y_test=None,\n",
        "    params=None,\n",
        "    test_run=False,\n",
        "    categoricals=[],\n",
        "    dropcols=[],\n",
        "    early_stopping=True,\n",
        "):\n",
        "    if params is None:\n",
        "        params = {\"learning_rate\": 0.1, \"subsample_for_bin\": 300000, \"n_estimators\": 50}\n",
        "\n",
        "    early_stopping_rounds = None\n",
        "    if early_stopping == True:\n",
        "        early_stopping_rounds = 30\n",
        "\n",
        "    if test_run:\n",
        "        eval_set = [(X_train, y_train)]\n",
        "    else:\n",
        "        eval_set = [(X_train, y_train), (X_test, y_test)]\n",
        "\n",
        "    booster = lgbm.LGBMRegressor(**params)\n",
        "\n",
        "    categoricals = [c for c in categoricals if c in X_train.columns]\n",
        "\n",
        "    booster.fit(\n",
        "        X_train,\n",
        "        y_train,\n",
        "        eval_set=eval_set,\n",
        "        eval_metric=[\"rmse\"],\n",
        "        verbose=100,\n",
        "        categorical_feature=categoricals,\n",
        "        early_stopping_rounds=early_stopping_rounds,\n",
        "    )\n",
        "\n",
        "    return booster"
      ],
      "execution_count": null,
      "outputs": []
    },
    {
      "cell_type": "markdown",
      "metadata": {
        "papermill": {
          "duration": 0.088701,
          "end_time": "2021-05-17T13:32:33.980607",
          "exception": false,
          "start_time": "2021-05-17T13:32:33.891906",
          "status": "completed"
        },
        "tags": [],
        "id": "a-YktGNG01e0"
      },
      "source": [
        "These hyperparameters were found by using the hyperparameter optimization framework Optuna to optimize hyperparameters for the validation set."
      ]
    },
    {
      "cell_type": "code",
      "metadata": {
        "execution": {
          "iopub.execute_input": "2021-05-17T13:32:34.163343Z",
          "iopub.status.busy": "2021-05-17T13:32:34.162368Z",
          "iopub.status.idle": "2021-05-17T13:32:34.167532Z",
          "shell.execute_reply": "2021-05-17T13:32:34.168001Z"
        },
        "papermill": {
          "duration": 0.098127,
          "end_time": "2021-05-17T13:32:34.168196",
          "exception": false,
          "start_time": "2021-05-17T13:32:34.070069",
          "status": "completed"
        },
        "tags": [],
        "id": "QvEYV6qv01e0"
      },
      "source": [
        "params = {\n",
        "    \"num_leaves\": 966,\n",
        "    \"cat_smooth\": 45.01680827234465,\n",
        "    \"min_child_samples\": 27,\n",
        "    \"min_child_weight\": 0.021144950289224463,\n",
        "    \"max_bin\": 214,\n",
        "    \"learning_rate\": 0.01,\n",
        "    \"subsample_for_bin\": 300000,\n",
        "    \"min_data_in_bin\": 7,\n",
        "    \"colsample_bytree\": 0.8,\n",
        "    \"subsample\": 0.6,\n",
        "    \"subsample_freq\": 5,\n",
        "    \"n_estimators\": 8000,\n",
        "}"
      ],
      "execution_count": null,
      "outputs": []
    },
    {
      "cell_type": "markdown",
      "metadata": {
        "papermill": {
          "duration": 0.088998,
          "end_time": "2021-05-17T13:32:34.346650",
          "exception": false,
          "start_time": "2021-05-17T13:32:34.257652",
          "status": "completed"
        },
        "tags": [],
        "id": "v6lOZYEW01e0"
      },
      "source": [
        "Fit the booster using early stopping with the validation set"
      ]
    },
    {
      "cell_type": "code",
      "metadata": {
        "execution": {
          "iopub.execute_input": "2021-05-17T13:32:34.530317Z",
          "iopub.status.busy": "2021-05-17T13:32:34.529366Z",
          "iopub.status.idle": "2021-05-17T13:54:51.761980Z",
          "shell.execute_reply": "2021-05-17T13:54:51.762470Z"
        },
        "papermill": {
          "duration": 1337.325664,
          "end_time": "2021-05-17T13:54:51.762681",
          "exception": false,
          "start_time": "2021-05-17T13:32:34.437017",
          "status": "completed"
        },
        "scrolled": true,
        "tags": [],
        "id": "ZX3WY8-p01e0",
        "outputId": "8cdafb40-d791-469f-df21-461ea0215cc4"
      },
      "source": [
        "categoricals = [\n",
        "    \"item_category_id\",\n",
        "    \"month\",\n",
        "]  # These features will be set as categorical features by LightGBM and handled differently\n",
        "\n",
        "lgbooster = fit_booster(\n",
        "    X_train,\n",
        "    y_train,\n",
        "    X_valid,\n",
        "    y_valid,\n",
        "    params=params,\n",
        "    test_run=False,\n",
        "    categoricals=categoricals,\n",
        ")"
      ],
      "execution_count": null,
      "outputs": [
        {
          "output_type": "stream",
          "text": [
            "Training until validation scores don't improve for 30 rounds\n",
            "[100]\ttraining's rmse: 0.829554\ttraining's l2: 0.68816\tvalid_1's rmse: 0.777984\tvalid_1's l2: 0.605259\n",
            "[200]\ttraining's rmse: 0.717567\ttraining's l2: 0.514902\tvalid_1's rmse: 0.723171\tvalid_1's l2: 0.522977\n",
            "[300]\ttraining's rmse: 0.675674\ttraining's l2: 0.456535\tvalid_1's rmse: 0.712217\tvalid_1's l2: 0.507252\n",
            "[400]\ttraining's rmse: 0.651226\ttraining's l2: 0.424096\tvalid_1's rmse: 0.710053\tvalid_1's l2: 0.504175\n",
            "[500]\ttraining's rmse: 0.633816\ttraining's l2: 0.401723\tvalid_1's rmse: 0.70836\tvalid_1's l2: 0.501774\n",
            "[600]\ttraining's rmse: 0.620665\ttraining's l2: 0.385225\tvalid_1's rmse: 0.707774\tvalid_1's l2: 0.500944\n",
            "[700]\ttraining's rmse: 0.610093\ttraining's l2: 0.372214\tvalid_1's rmse: 0.707478\tvalid_1's l2: 0.500525\n",
            "Early stopping, best iteration is:\n",
            "[674]\ttraining's rmse: 0.612644\ttraining's l2: 0.375333\tvalid_1's rmse: 0.707396\tvalid_1's l2: 0.500409\n"
          ],
          "name": "stdout"
        }
      ]
    },
    {
      "cell_type": "markdown",
      "metadata": {
        "papermill": {
          "duration": 0.093413,
          "end_time": "2021-05-17T13:54:51.950239",
          "exception": false,
          "start_time": "2021-05-17T13:54:51.856826",
          "status": "completed"
        },
        "tags": [],
        "id": "NJPK8z3O01e0"
      },
      "source": [
        "Plot the feature importances ranked by error reduction on the training set."
      ]
    },
    {
      "cell_type": "code",
      "metadata": {
        "execution": {
          "iopub.execute_input": "2021-05-17T13:54:52.169347Z",
          "iopub.status.busy": "2021-05-17T13:54:52.168344Z",
          "iopub.status.idle": "2021-05-17T13:54:53.670883Z",
          "shell.execute_reply": "2021-05-17T13:54:53.671486Z"
        },
        "papermill": {
          "duration": 1.60283,
          "end_time": "2021-05-17T13:54:53.671686",
          "exception": false,
          "start_time": "2021-05-17T13:54:52.068856",
          "status": "completed"
        },
        "tags": [],
        "id": "Q4f2Og7g01e0",
        "outputId": "3c537d6d-cbea-44de-c107-d7ba1ee4c553"
      },
      "source": [
        "_ = lgbm.plot_importance(lgbooster, figsize=(10,50), height=0.7, importance_type=\"gain\", max_num_features=50)"
      ],
      "execution_count": null,
      "outputs": [
        {
          "output_type": "display_data",
          "data": {
            "image/png": "[encoded data removed]",
            "text/plain": [
              "<Figure size 720x3600 with 1 Axes>"
            ]
          },
          "metadata": {
            "tags": []
          }
        }
      ]
    },
    {
      "cell_type": "markdown",
      "metadata": {
        "papermill": {
          "duration": 0.103329,
          "end_time": "2021-05-17T13:54:54.035884",
          "exception": false,
          "start_time": "2021-05-17T13:54:53.932555",
          "status": "completed"
        },
        "tags": [],
        "id": "nKD82MxM01e0"
      },
      "source": [
        "Save the trained model"
      ]
    },
    {
      "cell_type": "markdown",
      "metadata": {
        "papermill": {
          "duration": 0.103757,
          "end_time": "2021-05-17T13:54:57.123213",
          "exception": false,
          "start_time": "2021-05-17T13:54:57.019456",
          "status": "completed"
        },
        "tags": [],
        "id": "sQGBONtO01e1"
      },
      "source": [
        "# Create the test submission  \n",
        "Split the test items from the data matrix and use the trained model to predict the target."
      ]
    },
    {
      "cell_type": "code",
      "metadata": {
        "id": "FtbUwijn01e1"
      },
      "source": [
        "prediction = lgbooster.predict(X_test)\n",
        "prediction_lgbooster = prediction\n",
        "\n",
        "submission = pd.DataFrame({\n",
        "    \"ID\": np.arange(prediction.shape[0]), \n",
        "    \"item_cnt_month\": prediction.clip(0, 20)\n",
        "})\n",
        "submission.to_csv('submission_lgbm_test.csv', index=False) # public score 0.84669"
      ],
      "execution_count": null,
      "outputs": []
    },
    {
      "cell_type": "markdown",
      "metadata": {
        "id": "Nkwe0PNz01e1"
      },
      "source": [
        "### Catboost"
      ]
    },
    {
      "cell_type": "code",
      "metadata": {
        "id": "w2p_2mer01e1",
        "outputId": "5053db06-bdfb-4522-cc11-db4089e5e0f7"
      },
      "source": [
        "%%time\n",
        "from catboost import CatBoostRegressor\n",
        "from sklearn.metrics import mean_squared_error\n",
        "\n",
        "model_catboost = CatBoostRegressor(verbose=False, random_seed=566)\n",
        "\n",
        "\n",
        "model_catboost.fit(X_train,y_train);\n",
        "prediction_catboost = model_catboost.predict(X_valid)\n",
        "print(mean_squared_error(y_valid, prediction_catboost, squared=False))"
      ],
      "execution_count": null,
      "outputs": [
        {
          "output_type": "stream",
          "text": [
            "0.7818423924242837\n",
            "Wall time: 25min 44s\n"
          ],
          "name": "stdout"
        }
      ]
    },
    {
      "cell_type": "code",
      "metadata": {
        "id": "fZ-17r1L01e1"
      },
      "source": [
        "# prediction = model_catboost.predict(X_test)\n",
        "# prediction_catboost = prediction\n",
        "\n",
        "# submission = pd.DataFrame({\n",
        "#     \"ID\": np.arange(prediction.shape[0]), \n",
        "#     \"item_cnt_month\": prediction.clip(0, 20)\n",
        "# })\n",
        "# submission.to_csv('submission_catboost.csv', index=False)"
      ],
      "execution_count": null,
      "outputs": []
    },
    {
      "cell_type": "markdown",
      "metadata": {
        "id": "S3BUlKoQ01e1"
      },
      "source": [
        "## Ensemble based on different models\n",
        "\n",
        "### Meta features"
      ]
    },
    {
      "cell_type": "code",
      "metadata": {
        "id": "5ZdcMUZO01e1",
        "outputId": "7ebd7ff4-07c7-43b7-f571-0feb4ed4709d"
      },
      "source": [
        "%%time\n",
        "models = [lgbooster, model_catboost]\n",
        "\n",
        "meta_X_train = [model.predict(X_valid) for model in models]\n",
        "\n",
        "meta_X_train[1] = meta_X_train[1].flatten()\n",
        "\n",
        "meta_X_train = np.array(meta_X_train).T\n",
        "\n",
        "meta_X_test = [model.predict(X_test) for model in models]\n",
        "\n",
        "meta_X_test[1] = meta_X_test[1].flatten()\n",
        "\n",
        "meta_X_test = np.array(meta_X_test).T\n",
        "\n",
        "meta_y_train = y_valid"
      ],
      "execution_count": null,
      "outputs": [
        {
          "output_type": "stream",
          "text": [
            "Wall time: 22.6 s\n"
          ],
          "name": "stdout"
        }
      ]
    },
    {
      "cell_type": "markdown",
      "metadata": {
        "id": "XMNMGfuP01e1"
      },
      "source": [
        "### Simple convex mix\n",
        "\n",
        "### Two models"
      ]
    },
    {
      "cell_type": "code",
      "metadata": {
        "id": "WVma5nt401e1",
        "outputId": "f20e08f6-fea5-4ba1-dabd-802a036425c9"
      },
      "source": [
        "from sklearn.metrics import mean_squared_error\n",
        "\n",
        "# choose models \n",
        "model_index = [0,1]  \n",
        "\n",
        "alphas_to_try = np.linspace(0, 1, 1001)\n",
        "rmse_scores = np.empty_like(alphas_to_try)\n",
        "\n",
        "for ind, alpha in enumerate(alphas_to_try):\n",
        "    simple_mix_pred = alpha * meta_X_train[:,model_index[0]] + (1 - alpha) * meta_X_train[:,model_index[1]]\n",
        "    rmse_scores[ind] = mean_squared_error(meta_y_train, simple_mix_pred, squared=False)\n",
        "\n",
        "\n",
        "best_alpha = alphas_to_try[np.argmin(rmse_scores)]\n",
        "rmse_train_simple_mix = np.min(rmse_scores) \n",
        "\n",
        "print('Best alpha: %f; Corresponding rmse score on train: %f' % (best_alpha, rmse_train_simple_mix))"
      ],
      "execution_count": null,
      "outputs": [
        {
          "output_type": "stream",
          "text": [
            "Best alpha: 1.000000; Corresponding rmse score on train: 0.707396\n"
          ],
          "name": "stdout"
        }
      ]
    },
    {
      "cell_type": "code",
      "metadata": {
        "id": "cZ40rD3N01e2"
      },
      "source": [
        "# remember that meta_X_test is a prediction for a model for X_test\n",
        "meta_prediction = best_alpha * meta_X_test[:,model_index[0]] + (1 - best_alpha) * meta_X_test[:,model_index[1]]\n",
        "submission = pd.DataFrame({\n",
        "    \"ID\": np.arange(meta_prediction.shape[0]), \n",
        "    \"item_cnt_month\": meta_prediction.clip(0, 20).flatten()\n",
        "})\n",
        "submission.to_csv('submission_meta_simple_mix_lgbm_cat2.csv', index=False) # public score 0.84669"
      ],
      "execution_count": null,
      "outputs": []
    },
    {
      "cell_type": "code",
      "metadata": {
        "id": "tCZyisA401e2"
      },
      "source": [
        ""
      ],
      "execution_count": null,
      "outputs": []
    }
  ]
}