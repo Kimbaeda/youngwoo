{
  "nbformat": 4,
  "nbformat_minor": 0,
  "metadata": {
    "colab": {
      "name": "[백준 2606] 바이러스.ipynb",
      "provenance": [],
      "collapsed_sections": [],
      "authorship_tag": "ABX9TyOmssoF14s1g+DuSyZNzN0j",
      "include_colab_link": true
    },
    "kernelspec": {
      "name": "python3",
      "display_name": "Python 3"
    },
    "language_info": {
      "name": "python"
    }
  },
  "cells": [
    {
      "cell_type": "markdown",
      "metadata": {
        "id": "view-in-github",
        "colab_type": "text"
      },
      "source": [
        "<a href=\"https://colab.research.google.com/github/Kimbaeda/youngwoo/blob/main/%5B%EB%B0%B1%EC%A4%80_2606%5D_%EB%B0%94%EC%9D%B4%EB%9F%AC%EC%8A%A4.ipynb\" target=\"_parent\"><img src=\"https://colab.research.google.com/assets/colab-badge.svg\" alt=\"Open In Colab\"/></a>"
      ]
    },
    {
      "cell_type": "code",
      "metadata": {
        "colab": {
          "base_uri": "https://localhost:8080/"
        },
        "id": "MGlJo3X3OJMK",
        "outputId": "ebf884b1-cb1d-4554-c088-fdda5dabf26c"
      },
      "source": [
        "import sys\n",
        "# input = sys.stdin.readline\n",
        "\n",
        "def dfs(V):\n",
        "    visit_list[V]=1 #방문한 점 1로 표시\n",
        "    global count\n",
        "    count += 1\n",
        "    # print(V, end=' ')\n",
        "    \n",
        "    for i in range(1,N+1):\n",
        "        if(visit_list[i]==0 and matrix[V][i]==1):\n",
        "            dfs(i)\n",
        "\n",
        "count = -1\n",
        "\n",
        "N = int(input())\n",
        "M = int(input())\n",
        "\n",
        "matrix=[[0]*(N+1) for i in range(N+1)]\n",
        "for i in range(M):\n",
        "    a,b = map(int,input().split())\n",
        "    matrix[a][b]=matrix[b][a]=1\n",
        "visit_list=[0]*(N+1)\n",
        "\n",
        "dfs(1)\n",
        "# print()\n",
        "print(count)"
      ],
      "execution_count": null,
      "outputs": [
        {
          "output_type": "stream",
          "text": [
            "7\n",
            "6\n",
            "1 2\n",
            "2 3\n",
            "1 5\n",
            "5 2\n",
            "5 6\n",
            "4 7\n",
            "4\n"
          ],
          "name": "stdout"
        }
      ]
    },
    {
      "cell_type": "code",
      "metadata": {
        "id": "oy2DbgZrOaQ9"
      },
      "source": [
        ""
      ],
      "execution_count": null,
      "outputs": []
    }
  ]
}