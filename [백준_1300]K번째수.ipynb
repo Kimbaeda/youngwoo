{
  "nbformat": 4,
  "nbformat_minor": 0,
  "metadata": {
    "colab": {
      "name": "[백준 1300]K번째수.ipynb",
      "provenance": [],
      "authorship_tag": "ABX9TyM0CygMzkE2EI43Q8aweuKD",
      "include_colab_link": true
    },
    "kernelspec": {
      "name": "python3",
      "display_name": "Python 3"
    },
    "language_info": {
      "name": "python"
    }
  },
  "cells": [
    {
      "cell_type": "markdown",
      "metadata": {
        "id": "view-in-github",
        "colab_type": "text"
      },
      "source": [
        "<a href=\"https://colab.research.google.com/github/Kimbaeda/youngwoo/blob/main/%5B%EB%B0%B1%EC%A4%80_1300%5DK%EB%B2%88%EC%A7%B8%EC%88%98.ipynb\" target=\"_parent\"><img src=\"https://colab.research.google.com/assets/colab-badge.svg\" alt=\"Open In Colab\"/></a>"
      ]
    },
    {
      "cell_type": "code",
      "metadata": {
        "colab": {
          "base_uri": "https://localhost:8080/"
        },
        "id": "i7fdT2Pck2wt",
        "outputId": "bffef7bb-d66f-48bd-a930-2457eff0a625"
      },
      "source": [
        "n,k = int(input()), int(input())\n",
        "s,e = 1,k\n",
        "res = 0\n",
        "while s<=e:\n",
        "    m = (s+e)//2\n",
        "    tmp=0\n",
        "    for i in range(1,n+1):\n",
        "        tmp += min(m//i, n)\n",
        "    \n",
        "    if tmp < k:\n",
        "        s = m + 1\n",
        "    else:\n",
        "        res = m\n",
        "        e = m - 1\n",
        "print(res)"
      ],
      "execution_count": 1,
      "outputs": [
        {
          "output_type": "stream",
          "text": [
            "3\n",
            "7\n",
            "6\n"
          ],
          "name": "stdout"
        }
      ]
    },
    {
      "cell_type": "code",
      "metadata": {
        "id": "IxXhbH2rk33y"
      },
      "source": [
        ""
      ],
      "execution_count": null,
      "outputs": []
    }
  ]
}