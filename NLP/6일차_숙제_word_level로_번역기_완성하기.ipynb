{
  "nbformat": 4,
  "nbformat_minor": 0,
  "metadata": {
    "colab": {
      "name": "6일차 숙제-word-level로 번역기 완성하기.ipynb",
      "provenance": [],
      "collapsed_sections": [],
      "toc_visible": true,
      "mount_file_id": "1aL-MpOIGe9O2cdd02z-6MmDU3JrCqA7l",
      "authorship_tag": "ABX9TyOR9QxtcgSk2vmIbI8I7ATm",
      "include_colab_link": true
    },
    "kernelspec": {
      "name": "python3",
      "display_name": "Python 3"
    },
    "language_info": {
      "name": "python"
    }
  },
  "cells": [
    {
      "cell_type": "markdown",
      "metadata": {
        "id": "view-in-github",
        "colab_type": "text"
      },
      "source": [
        "<a href=\"https://colab.research.google.com/github/Kimbaeda/youngwoo/blob/main/6%EC%9D%BC%EC%B0%A8_%EC%88%99%EC%A0%9C_word_level%EB%A1%9C_%EB%B2%88%EC%97%AD%EA%B8%B0_%EC%99%84%EC%84%B1%ED%95%98%EA%B8%B0.ipynb\" target=\"_parent\"><img src=\"https://colab.research.google.com/assets/colab-badge.svg\" alt=\"Open In Colab\"/></a>"
      ]
    },
    {
      "cell_type": "code",
      "metadata": {
        "id": "fB5K6bGK1SFf"
      },
      "source": [
        "import numpy as np\n",
        "import re\n",
        "import tensorflow as tf\n",
        "from tensorflow.keras.preprocessing.text import Tokenizer\n",
        "from tensorflow.keras.preprocessing.sequence import pad_sequences"
      ],
      "execution_count": null,
      "outputs": []
    },
    {
      "cell_type": "code",
      "metadata": {
        "colab": {
          "base_uri": "https://localhost:8080/",
          "height": 204
        },
        "id": "5JksuAnB1Zwr",
        "outputId": "e6da720d-0efb-48c2-e776-a214b39ec243"
      },
      "source": [
        "import os\n",
        "import pandas as pd\n",
        "file_path = '/content/drive/MyDrive/Colab Notebooks/자연어처리/fra.txt'\n",
        "lines = pd.read_csv(file_path, names=['eng', 'fra', 'cc'], sep='\\t')\n",
        "lines.head()"
      ],
      "execution_count": null,
      "outputs": [
        {
          "output_type": "execute_result",
          "data": {
            "text/html": [
              "<div>\n",
              "<style scoped>\n",
              "    .dataframe tbody tr th:only-of-type {\n",
              "        vertical-align: middle;\n",
              "    }\n",
              "\n",
              "    .dataframe tbody tr th {\n",
              "        vertical-align: top;\n",
              "    }\n",
              "\n",
              "    .dataframe thead th {\n",
              "        text-align: right;\n",
              "    }\n",
              "</style>\n",
              "<table border=\"1\" class=\"dataframe\">\n",
              "  <thead>\n",
              "    <tr style=\"text-align: right;\">\n",
              "      <th></th>\n",
              "      <th>eng</th>\n",
              "      <th>fra</th>\n",
              "      <th>cc</th>\n",
              "    </tr>\n",
              "  </thead>\n",
              "  <tbody>\n",
              "    <tr>\n",
              "      <th>0</th>\n",
              "      <td>Go.</td>\n",
              "      <td>Va !</td>\n",
              "      <td>CC-BY 2.0 (France) Attribution: tatoeba.org #2...</td>\n",
              "    </tr>\n",
              "    <tr>\n",
              "      <th>1</th>\n",
              "      <td>Go.</td>\n",
              "      <td>Marche.</td>\n",
              "      <td>CC-BY 2.0 (France) Attribution: tatoeba.org #2...</td>\n",
              "    </tr>\n",
              "    <tr>\n",
              "      <th>2</th>\n",
              "      <td>Go.</td>\n",
              "      <td>Bouge !</td>\n",
              "      <td>CC-BY 2.0 (France) Attribution: tatoeba.org #2...</td>\n",
              "    </tr>\n",
              "    <tr>\n",
              "      <th>3</th>\n",
              "      <td>Hi.</td>\n",
              "      <td>Salut !</td>\n",
              "      <td>CC-BY 2.0 (France) Attribution: tatoeba.org #5...</td>\n",
              "    </tr>\n",
              "    <tr>\n",
              "      <th>4</th>\n",
              "      <td>Hi.</td>\n",
              "      <td>Salut.</td>\n",
              "      <td>CC-BY 2.0 (France) Attribution: tatoeba.org #5...</td>\n",
              "    </tr>\n",
              "  </tbody>\n",
              "</table>\n",
              "</div>"
            ],
            "text/plain": [
              "   eng      fra                                                 cc\n",
              "0  Go.     Va !  CC-BY 2.0 (France) Attribution: tatoeba.org #2...\n",
              "1  Go.  Marche.  CC-BY 2.0 (France) Attribution: tatoeba.org #2...\n",
              "2  Go.  Bouge !  CC-BY 2.0 (France) Attribution: tatoeba.org #2...\n",
              "3  Hi.  Salut !  CC-BY 2.0 (France) Attribution: tatoeba.org #5...\n",
              "4  Hi.   Salut.  CC-BY 2.0 (France) Attribution: tatoeba.org #5..."
            ]
          },
          "metadata": {
            "tags": []
          },
          "execution_count": 6
        }
      ]
    },
    {
      "cell_type": "markdown",
      "metadata": {
        "id": "d9p1yRox5YIy"
      },
      "source": [
        "## 데이터 로드 및 전처리"
      ]
    },
    {
      "cell_type": "code",
      "metadata": {
        "id": "xwpOYA853iSM"
      },
      "source": [
        "def preprocess_sentence(sent):\n",
        "    # 소문자로 변경\n",
        "    sent = sent.lower()\n",
        "\n",
        "    # 단어와 구두점 사이에 공백을 만듭니다.\n",
        "    # Ex) \"he is a boy.\" => \"he is a boy .\"\n",
        "    sent = re.sub(r\"([?.!,¿])\", r\" \\1\", sent)\n",
        "\n",
        "    # (a-z, A-Z, \".\", \"?\", \"!\", \",\") 이들을 제외하고는 전부 공백으로 변환합니다.\n",
        "    sent = re.sub(r\"[^a-zA-Z!.?]+\", r\" \", sent)\n",
        "\n",
        "    sent = re.sub(r\"\\s+\", \" \", sent)\n",
        "    return sent"
      ],
      "execution_count": null,
      "outputs": []
    },
    {
      "cell_type": "code",
      "metadata": {
        "colab": {
          "base_uri": "https://localhost:8080/"
        },
        "id": "tTH05Ytm4aiO",
        "outputId": "8cc417cb-af5b-4c97-e849-11c3e94d2b11"
      },
      "source": [
        "# 전처리 테스트\n",
        "en_sent = u\"Have you had dinner?\"\n",
        "fr_sent = u\"Avez-vous déjà diné?\"\n",
        "print(preprocess_sentence(en_sent))\n",
        "print(preprocess_sentence(fr_sent))"
      ],
      "execution_count": null,
      "outputs": [
        {
          "output_type": "stream",
          "text": [
            "have you had dinner ?\n",
            "avez vous d j din ?\n"
          ],
          "name": "stdout"
        }
      ]
    },
    {
      "cell_type": "code",
      "metadata": {
        "id": "rJBXFlfG4gN3"
      },
      "source": [
        "# 총 33,000개의 샘플을 사용\n",
        "num_samples = 33000"
      ],
      "execution_count": null,
      "outputs": []
    },
    {
      "cell_type": "code",
      "metadata": {
        "id": "gzRBlv3m4yKv"
      },
      "source": [
        "def load_preprocessed_data():\n",
        "    encoder_input, decoder_input, decoder_target = [], [], []\n",
        "\n",
        "    with open(\"/content/drive/MyDrive/Colab Notebooks/자연어처리/fra.txt\", \"r\") as lines:\n",
        "        for i, line in enumerate(lines):\n",
        "\n",
        "            # source 데이터와 target 데이터 분리\n",
        "            src_line, tar_line, _ = line.strip().split('\\t')\n",
        "\n",
        "            # source 데이터 전처리\n",
        "            src_line_input = [w for w in preprocess_sentence(src_line).split()]\n",
        "\n",
        "            # target 데이터 전처리\n",
        "            tar_line = preprocess_sentence(tar_line)\n",
        "            tar_line_input = [w for w in (\"<sos> \" + tar_line).split()]\n",
        "            tar_line_target = [w for w in (tar_line + \" <eos>\").split()]\n",
        "\n",
        "            encoder_input.append(src_line_input)\n",
        "            decoder_input.append(tar_line_input)\n",
        "            decoder_target.append(tar_line_target)\n",
        "\n",
        "            if i == num_samples - 1:\n",
        "                break\n",
        "\n",
        "    return encoder_input, decoder_input, decoder_target"
      ],
      "execution_count": null,
      "outputs": []
    },
    {
      "cell_type": "code",
      "metadata": {
        "colab": {
          "base_uri": "https://localhost:8080/"
        },
        "id": "-_VNn7Bm4810",
        "outputId": "fee7bbba-7753-4df3-a98a-d4c452b41e88"
      },
      "source": [
        "# 인코더의 입력, 디코더의 입력, 디코더의 실제값을 상위 5개 샘플만 출력\n",
        "sents_en_in, sents_fra_in, sents_fra_out = load_preprocessed_data()\n",
        "print(sents_en_in[:5])\n",
        "print(sents_fra_in[:5])\n",
        "print(sents_fra_out[:5])"
      ],
      "execution_count": null,
      "outputs": [
        {
          "output_type": "stream",
          "text": [
            "[['go', '.'], ['go', '.'], ['go', '.'], ['hi', '.'], ['hi', '.']]\n",
            "[['<sos>', 'va', '!'], ['<sos>', 'marche', '.'], ['<sos>', 'bouge', '!'], ['<sos>', 'salut', '!'], ['<sos>', 'salut', '.']]\n",
            "[['va', '!', '<eos>'], ['marche', '.', '<eos>'], ['bouge', '!', '<eos>'], ['salut', '!', '<eos>'], ['salut', '.', '<eos>']]\n"
          ],
          "name": "stdout"
        }
      ]
    },
    {
      "cell_type": "code",
      "metadata": {
        "id": "piK7f4d54_AT"
      },
      "source": [
        "# 케라스 토크나이저를 통해 단어 집합을 생성하고, 텍스트 시퀀스를 정수 시퀀스로 변환하는 정수 인코딩 과정\n",
        "\n",
        "tokenizer_en = Tokenizer(filters=\"\", lower=False)\n",
        "tokenizer_en.fit_on_texts(sents_en_in)\n",
        "encoder_input = tokenizer_en.texts_to_sequences(sents_en_in)\n",
        "\n",
        "tokenizer_fra = Tokenizer(filters=\"\", lower=False)\n",
        "tokenizer_fra.fit_on_texts(sents_fra_in)\n",
        "tokenizer_fra.fit_on_texts(sents_fra_out)\n",
        "decoder_input = tokenizer_fra.texts_to_sequences(sents_fra_in)\n",
        "decoder_target = tokenizer_fra.texts_to_sequences(sents_fra_out)"
      ],
      "execution_count": null,
      "outputs": []
    },
    {
      "cell_type": "code",
      "metadata": {
        "id": "1bOU8fVT5RxM"
      },
      "source": [
        "# 패딩을 수행\n",
        "\n",
        "encoder_input = pad_sequences(encoder_input, padding=\"post\")\n",
        "decoder_input = pad_sequences(decoder_input, padding=\"post\")\n",
        "decoder_target = pad_sequences(decoder_target, padding=\"post\")"
      ],
      "execution_count": null,
      "outputs": []
    },
    {
      "cell_type": "code",
      "metadata": {
        "colab": {
          "base_uri": "https://localhost:8080/"
        },
        "id": "Xd-vxAAg5k8G",
        "outputId": "a1383c35-f052-457d-bdbe-ebc52692c3aa"
      },
      "source": [
        "# 데이터의 크기(shape) 확인\n",
        "\n",
        "print(encoder_input.shape)\n",
        "print(decoder_input.shape)\n",
        "print(decoder_target.shape)"
      ],
      "execution_count": null,
      "outputs": [
        {
          "output_type": "stream",
          "text": [
            "(33000, 8)\n",
            "(33000, 16)\n",
            "(33000, 16)\n"
          ],
          "name": "stdout"
        }
      ]
    },
    {
      "cell_type": "code",
      "metadata": {
        "id": "teWuAsdkA3yz"
      },
      "source": [
        "# 샘플은 총 33,000개 존재하며 영어 문장의 길이는 8, 프랑스어 문장의 길이는 16"
      ],
      "execution_count": null,
      "outputs": []
    },
    {
      "cell_type": "code",
      "metadata": {
        "colab": {
          "base_uri": "https://localhost:8080/"
        },
        "id": "SUNNbHzp5oYF",
        "outputId": "d79e3a21-c533-4b46-8e66-d9507d1bc686"
      },
      "source": [
        "# 단어 집합의 크기 정의\n",
        "\n",
        "eng_vocab_size = len(tokenizer_en.word_index) + 1\n",
        "fra_vocab_size = len(tokenizer_fra.word_index) + 1\n",
        "print(\"영어 단어 집합의 크기 : {:d}, 프랑스어 단어 집합의 크기 : {:d}\".format(eng_vocab_size, fra_vocab_size))"
      ],
      "execution_count": null,
      "outputs": [
        {
          "output_type": "stream",
          "text": [
            "영어 단어 집합의 크기 : 4583, 프랑스어 단어 집합의 크기 : 7414\n"
          ],
          "name": "stdout"
        }
      ]
    },
    {
      "cell_type": "code",
      "metadata": {
        "id": "v-aYXxEW8wQS"
      },
      "source": [
        "# 단어로부터 정수를 얻는 딕셔너리와 정수로부터 단어를 얻는 딕셔너리를 각각 만들어줍니다.\n",
        "\n",
        "eng_to_index = tokenizer_en.word_index\n",
        "index_to_eng = tokenizer_en.index_word # 훈련 후 결과 비교할 때 사용\n",
        "\n",
        "fra_to_index = tokenizer_fra.word_index # 훈련 후 예측 과정에서 사용\n",
        "index_to_fra = tokenizer_fra.index_word # 훈련 후 결과 비교할 때 사용"
      ],
      "execution_count": null,
      "outputs": []
    },
    {
      "cell_type": "code",
      "metadata": {
        "colab": {
          "base_uri": "https://localhost:8080/"
        },
        "id": "Ie6rI9mF9FfE",
        "outputId": "ffd3016d-e391-494d-a59a-b047768c6042"
      },
      "source": [
        "# 테스트 데이터를 분리하기 전에, 적절한 분포를 갖도록 데이터를 섞어주는 과정을 진행\n",
        "indices = np.arange(encoder_input.shape[0])\n",
        "np.random.shuffle(indices)\n",
        "print(indices)"
      ],
      "execution_count": null,
      "outputs": [
        {
          "output_type": "stream",
          "text": [
            "[ 3008 19369 32509 ... 10687 11970 11210]\n"
          ],
          "name": "stdout"
        }
      ]
    },
    {
      "cell_type": "code",
      "metadata": {
        "id": "TIXkqLhk9Q83"
      },
      "source": [
        "# 이를 데이터셋의 순서로 지정해주면 샘플들이 기존 순서와 다른 순서로 섞임\n",
        "\n",
        "encoder_input = encoder_input[indices]\n",
        "decoder_input = decoder_input[indices]\n",
        "decoder_target = decoder_target[indices]"
      ],
      "execution_count": null,
      "outputs": []
    },
    {
      "cell_type": "code",
      "metadata": {
        "colab": {
          "base_uri": "https://localhost:8080/"
        },
        "id": "GELBo2Is9VgB",
        "outputId": "206e6a54-6dd6-4b29-ba0c-c760edafab73"
      },
      "source": [
        "# 확인\n",
        "\n",
        "encoder_input[30997]"
      ],
      "execution_count": null,
      "outputs": [
        {
          "output_type": "execute_result",
          "data": {
            "text/plain": [
              "array([211,  83,  62,   1,   0,   0,   0,   0], dtype=int32)"
            ]
          },
          "metadata": {
            "tags": []
          },
          "execution_count": 25
        }
      ]
    },
    {
      "cell_type": "code",
      "metadata": {
        "colab": {
          "base_uri": "https://localhost:8080/"
        },
        "id": "oUJWVi2K9eMh",
        "outputId": "3fabc6dd-445a-43db-ed73-1928dde436a9"
      },
      "source": [
        "decoder_input[30997]"
      ],
      "execution_count": null,
      "outputs": [
        {
          "output_type": "execute_result",
          "data": {
            "text/plain": [
              "array([   2,  115, 1975,  535,   24,   13,    8,  122,   25,    1,    0,\n",
              "          0,    0,    0,    0,    0], dtype=int32)"
            ]
          },
          "metadata": {
            "tags": []
          },
          "execution_count": 26
        }
      ]
    },
    {
      "cell_type": "code",
      "metadata": {
        "colab": {
          "base_uri": "https://localhost:8080/"
        },
        "id": "g1SjPKAV9gAl",
        "outputId": "a30a4be3-88f0-4cbf-9343-89c456d714ed"
      },
      "source": [
        "decoder_target[30997]"
      ],
      "execution_count": null,
      "outputs": [
        {
          "output_type": "execute_result",
          "data": {
            "text/plain": [
              "array([ 115, 1975,  535,   24,   13,    8,  122,   25,    1,    3,    0,\n",
              "          0,    0,    0,    0,    0], dtype=int32)"
            ]
          },
          "metadata": {
            "tags": []
          },
          "execution_count": 27
        }
      ]
    },
    {
      "cell_type": "code",
      "metadata": {
        "id": "9_Se5f_T9iJA"
      },
      "source": [
        "# 115, 1975, 535, 24, 13, 8, 122, 25, 1이라는 동일 시퀀스를 확인했습니다. 이제 훈련 데이터의 10%를 테스트 데이터로 분리"
      ],
      "execution_count": null,
      "outputs": []
    },
    {
      "cell_type": "code",
      "metadata": {
        "colab": {
          "base_uri": "https://localhost:8080/"
        },
        "id": "ZkjzMoo99xYM",
        "outputId": "0668a097-b636-436b-e3c6-8b2a653e5f16"
      },
      "source": [
        "# num_samples = 33000\n",
        "\n",
        "n_of_val = int(33000*0.1)\n",
        "print(n_of_val)"
      ],
      "execution_count": null,
      "outputs": [
        {
          "output_type": "stream",
          "text": [
            "3300\n"
          ],
          "name": "stdout"
        }
      ]
    },
    {
      "cell_type": "code",
      "metadata": {
        "id": "mv8UNs5G9-RO"
      },
      "source": [
        "# 훈련 데이터의 10%를 테스트 데이터로 분리\n",
        "# 3,300개의 데이터를 테스트 데이터로 사용\n",
        "encoder_input_train = encoder_input[:-n_of_val]\n",
        "decoder_input_train = decoder_input[:-n_of_val]\n",
        "decoder_target_train = decoder_target[:-n_of_val]\n",
        "\n",
        "encoder_input_test = encoder_input[-n_of_val:]\n",
        "decoder_input_test = decoder_input[-n_of_val:]\n",
        "decoder_target_test = decoder_target[-n_of_val:]"
      ],
      "execution_count": null,
      "outputs": []
    },
    {
      "cell_type": "code",
      "metadata": {
        "colab": {
          "base_uri": "https://localhost:8080/"
        },
        "id": "BnhdOLzw-D1I",
        "outputId": "3bfd6a83-17a1-44d4-afa1-7677f8cfbbab"
      },
      "source": [
        "# 훈련 데이터와 테스트 데이터의 크기(shape)를 출력\n",
        "print(encoder_input_train.shape)\n",
        "print(decoder_input_train.shape)\n",
        "print(decoder_target_train.shape)\n",
        "print(encoder_input_test.shape)\n",
        "print(decoder_input_test.shape)\n",
        "print(decoder_target_test.shape)"
      ],
      "execution_count": null,
      "outputs": [
        {
          "output_type": "stream",
          "text": [
            "(29700, 8)\n",
            "(29700, 16)\n",
            "(29700, 16)\n",
            "(3300, 8)\n",
            "(3300, 16)\n",
            "(3300, 16)\n"
          ],
          "name": "stdout"
        }
      ]
    },
    {
      "cell_type": "code",
      "metadata": {
        "id": "Ase4rn62-ISq"
      },
      "source": [
        "# 훈련 데이터의 샘플은 29,700개, 테스트 데이터의 샘플은 3,300개가 존재함"
      ],
      "execution_count": null,
      "outputs": []
    },
    {
      "cell_type": "markdown",
      "metadata": {
        "id": "ut0_GNd6-YNG"
      },
      "source": [
        "## 기계 번역기 만들기"
      ]
    },
    {
      "cell_type": "code",
      "metadata": {
        "id": "gEPiKY8O-VU4"
      },
      "source": [
        "# 모델 설계를 위해 필요한 도구들을 임포트\n",
        "from tensorflow.keras.layers import Input, LSTM, Embedding, Dense, Masking\n",
        "from tensorflow.keras.models import Model"
      ],
      "execution_count": null,
      "outputs": []
    },
    {
      "cell_type": "code",
      "metadata": {
        "id": "2AVeL4Zo-gkq"
      },
      "source": [
        "# 임베딩 벡터와 LSTM의 은닉 상태의 크기를 특정 크기로 고정. 여기서는 50을 사용\n",
        "latent_dim = 50"
      ],
      "execution_count": null,
      "outputs": []
    },
    {
      "cell_type": "code",
      "metadata": {
        "id": "vSUnkd50-pTj"
      },
      "source": [
        "# 인코더를 설계. Masking은 패딩 토큰인 숫자 0의 경우에는 연산을 제외하는 역할을 수행\n",
        "# 인코더\n",
        "encoder_inputs = Input(shape=(None,))\n",
        "enc_emb =  Embedding(eng_vocab_size, latent_dim)(encoder_inputs) # 임베딩 층\n",
        "enc_masking = Masking(mask_value=0.0)(enc_emb) # 패딩 0은 연산에서 제외\n",
        "encoder_lstm = LSTM(latent_dim, return_state=True) # 상태값 리턴을 위해 return_state는 True\n",
        "encoder_outputs, state_h, state_c = encoder_lstm(enc_masking) # 은닉 상태와 셀 상태를 리턴\n",
        "encoder_states = [state_h, state_c] # 인코더의 은닉 상태와 셀 상태를 저장"
      ],
      "execution_count": null,
      "outputs": []
    },
    {
      "cell_type": "code",
      "metadata": {
        "id": "EqnPlUyo-1qn"
      },
      "source": [
        "# 디코더를 설계\n",
        "# 디코더\n",
        "decoder_inputs = Input(shape=(None,))\n",
        "dec_emb_layer = Embedding(fra_vocab_size, latent_dim) # 임베딩 층\n",
        "dec_emb = dec_emb_layer(decoder_inputs) # 패딩 0은 연산에서 제외\n",
        "dec_masking = Masking(mask_value=0.0)(dec_emb)\n",
        "\n",
        "# 상태값 리턴을 위해 return_state는 True, 모든 시점에 대해서 단어를 예측하기 위해 return_sequences는 True\n",
        "decoder_lstm = LSTM(latent_dim, return_sequences=True, return_state=True) \n",
        "\n",
        "# 인코더의 은닉 상태를 초기 은닉 상태(initial_state)로 사용\n",
        "decoder_outputs, _, _ = decoder_lstm(dec_masking,\n",
        "                                     initial_state=encoder_states)\n",
        "\n",
        "# 모든 시점의 결과에 대해서 소프트맥스 함수를 사용한 출력층을 통해 단어 예측\n",
        "decoder_dense = Dense(fra_vocab_size, activation='softmax')\n",
        "decoder_outputs = decoder_dense(decoder_outputs)"
      ],
      "execution_count": null,
      "outputs": []
    },
    {
      "cell_type": "code",
      "metadata": {
        "id": "_ssGVEu5_AwR"
      },
      "source": [
        "# 모델의 입력과 출력을 정의\n",
        "# 모델 정의\n",
        "\n",
        "model = Model([encoder_inputs, decoder_inputs], decoder_outputs)"
      ],
      "execution_count": null,
      "outputs": []
    },
    {
      "cell_type": "markdown",
      "metadata": {
        "id": "tLPeu6IL_XeL"
      },
      "source": [
        "categorical_crossentropy를 사용하려면 레이블은 원-핫 인코딩이 된 상태여야 합니다. 그런데 현재 decoder_outputs의 경우에는 원-핫 인코딩을 하지 않은 상태입니다. 원-핫 인코딩을 하지 않은 상태로, 정수 레이블에 대해서 다중 클래스 분류 문제를 풀고자 하는 경우에는 categorical_crossentropy함수가 아니라 sparse_categorical_crossentropy를 사용하면 됩니다. 이는 케라스에서 규정한 약속입니다."
      ]
    },
    {
      "cell_type": "code",
      "metadata": {
        "id": "bm8K8yKd_JLC"
      },
      "source": [
        "model.compile(optimizer='rmsprop', loss='sparse_categorical_crossentropy', metrics=['acc'])"
      ],
      "execution_count": null,
      "outputs": []
    },
    {
      "cell_type": "code",
      "metadata": {
        "colab": {
          "base_uri": "https://localhost:8080/"
        },
        "id": "puaHORvv_h4S",
        "outputId": "ceef5426-4842-4fec-c100-7d377dec9114"
      },
      "source": [
        "# 모델의 파라미터를 확인\n",
        "model.summary()"
      ],
      "execution_count": null,
      "outputs": [
        {
          "output_type": "stream",
          "text": [
            "Model: \"model\"\n",
            "__________________________________________________________________________________________________\n",
            "Layer (type)                    Output Shape         Param #     Connected to                     \n",
            "==================================================================================================\n",
            "input_1 (InputLayer)            [(None, None)]       0                                            \n",
            "__________________________________________________________________________________________________\n",
            "input_2 (InputLayer)            [(None, None)]       0                                            \n",
            "__________________________________________________________________________________________________\n",
            "embedding (Embedding)           (None, None, 50)     229150      input_1[0][0]                    \n",
            "__________________________________________________________________________________________________\n",
            "embedding_1 (Embedding)         (None, None, 50)     370700      input_2[0][0]                    \n",
            "__________________________________________________________________________________________________\n",
            "masking (Masking)               (None, None, 50)     0           embedding[0][0]                  \n",
            "__________________________________________________________________________________________________\n",
            "masking_1 (Masking)             (None, None, 50)     0           embedding_1[0][0]                \n",
            "__________________________________________________________________________________________________\n",
            "lstm (LSTM)                     [(None, 50), (None,  20200       masking[0][0]                    \n",
            "__________________________________________________________________________________________________\n",
            "lstm_1 (LSTM)                   [(None, None, 50), ( 20200       masking_1[0][0]                  \n",
            "                                                                 lstm[0][1]                       \n",
            "                                                                 lstm[0][2]                       \n",
            "__________________________________________________________________________________________________\n",
            "dense (Dense)                   (None, None, 7414)   378114      lstm_1[0][0]                     \n",
            "==================================================================================================\n",
            "Total params: 1,018,364\n",
            "Trainable params: 1,018,364\n",
            "Non-trainable params: 0\n",
            "__________________________________________________________________________________________________\n"
          ],
          "name": "stdout"
        }
      ]
    },
    {
      "cell_type": "code",
      "metadata": {
        "colab": {
          "base_uri": "https://localhost:8080/"
        },
        "id": "2CRpT287_ldY",
        "outputId": "5af0857a-c87b-468f-91f4-80354c1e3537"
      },
      "source": [
        "# 모델의 총 파라미터 개수는 1,018,364개\n",
        "# 128개의 배치 크기로 총 50 에포크 학습\n",
        "model.fit(x = [encoder_input_train, decoder_input_train], y = decoder_target_train, \\\n",
        "          validation_data = ([encoder_input_test, decoder_input_test], decoder_target_test),\n",
        "          batch_size = 128, epochs = 50)"
      ],
      "execution_count": null,
      "outputs": [
        {
          "output_type": "stream",
          "text": [
            "Epoch 1/50\n",
            "233/233 [==============================] - 95s 376ms/step - loss: 3.1392 - acc: 0.6083 - val_loss: 1.9326 - val_acc: 0.7136\n",
            "Epoch 2/50\n",
            "233/233 [==============================] - 86s 368ms/step - loss: 1.7421 - acc: 0.7262 - val_loss: 1.6493 - val_acc: 0.7371\n",
            "Epoch 3/50\n",
            "233/233 [==============================] - 85s 367ms/step - loss: 1.5675 - acc: 0.7443 - val_loss: 1.5428 - val_acc: 0.7476\n",
            "Epoch 4/50\n",
            "233/233 [==============================] - 85s 366ms/step - loss: 1.4739 - acc: 0.7561 - val_loss: 1.4744 - val_acc: 0.7631\n",
            "Epoch 5/50\n",
            "233/233 [==============================] - 85s 365ms/step - loss: 1.3831 - acc: 0.7758 - val_loss: 1.3848 - val_acc: 0.7810\n",
            "Epoch 6/50\n",
            "233/233 [==============================] - 85s 366ms/step - loss: 1.3107 - acc: 0.7876 - val_loss: 1.3238 - val_acc: 0.7897\n",
            "Epoch 7/50\n",
            "233/233 [==============================] - 85s 366ms/step - loss: 1.2549 - acc: 0.7954 - val_loss: 1.2824 - val_acc: 0.7955\n",
            "Epoch 8/50\n",
            "233/233 [==============================] - 85s 366ms/step - loss: 1.2066 - acc: 0.8029 - val_loss: 1.2365 - val_acc: 0.8029\n",
            "Epoch 9/50\n",
            "233/233 [==============================] - 85s 364ms/step - loss: 1.1643 - acc: 0.8085 - val_loss: 1.2073 - val_acc: 0.8055\n",
            "Epoch 10/50\n",
            "233/233 [==============================] - 85s 366ms/step - loss: 1.1277 - acc: 0.8135 - val_loss: 1.1805 - val_acc: 0.8120\n",
            "Epoch 11/50\n",
            "233/233 [==============================] - 85s 365ms/step - loss: 1.0950 - acc: 0.8178 - val_loss: 1.1568 - val_acc: 0.8144\n",
            "Epoch 12/50\n",
            "233/233 [==============================] - 85s 366ms/step - loss: 1.0661 - acc: 0.8218 - val_loss: 1.1463 - val_acc: 0.8142\n",
            "Epoch 13/50\n",
            "233/233 [==============================] - 85s 366ms/step - loss: 1.0398 - acc: 0.8248 - val_loss: 1.1221 - val_acc: 0.8179\n",
            "Epoch 14/50\n",
            "233/233 [==============================] - 85s 366ms/step - loss: 1.0156 - acc: 0.8278 - val_loss: 1.1047 - val_acc: 0.8206\n",
            "Epoch 15/50\n",
            "233/233 [==============================] - 85s 366ms/step - loss: 0.9936 - acc: 0.8307 - val_loss: 1.0731 - val_acc: 0.8237\n",
            "Epoch 16/50\n",
            "233/233 [==============================] - 85s 366ms/step - loss: 0.9731 - acc: 0.8332 - val_loss: 1.0609 - val_acc: 0.8248\n",
            "Epoch 17/50\n",
            "233/233 [==============================] - 86s 368ms/step - loss: 0.9540 - acc: 0.8356 - val_loss: 1.0576 - val_acc: 0.8260\n",
            "Epoch 18/50\n",
            "233/233 [==============================] - 85s 367ms/step - loss: 0.9366 - acc: 0.8382 - val_loss: 1.0551 - val_acc: 0.8263\n",
            "Epoch 19/50\n",
            "233/233 [==============================] - 85s 366ms/step - loss: 0.9204 - acc: 0.8402 - val_loss: 1.0326 - val_acc: 0.8286\n",
            "Epoch 20/50\n",
            "233/233 [==============================] - 85s 366ms/step - loss: 0.9052 - acc: 0.8423 - val_loss: 1.0247 - val_acc: 0.8291\n",
            "Epoch 21/50\n",
            "233/233 [==============================] - 85s 365ms/step - loss: 0.8908 - acc: 0.8442 - val_loss: 0.9991 - val_acc: 0.8339\n",
            "Epoch 22/50\n",
            "233/233 [==============================] - 85s 366ms/step - loss: 0.8767 - acc: 0.8462 - val_loss: 1.0066 - val_acc: 0.8312\n",
            "Epoch 23/50\n",
            "233/233 [==============================] - 85s 366ms/step - loss: 0.8634 - acc: 0.8481 - val_loss: 0.9969 - val_acc: 0.8330\n",
            "Epoch 24/50\n",
            "233/233 [==============================] - 85s 365ms/step - loss: 0.8507 - acc: 0.8498 - val_loss: 0.9727 - val_acc: 0.8377\n",
            "Epoch 25/50\n",
            "233/233 [==============================] - 85s 366ms/step - loss: 0.8379 - acc: 0.8516 - val_loss: 0.9715 - val_acc: 0.8370\n",
            "Epoch 26/50\n",
            "233/233 [==============================] - 85s 367ms/step - loss: 0.8259 - acc: 0.8536 - val_loss: 0.9711 - val_acc: 0.8370\n",
            "Epoch 27/50\n",
            "233/233 [==============================] - 85s 366ms/step - loss: 0.8144 - acc: 0.8551 - val_loss: 0.9582 - val_acc: 0.8387\n",
            "Epoch 28/50\n",
            "233/233 [==============================] - 85s 366ms/step - loss: 0.8034 - acc: 0.8570 - val_loss: 0.9616 - val_acc: 0.8383\n",
            "Epoch 29/50\n",
            "233/233 [==============================] - 85s 366ms/step - loss: 0.7930 - acc: 0.8587 - val_loss: 0.9549 - val_acc: 0.8383\n",
            "Epoch 30/50\n",
            "233/233 [==============================] - 85s 366ms/step - loss: 0.7823 - acc: 0.8603 - val_loss: 0.9500 - val_acc: 0.8403\n",
            "Epoch 31/50\n",
            "233/233 [==============================] - 85s 366ms/step - loss: 0.7718 - acc: 0.8621 - val_loss: 0.9378 - val_acc: 0.8423\n",
            "Epoch 32/50\n",
            "233/233 [==============================] - 85s 366ms/step - loss: 0.7615 - acc: 0.8640 - val_loss: 0.9257 - val_acc: 0.8431\n",
            "Epoch 33/50\n",
            "233/233 [==============================] - 85s 366ms/step - loss: 0.7519 - acc: 0.8655 - val_loss: 0.9257 - val_acc: 0.8436\n",
            "Epoch 34/50\n",
            "233/233 [==============================] - 85s 364ms/step - loss: 0.7424 - acc: 0.8669 - val_loss: 0.9426 - val_acc: 0.8401\n",
            "Epoch 35/50\n",
            "233/233 [==============================] - 85s 365ms/step - loss: 0.7330 - acc: 0.8686 - val_loss: 0.9150 - val_acc: 0.8442\n",
            "Epoch 36/50\n",
            "233/233 [==============================] - 85s 365ms/step - loss: 0.7246 - acc: 0.8702 - val_loss: 0.9249 - val_acc: 0.8424\n",
            "Epoch 37/50\n",
            "233/233 [==============================] - 85s 367ms/step - loss: 0.7171 - acc: 0.8714 - val_loss: 0.9059 - val_acc: 0.8458\n",
            "Epoch 38/50\n",
            "233/233 [==============================] - 85s 367ms/step - loss: 0.7097 - acc: 0.8730 - val_loss: 0.8974 - val_acc: 0.8487\n",
            "Epoch 39/50\n",
            "233/233 [==============================] - 85s 367ms/step - loss: 0.7026 - acc: 0.8743 - val_loss: 0.9064 - val_acc: 0.8454\n",
            "Epoch 40/50\n",
            "233/233 [==============================] - 86s 367ms/step - loss: 0.6960 - acc: 0.8754 - val_loss: 0.9002 - val_acc: 0.8485\n",
            "Epoch 41/50\n",
            "233/233 [==============================] - 85s 367ms/step - loss: 0.6899 - acc: 0.8767 - val_loss: 0.8883 - val_acc: 0.8503\n",
            "Epoch 42/50\n",
            "233/233 [==============================] - 86s 367ms/step - loss: 0.6837 - acc: 0.8779 - val_loss: 0.8917 - val_acc: 0.8496\n",
            "Epoch 43/50\n",
            "233/233 [==============================] - 86s 368ms/step - loss: 0.6779 - acc: 0.8793 - val_loss: 0.8854 - val_acc: 0.8509\n",
            "Epoch 44/50\n",
            "233/233 [==============================] - 86s 368ms/step - loss: 0.6722 - acc: 0.8806 - val_loss: 0.8914 - val_acc: 0.8492\n",
            "Epoch 45/50\n",
            "233/233 [==============================] - 86s 368ms/step - loss: 0.6668 - acc: 0.8813 - val_loss: 0.8806 - val_acc: 0.8519\n",
            "Epoch 46/50\n",
            "233/233 [==============================] - 86s 367ms/step - loss: 0.6615 - acc: 0.8828 - val_loss: 0.8877 - val_acc: 0.8508\n",
            "Epoch 47/50\n",
            "233/233 [==============================] - 86s 367ms/step - loss: 0.6561 - acc: 0.8836 - val_loss: 0.8782 - val_acc: 0.8523\n",
            "Epoch 48/50\n",
            "233/233 [==============================] - 85s 367ms/step - loss: 0.6514 - acc: 0.8846 - val_loss: 0.8818 - val_acc: 0.8527\n",
            "Epoch 49/50\n",
            "233/233 [==============================] - 85s 367ms/step - loss: 0.6465 - acc: 0.8856 - val_loss: 0.8752 - val_acc: 0.8532\n",
            "Epoch 50/50\n",
            "233/233 [==============================] - 86s 367ms/step - loss: 0.6421 - acc: 0.8864 - val_loss: 0.8782 - val_acc: 0.8525\n"
          ],
          "name": "stdout"
        },
        {
          "output_type": "execute_result",
          "data": {
            "text/plain": [
              "<tensorflow.python.keras.callbacks.History at 0x7f0e3e52f410>"
            ]
          },
          "metadata": {
            "tags": []
          },
          "execution_count": 41
        }
      ]
    },
    {
      "cell_type": "markdown",
      "metadata": {
        "id": "HYLi68ibQXtn"
      },
      "source": [
        "최종 에포크에서 훈련 데이터는 88%의 정확도를, 테스트 데이터에서는 85%의 정확도"
      ]
    },
    {
      "cell_type": "markdown",
      "metadata": {
        "id": "gdgvTWBh_-GR"
      },
      "source": [
        "## seq2seq 기계 번역기 동작시키기"
      ]
    },
    {
      "cell_type": "markdown",
      "metadata": {
        "id": "JxaMmccDBjpC"
      },
      "source": [
        "seq2seq는 훈련 과정과 테스트 과정에서의 동작 방식이 다릅니다. 그래서 테스트 과정을 위해 모델을 다시 설계해주어야 합니다. 특히 디코더를 많이 수정해야 합니다."
      ]
    },
    {
      "cell_type": "code",
      "metadata": {
        "id": "WJ91pG7z_4KR"
      },
      "source": [
        "# 테스트를 위해 모델 재설계\n",
        "# 인코더\n",
        "\n",
        "encoder_model = Model(encoder_inputs, encoder_states)"
      ],
      "execution_count": null,
      "outputs": []
    },
    {
      "cell_type": "code",
      "metadata": {
        "id": "Z-oTyVrqBmlZ"
      },
      "source": [
        "# 디코더\n",
        "# 이전 시점의 상태를 보관할 텐서\n",
        "decoder_state_input_h = Input(shape=(latent_dim,))\n",
        "decoder_state_input_c = Input(shape=(latent_dim,))\n",
        "decoder_states_inputs = [decoder_state_input_h, decoder_state_input_c]\n",
        "\n",
        "# 훈련 때 사용했던 임베딩 층을 재사용\n",
        "dec_emb2= dec_emb_layer(decoder_inputs)\n",
        "\n",
        "# 다음 단어 예측을 위해 이전 시점의 상태를 현 시점의 초기 상태로 사용\n",
        "decoder_outputs2, state_h2, state_c2 = decoder_lstm(dec_emb2, initial_state=decoder_states_inputs)\n",
        "decoder_states2 = [state_h2, state_c2]\n",
        "\n",
        "# 모든 시점에 대해서 단어 예측\n",
        "decoder_outputs2 = decoder_dense(decoder_outputs2)"
      ],
      "execution_count": null,
      "outputs": []
    },
    {
      "cell_type": "code",
      "metadata": {
        "id": "QMXKe6nmBzu5"
      },
      "source": [
        "# 테스트 과정을 위한 모델 설계\n",
        "\n",
        "decoder_model = Model(\n",
        "    [decoder_inputs] + decoder_states_inputs,\n",
        "    [decoder_outputs2] + decoder_states2)"
      ],
      "execution_count": null,
      "outputs": []
    },
    {
      "cell_type": "code",
      "metadata": {
        "id": "p_wC1gp_B3bu"
      },
      "source": [
        "# 테스트 과정에서의 동작을 위한 decode_sequence 함수를 구현\n",
        "\n",
        "def decode_sequence(input_seq):\n",
        "    # 입력으로부터 인코더의 상태를 얻음\n",
        "    states_value = encoder_model.predict(input_seq)\n",
        "\n",
        "    # <SOS>에 해당하는 정수 생성\n",
        "    target_seq = np.zeros((1,1))\n",
        "    target_seq[0, 0] = fra_to_index['<sos>']\n",
        "\n",
        "    stop_condition = False\n",
        "    decoded_sentence = ''\n",
        "\n",
        "    # stop_condition이 True가 될 때까지 루프 반복\n",
        "    # 구현의 간소화를 위해서 이 함수는 배치 크기를 1로 가정합니다.\n",
        "    while not stop_condition:\n",
        "        # 이점 시점의 상태 states_value를 현 시점의 초기 상태로 사용\n",
        "        output_tokens, h, c = decoder_model.predict([target_seq] + states_value)\n",
        "\n",
        "        # 예측 결과를 단어로 변환\n",
        "        sampled_token_index = np.argmax(output_tokens[0, -1, :])\n",
        "        sampled_char = index_to_fra[sampled_token_index]\n",
        "\n",
        "         # 현재 시점의 예측 단어를 예측 문장에 추가\n",
        "        decoded_sentence += ' '+sampled_char\n",
        "\n",
        "        # <eos>에 도달하거나 정해진 길이를 넘으면 중단.\n",
        "        if (sampled_char == '<eos>' or\n",
        "           len(decoded_sentence) > 50):\n",
        "            stop_condition = True\n",
        "\n",
        "        # 현재 시점의 예측 결과를 다음 시점의 입력으로 사용하기 위해 저장\n",
        "        target_seq = np.zeros((1,1))\n",
        "        target_seq[0, 0] = sampled_token_index\n",
        "\n",
        "        # 현재 시점의 상태를 다음 시점의 상태로 사용하기 위해 저장\n",
        "        states_value = [h, c]\n",
        "\n",
        "    return decoded_sentence"
      ],
      "execution_count": null,
      "outputs": []
    },
    {
      "cell_type": "code",
      "metadata": {
        "id": "7rPQ-tdjCIA2"
      },
      "source": [
        "# 결과 확인을 위한 함수\n",
        "\n",
        "# 원문의 정수 시퀀스를 텍스트 시퀀스로 변환\n",
        "def seq2eng(input_seq):\n",
        "    temp=''\n",
        "    for i in input_seq:\n",
        "        if(i!=0):\n",
        "            temp = temp + index_to_eng[i]+' '\n",
        "    return temp\n",
        "\n",
        "# 번역문의 정수 시퀀스를 텍스트 시퀀스로 변환\n",
        "def seq2fra(input_seq):\n",
        "    temp=''\n",
        "    for i in input_seq:\n",
        "        if((i!=0 and i!=fra_to_index['<sos>']) and i!=fra_to_index['<eos>']):\n",
        "            temp = temp + index_to_fra[i] + ' '\n",
        "    return temp"
      ],
      "execution_count": null,
      "outputs": []
    },
    {
      "cell_type": "code",
      "metadata": {
        "colab": {
          "base_uri": "https://localhost:8080/"
        },
        "id": "j3pz4GZDCYoi",
        "outputId": "ac0e6d23-1beb-4d91-c072-bd3b60d5cb0e"
      },
      "source": [
        "# 훈련 데이터에 대해서 임의로 선택한 인덱스의 샘플의 결과를 출력\n",
        "\n",
        "for seq_index in [3,50,100,300,1001]:\n",
        "  input_seq = encoder_input_train[seq_index: seq_index + 1]\n",
        "  decoded_sentence = decode_sequence(input_seq)\n",
        "\n",
        "  print(\"원문 : \",seq2eng(encoder_input_train[seq_index]))\n",
        "  print(\"번역문 :\",seq2fra(decoder_input_train[seq_index]))\n",
        "  print(\"예측문 :\",decoded_sentence[:-5])\n",
        "  print(\"\\n\")"
      ],
      "execution_count": null,
      "outputs": [
        {
          "output_type": "stream",
          "text": [
            "원문 :  he gave me a hint . \n",
            "번역문 : il me donna un indice . \n",
            "예측문 :  il me a donn un coup de lui . \n",
            "\n",
            "\n",
            "원문 :  don t forget that . \n",
            "번역문 : n oublie pas cela . \n",
            "예측문 :  ne l a pas a . \n",
            "\n",
            "\n",
            "원문 :  you re too skinny . \n",
            "번역문 : vous tes trop maigrichons . \n",
            "예측문 :  vous tes trop . \n",
            "\n",
            "\n",
            "원문 :  how do you do this ? \n",
            "번역문 : comment fais tu ceci ? \n",
            "예측문 :  comment vous a ? \n",
            "\n",
            "\n",
            "원문 :  let me check . \n",
            "번역문 : laissez moi contr ler . \n",
            "예측문 :  laisse moi v rifier . \n",
            "\n",
            "\n"
          ],
          "name": "stdout"
        }
      ]
    },
    {
      "cell_type": "code",
      "metadata": {
        "colab": {
          "base_uri": "https://localhost:8080/"
        },
        "id": "TqgDWMq6Ci58",
        "outputId": "b671cb2d-192b-4b06-a6a6-aace9584e42d"
      },
      "source": [
        "# 테스트 데이터에 대해서 임의로 선택한 인덱스의 샘플의 결과를 출력\n",
        "\n",
        "for seq_index in [3,50,100,300,1001]:\n",
        "  input_seq = encoder_input_test[seq_index: seq_index + 1]\n",
        "  decoded_sentence = decode_sequence(input_seq)\n",
        "\n",
        "  print(\"원문 : \",seq2eng(encoder_input_test[seq_index]))\n",
        "  print(\"번역문 :\",seq2fra(decoder_input_test[seq_index]))\n",
        "  print(\"예측문 :\",decoded_sentence[:-5])\n",
        "  print(\"\\n\")"
      ],
      "execution_count": null,
      "outputs": [
        {
          "output_type": "stream",
          "text": [
            "원문 :  get out ! \n",
            "번역문 : vers l ext rieur ! \n",
            "예측문 :  d gage ! \n",
            "\n",
            "\n",
            "원문 :  i don t fear death . \n",
            "번역문 : je ne crains pas la mort . \n",
            "예측문 :  il ne m a pas faim . \n",
            "\n",
            "\n",
            "원문 :  i laughed a lot . \n",
            "번역문 : j ai beaucoup ri . \n",
            "예측문 :  j ai t entendu . \n",
            "\n",
            "\n",
            "원문 :  are you in love ? \n",
            "번역문 : es tu amoureux ? \n",
            "예측문 :  tes vous pla t ? \n",
            "\n",
            "\n",
            "원문 :  i must be blind . \n",
            "번역문 : il faut que je sois aveugle . \n",
            "예측문 :  il me faut y aller . \n",
            "\n",
            "\n"
          ],
          "name": "stdout"
        }
      ]
    },
    {
      "cell_type": "markdown",
      "metadata": {
        "id": "i0kZ7SV-IcWP"
      },
      "source": [
        "## 글자 단위(Character-level)로 인코더랑 디코더 비슷하게 만들어서 decode_sequence 함수 실행\n"
      ]
    },
    {
      "cell_type": "markdown",
      "metadata": {
        "id": "6DKOEAg3It8G"
      },
      "source": [
        "![image.png](data:image/png;base64,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)"
      ]
    },
    {
      "cell_type": "markdown",
      "metadata": {
        "id": "k2wPGzU0I3eT"
      },
      "source": [
        "![image.png](data:image/png;base64,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)"
      ]
    },
    {
      "cell_type": "code",
      "metadata": {
        "id": "0o6ZbIGrItPB"
      },
      "source": [
        ""
      ],
      "execution_count": null,
      "outputs": []
    }
  ]
}