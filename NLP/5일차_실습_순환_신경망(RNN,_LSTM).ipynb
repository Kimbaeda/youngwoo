{
  "nbformat": 4,
  "nbformat_minor": 0,
  "metadata": {
    "colab": {
      "name": "5일차 실습 순환 신경망(RNN, LSTM).ipynb",
      "provenance": [],
      "collapsed_sections": [],
      "mount_file_id": "1VH1ugcH6COG9MzeWWN4dL6Gu-W-BoSp_",
      "authorship_tag": "ABX9TyOEj16aIpA5IQuQqRZCnxfZ",
      "include_colab_link": true
    },
    "kernelspec": {
      "name": "python3",
      "display_name": "Python 3"
    },
    "language_info": {
      "name": "python"
    }
  },
  "cells": [
    {
      "cell_type": "markdown",
      "metadata": {
        "id": "view-in-github",
        "colab_type": "text"
      },
      "source": [
        "<a href=\"https://colab.research.google.com/github/Kimbaeda/youngwoo/blob/main/5%EC%9D%BC%EC%B0%A8_%EC%8B%A4%EC%8A%B5_%EC%88%9C%ED%99%98_%EC%8B%A0%EA%B2%BD%EB%A7%9D(RNN%2C_LSTM).ipynb\" target=\"_parent\"><img src=\"https://colab.research.google.com/assets/colab-badge.svg\" alt=\"Open In Colab\"/></a>"
      ]
    },
    {
      "cell_type": "code",
      "metadata": {
        "id": "v9omWVHudtdV"
      },
      "source": [
        "from keras.models import Sequential\n",
        "from keras.layers import SimpleRNN"
      ],
      "execution_count": null,
      "outputs": []
    },
    {
      "cell_type": "code",
      "metadata": {
        "colab": {
          "base_uri": "https://localhost:8080/"
        },
        "id": "51X5GYrtd3zm",
        "outputId": "b768cc9e-eb86-49c8-a5ec-7b6900f37977"
      },
      "source": [
        "model = Sequential()\n",
        "model.add(SimpleRNN(3, input_shape=(2,10)))\n",
        "\n",
        "model.summary()\n"
      ],
      "execution_count": null,
      "outputs": [
        {
          "output_type": "stream",
          "text": [
            "Model: \"sequential_3\"\n",
            "_________________________________________________________________\n",
            "Layer (type)                 Output Shape              Param #   \n",
            "=================================================================\n",
            "simple_rnn_2 (SimpleRNN)     (None, 3)                 42        \n",
            "=================================================================\n",
            "Total params: 42\n",
            "Trainable params: 42\n",
            "Non-trainable params: 0\n",
            "_________________________________________________________________\n"
          ],
          "name": "stdout"
        }
      ]
    },
    {
      "cell_type": "code",
      "metadata": {
        "id": "jJjQn8FqeP7z"
      },
      "source": [
        "model = Sequential()\n",
        "model.add(SimpleRNN(3, batch_input_shape=(8,2,10)))"
      ],
      "execution_count": null,
      "outputs": []
    },
    {
      "cell_type": "code",
      "metadata": {
        "colab": {
          "base_uri": "https://localhost:8080/"
        },
        "id": "8Bx7rzjUe0P3",
        "outputId": "2d431916-95e4-42fc-eed6-992c2591868b"
      },
      "source": [
        "model.summary()"
      ],
      "execution_count": null,
      "outputs": [
        {
          "output_type": "stream",
          "text": [
            "Model: \"sequential_1\"\n",
            "_________________________________________________________________\n",
            "Layer (type)                 Output Shape              Param #   \n",
            "=================================================================\n",
            "simple_rnn (SimpleRNN)       (8, 3)                    42        \n",
            "=================================================================\n",
            "Total params: 42\n",
            "Trainable params: 42\n",
            "Non-trainable params: 0\n",
            "_________________________________________________________________\n"
          ],
          "name": "stdout"
        }
      ]
    },
    {
      "cell_type": "code",
      "metadata": {
        "id": "AOgCtMONe4TT"
      },
      "source": [
        "model = Sequential()\n",
        "model.add(SimpleRNN(3, batch_input_shape=(8,2,10), return_sequences=True))"
      ],
      "execution_count": null,
      "outputs": []
    },
    {
      "cell_type": "code",
      "metadata": {
        "colab": {
          "base_uri": "https://localhost:8080/"
        },
        "id": "lQ71CErsfD9p",
        "outputId": "c0768f4c-7323-4d20-9142-d5e9b35c14be"
      },
      "source": [
        "model.summary()"
      ],
      "execution_count": null,
      "outputs": [
        {
          "output_type": "stream",
          "text": [
            "Model: \"sequential_2\"\n",
            "_________________________________________________________________\n",
            "Layer (type)                 Output Shape              Param #   \n",
            "=================================================================\n",
            "simple_rnn_1 (SimpleRNN)     (8, 2, 3)                 42        \n",
            "=================================================================\n",
            "Total params: 42\n",
            "Trainable params: 42\n",
            "Non-trainable params: 0\n",
            "_________________________________________________________________\n"
          ],
          "name": "stdout"
        }
      ]
    },
    {
      "cell_type": "markdown",
      "metadata": {
        "id": "-7h0efCsfGlG"
      },
      "source": [
        "## 파이썬으로 RNN구현하기"
      ]
    },
    {
      "cell_type": "markdown",
      "metadata": {
        "id": "9w5Tgb1-fdyu"
      },
      "source": [
        "$$ h_t = tanh(W_x X_t + W_h H_{t-1} + b)$$"
      ]
    },
    {
      "cell_type": "markdown",
      "metadata": {
        "id": "cf70Cvaef363"
      },
      "source": [
        "```\n",
        "의사코드\n",
        "hidden_State_t = 0\n",
        "for input_t in input_length: #각 시점마다 입력을 받는다.\n",
        "    output_t = tanh(input_t, hidden_stat_t) #각 시점에 대해서 입력과 은닉 상태를 가지고 연산\n",
        "    hidden_stat_t = output_t # 계산결과는 현재 시점의 은닉 상태가 된다.\n",
        "```"
      ]
    },
    {
      "cell_type": "code",
      "metadata": {
        "id": "IaRPLDVtfyuC"
      },
      "source": [
        "import numpy as np\n",
        "timesteps = 10 # 시점의 수, NLP에서는 보통 문장의 길이\n",
        "input_dim = 4 # 입력의 차원, NLP에서는 보통 단어 벡터의 차원\n",
        "hidden_size = 8 # 은닉 상태의 크기 (메모리 셀의 용량)\n",
        "\n",
        "inputs = np.random.random((timesteps, input_dim)) # 입력에 해당되는 2D 텐서\n",
        "\n",
        "hidden_state_t = np.zeros((hidden_size, )) # 은닉 상태의 크기 hidden_size로 은닉 상태를 만듬.초기 은닉상태는 0(벡터)로 초기화\n"
      ],
      "execution_count": null,
      "outputs": []
    },
    {
      "cell_type": "code",
      "metadata": {
        "colab": {
          "base_uri": "https://localhost:8080/"
        },
        "id": "CQjsF6J7gaS2",
        "outputId": "f19f2dee-f1d9-4cde-81c9-5b901b120346"
      },
      "source": [
        "# 초기 은닉 상태 출력\n",
        "print(hidden_state_t)\n",
        "\n",
        "# 8의 차원을 가지는 0의 값으로 구성된 벡터가 출력"
      ],
      "execution_count": null,
      "outputs": [
        {
          "output_type": "stream",
          "text": [
            "[0. 0. 0. 0. 0. 0. 0. 0.]\n"
          ],
          "name": "stdout"
        }
      ]
    },
    {
      "cell_type": "code",
      "metadata": {
        "id": "Doj1qIISgcjp"
      },
      "source": [
        "# 가중치와 편향 정의\n",
        "\n",
        "Wx = np.random.random((hidden_size, input_dim)) # (8, 4) 입력에 대한 가중치\n",
        "Wh = np.random.random((hidden_size, hidden_size)) # (8, 8) 은닉상태에 대한 가중치\n",
        "b = np.random.random((hidden_size, )) # (8, ) 편향"
      ],
      "execution_count": null,
      "outputs": []
    },
    {
      "cell_type": "code",
      "metadata": {
        "colab": {
          "base_uri": "https://localhost:8080/"
        },
        "id": "7_v-E5r8g9Ls",
        "outputId": "348e31e6-1c9e-48bb-9ad8-7b75615062a7"
      },
      "source": [
        "# 가중치와 편향의 크기 출력\n",
        "\n",
        "print(np.shape(Wx)) # (은닉상태의 크기 * 입력의 차원)\n",
        "print(np.shape(Wh)) # (은닉상태의 크기 * 은닉상태의 크기)\n",
        "print(np.shape(b)) # (은닉상태의 크기)"
      ],
      "execution_count": null,
      "outputs": [
        {
          "output_type": "stream",
          "text": [
            "(8, 4)\n",
            "(8, 8)\n",
            "(8,)\n"
          ],
          "name": "stdout"
        }
      ]
    },
    {
      "cell_type": "code",
      "metadata": {
        "colab": {
          "base_uri": "https://localhost:8080/"
        },
        "id": "-Rst_y8EkKFf",
        "outputId": "60b6b93e-b831-4c03-cf24-01a335fa8919"
      },
      "source": [
        "total_hidden_state = []\n",
        "\n",
        "# 메모리 셀 동작\n",
        "for input_t in inputs:\n",
        "  output_t = np.tanh(np.dot(Wx, input_t)+ np.dot(Wh, hidden_state_t)+b) \n",
        "  total_hidden_state.append(list(output_t))\n",
        "  print(np.shape(total_hidden_state)) #각 시점 t별 메모리 셀의 출력의 크기는 (timestep, output_dim)\n",
        "  hidden_state_t = output_t\n",
        "\n",
        "total_hidden_state = np.stack(total_hidden_state, axis=0)  # ( 1, 2, 3)\n",
        "\n",
        "\n",
        "print(total_hidden_state) # (timesteps , outputdim) 크기"
      ],
      "execution_count": null,
      "outputs": [
        {
          "output_type": "stream",
          "text": [
            "(1, 8)\n",
            "(2, 8)\n",
            "(3, 8)\n",
            "(4, 8)\n",
            "(5, 8)\n",
            "(6, 8)\n",
            "(7, 8)\n",
            "(8, 8)\n",
            "(9, 8)\n",
            "(10, 8)\n",
            "[[0.87512627 0.94447423 0.93403891 0.74486162 0.90551458 0.91603446\n",
            "  0.64511058 0.92670881]\n",
            " [0.99979057 0.99975184 0.99928276 0.99977938 0.99870682 0.9968624\n",
            "  0.98742638 0.9963913 ]\n",
            " [0.99999349 0.99999611 0.9999022  0.99998545 0.99982929 0.999921\n",
            "  0.99838883 0.99978475]\n",
            " [0.99999561 0.99999754 0.99995397 0.99999185 0.99985812 0.99994639\n",
            "  0.99805072 0.99988388]\n",
            " [0.99998469 0.99999204 0.99987092 0.99998265 0.99974013 0.99986652\n",
            "  0.99743091 0.99949556]\n",
            " [0.99999189 0.99998969 0.99990293 0.99998352 0.99977978 0.99977161\n",
            "  0.99811149 0.99954465]\n",
            " [0.99999261 0.99999712 0.99994792 0.99999294 0.99983233 0.99994176\n",
            "  0.99827417 0.99973568]\n",
            " [0.999996   0.99999804 0.9999006  0.99998791 0.99987803 0.99995589\n",
            "  0.99915269 0.9998359 ]\n",
            " [0.9999888  0.9999948  0.99991911 0.99998729 0.99977649 0.99991086\n",
            "  0.99689449 0.9997388 ]\n",
            " [0.99998465 0.99998916 0.99992037 0.99998637 0.99971379 0.9998094\n",
            "  0.99620737 0.99950576]]\n"
          ],
          "name": "stdout"
        }
      ]
    },
    {
      "cell_type": "markdown",
      "metadata": {
        "id": "GQHwA2l8n8aI"
      },
      "source": [
        "## 양방향 순환 신경망 (Bidirectional Recurrent Neural Network)\n"
      ]
    },
    {
      "cell_type": "code",
      "metadata": {
        "id": "FbvEjT7rk6uK"
      },
      "source": [
        "from tensorflow.keras.models import Sequential\n",
        "from tensorflow.keras.layers import SimpleRNN, Bidirectional\n",
        "\n",
        "model = Sequential()\n",
        "model.add(Bidirectional(SimpleRNN(hidden_size, return_sequences= True), input_shape=(timesteps, input_dim)))"
      ],
      "execution_count": null,
      "outputs": []
    },
    {
      "cell_type": "code",
      "metadata": {
        "colab": {
          "base_uri": "https://localhost:8080/"
        },
        "id": "oEKNN2DaomOi",
        "outputId": "56834876-ef27-4c5d-9ecf-f6f724911b11"
      },
      "source": [
        "model.summary()"
      ],
      "execution_count": null,
      "outputs": [
        {
          "output_type": "stream",
          "text": [
            "Model: \"sequential_1\"\n",
            "_________________________________________________________________\n",
            "Layer (type)                 Output Shape              Param #   \n",
            "=================================================================\n",
            "bidirectional (Bidirectional (None, 10, 16)            208       \n",
            "=================================================================\n",
            "Total params: 208\n",
            "Trainable params: 208\n",
            "Non-trainable params: 0\n",
            "_________________________________________________________________\n"
          ],
          "name": "stdout"
        }
      ]
    },
    {
      "cell_type": "code",
      "metadata": {
        "id": "digmaattosT0"
      },
      "source": [
        "model = Sequential()\n",
        "model.add(Bidirectional(SimpleRNN(hidden_size, return_sequences= True), input_shape=(timesteps, input_dim)))\n",
        "model.add(Bidirectional(SimpleRNN(hidden_size, return_sequences= True)))\n",
        "model.add(Bidirectional(SimpleRNN(hidden_size, return_sequences= True)))\n",
        "model.add(Bidirectional(SimpleRNN(hidden_size, return_sequences= True)))"
      ],
      "execution_count": null,
      "outputs": []
    },
    {
      "cell_type": "code",
      "metadata": {
        "colab": {
          "base_uri": "https://localhost:8080/"
        },
        "id": "C32JBNLZo4Kj",
        "outputId": "94eb393e-a58f-443c-d286-01c1a94b2a51"
      },
      "source": [
        "model.summary()"
      ],
      "execution_count": null,
      "outputs": [
        {
          "output_type": "stream",
          "text": [
            "Model: \"sequential_2\"\n",
            "_________________________________________________________________\n",
            "Layer (type)                 Output Shape              Param #   \n",
            "=================================================================\n",
            "bidirectional_1 (Bidirection (None, 10, 16)            208       \n",
            "_________________________________________________________________\n",
            "bidirectional_2 (Bidirection (None, 10, 16)            400       \n",
            "_________________________________________________________________\n",
            "bidirectional_3 (Bidirection (None, 10, 16)            400       \n",
            "_________________________________________________________________\n",
            "bidirectional_4 (Bidirection (None, 10, 16)            400       \n",
            "=================================================================\n",
            "Total params: 1,408\n",
            "Trainable params: 1,408\n",
            "Non-trainable params: 0\n",
            "_________________________________________________________________\n"
          ],
          "name": "stdout"
        }
      ]
    },
    {
      "cell_type": "markdown",
      "metadata": {
        "id": "RWbkMf9io_Ou"
      },
      "source": [
        "```\n",
        "\n",
        "Quiz\n",
        "1. Embedding을 사용하여 단어 집합(Vocabulary)의 크기가 5,000이고, 임베딩 벡터의 차원은 100입니다.\n",
        "2. 은닉층에서 Simple RNN을 사용하여 은닉상태의 크기는 128이다.\n",
        "3. 훈련에 사용하는 모든 샘플의 길이는 30으로 가정\n",
        "4. 이진 분류를 수행하는 모델로, 출력층의 뉴련은 1개로 시그모이드 함수를 사용\n",
        "5. 은닉층은 1개\n",
        "총 파라미터 갯수를 구하시오.\n",
        "\n",
        "```\n"
      ]
    },
    {
      "cell_type": "code",
      "metadata": {
        "colab": {
          "base_uri": "https://localhost:8080/"
        },
        "id": "Saq3XXsDo7Pf",
        "outputId": "1f698c2d-b55d-4dbe-9f72-802c85b2203a"
      },
      "source": [
        "from keras.models import Sequential\n",
        "from keras.layers import SimpleRNN, Embedding, Dense\n",
        "\n",
        "vocab_size = 5000\n",
        "embedding_dim = 100\n",
        "hidden_size =128\n",
        "\n",
        "model = Sequential()\n",
        "model.add(Embedding(vocab_size, embedding_dim))\n",
        "model.add(SimpleRNN(hidden_size))\n",
        "model.add(Dense(1, activation='sigmoid'))\n",
        "\n",
        "model.summary()"
      ],
      "execution_count": null,
      "outputs": [
        {
          "output_type": "stream",
          "text": [
            "Model: \"sequential_4\"\n",
            "_________________________________________________________________\n",
            "Layer (type)                 Output Shape              Param #   \n",
            "=================================================================\n",
            "embedding (Embedding)        (None, None, 100)         500000    \n",
            "_________________________________________________________________\n",
            "simple_rnn_3 (SimpleRNN)     (None, 128)               29312     \n",
            "_________________________________________________________________\n",
            "dense (Dense)                (None, 1)                 129       \n",
            "=================================================================\n",
            "Total params: 529,441\n",
            "Trainable params: 529,441\n",
            "Non-trainable params: 0\n",
            "_________________________________________________________________\n"
          ],
          "name": "stdout"
        }
      ]
    },
    {
      "cell_type": "markdown",
      "metadata": {
        "id": "LaWc_l2rqnyp"
      },
      "source": [
        "```\n",
        "정답 풀이\n",
        "\n",
        "Embedding = 5000(input) * 100(embedding) = 500,000\n",
        "Wx = 100(embedding) * 128(hidden) = 12,800\n",
        "Wh = 128 * 128 = 16,384\n",
        "b(hidden) = 128\n",
        "Wy = 128\n",
        "b(output) = 1\n",
        "\n",
        "total = 529,441\n",
        "```"
      ]
    },
    {
      "cell_type": "markdown",
      "metadata": {
        "id": "AA7UJpSkOwTD"
      },
      "source": [
        "## 임의의 입력으로 SimpleRNN과 LSTM 이해하기"
      ]
    },
    {
      "cell_type": "code",
      "metadata": {
        "id": "9WhOsh4XvCZ_"
      },
      "source": [
        "import numpy as np\n",
        "import tensorflow as tf\n",
        "from tensorflow.keras.layers import SimpleRNN, LSTM, Bidirectional"
      ],
      "execution_count": null,
      "outputs": []
    },
    {
      "cell_type": "code",
      "metadata": {
        "colab": {
          "base_uri": "https://localhost:8080/"
        },
        "id": "_fwDUeRSPDlX",
        "outputId": "0b0cbf17-1a21-40d4-e4b6-be1ab84367c9"
      },
      "source": [
        "# 임의의 데이터 생성 : 벡터의 차원은 5, 문장의 길이가 4인 경우를 가정\n",
        "\n",
        "train_x = [[0.1, 4.2, 1.5, 1.1, 2.8], [1.0, 3.1, 2.5, 0.7, 1.1], [0.3, 2.1, 1.5, 2.1, 0.1], [2.2, 1.4, 0.5, 0.9, 1.1]]\n",
        "print(np.shape(train_x)) # 단어 벡터의 차원은 5이고, 문장의 길이가 4인 경우를 가정한 입력"
      ],
      "execution_count": null,
      "outputs": [
        {
          "output_type": "stream",
          "text": [
            "(4, 5)\n"
          ],
          "name": "stdout"
        }
      ]
    },
    {
      "cell_type": "code",
      "metadata": {
        "colab": {
          "base_uri": "https://localhost:8080/"
        },
        "id": "ispxU473PUtD",
        "outputId": "f77eb2b2-afb0-4b9c-8588-3840947a581d"
      },
      "source": [
        "# RNN은 3D텐서를 입력 받으므로 배치 크기 1을 추가\n",
        "'''\n",
        "batch_size는 한 번에 RNN이 학습하는 데이터의 양을 의미하지만, 여기서는 샘플이 1개 밖에 없으므로 batch_size는 1\n",
        "'''\n",
        "\n",
        "train_x = [[[0.1, 4.2, 1.5, 1.1, 2.8], [1.0, 3.1, 2.5, 0.7, 1.1], [0.3, 2.1, 1.5, 2.1, 0.1], [2.2, 1.4, 0.5, 0.9, 1.1]]]\n",
        "train_x = np.array(train_x, dtype=np.float32)\n",
        "print(train_x.shape) # (batch_size, timesteps, input_dim)"
      ],
      "execution_count": null,
      "outputs": [
        {
          "output_type": "stream",
          "text": [
            "(1, 4, 5)\n"
          ],
          "name": "stdout"
        }
      ]
    },
    {
      "cell_type": "markdown",
      "metadata": {
        "id": "_IMHRMHjSYzI"
      },
      "source": [
        "### SimpleRNN 이해하기"
      ]
    },
    {
      "cell_type": "code",
      "metadata": {
        "colab": {
          "base_uri": "https://localhost:8080/"
        },
        "id": "24pswSPcP_US",
        "outputId": "96ef448c-6b27-43bb-e39f-71e1d8cc2cbe"
      },
      "source": [
        "rnn = SimpleRNN(3) # 은닉상태 크기3\n",
        "# rnn = SimpleRNN(3, return_sequances=False, return_state=False) 와 동일\n",
        "\n",
        "hidden_state = rnn(train_x)\n",
        "\n",
        "print(f'hidden state : {hidden_state}, shape : {hidden_state.shape}')"
      ],
      "execution_count": null,
      "outputs": [
        {
          "output_type": "stream",
          "text": [
            "hidden state : [[-0.10012155 -0.4721135   0.9712897 ]], shape : (1, 3)\n"
          ],
          "name": "stdout"
        }
      ]
    },
    {
      "cell_type": "code",
      "metadata": {
        "colab": {
          "base_uri": "https://localhost:8080/"
        },
        "id": "MCU9THZzQpBd",
        "outputId": "d92d128b-0dee-4268-f93d-cf5451e2790f"
      },
      "source": [
        "# return_sequances=True로 지정하여 모든 시점의 은닉 상태를 출력\n",
        "\n",
        "rnn = SimpleRNN(3, return_sequences=True)\n",
        "hidden_states = rnn(train_x)\n",
        "\n",
        "print(f'hidden states : {hidden_states}, shape: {hidden_states.shape}')"
      ],
      "execution_count": null,
      "outputs": [
        {
          "output_type": "stream",
          "text": [
            "hidden states : [[[ 0.84508294  0.787636    0.7427113 ]\n",
            "  [ 0.45071793 -0.97736585  0.15795752]\n",
            "  [-0.9419455  -0.8677167   0.973826  ]\n",
            "  [ 0.93749696 -0.511277    0.76308835]]], shape: (1, 4, 3)\n"
          ],
          "name": "stdout"
        }
      ]
    },
    {
      "cell_type": "code",
      "metadata": {
        "colab": {
          "base_uri": "https://localhost:8080/"
        },
        "id": "RoAtpQynRKVs",
        "outputId": "c28c826a-3d8b-4287-ab4f-098774b93fd4"
      },
      "source": [
        "# return_sequances=True 이면서, return_state=True로 할 경우\n",
        "\n",
        "rnn = SimpleRNN(3, return_sequences=True, return_state=True)\n",
        "hidden_states, last_state = rnn(train_x)\n",
        "\n",
        "print('hidden states : {}, shape: {}'.format(hidden_states, hidden_states.shape))\n",
        "print('last hidden state : {}, shape: {}'.format(last_state, last_state.shape))"
      ],
      "execution_count": null,
      "outputs": [
        {
          "output_type": "stream",
          "text": [
            "hidden states : [[[-0.5369042   0.99727297  0.9999473 ]\n",
            "  [-0.0126954   0.9167868   0.9965076 ]\n",
            "  [ 0.8746314  -0.10798592  0.9873774 ]\n",
            "  [ 0.96880627 -0.6339288   0.9354319 ]]], shape: (1, 4, 3)\n",
            "last hidden state : [[ 0.96880627 -0.6339288   0.9354319 ]], shape: (1, 3)\n"
          ],
          "name": "stdout"
        }
      ]
    },
    {
      "cell_type": "code",
      "metadata": {
        "colab": {
          "base_uri": "https://localhost:8080/"
        },
        "id": "8kyknFnPRZ6g",
        "outputId": "6671d4df-8d10-4ce4-bde1-2b7429a86381"
      },
      "source": [
        "# return_sequances=False 이면서, return_state=True로 할 경우\n",
        "\n",
        "rnn = SimpleRNN(3, return_sequences=False, return_state=True)\n",
        "hidden_state, last_state = rnn(train_x)\n",
        "\n",
        "print('hidden state : {}, shape: {}'.format(hidden_state, hidden_state.shape))\n",
        "print('last hidden state : {}, shape: {}'.format(last_state, last_state.shape))"
      ],
      "execution_count": null,
      "outputs": [
        {
          "output_type": "stream",
          "text": [
            "hidden state : [[ 0.7497584 -0.9952875 -0.2872519]], shape: (1, 3)\n",
            "last hidden state : [[ 0.7497584 -0.9952875 -0.2872519]], shape: (1, 3)\n"
          ],
          "name": "stdout"
        }
      ]
    },
    {
      "cell_type": "markdown",
      "metadata": {
        "id": "iEoiViRrSe9A"
      },
      "source": [
        "### LSTM 이해하기\n",
        "\n",
        "- 실제로 SimpleRNN이 사용되는 경우는 거의 없습니다. 이보다는 LSTM이나 GRU을 주로 사용"
      ]
    },
    {
      "cell_type": "code",
      "metadata": {
        "colab": {
          "base_uri": "https://localhost:8080/"
        },
        "id": "V8zE89KsSGUJ",
        "outputId": "42ba34d3-84e2-4831-d74b-26fb1c84b9b2"
      },
      "source": [
        "lstm = LSTM(3, return_sequences=False, return_state=True)\n",
        "hidden_state, last_state, last_cell_state = lstm(train_x)\n",
        "\n",
        "print('hidden state : {}, shape: {}'.format(hidden_state, hidden_state.shape))\n",
        "print('last hidden state : {}, shape: {}'.format(last_state, last_state.shape))\n",
        "print('last cell state : {}, shape: {}'.format(last_cell_state, last_cell_state.shape))"
      ],
      "execution_count": null,
      "outputs": [
        {
          "output_type": "stream",
          "text": [
            "hidden state : [[ 0.2080072  -0.12892686  0.18994214]], shape: (1, 3)\n",
            "last hidden state : [[ 0.2080072  -0.12892686  0.18994214]], shape: (1, 3)\n",
            "last cell state : [[ 0.34484416 -0.18498126  0.26371518]], shape: (1, 3)\n"
          ],
          "name": "stdout"
        }
      ]
    },
    {
      "cell_type": "markdown",
      "metadata": {
        "id": "K7LmAq8BTf4X"
      },
      "source": [
        "SimpleRNN 때와는 달리, 세 개의 결과를 반환. return_sequences가 False이므로 우선 첫번째 결과는 마지막 시점의 은닉 상태임. 그런데 LSTM이 SimpleRNN과 다른 점은 return_state를 True로 둔 경우에는 마지막 시점의 은닉 상태뿐만 아니라 셀 상태까지 반환한다는 점이다."
      ]
    },
    {
      "cell_type": "code",
      "metadata": {
        "colab": {
          "base_uri": "https://localhost:8080/"
        },
        "id": "ANqx-qdCS4JO",
        "outputId": "d8377134-63c5-4db1-da80-bc135cbeb113"
      },
      "source": [
        "lstm = LSTM(3, return_sequences=True, return_state=True)\n",
        "hidden_states, last_hidden_state, last_cell_state = lstm(train_x)\n",
        "\n",
        "print('hidden states : {}, shape: {}'.format(hidden_states, hidden_states.shape))\n",
        "print('last hidden state : {}, shape: {}'.format(last_hidden_state, last_hidden_state.shape))\n",
        "print('last cell state : {}, shape: {}'.format(last_cell_state, last_cell_state.shape))"
      ],
      "execution_count": null,
      "outputs": [
        {
          "output_type": "stream",
          "text": [
            "hidden states : [[[-0.18496436  0.06714023 -0.6520807 ]\n",
            "  [-0.15225704  0.12760682 -0.7629222 ]\n",
            "  [-0.21280442  0.29162312 -0.78596616]\n",
            "  [-0.13513148  0.25786963 -0.61566585]]], shape: (1, 4, 3)\n",
            "last hidden state : [[-0.13513148  0.25786963 -0.61566585]], shape: (1, 3)\n",
            "last cell state : [[-0.27661422  1.0972171  -2.1432161 ]], shape: (1, 3)\n"
          ],
          "name": "stdout"
        }
      ]
    },
    {
      "cell_type": "markdown",
      "metadata": {
        "id": "UdrEfQPUTZi4"
      },
      "source": [
        "return_state가 True이므로 두번째 출력값이 마지막 은닉 상태, 세번째 출력값이 마지막 셀 상태인 것은 변함없지만 return_sequences가 True이므로 첫번째 출력값은 모든 시점의 은닉 상태가 출력"
      ]
    },
    {
      "cell_type": "markdown",
      "metadata": {
        "id": "AxZ4fnRfT_Xx"
      },
      "source": [
        "### Bidirectional(LSTM) 이해하기"
      ]
    },
    {
      "cell_type": "code",
      "metadata": {
        "id": "eUVMS386TNdY"
      },
      "source": [
        "# 은닉상태 값 고정\n",
        "\n",
        "k_init = tf.keras.initializers.Constant(value=0.1)\n",
        "b_init = tf.keras.initializers.Constant(value=0)\n",
        "r_init = tf.keras.initializers.Constant(value=0.1)"
      ],
      "execution_count": null,
      "outputs": []
    },
    {
      "cell_type": "code",
      "metadata": {
        "colab": {
          "base_uri": "https://localhost:8080/"
        },
        "id": "l5bE-pN4UX9V",
        "outputId": "7e7e1bc0-feb4-40d2-aeee-0fd0c2126151"
      },
      "source": [
        "bilstm = Bidirectional(LSTM(3, return_sequences=False, return_state=True, \\\n",
        "                            kernel_initializer=k_init, bias_initializer=b_init, recurrent_initializer=r_init))\n",
        "hidden_states, forward_h, forward_c, backward_h, backward_c = bilstm(train_x)\n",
        "\n",
        "print('hidden states : {}, shape: {}'.format(hidden_states, hidden_states.shape))\n",
        "print('forward state : {}, shape: {}'.format(forward_h, forward_h.shape))\n",
        "print('backward state : {}, shape: {}'.format(backward_h, backward_h.shape))"
      ],
      "execution_count": null,
      "outputs": [
        {
          "output_type": "stream",
          "text": [
            "hidden states : [[0.63031393 0.63031393 0.63031393 0.7038734  0.7038734  0.7038734 ]], shape: (1, 6)\n",
            "forward state : [[0.63031393 0.63031393 0.63031393]], shape: (1, 3)\n",
            "backward state : [[0.7038734 0.7038734 0.7038734]], shape: (1, 3)\n"
          ],
          "name": "stdout"
        }
      ]
    },
    {
      "cell_type": "code",
      "metadata": {
        "colab": {
          "base_uri": "https://localhost:8080/"
        },
        "id": "J82m5mi4VB30",
        "outputId": "5fa695ff-368c-41a8-8d99-8bc835b95513"
      },
      "source": [
        "bilstm = Bidirectional(LSTM(3, return_sequences=True, return_state=True, \\\n",
        "                            kernel_initializer=k_init, bias_initializer=b_init, recurrent_initializer=r_init))\n",
        "hidden_states, forward_h, forward_c, backward_h, backward_c = bilstm(train_x)\n",
        "\n",
        "print('hidden states : {}, shape: {}'.format(hidden_states, hidden_states.shape))\n",
        "print('forward state : {}, shape: {}'.format(forward_h, forward_h.shape))\n",
        "print('backward state : {}, shape: {}'.format(backward_h, backward_h.shape))"
      ],
      "execution_count": null,
      "outputs": [
        {
          "output_type": "stream",
          "text": [
            "hidden states : [[[0.35906473 0.35906473 0.35906473 0.7038734  0.7038734  0.7038734 ]\n",
            "  [0.5511133  0.5511133  0.5511133  0.58863586 0.58863586 0.58863586]\n",
            "  [0.59115744 0.59115744 0.59115744 0.3951699  0.3951699  0.3951699 ]\n",
            "  [0.63031393 0.63031393 0.63031393 0.21942244 0.21942244 0.21942244]]], shape: (1, 4, 6)\n",
            "forward state : [[0.63031393 0.63031393 0.63031393]], shape: (1, 3)\n",
            "backward state : [[0.7038734 0.7038734 0.7038734]], shape: (1, 3)\n"
          ],
          "name": "stdout"
        }
      ]
    },
    {
      "cell_type": "markdown",
      "metadata": {
        "id": "Q6GejFfTZmxK"
      },
      "source": [
        "## RNN을 이용한 텍스트 생성(Text Generation)\n",
        "- 다 대 일 (many to one)구조의 RNN을 사용하여 문맥을 반영해서 텍스트를 생성하는 모델을 만들어 보자\n",
        "- '경마장에 있는 말이 뛰고 있다'\n",
        "- '그의 말이 법이다'\n",
        "- '가는 말이 고와야 오는 말이 곱다'"
      ]
    },
    {
      "cell_type": "code",
      "metadata": {
        "colab": {
          "base_uri": "https://localhost:8080/",
          "height": 390
        },
        "id": "-Q-mr2q2V3po",
        "outputId": "a44a5fe6-dc12-4f28-fef8-4c5097b80e6b"
      },
      "source": [
        "import pandas as pd\n",
        "# 위 3문장을 재구성하면, 아래와 같이 총 11개의 샘플이 구성됨\n",
        "content = [['경마장에', '있는'],['경마장에 있는','말이'],['경마장에 있는 말이', '뛰고'],['경마장에 있는 말이 뛰고','있다'], \\\n",
        "           ['그의','말이'],['그의 말이','법이다'],['가는', '말이'],['가는 말이','고와야'],['가는 말이 고와야','오는'], \\\n",
        "           ['가는 말이 고와야 오는','말이'],['가는 말이 고와야 오는 말이','곱다']]\n",
        "df = pd.DataFrame(content)\n",
        "df.index = ['1', '2', '3', '4', '5', '6', '7', '8', '9','10','11']\n",
        "df.columns = ['X', 'y']\n",
        "df"
      ],
      "execution_count": null,
      "outputs": [
        {
          "output_type": "execute_result",
          "data": {
            "text/html": [
              "<div>\n",
              "<style scoped>\n",
              "    .dataframe tbody tr th:only-of-type {\n",
              "        vertical-align: middle;\n",
              "    }\n",
              "\n",
              "    .dataframe tbody tr th {\n",
              "        vertical-align: top;\n",
              "    }\n",
              "\n",
              "    .dataframe thead th {\n",
              "        text-align: right;\n",
              "    }\n",
              "</style>\n",
              "<table border=\"1\" class=\"dataframe\">\n",
              "  <thead>\n",
              "    <tr style=\"text-align: right;\">\n",
              "      <th></th>\n",
              "      <th>X</th>\n",
              "      <th>y</th>\n",
              "    </tr>\n",
              "  </thead>\n",
              "  <tbody>\n",
              "    <tr>\n",
              "      <th>1</th>\n",
              "      <td>경마장에</td>\n",
              "      <td>있는</td>\n",
              "    </tr>\n",
              "    <tr>\n",
              "      <th>2</th>\n",
              "      <td>경마장에 있는</td>\n",
              "      <td>말이</td>\n",
              "    </tr>\n",
              "    <tr>\n",
              "      <th>3</th>\n",
              "      <td>경마장에 있는 말이</td>\n",
              "      <td>뛰고</td>\n",
              "    </tr>\n",
              "    <tr>\n",
              "      <th>4</th>\n",
              "      <td>경마장에 있는 말이 뛰고</td>\n",
              "      <td>있다</td>\n",
              "    </tr>\n",
              "    <tr>\n",
              "      <th>5</th>\n",
              "      <td>그의</td>\n",
              "      <td>말이</td>\n",
              "    </tr>\n",
              "    <tr>\n",
              "      <th>6</th>\n",
              "      <td>그의 말이</td>\n",
              "      <td>법이다</td>\n",
              "    </tr>\n",
              "    <tr>\n",
              "      <th>7</th>\n",
              "      <td>가는</td>\n",
              "      <td>말이</td>\n",
              "    </tr>\n",
              "    <tr>\n",
              "      <th>8</th>\n",
              "      <td>가는 말이</td>\n",
              "      <td>고와야</td>\n",
              "    </tr>\n",
              "    <tr>\n",
              "      <th>9</th>\n",
              "      <td>가는 말이 고와야</td>\n",
              "      <td>오는</td>\n",
              "    </tr>\n",
              "    <tr>\n",
              "      <th>10</th>\n",
              "      <td>가는 말이 고와야 오는</td>\n",
              "      <td>말이</td>\n",
              "    </tr>\n",
              "    <tr>\n",
              "      <th>11</th>\n",
              "      <td>가는 말이 고와야 오는 말이</td>\n",
              "      <td>곱다</td>\n",
              "    </tr>\n",
              "  </tbody>\n",
              "</table>\n",
              "</div>"
            ],
            "text/plain": [
              "                  X    y\n",
              "1              경마장에   있는\n",
              "2           경마장에 있는   말이\n",
              "3        경마장에 있는 말이   뛰고\n",
              "4     경마장에 있는 말이 뛰고   있다\n",
              "5                그의   말이\n",
              "6             그의 말이  법이다\n",
              "7                가는   말이\n",
              "8             가는 말이  고와야\n",
              "9         가는 말이 고와야   오는\n",
              "10     가는 말이 고와야 오는   말이\n",
              "11  가는 말이 고와야 오는 말이   곱다"
            ]
          },
          "metadata": {
            "tags": []
          },
          "execution_count": 48
        }
      ]
    },
    {
      "cell_type": "code",
      "metadata": {
        "colab": {
          "base_uri": "https://localhost:8080/"
        },
        "id": "D3xiRxJbbr9b",
        "outputId": "49b24ff2-3f02-4b18-8e57-3956e09d1bf3"
      },
      "source": [
        "list1 = [str(i) for i in range(1,12)]\n",
        "print(list1)"
      ],
      "execution_count": null,
      "outputs": [
        {
          "output_type": "stream",
          "text": [
            "['1', '2', '3', '4', '5', '6', '7', '8', '9', '10', '11']\n"
          ],
          "name": "stdout"
        }
      ]
    },
    {
      "cell_type": "markdown",
      "metadata": {
        "id": "ddT2MIUAcdmJ"
      },
      "source": [
        "### 데이터에 대한 이해와 전처리"
      ]
    },
    {
      "cell_type": "code",
      "metadata": {
        "id": "RxHVAiqVcMrq"
      },
      "source": [
        "from tensorflow.keras.preprocessing.text import Tokenizer\n",
        "from tensorflow.keras.preprocessing.sequence import pad_sequences\n",
        "import numpy as np\n",
        "from tensorflow.keras.utils import to_categorical"
      ],
      "execution_count": null,
      "outputs": []
    },
    {
      "cell_type": "code",
      "metadata": {
        "id": "nM5R_q1TclQv"
      },
      "source": [
        "text=\"\"\"경마장에 있는 말이 뛰고 있다\\n\n",
        "그의 말이 법이다\\n\n",
        "가는 말이 고와야 오는 말이 곱다\\n\"\"\""
      ],
      "execution_count": null,
      "outputs": []
    },
    {
      "cell_type": "code",
      "metadata": {
        "colab": {
          "base_uri": "https://localhost:8080/"
        },
        "id": "j3nOIla5c4Bz",
        "outputId": "71677304-d459-4ac1-edc6-3b68e68fd6ec"
      },
      "source": [
        "# 단어집합을 생성, 크기를 확인\n",
        "t = Tokenizer()\n",
        "t.fit_on_texts([text])\n",
        "vocab_size = len(t.word_index) +1\n",
        "\n",
        "\n",
        "# 케라스 토크나이저 정수 인코딩은 인덱스가 1부터 시작.\n",
        "# 케라스 원-핫 인코딩에서 배열의 인덱스가 0부터 시작하기 때문에\n",
        "# 배열의 크기를 실제 단어 집합의 크기보다 +1 로 생성해야함 그래서 미리 +1 선언\n",
        "print('단어 집합의 크기 : %d' % vocab_size)"
      ],
      "execution_count": null,
      "outputs": [
        {
          "output_type": "stream",
          "text": [
            "단어 집합의 크기 : 12\n"
          ],
          "name": "stdout"
        }
      ]
    },
    {
      "cell_type": "code",
      "metadata": {
        "colab": {
          "base_uri": "https://localhost:8080/"
        },
        "id": "xC8RgVWFdP8Q",
        "outputId": "2fcfee0a-683a-4eb6-9f23-82ee1e1f2ed3"
      },
      "source": [
        "print(t.word_index)"
      ],
      "execution_count": null,
      "outputs": [
        {
          "output_type": "stream",
          "text": [
            "{'말이': 1, '경마장에': 2, '있는': 3, '뛰고': 4, '있다': 5, '그의': 6, '법이다': 7, '가는': 8, '고와야': 9, '오는': 10, '곱다': 11}\n"
          ],
          "name": "stdout"
        }
      ]
    },
    {
      "cell_type": "code",
      "metadata": {
        "colab": {
          "base_uri": "https://localhost:8080/"
        },
        "id": "34bWr48bdpee",
        "outputId": "40256b7b-b0b8-40cd-ee4e-ae0a688edf4c"
      },
      "source": [
        "# 훈련데이터 만들기\n",
        "sequences = list()\n",
        "for line in text.split('\\n'): # Wn을 기준으로 문장 토큰화\n",
        "    encoded = t.texts_to_sequences([line])[0]\n",
        "    for i in range(1, len(encoded)):\n",
        "        sequence = encoded[:i+1]\n",
        "        sequences.append(sequence)\n",
        "\n",
        "print('학습에 사용할 샘플의 개수: %d' % len(sequences))"
      ],
      "execution_count": null,
      "outputs": [
        {
          "output_type": "stream",
          "text": [
            "학습에 사용할 샘플의 개수: 11\n"
          ],
          "name": "stdout"
        }
      ]
    },
    {
      "cell_type": "code",
      "metadata": {
        "colab": {
          "base_uri": "https://localhost:8080/"
        },
        "id": "yzl1veQEeRNJ",
        "outputId": "46935d1c-d2c2-4198-bd1f-515748cc0c18"
      },
      "source": [
        "print(sequences)"
      ],
      "execution_count": null,
      "outputs": [
        {
          "output_type": "stream",
          "text": [
            "[[2, 3], [2, 3, 1], [2, 3, 1, 4], [2, 3, 1, 4, 5], [6, 1], [6, 1, 7], [8, 1], [8, 1, 9], [8, 1, 9, 10], [8, 1, 9, 10, 1], [8, 1, 9, 10, 1, 11]]\n"
          ],
          "name": "stdout"
        }
      ]
    },
    {
      "cell_type": "code",
      "metadata": {
        "colab": {
          "base_uri": "https://localhost:8080/"
        },
        "id": "miVjz3qWe4Uk",
        "outputId": "3153f183-da24-4c8f-e296-94a6473dc04f"
      },
      "source": [
        "max_len = max(len(l) for l in sequences) # 모든 샘플에서 길이가 가장 긴 샘플의 길이 출력\n",
        "print(f'샘플의 최대 길이 : {max_len}')"
      ],
      "execution_count": null,
      "outputs": [
        {
          "output_type": "stream",
          "text": [
            "샘플의 최대 길이 : 6\n"
          ],
          "name": "stdout"
        }
      ]
    },
    {
      "cell_type": "code",
      "metadata": {
        "id": "Fwgl9XMgfGhp"
      },
      "source": [
        "sequences = pad_sequences(sequences, maxlen=max_len, padding='pre')"
      ],
      "execution_count": null,
      "outputs": []
    },
    {
      "cell_type": "code",
      "metadata": {
        "colab": {
          "base_uri": "https://localhost:8080/"
        },
        "id": "GlOHJhoafWDr",
        "outputId": "9d972e6f-12d7-4370-c58c-c1bd1bab37b0"
      },
      "source": [
        "print(sequences)"
      ],
      "execution_count": null,
      "outputs": [
        {
          "output_type": "stream",
          "text": [
            "[[ 0  0  0  0  2  3]\n",
            " [ 0  0  0  2  3  1]\n",
            " [ 0  0  2  3  1  4]\n",
            " [ 0  2  3  1  4  5]\n",
            " [ 0  0  0  0  6  1]\n",
            " [ 0  0  0  6  1  7]\n",
            " [ 0  0  0  0  8  1]\n",
            " [ 0  0  0  8  1  9]\n",
            " [ 0  0  8  1  9 10]\n",
            " [ 0  8  1  9 10  1]\n",
            " [ 8  1  9 10  1 11]]\n"
          ],
          "name": "stdout"
        }
      ]
    },
    {
      "cell_type": "code",
      "metadata": {
        "id": "jRgO3sbifZD1"
      },
      "source": [
        "sequences = np.array(sequences)\n",
        "x = sequences[:, :-1]\n",
        "y = sequences[:, -1]\n",
        "# 리스트의 마지막 값을 제외하고 저장한 것은 x\n",
        "# 리스트의 마지막 값만 저장한 것은 y, -> 레이블에 해당"
      ],
      "execution_count": null,
      "outputs": []
    },
    {
      "cell_type": "code",
      "metadata": {
        "colab": {
          "base_uri": "https://localhost:8080/"
        },
        "id": "l7JOgbmxf3dA",
        "outputId": "41988e36-83f4-455f-a4eb-93288f2cc508"
      },
      "source": [
        "print(x)"
      ],
      "execution_count": null,
      "outputs": [
        {
          "output_type": "stream",
          "text": [
            "[[ 0  0  0  0  2]\n",
            " [ 0  0  0  2  3]\n",
            " [ 0  0  2  3  1]\n",
            " [ 0  2  3  1  4]\n",
            " [ 0  0  0  0  6]\n",
            " [ 0  0  0  6  1]\n",
            " [ 0  0  0  0  8]\n",
            " [ 0  0  0  8  1]\n",
            " [ 0  0  8  1  9]\n",
            " [ 0  8  1  9 10]\n",
            " [ 8  1  9 10  1]]\n"
          ],
          "name": "stdout"
        }
      ]
    },
    {
      "cell_type": "code",
      "metadata": {
        "colab": {
          "base_uri": "https://localhost:8080/"
        },
        "id": "9to-oOkZf4j2",
        "outputId": "425479af-3687-4ff5-e4fe-eee176090aaf"
      },
      "source": [
        "print(y) # 모든 샘플에 대한 레이블 출력"
      ],
      "execution_count": null,
      "outputs": [
        {
          "output_type": "stream",
          "text": [
            "[ 3  1  4  5  1  7  1  9 10  1 11]\n"
          ],
          "name": "stdout"
        }
      ]
    },
    {
      "cell_type": "code",
      "metadata": {
        "id": "Qrfg464bf6Ei"
      },
      "source": [
        "y = to_categorical(y, num_classes=vocab_size)"
      ],
      "execution_count": null,
      "outputs": []
    },
    {
      "cell_type": "code",
      "metadata": {
        "colab": {
          "base_uri": "https://localhost:8080/"
        },
        "id": "cXjDo6VkgOCM",
        "outputId": "00ec041d-821a-461f-c2a8-8da6f208eb21"
      },
      "source": [
        "print(y)"
      ],
      "execution_count": null,
      "outputs": [
        {
          "output_type": "stream",
          "text": [
            "[[0. 0. 0. 1. 0. 0. 0. 0. 0. 0. 0. 0.]\n",
            " [0. 1. 0. 0. 0. 0. 0. 0. 0. 0. 0. 0.]\n",
            " [0. 0. 0. 0. 1. 0. 0. 0. 0. 0. 0. 0.]\n",
            " [0. 0. 0. 0. 0. 1. 0. 0. 0. 0. 0. 0.]\n",
            " [0. 1. 0. 0. 0. 0. 0. 0. 0. 0. 0. 0.]\n",
            " [0. 0. 0. 0. 0. 0. 0. 1. 0. 0. 0. 0.]\n",
            " [0. 1. 0. 0. 0. 0. 0. 0. 0. 0. 0. 0.]\n",
            " [0. 0. 0. 0. 0. 0. 0. 0. 0. 1. 0. 0.]\n",
            " [0. 0. 0. 0. 0. 0. 0. 0. 0. 0. 1. 0.]\n",
            " [0. 1. 0. 0. 0. 0. 0. 0. 0. 0. 0. 0.]\n",
            " [0. 0. 0. 0. 0. 0. 0. 0. 0. 0. 0. 1.]]\n"
          ],
          "name": "stdout"
        }
      ]
    },
    {
      "cell_type": "markdown",
      "metadata": {
        "id": "1-13_rXJgkUx"
      },
      "source": [
        "### 모델 설계하기"
      ]
    },
    {
      "cell_type": "code",
      "metadata": {
        "id": "7zi1mmVegOwr"
      },
      "source": [
        "from tensorflow.keras.models import Sequential\n",
        "from tensorflow.keras.layers import Embedding, Dense, SimpleRNN"
      ],
      "execution_count": null,
      "outputs": []
    },
    {
      "cell_type": "code",
      "metadata": {
        "colab": {
          "base_uri": "https://localhost:8080/"
        },
        "id": "GxjK6_PUgw7C",
        "outputId": "db4875aa-7aeb-4ecd-eceb-6b5601263721"
      },
      "source": [
        "model = Sequential()\n",
        "model.add(Embedding(vocab_size, 10, input_length=max_len))\n",
        "model.add(SimpleRNN(32))\n",
        "model.add(Dense(vocab_size, activation='softmax'))\n",
        "model.compile(loss='categorical_crossentropy', optimizer='adam', metrics=['accuracy'])\n",
        "model.fit(x, y, epochs=200, verbose=2)"
      ],
      "execution_count": null,
      "outputs": [
        {
          "output_type": "stream",
          "text": [
            "Epoch 1/200\n",
            "WARNING:tensorflow:Model was constructed with shape (None, 6) for input KerasTensor(type_spec=TensorSpec(shape=(None, 6), dtype=tf.float32, name='embedding_1_input'), name='embedding_1_input', description=\"created by layer 'embedding_1_input'\"), but it was called on an input with incompatible shape (None, 5).\n",
            "WARNING:tensorflow:Model was constructed with shape (None, 6) for input KerasTensor(type_spec=TensorSpec(shape=(None, 6), dtype=tf.float32, name='embedding_1_input'), name='embedding_1_input', description=\"created by layer 'embedding_1_input'\"), but it was called on an input with incompatible shape (None, 5).\n",
            "1/1 - 1s - loss: 2.4832 - accuracy: 0.0909\n",
            "Epoch 2/200\n",
            "1/1 - 0s - loss: 2.4692 - accuracy: 0.0909\n",
            "Epoch 3/200\n",
            "1/1 - 0s - loss: 2.4551 - accuracy: 0.0909\n",
            "Epoch 4/200\n",
            "1/1 - 0s - loss: 2.4409 - accuracy: 0.0909\n",
            "Epoch 5/200\n",
            "1/1 - 0s - loss: 2.4264 - accuracy: 0.0909\n",
            "Epoch 6/200\n",
            "1/1 - 0s - loss: 2.4115 - accuracy: 0.0909\n",
            "Epoch 7/200\n",
            "1/1 - 0s - loss: 2.3962 - accuracy: 0.1818\n",
            "Epoch 8/200\n",
            "1/1 - 0s - loss: 2.3803 - accuracy: 0.1818\n",
            "Epoch 9/200\n",
            "1/1 - 0s - loss: 2.3638 - accuracy: 0.1818\n",
            "Epoch 10/200\n",
            "1/1 - 0s - loss: 2.3467 - accuracy: 0.2727\n",
            "Epoch 11/200\n",
            "1/1 - 0s - loss: 2.3288 - accuracy: 0.4545\n",
            "Epoch 12/200\n",
            "1/1 - 0s - loss: 2.3102 - accuracy: 0.3636\n",
            "Epoch 13/200\n",
            "1/1 - 0s - loss: 2.2907 - accuracy: 0.3636\n",
            "Epoch 14/200\n",
            "1/1 - 0s - loss: 2.2705 - accuracy: 0.3636\n",
            "Epoch 15/200\n",
            "1/1 - 0s - loss: 2.2496 - accuracy: 0.3636\n",
            "Epoch 16/200\n",
            "1/1 - 0s - loss: 2.2278 - accuracy: 0.3636\n",
            "Epoch 17/200\n",
            "1/1 - 0s - loss: 2.2054 - accuracy: 0.3636\n",
            "Epoch 18/200\n",
            "1/1 - 0s - loss: 2.1824 - accuracy: 0.3636\n",
            "Epoch 19/200\n",
            "1/1 - 0s - loss: 2.1588 - accuracy: 0.3636\n",
            "Epoch 20/200\n",
            "1/1 - 0s - loss: 2.1348 - accuracy: 0.3636\n",
            "Epoch 21/200\n",
            "1/1 - 0s - loss: 2.1105 - accuracy: 0.3636\n",
            "Epoch 22/200\n",
            "1/1 - 0s - loss: 2.0860 - accuracy: 0.3636\n",
            "Epoch 23/200\n",
            "1/1 - 0s - loss: 2.0615 - accuracy: 0.3636\n",
            "Epoch 24/200\n",
            "1/1 - 0s - loss: 2.0372 - accuracy: 0.3636\n",
            "Epoch 25/200\n",
            "1/1 - 0s - loss: 2.0132 - accuracy: 0.3636\n",
            "Epoch 26/200\n",
            "1/1 - 0s - loss: 1.9897 - accuracy: 0.3636\n",
            "Epoch 27/200\n",
            "1/1 - 0s - loss: 1.9667 - accuracy: 0.3636\n",
            "Epoch 28/200\n",
            "1/1 - 0s - loss: 1.9444 - accuracy: 0.3636\n",
            "Epoch 29/200\n",
            "1/1 - 0s - loss: 1.9228 - accuracy: 0.3636\n",
            "Epoch 30/200\n",
            "1/1 - 0s - loss: 1.9021 - accuracy: 0.3636\n",
            "Epoch 31/200\n",
            "1/1 - 0s - loss: 1.8821 - accuracy: 0.3636\n",
            "Epoch 32/200\n",
            "1/1 - 0s - loss: 1.8630 - accuracy: 0.4545\n",
            "Epoch 33/200\n",
            "1/1 - 0s - loss: 1.8446 - accuracy: 0.4545\n",
            "Epoch 34/200\n",
            "1/1 - 0s - loss: 1.8269 - accuracy: 0.4545\n",
            "Epoch 35/200\n",
            "1/1 - 0s - loss: 1.8097 - accuracy: 0.4545\n",
            "Epoch 36/200\n",
            "1/1 - 0s - loss: 1.7930 - accuracy: 0.4545\n",
            "Epoch 37/200\n",
            "1/1 - 0s - loss: 1.7766 - accuracy: 0.4545\n",
            "Epoch 38/200\n",
            "1/1 - 0s - loss: 1.7605 - accuracy: 0.4545\n",
            "Epoch 39/200\n",
            "1/1 - 0s - loss: 1.7446 - accuracy: 0.4545\n",
            "Epoch 40/200\n",
            "1/1 - 0s - loss: 1.7287 - accuracy: 0.4545\n",
            "Epoch 41/200\n",
            "1/1 - 0s - loss: 1.7130 - accuracy: 0.4545\n",
            "Epoch 42/200\n",
            "1/1 - 0s - loss: 1.6973 - accuracy: 0.4545\n",
            "Epoch 43/200\n",
            "1/1 - 0s - loss: 1.6818 - accuracy: 0.4545\n",
            "Epoch 44/200\n",
            "1/1 - 0s - loss: 1.6665 - accuracy: 0.4545\n",
            "Epoch 45/200\n",
            "1/1 - 0s - loss: 1.6515 - accuracy: 0.4545\n",
            "Epoch 46/200\n",
            "1/1 - 0s - loss: 1.6367 - accuracy: 0.4545\n",
            "Epoch 47/200\n",
            "1/1 - 0s - loss: 1.6223 - accuracy: 0.4545\n",
            "Epoch 48/200\n",
            "1/1 - 0s - loss: 1.6082 - accuracy: 0.4545\n",
            "Epoch 49/200\n",
            "1/1 - 0s - loss: 1.5944 - accuracy: 0.4545\n",
            "Epoch 50/200\n",
            "1/1 - 0s - loss: 1.5809 - accuracy: 0.4545\n",
            "Epoch 51/200\n",
            "1/1 - 0s - loss: 1.5675 - accuracy: 0.4545\n",
            "Epoch 52/200\n",
            "1/1 - 0s - loss: 1.5544 - accuracy: 0.4545\n",
            "Epoch 53/200\n",
            "1/1 - 0s - loss: 1.5414 - accuracy: 0.4545\n",
            "Epoch 54/200\n",
            "1/1 - 0s - loss: 1.5285 - accuracy: 0.4545\n",
            "Epoch 55/200\n",
            "1/1 - 0s - loss: 1.5157 - accuracy: 0.4545\n",
            "Epoch 56/200\n",
            "1/1 - 0s - loss: 1.5028 - accuracy: 0.4545\n",
            "Epoch 57/200\n",
            "1/1 - 0s - loss: 1.4900 - accuracy: 0.4545\n",
            "Epoch 58/200\n",
            "1/1 - 0s - loss: 1.4771 - accuracy: 0.4545\n",
            "Epoch 59/200\n",
            "1/1 - 0s - loss: 1.4641 - accuracy: 0.4545\n",
            "Epoch 60/200\n",
            "1/1 - 0s - loss: 1.4511 - accuracy: 0.4545\n",
            "Epoch 61/200\n",
            "1/1 - 0s - loss: 1.4380 - accuracy: 0.4545\n",
            "Epoch 62/200\n",
            "1/1 - 0s - loss: 1.4247 - accuracy: 0.4545\n",
            "Epoch 63/200\n",
            "1/1 - 0s - loss: 1.4114 - accuracy: 0.4545\n",
            "Epoch 64/200\n",
            "1/1 - 0s - loss: 1.3979 - accuracy: 0.4545\n",
            "Epoch 65/200\n",
            "1/1 - 0s - loss: 1.3843 - accuracy: 0.4545\n",
            "Epoch 66/200\n",
            "1/1 - 0s - loss: 1.3707 - accuracy: 0.4545\n",
            "Epoch 67/200\n",
            "1/1 - 0s - loss: 1.3569 - accuracy: 0.5455\n",
            "Epoch 68/200\n",
            "1/1 - 0s - loss: 1.3431 - accuracy: 0.5455\n",
            "Epoch 69/200\n",
            "1/1 - 0s - loss: 1.3291 - accuracy: 0.5455\n",
            "Epoch 70/200\n",
            "1/1 - 0s - loss: 1.3151 - accuracy: 0.5455\n",
            "Epoch 71/200\n",
            "1/1 - 0s - loss: 1.3011 - accuracy: 0.5455\n",
            "Epoch 72/200\n",
            "1/1 - 0s - loss: 1.2870 - accuracy: 0.5455\n",
            "Epoch 73/200\n",
            "1/1 - 0s - loss: 1.2729 - accuracy: 0.5455\n",
            "Epoch 74/200\n",
            "1/1 - 0s - loss: 1.2588 - accuracy: 0.5455\n",
            "Epoch 75/200\n",
            "1/1 - 0s - loss: 1.2446 - accuracy: 0.5455\n",
            "Epoch 76/200\n",
            "1/1 - 0s - loss: 1.2305 - accuracy: 0.5455\n",
            "Epoch 77/200\n",
            "1/1 - 0s - loss: 1.2164 - accuracy: 0.5455\n",
            "Epoch 78/200\n",
            "1/1 - 0s - loss: 1.2023 - accuracy: 0.5455\n",
            "Epoch 79/200\n",
            "1/1 - 0s - loss: 1.1883 - accuracy: 0.6364\n",
            "Epoch 80/200\n",
            "1/1 - 0s - loss: 1.1743 - accuracy: 0.6364\n",
            "Epoch 81/200\n",
            "1/1 - 0s - loss: 1.1604 - accuracy: 0.6364\n",
            "Epoch 82/200\n",
            "1/1 - 0s - loss: 1.1466 - accuracy: 0.6364\n",
            "Epoch 83/200\n",
            "1/1 - 0s - loss: 1.1329 - accuracy: 0.6364\n",
            "Epoch 84/200\n",
            "1/1 - 0s - loss: 1.1193 - accuracy: 0.6364\n",
            "Epoch 85/200\n",
            "1/1 - 0s - loss: 1.1058 - accuracy: 0.6364\n",
            "Epoch 86/200\n",
            "1/1 - 0s - loss: 1.0924 - accuracy: 0.6364\n",
            "Epoch 87/200\n",
            "1/1 - 0s - loss: 1.0791 - accuracy: 0.6364\n",
            "Epoch 88/200\n",
            "1/1 - 0s - loss: 1.0659 - accuracy: 0.6364\n",
            "Epoch 89/200\n",
            "1/1 - 0s - loss: 1.0528 - accuracy: 0.7273\n",
            "Epoch 90/200\n",
            "1/1 - 0s - loss: 1.0398 - accuracy: 0.7273\n",
            "Epoch 91/200\n",
            "1/1 - 0s - loss: 1.0268 - accuracy: 0.7273\n",
            "Epoch 92/200\n",
            "1/1 - 0s - loss: 1.0140 - accuracy: 0.7273\n",
            "Epoch 93/200\n",
            "1/1 - 0s - loss: 1.0012 - accuracy: 0.7273\n",
            "Epoch 94/200\n",
            "1/1 - 0s - loss: 0.9886 - accuracy: 0.7273\n",
            "Epoch 95/200\n",
            "1/1 - 0s - loss: 0.9760 - accuracy: 0.7273\n",
            "Epoch 96/200\n",
            "1/1 - 0s - loss: 0.9635 - accuracy: 0.7273\n",
            "Epoch 97/200\n",
            "1/1 - 0s - loss: 0.9511 - accuracy: 0.7273\n",
            "Epoch 98/200\n",
            "1/1 - 0s - loss: 0.9388 - accuracy: 0.7273\n",
            "Epoch 99/200\n",
            "1/1 - 0s - loss: 0.9266 - accuracy: 0.7273\n",
            "Epoch 100/200\n",
            "1/1 - 0s - loss: 0.9144 - accuracy: 0.7273\n",
            "Epoch 101/200\n",
            "1/1 - 0s - loss: 0.9024 - accuracy: 0.7273\n",
            "Epoch 102/200\n",
            "1/1 - 0s - loss: 0.8904 - accuracy: 0.7273\n",
            "Epoch 103/200\n",
            "1/1 - 0s - loss: 0.8786 - accuracy: 0.7273\n",
            "Epoch 104/200\n",
            "1/1 - 0s - loss: 0.8668 - accuracy: 0.7273\n",
            "Epoch 105/200\n",
            "1/1 - 0s - loss: 0.8551 - accuracy: 0.7273\n",
            "Epoch 106/200\n",
            "1/1 - 0s - loss: 0.8436 - accuracy: 0.7273\n",
            "Epoch 107/200\n",
            "1/1 - 0s - loss: 0.8321 - accuracy: 0.7273\n",
            "Epoch 108/200\n",
            "1/1 - 0s - loss: 0.8207 - accuracy: 0.7273\n",
            "Epoch 109/200\n",
            "1/1 - 0s - loss: 0.8094 - accuracy: 0.7273\n",
            "Epoch 110/200\n",
            "1/1 - 0s - loss: 0.7982 - accuracy: 0.7273\n",
            "Epoch 111/200\n",
            "1/1 - 0s - loss: 0.7872 - accuracy: 0.7273\n",
            "Epoch 112/200\n",
            "1/1 - 0s - loss: 0.7762 - accuracy: 0.7273\n",
            "Epoch 113/200\n",
            "1/1 - 0s - loss: 0.7653 - accuracy: 0.7273\n",
            "Epoch 114/200\n",
            "1/1 - 0s - loss: 0.7545 - accuracy: 0.7273\n",
            "Epoch 115/200\n",
            "1/1 - 0s - loss: 0.7438 - accuracy: 0.7273\n",
            "Epoch 116/200\n",
            "1/1 - 0s - loss: 0.7332 - accuracy: 0.7273\n",
            "Epoch 117/200\n",
            "1/1 - 0s - loss: 0.7227 - accuracy: 0.7273\n",
            "Epoch 118/200\n",
            "1/1 - 0s - loss: 0.7123 - accuracy: 0.7273\n",
            "Epoch 119/200\n",
            "1/1 - 0s - loss: 0.7020 - accuracy: 0.7273\n",
            "Epoch 120/200\n",
            "1/1 - 0s - loss: 0.6919 - accuracy: 0.7273\n",
            "Epoch 121/200\n",
            "1/1 - 0s - loss: 0.6818 - accuracy: 0.7273\n",
            "Epoch 122/200\n",
            "1/1 - 0s - loss: 0.6718 - accuracy: 0.7273\n",
            "Epoch 123/200\n",
            "1/1 - 0s - loss: 0.6619 - accuracy: 0.7273\n",
            "Epoch 124/200\n",
            "1/1 - 0s - loss: 0.6521 - accuracy: 0.7273\n",
            "Epoch 125/200\n",
            "1/1 - 0s - loss: 0.6424 - accuracy: 0.7273\n",
            "Epoch 126/200\n",
            "1/1 - 0s - loss: 0.6328 - accuracy: 0.7273\n",
            "Epoch 127/200\n",
            "1/1 - 0s - loss: 0.6233 - accuracy: 0.8182\n",
            "Epoch 128/200\n",
            "1/1 - 0s - loss: 0.6139 - accuracy: 0.8182\n",
            "Epoch 129/200\n",
            "1/1 - 0s - loss: 0.6047 - accuracy: 0.8182\n",
            "Epoch 130/200\n",
            "1/1 - 0s - loss: 0.5955 - accuracy: 0.8182\n",
            "Epoch 131/200\n",
            "1/1 - 0s - loss: 0.5864 - accuracy: 0.8182\n",
            "Epoch 132/200\n",
            "1/1 - 0s - loss: 0.5774 - accuracy: 0.8182\n",
            "Epoch 133/200\n",
            "1/1 - 0s - loss: 0.5685 - accuracy: 0.8182\n",
            "Epoch 134/200\n",
            "1/1 - 0s - loss: 0.5597 - accuracy: 0.8182\n",
            "Epoch 135/200\n",
            "1/1 - 0s - loss: 0.5511 - accuracy: 0.8182\n",
            "Epoch 136/200\n",
            "1/1 - 0s - loss: 0.5425 - accuracy: 0.8182\n",
            "Epoch 137/200\n",
            "1/1 - 0s - loss: 0.5340 - accuracy: 0.8182\n",
            "Epoch 138/200\n",
            "1/1 - 0s - loss: 0.5256 - accuracy: 0.8182\n",
            "Epoch 139/200\n",
            "1/1 - 0s - loss: 0.5173 - accuracy: 0.8182\n",
            "Epoch 140/200\n",
            "1/1 - 0s - loss: 0.5092 - accuracy: 0.8182\n",
            "Epoch 141/200\n",
            "1/1 - 0s - loss: 0.5011 - accuracy: 0.8182\n",
            "Epoch 142/200\n",
            "1/1 - 0s - loss: 0.4931 - accuracy: 0.9091\n",
            "Epoch 143/200\n",
            "1/1 - 0s - loss: 0.4852 - accuracy: 0.9091\n",
            "Epoch 144/200\n",
            "1/1 - 0s - loss: 0.4774 - accuracy: 0.9091\n",
            "Epoch 145/200\n",
            "1/1 - 0s - loss: 0.4697 - accuracy: 0.9091\n",
            "Epoch 146/200\n",
            "1/1 - 0s - loss: 0.4622 - accuracy: 0.9091\n",
            "Epoch 147/200\n",
            "1/1 - 0s - loss: 0.4547 - accuracy: 1.0000\n",
            "Epoch 148/200\n",
            "1/1 - 0s - loss: 0.4473 - accuracy: 1.0000\n",
            "Epoch 149/200\n",
            "1/1 - 0s - loss: 0.4399 - accuracy: 1.0000\n",
            "Epoch 150/200\n",
            "1/1 - 0s - loss: 0.4327 - accuracy: 1.0000\n",
            "Epoch 151/200\n",
            "1/1 - 0s - loss: 0.4256 - accuracy: 1.0000\n",
            "Epoch 152/200\n",
            "1/1 - 0s - loss: 0.4186 - accuracy: 1.0000\n",
            "Epoch 153/200\n",
            "1/1 - 0s - loss: 0.4116 - accuracy: 1.0000\n",
            "Epoch 154/200\n",
            "1/1 - 0s - loss: 0.4048 - accuracy: 1.0000\n",
            "Epoch 155/200\n",
            "1/1 - 0s - loss: 0.3980 - accuracy: 1.0000\n",
            "Epoch 156/200\n",
            "1/1 - 0s - loss: 0.3913 - accuracy: 1.0000\n",
            "Epoch 157/200\n",
            "1/1 - 0s - loss: 0.3847 - accuracy: 1.0000\n",
            "Epoch 158/200\n",
            "1/1 - 0s - loss: 0.3782 - accuracy: 1.0000\n",
            "Epoch 159/200\n",
            "1/1 - 0s - loss: 0.3718 - accuracy: 1.0000\n",
            "Epoch 160/200\n",
            "1/1 - 0s - loss: 0.3654 - accuracy: 1.0000\n",
            "Epoch 161/200\n",
            "1/1 - 0s - loss: 0.3591 - accuracy: 1.0000\n",
            "Epoch 162/200\n",
            "1/1 - 0s - loss: 0.3529 - accuracy: 1.0000\n",
            "Epoch 163/200\n",
            "1/1 - 0s - loss: 0.3468 - accuracy: 1.0000\n",
            "Epoch 164/200\n",
            "1/1 - 0s - loss: 0.3408 - accuracy: 1.0000\n",
            "Epoch 165/200\n",
            "1/1 - 0s - loss: 0.3348 - accuracy: 1.0000\n",
            "Epoch 166/200\n",
            "1/1 - 0s - loss: 0.3289 - accuracy: 1.0000\n",
            "Epoch 167/200\n",
            "1/1 - 0s - loss: 0.3231 - accuracy: 1.0000\n",
            "Epoch 168/200\n",
            "1/1 - 0s - loss: 0.3173 - accuracy: 1.0000\n",
            "Epoch 169/200\n",
            "1/1 - 0s - loss: 0.3116 - accuracy: 1.0000\n",
            "Epoch 170/200\n",
            "1/1 - 0s - loss: 0.3060 - accuracy: 1.0000\n",
            "Epoch 171/200\n",
            "1/1 - 0s - loss: 0.3005 - accuracy: 1.0000\n",
            "Epoch 172/200\n",
            "1/1 - 0s - loss: 0.2950 - accuracy: 1.0000\n",
            "Epoch 173/200\n",
            "1/1 - 0s - loss: 0.2896 - accuracy: 1.0000\n",
            "Epoch 174/200\n",
            "1/1 - 0s - loss: 0.2843 - accuracy: 1.0000\n",
            "Epoch 175/200\n",
            "1/1 - 0s - loss: 0.2790 - accuracy: 1.0000\n",
            "Epoch 176/200\n",
            "1/1 - 0s - loss: 0.2738 - accuracy: 1.0000\n",
            "Epoch 177/200\n",
            "1/1 - 0s - loss: 0.2687 - accuracy: 1.0000\n",
            "Epoch 178/200\n",
            "1/1 - 0s - loss: 0.2636 - accuracy: 1.0000\n",
            "Epoch 179/200\n",
            "1/1 - 0s - loss: 0.2586 - accuracy: 1.0000\n",
            "Epoch 180/200\n",
            "1/1 - 0s - loss: 0.2537 - accuracy: 1.0000\n",
            "Epoch 181/200\n",
            "1/1 - 0s - loss: 0.2488 - accuracy: 1.0000\n",
            "Epoch 182/200\n",
            "1/1 - 0s - loss: 0.2440 - accuracy: 1.0000\n",
            "Epoch 183/200\n",
            "1/1 - 0s - loss: 0.2393 - accuracy: 1.0000\n",
            "Epoch 184/200\n",
            "1/1 - 0s - loss: 0.2347 - accuracy: 1.0000\n",
            "Epoch 185/200\n",
            "1/1 - 0s - loss: 0.2301 - accuracy: 1.0000\n",
            "Epoch 186/200\n",
            "1/1 - 0s - loss: 0.2256 - accuracy: 1.0000\n",
            "Epoch 187/200\n",
            "1/1 - 0s - loss: 0.2212 - accuracy: 1.0000\n",
            "Epoch 188/200\n",
            "1/1 - 0s - loss: 0.2168 - accuracy: 1.0000\n",
            "Epoch 189/200\n",
            "1/1 - 0s - loss: 0.2125 - accuracy: 1.0000\n",
            "Epoch 190/200\n",
            "1/1 - 0s - loss: 0.2083 - accuracy: 1.0000\n",
            "Epoch 191/200\n",
            "1/1 - 0s - loss: 0.2041 - accuracy: 1.0000\n",
            "Epoch 192/200\n",
            "1/1 - 0s - loss: 0.2000 - accuracy: 1.0000\n",
            "Epoch 193/200\n",
            "1/1 - 0s - loss: 0.1960 - accuracy: 1.0000\n",
            "Epoch 194/200\n",
            "1/1 - 0s - loss: 0.1921 - accuracy: 1.0000\n",
            "Epoch 195/200\n",
            "1/1 - 0s - loss: 0.1882 - accuracy: 1.0000\n",
            "Epoch 196/200\n",
            "1/1 - 0s - loss: 0.1844 - accuracy: 1.0000\n",
            "Epoch 197/200\n",
            "1/1 - 0s - loss: 0.1807 - accuracy: 1.0000\n",
            "Epoch 198/200\n",
            "1/1 - 0s - loss: 0.1771 - accuracy: 1.0000\n",
            "Epoch 199/200\n",
            "1/1 - 0s - loss: 0.1735 - accuracy: 1.0000\n",
            "Epoch 200/200\n",
            "1/1 - 0s - loss: 0.1700 - accuracy: 1.0000\n"
          ],
          "name": "stdout"
        },
        {
          "output_type": "execute_result",
          "data": {
            "text/plain": [
              "<tensorflow.python.keras.callbacks.History at 0x7f6641eee9d0>"
            ]
          },
          "metadata": {
            "tags": []
          },
          "execution_count": 24
        }
      ]
    },
    {
      "cell_type": "code",
      "metadata": {
        "id": "ohkbi5rxhU0L"
      },
      "source": [
        "# # 문장을 생성하는 함수 만들어서 출력하기\n",
        "# def sentence_generation(model, t, current_word, n):\n",
        "#   init_word = current_word # 처음 들어온 단어도 마지막에 같이 출력하기 위해 저장\n",
        "#   sentence = ''\n",
        "#   for _ in range(n): # n번 반복\n",
        "#     encoded = t.texts_to_sequences([current_word][0]) # 현재 단어에 대한 정수 인코딩\n",
        "#     encoded = pad_sequences([encoded], maxlen=5, padding='pre') # 데이터에 대한 패딩\n",
        "#     result = model.predict_classes(encoded, verbose=0) # 입력한 X(현재 단어)\n",
        "#     for word, index in t.word_index.items():\n",
        "#       if index == result: # 만약 예측한 단어와 인덱스가 동일한 단어가 있다면\n",
        "#         break # 해당 단어가 예측 단어이므로 break\n",
        "#     current_word = current_word + ' ' + word # 현재 단어 + ' ' + 옟ㄱ 단어를 현재단어로 변경\n",
        "#     sentence = sentence + ' ' + word # 예측 단어를 문장에 저장\n",
        "  \n",
        "#   sentence = init_word + sentence_generation\n",
        "#   return sentence\n",
        "\n",
        "def sentence_generation(model, t, current_word, n): # 모델, 토크나이저, 현재 단어, 반복할 횟수\n",
        "    init_word = current_word # 처음 들어온 단어도 마지막에 같이 출력하기위해 저장\n",
        "    sentence = ''\n",
        "    for _ in range(n): # n번 반복\n",
        "        encoded = t.texts_to_sequences([current_word])[0] # 현재 단어에 대한 정수 인코딩\n",
        "        encoded = pad_sequences([encoded], maxlen=5, padding='pre') # 데이터에 대한 패딩\n",
        "        result = model.predict_classes(encoded, verbose=0)\n",
        "    # 입력한 X(현재 단어)에 대해서 Y를 예측하고 Y(예측한 단어)를 result에 저장.\n",
        "        for word, index in t.word_index.items(): \n",
        "            if index == result: # 만약 예측한 단어와 인덱스와 동일한 단어가 있다면\n",
        "                break # 해당 단어가 예측 단어이므로 break\n",
        "        current_word = current_word + ' '  + word # 현재 단어 + ' ' + 예측 단어를 현재 단어로 변경\n",
        "        sentence = sentence + ' ' + word # 예측 단어를 문장에 저장\n",
        "    # for문이므로 이 행동을 다시 반복\n",
        "    sentence = init_word + sentence\n",
        "    return sentence"
      ],
      "execution_count": null,
      "outputs": []
    },
    {
      "cell_type": "code",
      "metadata": {
        "colab": {
          "base_uri": "https://localhost:8080/"
        },
        "id": "OaEsztV2i59W",
        "outputId": "bb182f5d-7b02-4f82-9497-12a4646398d5"
      },
      "source": [
        "print(sentence_generation(model, t, '경마장에', 4))\n",
        "# '경마장에' 라는 단어 뒤에는 총 4개의 단어가 있으므로 4번 예측"
      ],
      "execution_count": null,
      "outputs": [
        {
          "output_type": "stream",
          "text": [
            "WARNING:tensorflow:Model was constructed with shape (None, 6) for input KerasTensor(type_spec=TensorSpec(shape=(None, 6), dtype=tf.float32, name='embedding_1_input'), name='embedding_1_input', description=\"created by layer 'embedding_1_input'\"), but it was called on an input with incompatible shape (None, 5).\n"
          ],
          "name": "stdout"
        },
        {
          "output_type": "stream",
          "text": [
            "/usr/local/lib/python3.7/dist-packages/tensorflow/python/keras/engine/sequential.py:455: UserWarning: `model.predict_classes()` is deprecated and will be removed after 2021-01-01. Please use instead:* `np.argmax(model.predict(x), axis=-1)`,   if your model does multi-class classification   (e.g. if it uses a `softmax` last-layer activation).* `(model.predict(x) > 0.5).astype(\"int32\")`,   if your model does binary classification   (e.g. if it uses a `sigmoid` last-layer activation).\n",
            "  warnings.warn('`model.predict_classes()` is deprecated and '\n"
          ],
          "name": "stderr"
        },
        {
          "output_type": "stream",
          "text": [
            "경마장에 있는 말이 뛰고 있다\n"
          ],
          "name": "stdout"
        }
      ]
    },
    {
      "cell_type": "code",
      "metadata": {
        "colab": {
          "base_uri": "https://localhost:8080/"
        },
        "id": "CB05vgyvjCmg",
        "outputId": "962f9536-e02e-43a7-a9e4-b788297b0a64"
      },
      "source": [
        "print(sentence_generation(model, t, '그의', 2)) # 2번 예측"
      ],
      "execution_count": null,
      "outputs": [
        {
          "output_type": "stream",
          "text": [
            "그의 말이 법이다\n"
          ],
          "name": "stdout"
        },
        {
          "output_type": "stream",
          "text": [
            "/usr/local/lib/python3.7/dist-packages/tensorflow/python/keras/engine/sequential.py:455: UserWarning: `model.predict_classes()` is deprecated and will be removed after 2021-01-01. Please use instead:* `np.argmax(model.predict(x), axis=-1)`,   if your model does multi-class classification   (e.g. if it uses a `softmax` last-layer activation).* `(model.predict(x) > 0.5).astype(\"int32\")`,   if your model does binary classification   (e.g. if it uses a `sigmoid` last-layer activation).\n",
            "  warnings.warn('`model.predict_classes()` is deprecated and '\n"
          ],
          "name": "stderr"
        }
      ]
    },
    {
      "cell_type": "code",
      "metadata": {
        "colab": {
          "base_uri": "https://localhost:8080/"
        },
        "id": "oNT2ycN2jgcF",
        "outputId": "beff1077-3361-4d97-8458-311cdb1bd3d7"
      },
      "source": [
        "print(sentence_generation(model, t, '가는', 5)) # 5번 예측"
      ],
      "execution_count": null,
      "outputs": [
        {
          "output_type": "stream",
          "text": [
            "/usr/local/lib/python3.7/dist-packages/tensorflow/python/keras/engine/sequential.py:455: UserWarning: `model.predict_classes()` is deprecated and will be removed after 2021-01-01. Please use instead:* `np.argmax(model.predict(x), axis=-1)`,   if your model does multi-class classification   (e.g. if it uses a `softmax` last-layer activation).* `(model.predict(x) > 0.5).astype(\"int32\")`,   if your model does binary classification   (e.g. if it uses a `sigmoid` last-layer activation).\n",
            "  warnings.warn('`model.predict_classes()` is deprecated and '\n"
          ],
          "name": "stderr"
        },
        {
          "output_type": "stream",
          "text": [
            "가는 말이 고와야 오는 말이 곱다\n"
          ],
          "name": "stdout"
        }
      ]
    },
    {
      "cell_type": "code",
      "metadata": {
        "colab": {
          "base_uri": "https://localhost:8080/"
        },
        "id": "aOwoc2iSjrjA",
        "outputId": "1707e226-034e-4be8-c7ab-cd6de93d123c"
      },
      "source": [
        "print(sentence_generation(model, t, '말이', 7))"
      ],
      "execution_count": null,
      "outputs": [
        {
          "output_type": "stream",
          "text": [
            "/usr/local/lib/python3.7/dist-packages/tensorflow/python/keras/engine/sequential.py:455: UserWarning: `model.predict_classes()` is deprecated and will be removed after 2021-01-01. Please use instead:* `np.argmax(model.predict(x), axis=-1)`,   if your model does multi-class classification   (e.g. if it uses a `softmax` last-layer activation).* `(model.predict(x) > 0.5).astype(\"int32\")`,   if your model does binary classification   (e.g. if it uses a `sigmoid` last-layer activation).\n",
            "  warnings.warn('`model.predict_classes()` is deprecated and '\n"
          ],
          "name": "stderr"
        },
        {
          "output_type": "stream",
          "text": [
            "말이 말이 고와야 오는 말이 곱다 곱다 오는\n"
          ],
          "name": "stdout"
        }
      ]
    },
    {
      "cell_type": "markdown",
      "metadata": {
        "id": "3CipW4taoY8a"
      },
      "source": [
        "## LSTM을 이용한 텍스트 생성"
      ]
    },
    {
      "cell_type": "code",
      "metadata": {
        "id": "AOk67SgvjyRx"
      },
      "source": [
        "# /content/drive/MyDrive/Colab Notebooks/자연어처리/ArticlesApril2018.csv"
      ],
      "execution_count": null,
      "outputs": []
    },
    {
      "cell_type": "code",
      "metadata": {
        "id": "nL05wgPWouhb"
      },
      "source": [
        "import pandas as pd\n",
        "from string import punctuation\n",
        "from tensorflow.keras.preprocessing.text import Tokenizer\n",
        "from tensorflow.keras.preprocessing.sequence import pad_sequences\n",
        "import numpy as np\n",
        "from tensorflow.keras.utils import to_categorical"
      ],
      "execution_count": null,
      "outputs": []
    },
    {
      "cell_type": "code",
      "metadata": {
        "colab": {
          "base_uri": "https://localhost:8080/",
          "height": 651
        },
        "id": "ppczgiNWpvXG",
        "outputId": "9a19bc9e-f29a-46f6-9ba1-55a81ee8b699"
      },
      "source": [
        "df = pd.read_csv('/content/drive/MyDrive/Colab Notebooks/자연어처리/ArticlesApril2018.csv')\n",
        "df.head()"
      ],
      "execution_count": null,
      "outputs": [
        {
          "output_type": "execute_result",
          "data": {
            "text/html": [
              "<div>\n",
              "<style scoped>\n",
              "    .dataframe tbody tr th:only-of-type {\n",
              "        vertical-align: middle;\n",
              "    }\n",
              "\n",
              "    .dataframe tbody tr th {\n",
              "        vertical-align: top;\n",
              "    }\n",
              "\n",
              "    .dataframe thead th {\n",
              "        text-align: right;\n",
              "    }\n",
              "</style>\n",
              "<table border=\"1\" class=\"dataframe\">\n",
              "  <thead>\n",
              "    <tr style=\"text-align: right;\">\n",
              "      <th></th>\n",
              "      <th>articleID</th>\n",
              "      <th>articleWordCount</th>\n",
              "      <th>byline</th>\n",
              "      <th>documentType</th>\n",
              "      <th>headline</th>\n",
              "      <th>keywords</th>\n",
              "      <th>multimedia</th>\n",
              "      <th>newDesk</th>\n",
              "      <th>printPage</th>\n",
              "      <th>pubDate</th>\n",
              "      <th>sectionName</th>\n",
              "      <th>snippet</th>\n",
              "      <th>source</th>\n",
              "      <th>typeOfMaterial</th>\n",
              "      <th>webURL</th>\n",
              "    </tr>\n",
              "  </thead>\n",
              "  <tbody>\n",
              "    <tr>\n",
              "      <th>0</th>\n",
              "      <td>5adf6684068401528a2aa69b</td>\n",
              "      <td>781</td>\n",
              "      <td>By JOHN BRANCH</td>\n",
              "      <td>article</td>\n",
              "      <td>Former N.F.L. Cheerleaders’ Settlement Offer: ...</td>\n",
              "      <td>['Workplace Hazards and Violations', 'Football...</td>\n",
              "      <td>68</td>\n",
              "      <td>Sports</td>\n",
              "      <td>0</td>\n",
              "      <td>2018-04-24 17:16:49</td>\n",
              "      <td>Pro Football</td>\n",
              "      <td>“I understand that they could meet with us, pa...</td>\n",
              "      <td>The New York Times</td>\n",
              "      <td>News</td>\n",
              "      <td>https://www.nytimes.com/2018/04/24/sports/foot...</td>\n",
              "    </tr>\n",
              "    <tr>\n",
              "      <th>1</th>\n",
              "      <td>5adf653f068401528a2aa697</td>\n",
              "      <td>656</td>\n",
              "      <td>By LISA FRIEDMAN</td>\n",
              "      <td>article</td>\n",
              "      <td>E.P.A. to Unveil a New Rule. Its Effect: Less ...</td>\n",
              "      <td>['Environmental Protection Agency', 'Pruitt, S...</td>\n",
              "      <td>68</td>\n",
              "      <td>Climate</td>\n",
              "      <td>0</td>\n",
              "      <td>2018-04-24 17:11:21</td>\n",
              "      <td>Unknown</td>\n",
              "      <td>The agency plans to publish a new regulation T...</td>\n",
              "      <td>The New York Times</td>\n",
              "      <td>News</td>\n",
              "      <td>https://www.nytimes.com/2018/04/24/climate/epa...</td>\n",
              "    </tr>\n",
              "    <tr>\n",
              "      <th>2</th>\n",
              "      <td>5adf4626068401528a2aa628</td>\n",
              "      <td>2427</td>\n",
              "      <td>By PETE WELLS</td>\n",
              "      <td>article</td>\n",
              "      <td>The New Noma, Explained</td>\n",
              "      <td>['Restaurants', 'Noma (Copenhagen, Restaurant)...</td>\n",
              "      <td>66</td>\n",
              "      <td>Dining</td>\n",
              "      <td>0</td>\n",
              "      <td>2018-04-24 14:58:44</td>\n",
              "      <td>Unknown</td>\n",
              "      <td>What’s it like to eat at the second incarnatio...</td>\n",
              "      <td>The New York Times</td>\n",
              "      <td>News</td>\n",
              "      <td>https://www.nytimes.com/2018/04/24/dining/noma...</td>\n",
              "    </tr>\n",
              "    <tr>\n",
              "      <th>3</th>\n",
              "      <td>5adf40d2068401528a2aa619</td>\n",
              "      <td>626</td>\n",
              "      <td>By JULIE HIRSCHFELD DAVIS and PETER BAKER</td>\n",
              "      <td>article</td>\n",
              "      <td>Unknown</td>\n",
              "      <td>['Macron, Emmanuel (1977- )', 'Trump, Donald J...</td>\n",
              "      <td>68</td>\n",
              "      <td>Washington</td>\n",
              "      <td>0</td>\n",
              "      <td>2018-04-24 14:35:57</td>\n",
              "      <td>Europe</td>\n",
              "      <td>President Trump welcomed President Emmanuel Ma...</td>\n",
              "      <td>The New York Times</td>\n",
              "      <td>News</td>\n",
              "      <td>https://www.nytimes.com/2018/04/24/world/europ...</td>\n",
              "    </tr>\n",
              "    <tr>\n",
              "      <th>4</th>\n",
              "      <td>5adf3d64068401528a2aa60f</td>\n",
              "      <td>815</td>\n",
              "      <td>By IAN AUSTEN and DAN BILEFSKY</td>\n",
              "      <td>article</td>\n",
              "      <td>Unknown</td>\n",
              "      <td>['Toronto, Ontario, Attack (April, 2018)', 'Mu...</td>\n",
              "      <td>68</td>\n",
              "      <td>Foreign</td>\n",
              "      <td>0</td>\n",
              "      <td>2018-04-24 14:21:21</td>\n",
              "      <td>Canada</td>\n",
              "      <td>Alek Minassian, 25, a resident of Toronto’s Ri...</td>\n",
              "      <td>The New York Times</td>\n",
              "      <td>News</td>\n",
              "      <td>https://www.nytimes.com/2018/04/24/world/canad...</td>\n",
              "    </tr>\n",
              "  </tbody>\n",
              "</table>\n",
              "</div>"
            ],
            "text/plain": [
              "                  articleID  ...                                             webURL\n",
              "0  5adf6684068401528a2aa69b  ...  https://www.nytimes.com/2018/04/24/sports/foot...\n",
              "1  5adf653f068401528a2aa697  ...  https://www.nytimes.com/2018/04/24/climate/epa...\n",
              "2  5adf4626068401528a2aa628  ...  https://www.nytimes.com/2018/04/24/dining/noma...\n",
              "3  5adf40d2068401528a2aa619  ...  https://www.nytimes.com/2018/04/24/world/europ...\n",
              "4  5adf3d64068401528a2aa60f  ...  https://www.nytimes.com/2018/04/24/world/canad...\n",
              "\n",
              "[5 rows x 15 columns]"
            ]
          },
          "metadata": {
            "tags": []
          },
          "execution_count": 40
        }
      ]
    },
    {
      "cell_type": "code",
      "metadata": {
        "colab": {
          "base_uri": "https://localhost:8080/"
        },
        "id": "CqztAx4pp2GQ",
        "outputId": "24445466-ddac-4141-9ef4-9991d877d275"
      },
      "source": [
        "# Null이 있는지 확인\n",
        "df.isna().sum()"
      ],
      "execution_count": null,
      "outputs": [
        {
          "output_type": "execute_result",
          "data": {
            "text/plain": [
              "articleID           0\n",
              "articleWordCount    0\n",
              "byline              0\n",
              "documentType        0\n",
              "headline            0\n",
              "keywords            0\n",
              "multimedia          0\n",
              "newDesk             0\n",
              "printPage           0\n",
              "pubDate             0\n",
              "sectionName         0\n",
              "snippet             0\n",
              "source              0\n",
              "typeOfMaterial      0\n",
              "webURL              0\n",
              "dtype: int64"
            ]
          },
          "metadata": {
            "tags": []
          },
          "execution_count": 41
        }
      ]
    },
    {
      "cell_type": "code",
      "metadata": {
        "id": "HIUfZV51qDDD"
      },
      "source": [
        "# headlin열에서 모든 신문 기사의 제목을 뽑아서 하나의 리스트로 저장\n",
        "# df.columns\n",
        "# 내가 한거\n",
        "headline = df['headline'].values.tolist()\n",
        "## 강사님\n",
        "# headline = []\n",
        "# headline.extend(list(df.headline.values)) #헤드라인의 값들을 리스트로 저장"
      ],
      "execution_count": null,
      "outputs": []
    },
    {
      "cell_type": "code",
      "metadata": {
        "colab": {
          "base_uri": "https://localhost:8080/"
        },
        "id": "_65sBiY3qJaj",
        "outputId": "edb449b7-cb6f-4e5c-86c1-f9fbb5758a96"
      },
      "source": [
        "# 상위 5개만 출력\n",
        "headline[:5]"
      ],
      "execution_count": null,
      "outputs": [
        {
          "output_type": "execute_result",
          "data": {
            "text/plain": [
              "['Former N.F.L. Cheerleaders’ Settlement Offer: $1 and a Meeting With Goodell',\n",
              " 'E.P.A. to Unveil a New Rule. Its Effect: Less Science in Policymaking.',\n",
              " 'The New Noma, Explained',\n",
              " 'Unknown',\n",
              " 'Unknown']"
            ]
          },
          "metadata": {
            "tags": []
          },
          "execution_count": 58
        }
      ]
    },
    {
      "cell_type": "code",
      "metadata": {
        "colab": {
          "base_uri": "https://localhost:8080/"
        },
        "id": "KrPYb9GwqOxb",
        "outputId": "e8ebcfff-db56-4749-e312-89249a8a0b99"
      },
      "source": [
        "# 총 샘플의 갯수\n",
        "len(headline)"
      ],
      "execution_count": null,
      "outputs": [
        {
          "output_type": "execute_result",
          "data": {
            "text/plain": [
              "1324"
            ]
          },
          "metadata": {
            "tags": []
          },
          "execution_count": 59
        }
      ]
    },
    {
      "cell_type": "code",
      "metadata": {
        "colab": {
          "base_uri": "https://localhost:8080/"
        },
        "id": "ZgWfRzwDqU1Q",
        "outputId": "f93eaea8-2a0c-42fe-c37d-eb1178f26287"
      },
      "source": [
        "# unknown값을 가진 샘플 제거\n",
        "# 제거 후 샘플의 갯수 출력\n",
        "headline = [n for n in headline if n != \"Unknown\"]\n",
        "print('노이즈 값 제거 후 샘플의 갯수 : {}'.format(len(headline)))"
      ],
      "execution_count": null,
      "outputs": [
        {
          "output_type": "stream",
          "text": [
            "노이즈 값 제거 후 샘플의 갯수 : 1214\n"
          ],
          "name": "stdout"
        }
      ]
    },
    {
      "cell_type": "code",
      "metadata": {
        "colab": {
          "base_uri": "https://localhost:8080/"
        },
        "id": "IYaI7fA1r93q",
        "outputId": "5bfd0a20-8ff8-407b-a243-0224ed6638b9"
      },
      "source": [
        "# 상위 5개만 출력\n",
        "headline[:5]"
      ],
      "execution_count": null,
      "outputs": [
        {
          "output_type": "execute_result",
          "data": {
            "text/plain": [
              "['Former N.F.L. Cheerleaders’ Settlement Offer: $1 and a Meeting With Goodell',\n",
              " 'E.P.A. to Unveil a New Rule. Its Effect: Less Science in Policymaking.',\n",
              " 'The New Noma, Explained',\n",
              " 'How a Bag of Texas Dirt  Became a Times Tradition',\n",
              " 'Is School a Place for Self-Expression?']"
            ]
          },
          "metadata": {
            "tags": []
          },
          "execution_count": 76
        }
      ]
    },
    {
      "cell_type": "code",
      "metadata": {
        "colab": {
          "base_uri": "https://localhost:8080/"
        },
        "id": "V2JCzYuGst5O",
        "outputId": "c13424d5-e1c8-4b28-8dbb-eb336d2f9aa2"
      },
      "source": [
        "# 전처리 수행\n",
        "\n",
        "def repreprocessing(s):\n",
        "    s=s.encode(\"utf8\").decode(\"ascii\",'ignore')\n",
        "    return ''.join(c for c in s if c not in punctuation).lower() # 구두점 제거와 동시에 소문자화\n",
        "\n",
        "text = [repreprocessing(x) for x in headline]\n",
        "text[:5]"
      ],
      "execution_count": null,
      "outputs": [
        {
          "output_type": "execute_result",
          "data": {
            "text/plain": [
              "['former nfl cheerleaders settlement offer 1 and a meeting with goodell',\n",
              " 'epa to unveil a new rule its effect less science in policymaking',\n",
              " 'the new noma explained',\n",
              " 'how a bag of texas dirt  became a times tradition',\n",
              " 'is school a place for selfexpression']"
            ]
          },
          "metadata": {
            "tags": []
          },
          "execution_count": 77
        }
      ]
    },
    {
      "cell_type": "code",
      "metadata": {
        "colab": {
          "base_uri": "https://localhost:8080/"
        },
        "id": "9L74EDp4ti6U",
        "outputId": "2c33f059-5057-4ea6-d1fc-ae57f18e7b5f"
      },
      "source": [
        "# 단어 집합을 만들고 크기 확인\n",
        "\n",
        "t = Tokenizer()\n",
        "t.fit_on_texts(text)\n",
        "vocab_size = len(t.word_index) + 1\n",
        "print('단어 집합의 크기 : %d' % vocab_size)"
      ],
      "execution_count": null,
      "outputs": [
        {
          "output_type": "stream",
          "text": [
            "단어 집합의 크기 : 3494\n"
          ],
          "name": "stdout"
        }
      ]
    },
    {
      "cell_type": "code",
      "metadata": {
        "colab": {
          "base_uri": "https://localhost:8080/"
        },
        "id": "7UXz9EI5tqWj",
        "outputId": "ebe4d4e5-7cc5-4f16-d269-7d57e642cb42"
      },
      "source": [
        "# 정수 인코딩과 동시에 하나의 문장을 여러 줄로 분해하여 훈련 데이터를 구성\n",
        "sequences = list()\n",
        "\n",
        "for line in text: # 1,214 개의 샘플에 대해서 샘플을 1개씩 가져온다.\n",
        "    encoded = t.texts_to_sequences([line])[0] # 각 샘플에 대한 정수 인코딩\n",
        "    for i in range(1, len(encoded)):\n",
        "        sequence = encoded[:i+1]\n",
        "        sequences.append(sequence)\n",
        "\n",
        "sequences[:11] # 11개의 샘플 출력"
      ],
      "execution_count": null,
      "outputs": [
        {
          "output_type": "execute_result",
          "data": {
            "text/plain": [
              "[[99, 269],\n",
              " [99, 269, 371],\n",
              " [99, 269, 371, 1115],\n",
              " [99, 269, 371, 1115, 582],\n",
              " [99, 269, 371, 1115, 582, 52],\n",
              " [99, 269, 371, 1115, 582, 52, 7],\n",
              " [99, 269, 371, 1115, 582, 52, 7, 2],\n",
              " [99, 269, 371, 1115, 582, 52, 7, 2, 372],\n",
              " [99, 269, 371, 1115, 582, 52, 7, 2, 372, 10],\n",
              " [99, 269, 371, 1115, 582, 52, 7, 2, 372, 10, 1116],\n",
              " [100, 3]]"
            ]
          },
          "metadata": {
            "tags": []
          },
          "execution_count": 79
        }
      ]
    },
    {
      "cell_type": "code",
      "metadata": {
        "colab": {
          "base_uri": "https://localhost:8080/"
        },
        "id": "gLMT_7CYuFZW",
        "outputId": "c8e30d65-22dc-4340-fbaf-fc4db0d2684f"
      },
      "source": [
        "# 어떤 정수가 어떤 단어를 의미하는지 알아보기 위해 인덱스로부터 단어를 찾는 index_to_word를 생성\n",
        "\n",
        "index_to_word={}\n",
        "for key, value in t.word_index.items(): # 인덱스를 단어로 바꾸기 위해 index_to_word를 생성\n",
        "    index_to_word[value] = key\n",
        "\n",
        "print('빈도수 상위 582번 단어 : {}'.format(index_to_word[582]))"
      ],
      "execution_count": null,
      "outputs": [
        {
          "output_type": "stream",
          "text": [
            "빈도수 상위 582번 단어 : offer\n"
          ],
          "name": "stdout"
        }
      ]
    },
    {
      "cell_type": "code",
      "metadata": {
        "colab": {
          "base_uri": "https://localhost:8080/"
        },
        "id": "dr_7GIVgvEbC",
        "outputId": "f86c14a0-d100-4819-a9ee-c6f32657d7b9"
      },
      "source": [
        "for i in range(1,11):\n",
        "  print(f'빈도수 상위 {i}번 단어 : {index_to_word[i]}')"
      ],
      "execution_count": null,
      "outputs": [
        {
          "output_type": "stream",
          "text": [
            "빈도수 상위 1번 단어 : the\n",
            "빈도수 상위 2번 단어 : a\n",
            "빈도수 상위 3번 단어 : to\n",
            "빈도수 상위 4번 단어 : of\n",
            "빈도수 상위 5번 단어 : in\n",
            "빈도수 상위 6번 단어 : for\n",
            "빈도수 상위 7번 단어 : and\n",
            "빈도수 상위 8번 단어 : is\n",
            "빈도수 상위 9번 단어 : on\n",
            "빈도수 상위 10번 단어 : with\n"
          ],
          "name": "stdout"
        }
      ]
    },
    {
      "cell_type": "code",
      "metadata": {
        "colab": {
          "base_uri": "https://localhost:8080/"
        },
        "id": "n0mUbY6yuV4p",
        "outputId": "ca85f3de-4ec9-444a-f092-1461ba75cb8b"
      },
      "source": [
        "# 패딩\n",
        "\n",
        "max_len=max(len(l) for l in sequences)\n",
        "print('샘플의 최대 길이 : {}'.format(max_len))\n",
        "\n",
        "sequences = pad_sequences(sequences, maxlen=max_len, padding='pre')\n",
        "print(sequences[:3])"
      ],
      "execution_count": null,
      "outputs": [
        {
          "output_type": "stream",
          "text": [
            "샘플의 최대 길이 : 24\n",
            "[[   0    0    0    0    0    0    0    0    0    0    0    0    0    0\n",
            "     0    0    0    0    0    0    0    0   99  269]\n",
            " [   0    0    0    0    0    0    0    0    0    0    0    0    0    0\n",
            "     0    0    0    0    0    0    0   99  269  371]\n",
            " [   0    0    0    0    0    0    0    0    0    0    0    0    0    0\n",
            "     0    0    0    0    0    0   99  269  371 1115]]\n"
          ],
          "name": "stdout"
        }
      ]
    },
    {
      "cell_type": "code",
      "metadata": {
        "colab": {
          "base_uri": "https://localhost:8080/"
        },
        "id": "NV4_RcvdufB6",
        "outputId": "03fa66f5-8cdf-4c16-a2be-a280aa5457db"
      },
      "source": [
        "# 맨 우측 단어만 레이블로 분리\n",
        "\n",
        "sequences = np.array(sequences)\n",
        "x = sequences[:,:-1]\n",
        "y = sequences[:,-1]\n",
        "\n",
        "print(x[:3])"
      ],
      "execution_count": null,
      "outputs": [
        {
          "output_type": "stream",
          "text": [
            "[[  0   0   0   0   0   0   0   0   0   0   0   0   0   0   0   0   0   0\n",
            "    0   0   0   0  99]\n",
            " [  0   0   0   0   0   0   0   0   0   0   0   0   0   0   0   0   0   0\n",
            "    0   0   0  99 269]\n",
            " [  0   0   0   0   0   0   0   0   0   0   0   0   0   0   0   0   0   0\n",
            "    0   0  99 269 371]]\n"
          ],
          "name": "stdout"
        }
      ]
    },
    {
      "cell_type": "code",
      "metadata": {
        "colab": {
          "base_uri": "https://localhost:8080/"
        },
        "id": "f3fGSGGbv3Iv",
        "outputId": "75167440-27a3-42c2-b1aa-50fe63218a7b"
      },
      "source": [
        "print(y[:3]) # 레이블"
      ],
      "execution_count": null,
      "outputs": [
        {
          "output_type": "stream",
          "text": [
            "[ 269  371 1115]\n"
          ],
          "name": "stdout"
        }
      ]
    },
    {
      "cell_type": "code",
      "metadata": {
        "id": "ArfC70wtwF-6"
      },
      "source": [
        "y = to_categorical(y, num_classes=vocab_size) # 원핫 인코딩"
      ],
      "execution_count": null,
      "outputs": []
    },
    {
      "cell_type": "code",
      "metadata": {
        "colab": {
          "base_uri": "https://localhost:8080/"
        },
        "id": "EebBZB6dwOM7",
        "outputId": "14b37f30-7429-4651-fc24-d26095ce7f52"
      },
      "source": [
        "print(y)"
      ],
      "execution_count": null,
      "outputs": [
        {
          "output_type": "stream",
          "text": [
            "[[0. 0. 0. ... 0. 0. 0.]\n",
            " [0. 0. 0. ... 0. 0. 0.]\n",
            " [0. 0. 0. ... 0. 0. 0.]\n",
            " ...\n",
            " [0. 0. 0. ... 0. 0. 0.]\n",
            " [0. 0. 1. ... 0. 0. 0.]\n",
            " [0. 0. 0. ... 0. 0. 0.]]\n"
          ],
          "name": "stdout"
        }
      ]
    },
    {
      "cell_type": "markdown",
      "metadata": {
        "id": "aKeZjCCYwZ_h"
      },
      "source": [
        "### 모델 설계"
      ]
    },
    {
      "cell_type": "code",
      "metadata": {
        "id": "vigdIiKowPmM"
      },
      "source": [
        "from tensorflow.keras.models import Sequential\n",
        "from tensorflow.keras.layers import Embedding, Dense, LSTM"
      ],
      "execution_count": null,
      "outputs": []
    },
    {
      "cell_type": "code",
      "metadata": {
        "colab": {
          "base_uri": "https://localhost:8080/"
        },
        "id": "_hrwGu39wd6L",
        "outputId": "e2c9edf4-7534-45c3-c607-838bfd2d67d0"
      },
      "source": [
        "model = Sequential()\n",
        "model.add(Embedding(vocab_size, 10, input_length=max_len-1))\n",
        "# y데이터를 분리하였으므로 이제 X데이터의 길이는 기존 데이터의 길이 - 1\n",
        "model.add(LSTM(128)) # 은닉상태 128\n",
        "model.add(Dense(vocab_size, activation='softmax'))\n",
        "model.compile(loss='categorical_crossentropy', optimizer='adam', metrics=['accuracy'])\n",
        "model.fit(x, y, epochs=200, verbose=2)"
      ],
      "execution_count": null,
      "outputs": [
        {
          "output_type": "stream",
          "text": [
            "Epoch 1/200\n",
            "244/244 - 10s - loss: 7.6379 - accuracy: 0.0297\n",
            "Epoch 2/200\n",
            "244/244 - 8s - loss: 7.1110 - accuracy: 0.0296\n",
            "Epoch 3/200\n",
            "244/244 - 8s - loss: 6.9758 - accuracy: 0.0350\n",
            "Epoch 4/200\n",
            "244/244 - 8s - loss: 6.8547 - accuracy: 0.0397\n",
            "Epoch 5/200\n",
            "244/244 - 8s - loss: 6.7070 - accuracy: 0.0452\n",
            "Epoch 6/200\n",
            "244/244 - 8s - loss: 6.5295 - accuracy: 0.0482\n",
            "Epoch 7/200\n",
            "244/244 - 8s - loss: 6.3421 - accuracy: 0.0491\n",
            "Epoch 8/200\n",
            "244/244 - 8s - loss: 6.1445 - accuracy: 0.0579\n",
            "Epoch 9/200\n",
            "244/244 - 8s - loss: 5.9480 - accuracy: 0.0615\n",
            "Epoch 10/200\n",
            "244/244 - 8s - loss: 5.7605 - accuracy: 0.0643\n",
            "Epoch 11/200\n",
            "244/244 - 8s - loss: 5.5819 - accuracy: 0.0700\n",
            "Epoch 12/200\n",
            "244/244 - 8s - loss: 5.4171 - accuracy: 0.0743\n",
            "Epoch 13/200\n",
            "244/244 - 8s - loss: 5.2587 - accuracy: 0.0834\n",
            "Epoch 14/200\n",
            "244/244 - 8s - loss: 5.1103 - accuracy: 0.0814\n",
            "Epoch 15/200\n",
            "244/244 - 8s - loss: 4.9700 - accuracy: 0.0983\n",
            "Epoch 16/200\n",
            "244/244 - 8s - loss: 4.8338 - accuracy: 0.1061\n",
            "Epoch 17/200\n",
            "244/244 - 8s - loss: 4.7075 - accuracy: 0.1198\n",
            "Epoch 18/200\n",
            "244/244 - 8s - loss: 4.5795 - accuracy: 0.1325\n",
            "Epoch 19/200\n",
            "244/244 - 8s - loss: 4.4590 - accuracy: 0.1466\n",
            "Epoch 20/200\n",
            "244/244 - 8s - loss: 4.3421 - accuracy: 0.1606\n",
            "Epoch 21/200\n",
            "244/244 - 8s - loss: 4.2280 - accuracy: 0.1760\n",
            "Epoch 22/200\n",
            "244/244 - 8s - loss: 4.1168 - accuracy: 0.1924\n",
            "Epoch 23/200\n",
            "244/244 - 8s - loss: 4.0124 - accuracy: 0.2061\n",
            "Epoch 24/200\n",
            "244/244 - 8s - loss: 3.9079 - accuracy: 0.2238\n",
            "Epoch 25/200\n",
            "244/244 - 8s - loss: 3.8056 - accuracy: 0.2426\n",
            "Epoch 26/200\n",
            "244/244 - 8s - loss: 3.7092 - accuracy: 0.2637\n",
            "Epoch 27/200\n",
            "244/244 - 8s - loss: 3.6156 - accuracy: 0.2781\n",
            "Epoch 28/200\n",
            "244/244 - 8s - loss: 3.5241 - accuracy: 0.2944\n",
            "Epoch 29/200\n",
            "244/244 - 8s - loss: 3.4350 - accuracy: 0.3076\n",
            "Epoch 30/200\n",
            "244/244 - 8s - loss: 3.3499 - accuracy: 0.3226\n",
            "Epoch 31/200\n",
            "244/244 - 8s - loss: 3.2693 - accuracy: 0.3365\n",
            "Epoch 32/200\n",
            "244/244 - 8s - loss: 3.1886 - accuracy: 0.3513\n",
            "Epoch 33/200\n",
            "244/244 - 8s - loss: 3.1108 - accuracy: 0.3652\n",
            "Epoch 34/200\n",
            "244/244 - 8s - loss: 3.0353 - accuracy: 0.3788\n",
            "Epoch 35/200\n",
            "244/244 - 8s - loss: 2.9621 - accuracy: 0.3955\n",
            "Epoch 36/200\n",
            "244/244 - 8s - loss: 2.8997 - accuracy: 0.4066\n",
            "Epoch 37/200\n",
            "244/244 - 8s - loss: 2.8294 - accuracy: 0.4202\n",
            "Epoch 38/200\n",
            "244/244 - 8s - loss: 2.7637 - accuracy: 0.4338\n",
            "Epoch 39/200\n",
            "244/244 - 8s - loss: 2.6996 - accuracy: 0.4447\n",
            "Epoch 40/200\n",
            "244/244 - 8s - loss: 2.6389 - accuracy: 0.4526\n",
            "Epoch 41/200\n",
            "244/244 - 8s - loss: 2.5804 - accuracy: 0.4710\n",
            "Epoch 42/200\n",
            "244/244 - 8s - loss: 2.5214 - accuracy: 0.4794\n",
            "Epoch 43/200\n",
            "244/244 - 8s - loss: 2.4643 - accuracy: 0.4887\n",
            "Epoch 44/200\n",
            "244/244 - 8s - loss: 2.4121 - accuracy: 0.4983\n",
            "Epoch 45/200\n",
            "244/244 - 8s - loss: 2.3584 - accuracy: 0.5119\n",
            "Epoch 46/200\n",
            "244/244 - 8s - loss: 2.3063 - accuracy: 0.5195\n",
            "Epoch 47/200\n",
            "244/244 - 8s - loss: 2.2547 - accuracy: 0.5318\n",
            "Epoch 48/200\n",
            "244/244 - 8s - loss: 2.2062 - accuracy: 0.5427\n",
            "Epoch 49/200\n",
            "244/244 - 8s - loss: 2.1576 - accuracy: 0.5522\n",
            "Epoch 50/200\n",
            "244/244 - 8s - loss: 2.1137 - accuracy: 0.5611\n",
            "Epoch 51/200\n",
            "244/244 - 8s - loss: 2.0649 - accuracy: 0.5730\n",
            "Epoch 52/200\n",
            "244/244 - 8s - loss: 2.0209 - accuracy: 0.5825\n",
            "Epoch 53/200\n",
            "244/244 - 8s - loss: 1.9752 - accuracy: 0.5916\n",
            "Epoch 54/200\n",
            "244/244 - 8s - loss: 1.9324 - accuracy: 0.6041\n",
            "Epoch 55/200\n",
            "244/244 - 8s - loss: 1.8889 - accuracy: 0.6100\n",
            "Epoch 56/200\n",
            "244/244 - 8s - loss: 1.8497 - accuracy: 0.6182\n",
            "Epoch 57/200\n",
            "244/244 - 8s - loss: 1.8081 - accuracy: 0.6326\n",
            "Epoch 58/200\n",
            "244/244 - 8s - loss: 1.7674 - accuracy: 0.6398\n",
            "Epoch 59/200\n",
            "244/244 - 8s - loss: 1.7304 - accuracy: 0.6490\n",
            "Epoch 60/200\n",
            "244/244 - 8s - loss: 1.6897 - accuracy: 0.6580\n",
            "Epoch 61/200\n",
            "244/244 - 8s - loss: 1.6521 - accuracy: 0.6692\n",
            "Epoch 62/200\n",
            "244/244 - 8s - loss: 1.6154 - accuracy: 0.6709\n",
            "Epoch 63/200\n",
            "244/244 - 8s - loss: 1.5806 - accuracy: 0.6822\n",
            "Epoch 64/200\n",
            "244/244 - 8s - loss: 1.5447 - accuracy: 0.6906\n",
            "Epoch 65/200\n",
            "244/244 - 8s - loss: 1.5093 - accuracy: 0.6955\n",
            "Epoch 66/200\n",
            "244/244 - 8s - loss: 1.4760 - accuracy: 0.7069\n",
            "Epoch 67/200\n",
            "244/244 - 8s - loss: 1.4435 - accuracy: 0.7092\n",
            "Epoch 68/200\n",
            "244/244 - 8s - loss: 1.4103 - accuracy: 0.7188\n",
            "Epoch 69/200\n",
            "244/244 - 8s - loss: 1.3789 - accuracy: 0.7277\n",
            "Epoch 70/200\n",
            "244/244 - 8s - loss: 1.3460 - accuracy: 0.7327\n",
            "Epoch 71/200\n",
            "244/244 - 8s - loss: 1.3143 - accuracy: 0.7377\n",
            "Epoch 72/200\n",
            "244/244 - 8s - loss: 1.2852 - accuracy: 0.7463\n",
            "Epoch 73/200\n",
            "244/244 - 8s - loss: 1.2575 - accuracy: 0.7524\n",
            "Epoch 74/200\n",
            "244/244 - 8s - loss: 1.2276 - accuracy: 0.7529\n",
            "Epoch 75/200\n",
            "244/244 - 8s - loss: 1.2007 - accuracy: 0.7632\n",
            "Epoch 76/200\n",
            "244/244 - 8s - loss: 1.1717 - accuracy: 0.7671\n",
            "Epoch 77/200\n",
            "244/244 - 8s - loss: 1.1463 - accuracy: 0.7744\n",
            "Epoch 78/200\n",
            "244/244 - 8s - loss: 1.1184 - accuracy: 0.7807\n",
            "Epoch 79/200\n",
            "244/244 - 8s - loss: 1.0950 - accuracy: 0.7856\n",
            "Epoch 80/200\n",
            "244/244 - 8s - loss: 1.0690 - accuracy: 0.7907\n",
            "Epoch 81/200\n",
            "244/244 - 8s - loss: 1.0459 - accuracy: 0.7996\n",
            "Epoch 82/200\n",
            "244/244 - 8s - loss: 1.0224 - accuracy: 0.7994\n",
            "Epoch 83/200\n",
            "244/244 - 8s - loss: 0.9985 - accuracy: 0.8051\n",
            "Epoch 84/200\n",
            "244/244 - 8s - loss: 0.9754 - accuracy: 0.8094\n",
            "Epoch 85/200\n",
            "244/244 - 8s - loss: 0.9529 - accuracy: 0.8121\n",
            "Epoch 86/200\n",
            "244/244 - 8s - loss: 0.9336 - accuracy: 0.8147\n",
            "Epoch 87/200\n",
            "244/244 - 8s - loss: 0.9131 - accuracy: 0.8201\n",
            "Epoch 88/200\n",
            "244/244 - 8s - loss: 0.8931 - accuracy: 0.8276\n",
            "Epoch 89/200\n",
            "244/244 - 8s - loss: 0.8733 - accuracy: 0.8284\n",
            "Epoch 90/200\n",
            "244/244 - 8s - loss: 0.8547 - accuracy: 0.8294\n",
            "Epoch 91/200\n",
            "244/244 - 8s - loss: 0.8353 - accuracy: 0.8343\n",
            "Epoch 92/200\n",
            "244/244 - 8s - loss: 0.8161 - accuracy: 0.8413\n",
            "Epoch 93/200\n",
            "244/244 - 8s - loss: 0.7983 - accuracy: 0.8419\n",
            "Epoch 94/200\n",
            "244/244 - 8s - loss: 0.7818 - accuracy: 0.8436\n",
            "Epoch 95/200\n",
            "244/244 - 8s - loss: 0.7640 - accuracy: 0.8484\n",
            "Epoch 96/200\n",
            "244/244 - 8s - loss: 0.7470 - accuracy: 0.8525\n",
            "Epoch 97/200\n",
            "244/244 - 8s - loss: 0.7331 - accuracy: 0.8581\n",
            "Epoch 98/200\n",
            "244/244 - 8s - loss: 0.7170 - accuracy: 0.8572\n",
            "Epoch 99/200\n",
            "244/244 - 8s - loss: 0.6991 - accuracy: 0.8595\n",
            "Epoch 100/200\n",
            "244/244 - 8s - loss: 0.6856 - accuracy: 0.8654\n",
            "Epoch 101/200\n",
            "244/244 - 8s - loss: 0.6709 - accuracy: 0.8644\n",
            "Epoch 102/200\n",
            "244/244 - 8s - loss: 0.6553 - accuracy: 0.8685\n",
            "Epoch 103/200\n",
            "244/244 - 8s - loss: 0.6420 - accuracy: 0.8720\n",
            "Epoch 104/200\n",
            "244/244 - 8s - loss: 0.6291 - accuracy: 0.8713\n",
            "Epoch 105/200\n",
            "244/244 - 8s - loss: 0.6159 - accuracy: 0.8752\n",
            "Epoch 106/200\n",
            "244/244 - 8s - loss: 0.6027 - accuracy: 0.8783\n",
            "Epoch 107/200\n",
            "244/244 - 8s - loss: 0.5924 - accuracy: 0.8821\n",
            "Epoch 108/200\n",
            "244/244 - 8s - loss: 0.5797 - accuracy: 0.8826\n",
            "Epoch 109/200\n",
            "244/244 - 8s - loss: 0.5674 - accuracy: 0.8831\n",
            "Epoch 110/200\n",
            "244/244 - 8s - loss: 0.5549 - accuracy: 0.8871\n",
            "Epoch 111/200\n",
            "244/244 - 8s - loss: 0.5454 - accuracy: 0.8886\n",
            "Epoch 112/200\n",
            "244/244 - 8s - loss: 0.5344 - accuracy: 0.8909\n",
            "Epoch 113/200\n",
            "244/244 - 8s - loss: 0.5240 - accuracy: 0.8920\n",
            "Epoch 114/200\n",
            "244/244 - 8s - loss: 0.5155 - accuracy: 0.8918\n",
            "Epoch 115/200\n",
            "244/244 - 8s - loss: 0.5046 - accuracy: 0.8962\n",
            "Epoch 116/200\n",
            "244/244 - 8s - loss: 0.4938 - accuracy: 0.8984\n",
            "Epoch 117/200\n",
            "244/244 - 8s - loss: 0.4848 - accuracy: 0.8979\n",
            "Epoch 118/200\n",
            "244/244 - 8s - loss: 0.4756 - accuracy: 0.9000\n",
            "Epoch 119/200\n",
            "244/244 - 8s - loss: 0.4669 - accuracy: 0.9044\n",
            "Epoch 120/200\n",
            "244/244 - 8s - loss: 0.4608 - accuracy: 0.9008\n",
            "Epoch 121/200\n",
            "244/244 - 8s - loss: 0.4514 - accuracy: 0.9058\n",
            "Epoch 122/200\n",
            "244/244 - 8s - loss: 0.4437 - accuracy: 0.9061\n",
            "Epoch 123/200\n",
            "244/244 - 8s - loss: 0.4365 - accuracy: 0.9062\n",
            "Epoch 124/200\n",
            "244/244 - 8s - loss: 0.4285 - accuracy: 0.9062\n",
            "Epoch 125/200\n",
            "244/244 - 8s - loss: 0.4207 - accuracy: 0.9073\n",
            "Epoch 126/200\n",
            "244/244 - 8s - loss: 0.4150 - accuracy: 0.9099\n",
            "Epoch 127/200\n",
            "244/244 - 8s - loss: 0.4086 - accuracy: 0.9100\n",
            "Epoch 128/200\n",
            "244/244 - 8s - loss: 0.4023 - accuracy: 0.9094\n",
            "Epoch 129/200\n",
            "244/244 - 8s - loss: 0.3951 - accuracy: 0.9127\n",
            "Epoch 130/200\n",
            "244/244 - 8s - loss: 0.4058 - accuracy: 0.9090\n",
            "Epoch 131/200\n",
            "244/244 - 8s - loss: 0.4013 - accuracy: 0.9082\n",
            "Epoch 132/200\n",
            "244/244 - 8s - loss: 0.3813 - accuracy: 0.9120\n",
            "Epoch 133/200\n",
            "244/244 - 8s - loss: 0.3718 - accuracy: 0.9117\n",
            "Epoch 134/200\n",
            "244/244 - 8s - loss: 0.3681 - accuracy: 0.9118\n",
            "Epoch 135/200\n",
            "244/244 - 8s - loss: 0.3636 - accuracy: 0.9118\n",
            "Epoch 136/200\n",
            "244/244 - 8s - loss: 0.3628 - accuracy: 0.9138\n",
            "Epoch 137/200\n",
            "244/244 - 8s - loss: 0.3553 - accuracy: 0.9130\n",
            "Epoch 138/200\n",
            "244/244 - 8s - loss: 0.3530 - accuracy: 0.9138\n",
            "Epoch 139/200\n",
            "244/244 - 8s - loss: 0.3473 - accuracy: 0.9145\n",
            "Epoch 140/200\n",
            "244/244 - 8s - loss: 0.3428 - accuracy: 0.9148\n",
            "Epoch 141/200\n",
            "244/244 - 8s - loss: 0.3404 - accuracy: 0.9130\n",
            "Epoch 142/200\n",
            "244/244 - 8s - loss: 0.3369 - accuracy: 0.9136\n",
            "Epoch 143/200\n",
            "244/244 - 8s - loss: 0.3337 - accuracy: 0.9145\n",
            "Epoch 144/200\n",
            "244/244 - 8s - loss: 0.3301 - accuracy: 0.9149\n",
            "Epoch 145/200\n",
            "244/244 - 8s - loss: 0.3259 - accuracy: 0.9158\n",
            "Epoch 146/200\n",
            "244/244 - 8s - loss: 0.3234 - accuracy: 0.9143\n",
            "Epoch 147/200\n",
            "244/244 - 8s - loss: 0.3212 - accuracy: 0.9154\n",
            "Epoch 148/200\n",
            "244/244 - 8s - loss: 0.3190 - accuracy: 0.9148\n",
            "Epoch 149/200\n",
            "244/244 - 8s - loss: 0.3173 - accuracy: 0.9130\n",
            "Epoch 150/200\n",
            "244/244 - 8s - loss: 0.3278 - accuracy: 0.9143\n",
            "Epoch 151/200\n",
            "244/244 - 8s - loss: 0.3329 - accuracy: 0.9123\n",
            "Epoch 152/200\n",
            "244/244 - 8s - loss: 0.3184 - accuracy: 0.9129\n",
            "Epoch 153/200\n",
            "244/244 - 8s - loss: 0.3070 - accuracy: 0.9162\n",
            "Epoch 154/200\n",
            "244/244 - 8s - loss: 0.3043 - accuracy: 0.9159\n",
            "Epoch 155/200\n",
            "244/244 - 8s - loss: 0.3009 - accuracy: 0.9167\n",
            "Epoch 156/200\n",
            "244/244 - 8s - loss: 0.2987 - accuracy: 0.9162\n",
            "Epoch 157/200\n",
            "244/244 - 8s - loss: 0.2978 - accuracy: 0.9161\n",
            "Epoch 158/200\n",
            "244/244 - 8s - loss: 0.2962 - accuracy: 0.9167\n",
            "Epoch 159/200\n",
            "244/244 - 8s - loss: 0.2946 - accuracy: 0.9163\n",
            "Epoch 160/200\n",
            "244/244 - 8s - loss: 0.2939 - accuracy: 0.9161\n",
            "Epoch 161/200\n",
            "244/244 - 8s - loss: 0.2924 - accuracy: 0.9168\n",
            "Epoch 162/200\n",
            "244/244 - 8s - loss: 0.2911 - accuracy: 0.9157\n",
            "Epoch 163/200\n",
            "244/244 - 8s - loss: 0.2887 - accuracy: 0.9167\n",
            "Epoch 164/200\n",
            "244/244 - 8s - loss: 0.2869 - accuracy: 0.9173\n",
            "Epoch 165/200\n",
            "244/244 - 8s - loss: 0.2855 - accuracy: 0.9166\n",
            "Epoch 166/200\n",
            "244/244 - 8s - loss: 0.2857 - accuracy: 0.9172\n",
            "Epoch 167/200\n",
            "244/244 - 8s - loss: 0.2839 - accuracy: 0.9154\n",
            "Epoch 168/200\n",
            "244/244 - 8s - loss: 0.2845 - accuracy: 0.9166\n",
            "Epoch 169/200\n",
            "244/244 - 8s - loss: 0.2857 - accuracy: 0.9157\n",
            "Epoch 170/200\n",
            "244/244 - 8s - loss: 0.2846 - accuracy: 0.9163\n",
            "Epoch 171/200\n",
            "244/244 - 8s - loss: 0.2825 - accuracy: 0.9164\n",
            "Epoch 172/200\n",
            "244/244 - 8s - loss: 0.2862 - accuracy: 0.9149\n",
            "Epoch 173/200\n",
            "244/244 - 8s - loss: 0.2781 - accuracy: 0.9168\n",
            "Epoch 174/200\n",
            "244/244 - 8s - loss: 0.2767 - accuracy: 0.9157\n",
            "Epoch 175/200\n",
            "244/244 - 8s - loss: 0.2750 - accuracy: 0.9157\n",
            "Epoch 176/200\n",
            "244/244 - 8s - loss: 0.2738 - accuracy: 0.9166\n",
            "Epoch 177/200\n",
            "244/244 - 8s - loss: 0.2737 - accuracy: 0.9173\n",
            "Epoch 178/200\n",
            "244/244 - 8s - loss: 0.2736 - accuracy: 0.9175\n",
            "Epoch 179/200\n",
            "244/244 - 8s - loss: 0.2735 - accuracy: 0.9168\n",
            "Epoch 180/200\n",
            "244/244 - 8s - loss: 0.2718 - accuracy: 0.9184\n",
            "Epoch 181/200\n",
            "244/244 - 8s - loss: 0.2716 - accuracy: 0.9166\n",
            "Epoch 182/200\n",
            "244/244 - 8s - loss: 0.2835 - accuracy: 0.9145\n",
            "Epoch 183/200\n",
            "244/244 - 8s - loss: 0.2911 - accuracy: 0.9120\n",
            "Epoch 184/200\n",
            "244/244 - 8s - loss: 0.2837 - accuracy: 0.9141\n",
            "Epoch 185/200\n",
            "244/244 - 8s - loss: 0.2720 - accuracy: 0.9179\n",
            "Epoch 186/200\n",
            "244/244 - 8s - loss: 0.2687 - accuracy: 0.9167\n",
            "Epoch 187/200\n",
            "244/244 - 8s - loss: 0.2672 - accuracy: 0.9176\n",
            "Epoch 188/200\n",
            "244/244 - 8s - loss: 0.2665 - accuracy: 0.9171\n",
            "Epoch 189/200\n",
            "244/244 - 8s - loss: 0.2668 - accuracy: 0.9159\n",
            "Epoch 190/200\n",
            "244/244 - 8s - loss: 0.2663 - accuracy: 0.9154\n",
            "Epoch 191/200\n",
            "244/244 - 8s - loss: 0.2652 - accuracy: 0.9166\n",
            "Epoch 192/200\n",
            "244/244 - 8s - loss: 0.2661 - accuracy: 0.9170\n",
            "Epoch 193/200\n",
            "244/244 - 8s - loss: 0.2650 - accuracy: 0.9175\n",
            "Epoch 194/200\n",
            "244/244 - 8s - loss: 0.2647 - accuracy: 0.9161\n",
            "Epoch 195/200\n",
            "244/244 - 8s - loss: 0.2643 - accuracy: 0.9144\n",
            "Epoch 196/200\n",
            "244/244 - 8s - loss: 0.2662 - accuracy: 0.9161\n",
            "Epoch 197/200\n",
            "244/244 - 8s - loss: 0.2759 - accuracy: 0.9161\n",
            "Epoch 198/200\n",
            "244/244 - 8s - loss: 0.2765 - accuracy: 0.9134\n",
            "Epoch 199/200\n",
            "244/244 - 8s - loss: 0.2667 - accuracy: 0.9158\n",
            "Epoch 200/200\n",
            "244/244 - 8s - loss: 0.2622 - accuracy: 0.9179\n"
          ],
          "name": "stdout"
        },
        {
          "output_type": "execute_result",
          "data": {
            "text/plain": [
              "<tensorflow.python.keras.callbacks.History at 0x7f663e25af90>"
            ]
          },
          "metadata": {
            "tags": []
          },
          "execution_count": 91
        }
      ]
    },
    {
      "cell_type": "code",
      "metadata": {
        "id": "9jXUnhDMw8mz"
      },
      "source": [
        "# 문장 생성\n",
        "def sentence_generation(model, t, current_word, n): # 모델, 토크나이저, 현재 단어, 반복할 횟수\n",
        "    init_word = current_word # 처음 들어온 단어도 마지막에 같이 출력하기위해 저장\n",
        "    sentence = ''\n",
        "    for _ in range(n): # n번 반복\n",
        "        encoded = t.texts_to_sequences([current_word])[0] # 현재 단어에 대한 정수 인코딩\n",
        "        encoded = pad_sequences([encoded], maxlen=23, padding='pre') # 데이터에 대한 패딩\n",
        "        result = model.predict_classes(encoded, verbose=0)\n",
        "    # 입력한 X(현재 단어)에 대해서 y를 예측하고 y(예측한 단어)를 result에 저장.\n",
        "        for word, index in t.word_index.items(): \n",
        "            if index == result: # 만약 예측한 단어와 인덱스와 동일한 단어가 있다면\n",
        "                break # 해당 단어가 예측 단어이므로 break\n",
        "        current_word = current_word + ' '  + word # 현재 단어 + ' ' + 예측 단어를 현재 단어로 변경\n",
        "        sentence = sentence + ' ' + word # 예측 단어를 문장에 저장\n",
        "    # for문이므로 이 행동을 다시 반복\n",
        "    sentence = init_word + sentence\n",
        "    return sentence"
      ],
      "execution_count": null,
      "outputs": []
    },
    {
      "cell_type": "code",
      "metadata": {
        "colab": {
          "base_uri": "https://localhost:8080/"
        },
        "id": "P_uGT0E22tcb",
        "outputId": "29052cbe-8d23-4580-f762-70c770ed4da4"
      },
      "source": [
        "print(sentence_generation(model, t, 'i', 10))\n",
        "# 임의의 단어 'i'에 대해서 10개의 단어를 추가 생성"
      ],
      "execution_count": null,
      "outputs": [
        {
          "output_type": "stream",
          "text": [
            "/usr/local/lib/python3.7/dist-packages/tensorflow/python/keras/engine/sequential.py:455: UserWarning: `model.predict_classes()` is deprecated and will be removed after 2021-01-01. Please use instead:* `np.argmax(model.predict(x), axis=-1)`,   if your model does multi-class classification   (e.g. if it uses a `softmax` last-layer activation).* `(model.predict(x) > 0.5).astype(\"int32\")`,   if your model does binary classification   (e.g. if it uses a `sigmoid` last-layer activation).\n",
            "  warnings.warn('`model.predict_classes()` is deprecated and '\n"
          ],
          "name": "stderr"
        },
        {
          "output_type": "stream",
          "text": [
            "i want to be rich and im not sorry attack about\n"
          ],
          "name": "stdout"
        }
      ]
    },
    {
      "cell_type": "code",
      "metadata": {
        "colab": {
          "base_uri": "https://localhost:8080/"
        },
        "id": "x4YRYZCS2x3u",
        "outputId": "947dea68-f548-4ec8-d0cb-b4f27c74f4bd"
      },
      "source": [
        "print(sentence_generation(model, t, 'how', 10))\n",
        "# 임의의 단어 'how'에 대해서 10개의 단어를 추가 생성"
      ],
      "execution_count": null,
      "outputs": [
        {
          "output_type": "stream",
          "text": [
            "/usr/local/lib/python3.7/dist-packages/tensorflow/python/keras/engine/sequential.py:455: UserWarning: `model.predict_classes()` is deprecated and will be removed after 2021-01-01. Please use instead:* `np.argmax(model.predict(x), axis=-1)`,   if your model does multi-class classification   (e.g. if it uses a `softmax` last-layer activation).* `(model.predict(x) > 0.5).astype(\"int32\")`,   if your model does binary classification   (e.g. if it uses a `sigmoid` last-layer activation).\n",
            "  warnings.warn('`model.predict_classes()` is deprecated and '\n"
          ],
          "name": "stderr"
        },
        {
          "output_type": "stream",
          "text": [
            "how to win an argument about guns about greenpeace big old\n"
          ],
          "name": "stdout"
        }
      ]
    },
    {
      "cell_type": "code",
      "metadata": {
        "colab": {
          "base_uri": "https://localhost:8080/"
        },
        "id": "f7vG1vnm27OM",
        "outputId": "62c99ccc-8fec-42bb-a569-146c5742a073"
      },
      "source": [
        "# epa to unveil a new rule its effect less science in policymakin\n",
        "print(sentence_generation(model, t, 'epa', 11))"
      ],
      "execution_count": null,
      "outputs": [
        {
          "output_type": "stream",
          "text": [
            "/usr/local/lib/python3.7/dist-packages/tensorflow/python/keras/engine/sequential.py:455: UserWarning: `model.predict_classes()` is deprecated and will be removed after 2021-01-01. Please use instead:* `np.argmax(model.predict(x), axis=-1)`,   if your model does multi-class classification   (e.g. if it uses a `softmax` last-layer activation).* `(model.predict(x) > 0.5).astype(\"int32\")`,   if your model does binary classification   (e.g. if it uses a `sigmoid` last-layer activation).\n",
            "  warnings.warn('`model.predict_classes()` is deprecated and '\n"
          ],
          "name": "stderr"
        },
        {
          "output_type": "stream",
          "text": [
            "epa to unveil a new rule its effect less science in policymaking\n"
          ],
          "name": "stdout"
        }
      ]
    },
    {
      "cell_type": "code",
      "metadata": {
        "id": "pp-2BKDX3Vsu"
      },
      "source": [
        "'''\n",
        "'former nfl cheerleaders settlement offer 1 and a meeting with goodell',\n",
        " 'epa to unveil a new rule its effect less science in policymaking',\n",
        " 'the new noma explained',\n",
        " 'how a bag of texas dirt  became a times tradition',\n",
        " 'is school a place for selfexpression'\n",
        "'''\n",
        "print(sen)"
      ],
      "execution_count": null,
      "outputs": []
    }
  ]
}