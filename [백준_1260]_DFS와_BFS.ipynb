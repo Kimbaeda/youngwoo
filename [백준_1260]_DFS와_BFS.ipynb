{
  "nbformat": 4,
  "nbformat_minor": 0,
  "metadata": {
    "colab": {
      "name": "[백준 1260] DFS와 BFS.ipynb",
      "provenance": [],
      "collapsed_sections": [],
      "authorship_tag": "ABX9TyMg8xSoEJ8AQq/nOhyanQf8",
      "include_colab_link": true
    },
    "kernelspec": {
      "name": "python3",
      "display_name": "Python 3"
    },
    "language_info": {
      "name": "python"
    }
  },
  "cells": [
    {
      "cell_type": "markdown",
      "metadata": {
        "id": "view-in-github",
        "colab_type": "text"
      },
      "source": [
        "<a href=\"https://colab.research.google.com/github/Kimbaeda/youngwoo/blob/main/%5B%EB%B0%B1%EC%A4%80_1260%5D_DFS%EC%99%80_BFS.ipynb\" target=\"_parent\"><img src=\"https://colab.research.google.com/assets/colab-badge.svg\" alt=\"Open In Colab\"/></a>"
      ]
    },
    {
      "cell_type": "code",
      "metadata": {
        "colab": {
          "base_uri": "https://localhost:8080/"
        },
        "id": "OBDhR19b-Epc",
        "outputId": "14b1bf36-9787-415b-c6e2-1b44db68ec25"
      },
      "source": [
        "from collections import deque\n",
        "import sys\n",
        "# input = sys.stdin.readline\n",
        "\n",
        "queue = deque()\n",
        "\n",
        "N,M,V=map(int,input().split())\n",
        "matrix=[[0]*(N+1) for i in range(N+1)]\n",
        "for i in range(M):\n",
        "    a,b = map(int,input().split())\n",
        "    matrix[a][b]=matrix[b][a]=1\n",
        "visit_list=[0]*(N+1)\n",
        "\n",
        "def dfs(V):\n",
        "    visit_list[V]=1 #방문한 점 1로 표시\n",
        "    print(V, end=' ')\n",
        "    for i in range(1,N+1):\n",
        "        if(visit_list[i]==0 and matrix[V][i]==1):\n",
        "            dfs(i)\n",
        "\n",
        "def bfs(V):\n",
        "    queue=[V] #들려야 할 정점 저장\n",
        "    visit_list[V]=0 #방문한 점 0으로 표시\n",
        "    while queue:\n",
        "        V=queue.pop(0)\n",
        "        print(V, end=' ')\n",
        "        for i in range(1, N+1):\n",
        "            if(visit_list[i]==1 and matrix[V][i]==1):\n",
        "                queue.append(i)\n",
        "                visit_list[i]=0\n",
        "\n",
        "dfs(V)\n",
        "print()\n",
        "bfs(V)"
      ],
      "execution_count": null,
      "outputs": [
        {
          "output_type": "stream",
          "text": [
            "4 5 1\n",
            "1 2\n",
            "1 3\n",
            "1 4\n",
            "2 4\n",
            "3 4\n",
            "1 2 4 3 \n",
            "1 2 3 4 "
          ],
          "name": "stdout"
        }
      ]
    },
    {
      "cell_type": "code",
      "metadata": {
        "id": "O12ieBV7-LYB"
      },
      "source": [
        "4 5 1\n",
        "1 2\n",
        "1 3\n",
        "1 4\n",
        "2 4\n",
        "3 4"
      ],
      "execution_count": null,
      "outputs": []
    }
  ]
}