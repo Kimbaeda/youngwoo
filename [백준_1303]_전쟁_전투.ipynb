{
  "nbformat": 4,
  "nbformat_minor": 0,
  "metadata": {
    "colab": {
      "name": "[백준 1303] 전쟁-전투.ipynb",
      "provenance": [],
      "collapsed_sections": [],
      "authorship_tag": "ABX9TyNOF6E3IMt0ea109grxgb9z",
      "include_colab_link": true
    },
    "kernelspec": {
      "name": "python3",
      "display_name": "Python 3"
    },
    "language_info": {
      "name": "python"
    }
  },
  "cells": [
    {
      "cell_type": "markdown",
      "metadata": {
        "id": "view-in-github",
        "colab_type": "text"
      },
      "source": [
        "<a href=\"https://colab.research.google.com/github/Kimbaeda/youngwoo/blob/main/%5B%EB%B0%B1%EC%A4%80_1303%5D_%EC%A0%84%EC%9F%81_%EC%A0%84%ED%88%AC.ipynb\" target=\"_parent\"><img src=\"https://colab.research.google.com/assets/colab-badge.svg\" alt=\"Open In Colab\"/></a>"
      ]
    },
    {
      "cell_type": "code",
      "metadata": {
        "colab": {
          "base_uri": "https://localhost:8080/"
        },
        "id": "9PRbrIs4dLr8",
        "outputId": "8678f011-1a28-4ad1-f452-ce32f4393a46"
      },
      "source": [
        "import sys\n",
        "from collections import deque\n",
        "input = sys.stdin.readline\n",
        " \n",
        "def bfs(x, y, color):\n",
        "    cnt = 0\n",
        "    queue = deque()\n",
        "    queue.append((x, y))\n",
        "    visited[x][y] = True\n",
        " \n",
        "    while queue:\n",
        "        x, y = queue.popleft()\n",
        " \n",
        "        for i in range(4):\n",
        "            nx = x + dx[i]\n",
        "            ny = y + dy[i]\n",
        " \n",
        "            if 0 <= nx < m and 0 <= ny < n:\n",
        "                if graph[nx][ny] == color and not visited[nx][ny]:    # each color check\n",
        "                    visited[nx][ny] = True\n",
        "                    queue.append((nx, ny))\n",
        "                    cnt += 1    # each color count\n",
        " \n",
        "    return cnt + 1\n",
        " \n",
        "dx = [1, 0, -1, 0]\n",
        "dy = [0, 1, 0, -1]\n",
        "n, m = map(int, input().split())\n",
        "graph = [list(input()) for _ in range(m)]\n",
        "visited = [[False] * n for i in range(m)]\n",
        " \n",
        "white, blue = 0, 0\n",
        "for i in range(m):\n",
        "    for j in range(n):\n",
        "        if graph[i][j] == 'W' and not visited[i][j]:\n",
        "            white += bfs(i, j, 'W') ** 2    # count accumulate\n",
        "        elif graph[i][j] == 'B' and not visited[i][j] :\n",
        "            blue += bfs(i, j, 'B') ** 2    # count accumulate\n",
        " \n",
        "print(white, blue)"
      ],
      "execution_count": 11,
      "outputs": [
        {
          "output_type": "stream",
          "text": [
            "5 5\n",
            "WBWWW\n",
            "WWWWW\n",
            "BBBBB\n",
            "BBBWW\n",
            "WWWWW\n",
            "130 65\n"
          ],
          "name": "stdout"
        }
      ]
    },
    {
      "cell_type": "code",
      "metadata": {
        "colab": {
          "base_uri": "https://localhost:8080/"
        },
        "id": "WSDfBIL1kNIi",
        "outputId": "403e76ad-4ecf-492a-ad4e-b994fb36b13a"
      },
      "source": [
        "visited"
      ],
      "execution_count": 5,
      "outputs": [
        {
          "output_type": "execute_result",
          "data": {
            "text/plain": [
              "[[True, True, True, True, True],\n",
              " [True, True, True, True, True],\n",
              " [True, True, True, True, True],\n",
              " [True, True, True, True, True],\n",
              " [True, True, True, True, True]]"
            ]
          },
          "metadata": {
            "tags": []
          },
          "execution_count": 5
        }
      ]
    },
    {
      "cell_type": "code",
      "metadata": {
        "colab": {
          "base_uri": "https://localhost:8080/"
        },
        "id": "BKa8Q-3nkx1u",
        "outputId": "3156409a-5afa-4f09-b71d-5392a758820f"
      },
      "source": [
        "graph"
      ],
      "execution_count": 6,
      "outputs": [
        {
          "output_type": "execute_result",
          "data": {
            "text/plain": [
              "[['W', 'B', 'W', 'W', 'W'],\n",
              " ['W', 'W', 'W', 'W', 'W'],\n",
              " ['B', 'B', 'B', 'B', 'B'],\n",
              " ['B', 'B', 'B', 'W', 'W'],\n",
              " ['W', 'W', 'W', 'W', 'W']]"
            ]
          },
          "metadata": {
            "tags": []
          },
          "execution_count": 6
        }
      ]
    },
    {
      "cell_type": "code",
      "metadata": {
        "id": "-hMmjWKZFmCC"
      },
      "source": [
        ""
      ],
      "execution_count": null,
      "outputs": []
    }
  ]
}