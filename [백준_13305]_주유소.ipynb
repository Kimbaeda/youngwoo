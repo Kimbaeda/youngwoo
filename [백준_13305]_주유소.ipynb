{
  "nbformat": 4,
  "nbformat_minor": 0,
  "metadata": {
    "colab": {
      "name": "[백준 13305]_주유소.ipynb",
      "provenance": [],
      "collapsed_sections": [],
      "authorship_tag": "ABX9TyO0iut/r4Ey3kLehhuBrufw",
      "include_colab_link": true
    },
    "kernelspec": {
      "name": "python3",
      "display_name": "Python 3"
    },
    "language_info": {
      "name": "python"
    }
  },
  "cells": [
    {
      "cell_type": "markdown",
      "metadata": {
        "id": "view-in-github",
        "colab_type": "text"
      },
      "source": [
        "<a href=\"https://colab.research.google.com/github/Kimbaeda/youngwoo/blob/main/%5B%EB%B0%B1%EC%A4%80_13305%5D_%EC%A3%BC%EC%9C%A0%EC%86%8C.ipynb\" target=\"_parent\"><img src=\"https://colab.research.google.com/assets/colab-badge.svg\" alt=\"Open In Colab\"/></a>"
      ]
    },
    {
      "cell_type": "code",
      "metadata": {
        "colab": {
          "base_uri": "https://localhost:8080/"
        },
        "id": "fVSiczv5LjvM",
        "outputId": "2e1ff33d-14c1-44c6-9ede-ae3fdc0a8bff"
      },
      "source": [
        "import sys\n",
        "# sys.stdin = open('input.txt', 'r')\n",
        "\n",
        "# input = sys.stdin.readline\n",
        "\n",
        "N = int(input())\n",
        "dis = list(map(int, input().split()))\n",
        "c = list(map(int, input().split()))\n",
        "\n",
        "# print(N)\n",
        "# print(c)\n",
        "# print(dis)\n",
        "\n",
        "maxc = max(c)\n",
        "# print(maxc)\n",
        "\n",
        "res = 0\n",
        "maxc = max(c)\n",
        "for i in range(N-1):\n",
        "    if c[i] <= maxc:\n",
        "        maxc = c[i]\n",
        "    res += maxc*dis[i]\n",
        "\n",
        "print(res)"
      ],
      "execution_count": null,
      "outputs": [
        {
          "output_type": "stream",
          "text": [
            "4\n",
            "2 3 1\n",
            "5 2 4 1\n",
            "18\n"
          ],
          "name": "stdout"
        }
      ]
    },
    {
      "cell_type": "code",
      "metadata": {
        "id": "ArfTGEVNLow-"
      },
      "source": [
        ""
      ],
      "execution_count": null,
      "outputs": []
    }
  ]
}