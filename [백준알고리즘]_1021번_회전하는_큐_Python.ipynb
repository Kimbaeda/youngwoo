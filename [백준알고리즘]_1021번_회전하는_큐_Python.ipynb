{
  "nbformat": 4,
  "nbformat_minor": 0,
  "metadata": {
    "colab": {
      "name": "[백준알고리즘] 1021번: 회전하는 큐 -Python.ipynb",
      "provenance": [],
      "collapsed_sections": [],
      "authorship_tag": "ABX9TyNrJGGdae+3IaUnFvP4Rdm4",
      "include_colab_link": true
    },
    "kernelspec": {
      "name": "python3",
      "display_name": "Python 3"
    },
    "language_info": {
      "name": "python"
    }
  },
  "cells": [
    {
      "cell_type": "markdown",
      "metadata": {
        "id": "view-in-github",
        "colab_type": "text"
      },
      "source": [
        "<a href=\"https://colab.research.google.com/github/Kimbaeda/youngwoo/blob/main/%5B%EB%B0%B1%EC%A4%80%EC%95%8C%EA%B3%A0%EB%A6%AC%EC%A6%98%5D_1021%EB%B2%88_%ED%9A%8C%EC%A0%84%ED%95%98%EB%8A%94_%ED%81%90_Python.ipynb\" target=\"_parent\"><img src=\"https://colab.research.google.com/assets/colab-badge.svg\" alt=\"Open In Colab\"/></a>"
      ]
    },
    {
      "cell_type": "code",
      "metadata": {
        "colab": {
          "base_uri": "https://localhost:8080/"
        },
        "id": "KUFPg0x3WDRR",
        "outputId": "d1f593b5-2c36-4ca3-a271-4391e10a7300"
      },
      "source": [
        "from collections import deque\n",
        "import sys\n",
        "\n",
        "N, M = map(int, input().split())\n",
        "numbers = list(map(int, input().split()))\n",
        "\n",
        "q = deque()\n",
        "\n",
        "\n",
        "for i in range(1,N+1):\n",
        "  q.append(i)\n",
        "\n",
        "\n",
        "\n",
        "print(q)\n",
        "print(numbers)"
      ],
      "execution_count": 124,
      "outputs": [
        {
          "output_type": "stream",
          "text": [
            "32 6\n",
            "27 16 30 11 6 23\n",
            "deque([1, 2, 3, 4, 5, 6, 7, 8, 9, 10, 11, 12, 13, 14, 15, 16, 17, 18, 19, 20, 21, 22, 23, 24, 25, 26, 27, 28, 29, 30, 31, 32])\n",
            "[27, 16, 30, 11, 6, 23]\n"
          ],
          "name": "stdout"
        }
      ]
    },
    {
      "cell_type": "code",
      "metadata": {
        "id": "mHssdWtZZ9zq"
      },
      "source": [
        "count = 0\n",
        "for num in numbers:\n",
        "  while True:\n",
        "    if q[0] == num:\n",
        "      q.popleft()\n",
        "      break\n",
        "    else:\n",
        "      if q.index(num) <= len(q)/2:\n",
        "        while q[0] != num:\n",
        "          q.rotate(-1)\n",
        "          count += 1\n",
        "      else:\n",
        "        while q[0] != num:\n",
        "          q.rotate(1)\n",
        "          count += 1\n"
      ],
      "execution_count": 125,
      "outputs": []
    },
    {
      "cell_type": "code",
      "metadata": {
        "colab": {
          "base_uri": "https://localhost:8080/"
        },
        "id": "FQZlMtquerpI",
        "outputId": "c82ce740-4478-4c90-bad8-5bcce673e157"
      },
      "source": [
        "print(count)"
      ],
      "execution_count": 126,
      "outputs": [
        {
          "output_type": "stream",
          "text": [
            "59\n"
          ],
          "name": "stdout"
        }
      ]
    },
    {
      "cell_type": "code",
      "metadata": {
        "colab": {
          "base_uri": "https://localhost:8080/"
        },
        "id": "V_iP_HvhfE4b",
        "outputId": "65c0a874-2a35-44c0-e7a2-cf99f28530b5"
      },
      "source": [
        "from collections import deque\n",
        "import sys\n",
        "# input = sys.stdin.readline\n",
        "\n",
        "N, M = map(int, input().split())\n",
        "numbers = list(map(int, input().split()))\n",
        "\n",
        "q = deque()\n",
        "for i in range(1, N+1):\n",
        "  q.append(i)\n",
        "\n",
        "\n",
        "count = 0\n",
        "for num in numbers:\n",
        "    while True:\n",
        "        if q[0] == num:\n",
        "            q.popleft()\n",
        "            break\n",
        "        else:\n",
        "            if q.index(num) <= len(q)/2:\n",
        "                while q[0] != num:\n",
        "                    q.rotate(-1)\n",
        "                    count += 1\n",
        "            else:\n",
        "                while q[0] != num:\n",
        "                    q.rotate(1)\n",
        "                    count += 1\n",
        "print(count)"
      ],
      "execution_count": 143,
      "outputs": [
        {
          "output_type": "stream",
          "text": [
            "10 10\n",
            "1 6 3 2 7 9 8 4 10 5\n",
            "14\n"
          ],
          "name": "stdout"
        }
      ]
    },
    {
      "cell_type": "code",
      "metadata": {
        "id": "8WmBfUR14Lk-"
      },
      "source": [
        ""
      ],
      "execution_count": null,
      "outputs": []
    }
  ]
}