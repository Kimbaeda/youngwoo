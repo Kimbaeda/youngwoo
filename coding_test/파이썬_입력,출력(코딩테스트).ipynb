{
  "nbformat": 4,
  "nbformat_minor": 0,
  "metadata": {
    "colab": {
      "name": "파이썬 입력,출력(코딩테스트).ipynb",
      "provenance": [],
      "collapsed_sections": [],
      "authorship_tag": "ABX9TyPcsx5Oacku6rDPNBK15Y4n",
      "include_colab_link": true
    },
    "kernelspec": {
      "name": "python3",
      "display_name": "Python 3"
    },
    "language_info": {
      "name": "python"
    }
  },
  "cells": [
    {
      "cell_type": "markdown",
      "metadata": {
        "id": "view-in-github",
        "colab_type": "text"
      },
      "source": [
        "<a href=\"https://colab.research.google.com/github/Kimbaeda/youngwoo/blob/main/%ED%8C%8C%EC%9D%B4%EC%8D%AC_%EC%9E%85%EB%A0%A5%2C%EC%B6%9C%EB%A0%A5(%EC%BD%94%EB%94%A9%ED%85%8C%EC%8A%A4%ED%8A%B8).ipynb\" target=\"_parent\"><img src=\"https://colab.research.google.com/assets/colab-badge.svg\" alt=\"Open In Colab\"/></a>"
      ]
    },
    {
      "cell_type": "code",
      "metadata": {
        "id": "aumqbIwPu5QU"
      },
      "source": [
        "from sys import stdin, stdout\n",
        "input = stdin.readline \n",
        "print = stdout.write"
      ],
      "execution_count": null,
      "outputs": []
    },
    {
      "cell_type": "markdown",
      "metadata": {
        "id": "qylIdNzrvHcU"
      },
      "source": [
        "```\n",
        "3\n",
        "1 2 3\n",
        "4 5 6\n",
        "7 8 9\n",
        "```"
      ]
    },
    {
      "cell_type": "markdown",
      "metadata": {
        "id": "wlgQ2z06ycwy"
      },
      "source": [
        "- 2-1. 우아한 배열 입력"
      ]
    },
    {
      "cell_type": "code",
      "metadata": {
        "colab": {
          "base_uri": "https://localhost:8080/"
        },
        "id": "Kd10tV2avKLZ",
        "outputId": "b6842923-7ce6-4841-b931-509a881b02a6"
      },
      "source": [
        "for i in range(int(input())): \n",
        "    inputStr = input() \n",
        "    arr = list(inputStr) \n",
        "    MAP.append(arr)"
      ],
      "execution_count": null,
      "outputs": [
        {
          "output_type": "stream",
          "text": [
            "3\n",
            "1 2 3\n",
            "4 5 6\n",
            "7 8 9\n"
          ],
          "name": "stdout"
        }
      ]
    },
    {
      "cell_type": "code",
      "metadata": {
        "colab": {
          "base_uri": "https://localhost:8080/"
        },
        "id": "xrDGvwPIwdhl",
        "outputId": "33701062-8e4d-4602-bad2-4544e252c7a1"
      },
      "source": [
        "MAP = [list(map(int, input().split())) for _ in range(int(input()))]"
      ],
      "execution_count": null,
      "outputs": [
        {
          "output_type": "stream",
          "text": [
            "3\n",
            "1 2 3\n",
            "4 5 6\n",
            "7 8 9\n"
          ],
          "name": "stdout"
        }
      ]
    },
    {
      "cell_type": "code",
      "metadata": {
        "colab": {
          "base_uri": "https://localhost:8080/"
        },
        "id": "f95ysWTFvhsC",
        "outputId": "a8e3d756-384c-4051-8373-ef2ecfeb2644"
      },
      "source": [
        "print(MAP)"
      ],
      "execution_count": null,
      "outputs": [
        {
          "output_type": "stream",
          "text": [
            "[[1, 2, 3], [4, 5, 6], [7, 8, 9]]\n"
          ],
          "name": "stdout"
        }
      ]
    },
    {
      "cell_type": "markdown",
      "metadata": {
        "id": "HK9k4go2yfHk"
      },
      "source": [
        "- 2-2. 정수와 배열이 같은 줄에 들어오는 경우"
      ]
    },
    {
      "cell_type": "markdown",
      "metadata": {
        "id": "d-FhhDVgy64r"
      },
      "source": [
        "```\n",
        "4 10 20 30 40\n",
        "3 7 5 12\n",
        "3 125 15 25\n",
        "```"
      ]
    },
    {
      "cell_type": "code",
      "metadata": {
        "colab": {
          "base_uri": "https://localhost:8080/"
        },
        "id": "vWB0f1VFzPxj",
        "outputId": "3d0b96ea-85ff-4014-fb6a-dcd0dab1fdcc"
      },
      "source": [
        "N, *arr = map(int, input().split())"
      ],
      "execution_count": null,
      "outputs": [
        {
          "output_type": "stream",
          "text": [
            "3 20 30 40 50 60\n"
          ],
          "name": "stdout"
        }
      ]
    },
    {
      "cell_type": "markdown",
      "metadata": {
        "id": "FjgXgU9c25sL"
      },
      "source": [
        "- 2-3. 문자열을 한 글자씩 배열에 저장"
      ]
    },
    {
      "cell_type": "markdown",
      "metadata": {
        "id": "jqqudGyb27Fj"
      },
      "source": [
        "```\n",
        "3\n",
        "AAAA \n",
        "ABCA \n",
        "AAAA\n",
        "```\n",
        "\n",
        "```\n",
        "arr = [['A', 'A', 'A', 'A']\n",
        "       ['A', 'B', 'C', 'A']\n",
        "       ['A', 'A', 'A', 'A']]\n",
        "```\n"
      ]
    },
    {
      "cell_type": "code",
      "metadata": {
        "colab": {
          "base_uri": "https://localhost:8080/"
        },
        "id": "yFqo98k6zG6v",
        "outputId": "97ff771a-c2e7-4944-9a16-330fa69fcad5"
      },
      "source": [
        "from collections import deque\n",
        "N = int(input())\n",
        "q = deque()\n",
        "q = [list(input()) for _ in range(N)]\n"
      ],
      "execution_count": 10,
      "outputs": [
        {
          "output_type": "stream",
          "text": [
            "3\n",
            "AAAA\n",
            "BBBB\n",
            "CCCC\n"
          ],
          "name": "stdout"
        }
      ]
    },
    {
      "cell_type": "code",
      "metadata": {
        "colab": {
          "base_uri": "https://localhost:8080/"
        },
        "id": "6O2yT8bg3T49",
        "outputId": "000f9485-91f2-46b3-f47d-b2f48e3b09ca"
      },
      "source": [
        "print(q)"
      ],
      "execution_count": 11,
      "outputs": [
        {
          "output_type": "stream",
          "text": [
            "[['A', 'A', 'A', 'A'], ['B', 'B', 'B', 'B'], ['C', 'C', 'C', 'C']]\n"
          ],
          "name": "stdout"
        }
      ]
    },
    {
      "cell_type": "markdown",
      "metadata": {
        "id": "tlHuBAVJNEk0"
      },
      "source": [
        "- 3-1. 배열을 연결해서 출력 1"
      ]
    },
    {
      "cell_type": "markdown",
      "metadata": {
        "id": "W9bo7m6rNHQ8"
      },
      "source": [
        "```\n",
        "arr = [1, 2, 3, 4] \n",
        "```\n",
        "\n",
        "```\n",
        "1234\n",
        "```"
      ]
    },
    {
      "cell_type": "code",
      "metadata": {
        "id": "qj2KQhLS4Dya",
        "colab": {
          "base_uri": "https://localhost:8080/"
        },
        "outputId": "4bfaa91c-aecb-4fd0-e189-51bcf56503b7"
      },
      "source": [
        "arr = [1,2,3,4]\n",
        "\n",
        "print(''.join(map(str, arr)))"
      ],
      "execution_count": 8,
      "outputs": [
        {
          "output_type": "stream",
          "text": [
            "1234\n"
          ],
          "name": "stdout"
        }
      ]
    },
    {
      "cell_type": "markdown",
      "metadata": {
        "id": "1hsG-gpLOZ3y"
      },
      "source": [
        "- 3-2. 배열을 연결해서 출력 2"
      ]
    },
    {
      "cell_type": "markdown",
      "metadata": {
        "id": "vOOdQr7IOdEf"
      },
      "source": [
        "```\n",
        "arr = [1, 2, 3, 4]\n",
        "```\n",
        "\n",
        "```\n",
        "1 2 3 4\n",
        "```"
      ]
    },
    {
      "cell_type": "code",
      "metadata": {
        "colab": {
          "base_uri": "https://localhost:8080/"
        },
        "id": "ZVvLufotNVa2",
        "outputId": "b49a20fc-cde5-4d39-e1a6-c5d6f0768c09"
      },
      "source": [
        "arr = [1,2,3,4]\n",
        "\n",
        "print(\" \".join(map(str,arr)))"
      ],
      "execution_count": 12,
      "outputs": [
        {
          "output_type": "stream",
          "text": [
            "1 2 3 4\n"
          ],
          "name": "stdout"
        }
      ]
    },
    {
      "cell_type": "code",
      "metadata": {
        "colab": {
          "base_uri": "https://localhost:8080/"
        },
        "id": "XOquCCATOqdE",
        "outputId": "e0411b3f-85f8-404d-86f6-20272142c475"
      },
      "source": [
        "arr = [1,2,3,4]\n",
        "print(*arr)"
      ],
      "execution_count": 13,
      "outputs": [
        {
          "output_type": "stream",
          "text": [
            "1 2 3 4\n"
          ],
          "name": "stdout"
        }
      ]
    },
    {
      "cell_type": "markdown",
      "metadata": {
        "id": "Him2E1NxPNwA"
      },
      "source": [
        "- 99. 보너스 무한히 값을 입력 받아서 EOF 까지 입력"
      ]
    },
    {
      "cell_type": "code",
      "metadata": {
        "colab": {
          "base_uri": "https://localhost:8080/"
        },
        "id": "V4AAKzMHOxPQ",
        "outputId": "5c974b6e-18be-4eae-eee1-b655e3487de4"
      },
      "source": [
        "try: \n",
        "    while 1: \n",
        "        A,B = map(int, input().split()) \n",
        "        print(A+B) \n",
        "except: \n",
        "  exit()"
      ],
      "execution_count": 15,
      "outputs": [
        {
          "output_type": "stream",
          "text": [
            "1 2\n",
            "3\n",
            "3 4\n",
            "7\n"
          ],
          "name": "stdout"
        }
      ]
    },
    {
      "cell_type": "code",
      "metadata": {
        "id": "p-J3Fej_ULtT"
      },
      "source": [
        ""
      ],
      "execution_count": null,
      "outputs": []
    }
  ]
}