{
  "nbformat": 4,
  "nbformat_minor": 0,
  "metadata": {
    "colab": {
      "name": "1931. 회의실 배정.ipynb",
      "provenance": [],
      "collapsed_sections": [],
      "toc_visible": true,
      "authorship_tag": "ABX9TyNhz/2wsf9dNrjEAyF5XM3f",
      "include_colab_link": true
    },
    "kernelspec": {
      "name": "python3",
      "display_name": "Python 3"
    },
    "language_info": {
      "name": "python"
    }
  },
  "cells": [
    {
      "cell_type": "markdown",
      "metadata": {
        "id": "view-in-github",
        "colab_type": "text"
      },
      "source": [
        "<a href=\"https://colab.research.google.com/github/Kimbaeda/youngwoo/blob/main/1931_%ED%9A%8C%EC%9D%98%EC%8B%A4_%EB%B0%B0%EC%A0%95.ipynb\" target=\"_parent\"><img src=\"https://colab.research.google.com/assets/colab-badge.svg\" alt=\"Open In Colab\"/></a>"
      ]
    },
    {
      "cell_type": "markdown",
      "metadata": {
        "id": "sYg1v5OFCVQc"
      },
      "source": [
        "# 회의실 배정 분류\n",
        "\n",
        "시간 제한: 2초\n",
        "\n",
        "메모리 제한 : 128MB"
      ]
    },
    {
      "cell_type": "markdown",
      "metadata": {
        "id": "3qxWXzCJCpsW"
      },
      "source": [
        "## 문제\n",
        "\n",
        "한 개의 회의실이 있는데 이를 사용하고자 하는 N개의 회의에 대하여 회의실 사용표를 만들려고 한다. 각 회의 I에 대해 시작시간과 끝나는 시간이 주어져 있고, 각 회의가 겹치지 않게 하면서 회의실을 사용할 수 있는 회의의 최대 개수를 찾아보자. 단, 회의는 한번 시작하면 중간에 중단될 수 없으며 한 회의가 끝나는 것과 동시에 다음 회의가 시작될 수 있다. 회의의 시작시간과 끝나는 시간이 같을 수도 있다. 이 경우에는 시작하자마자 끝나는 것으로 생각하면 된다."
      ]
    },
    {
      "cell_type": "markdown",
      "metadata": {
        "id": "fHrKUyy4Cu-g"
      },
      "source": [
        "## 입력\n",
        "\n",
        "첫째 줄에 회의의 수 N(1 ≤ N ≤ 100,000)이 주어진다. 둘째 줄부터 N+1 줄까지 각 회의의 정보가 주어지는데 이것은 공백을 사이에 두고 회의의 시작시간과 끝나는 시간이 주어진다. 시작 시간과 끝나는 시간은 231-1보다 작거나 같은 자연수 또는 0이다."
      ]
    },
    {
      "cell_type": "markdown",
      "metadata": {
        "id": "0mgs42RFC0pQ"
      },
      "source": [
        "## 출력\n",
        "\n",
        "첫째 줄에 최대 사용할 수 있는 회의의 최대 개수를 출력한다."
      ]
    },
    {
      "cell_type": "markdown",
      "metadata": {
        "id": "kWmN4ICt5HqP"
      },
      "source": [
        "```\n",
        "예제 입력 1\n",
        "\n",
        "11\n",
        "1 4\n",
        "3 5\n",
        "0 6\n",
        "5 7\n",
        "3 8\n",
        "5 9\n",
        "6 10\n",
        "8 11\n",
        "8 12\n",
        "2 13\n",
        "12 14\n",
        "```"
      ]
    },
    {
      "cell_type": "markdown",
      "metadata": {
        "id": "IY3AREj55NFY"
      },
      "source": [
        "```\n",
        "예제 출력 1\n",
        "4\n",
        "```"
      ]
    },
    {
      "cell_type": "markdown",
      "metadata": {
        "id": "4FNovW0oDMyc"
      },
      "source": [
        "## 힌트\n",
        "\n",
        "(1,4), (5,7), (8,11), (12,14) 를 이용할 수 있다."
      ]
    },
    {
      "cell_type": "markdown",
      "metadata": {
        "id": "7FxPfFS9DVCo"
      },
      "source": [
        "## 알고리즘 분류\n",
        "- 그리디 알고리즘\n",
        "- 정렬"
      ]
    },
    {
      "cell_type": "markdown",
      "metadata": {
        "id": "11lwODygLRIZ"
      },
      "source": [
        "# 시간초과 나는 코드"
      ]
    },
    {
      "cell_type": "code",
      "metadata": {
        "id": "_CqBTRP4DGJ7",
        "colab": {
          "base_uri": "https://localhost:8080/"
        },
        "outputId": "16d2a548-5eea-4aef-b410-ee7ba4cb13a5"
      },
      "source": [
        "N = int(input())\n",
        "meetings = []\n",
        "answer = 0\n",
        "end_time = 0\n",
        "\n",
        "for _ in range(N):\n",
        "  meetings.append(list(map(int, input().split())))\n",
        "# 시작시간으로 정렬하면 가장 빠른 회의 시작시간이 맨앞에 오고\n",
        "# 후에 종료시간 기준으로 정렬하면 회의 시간이 짧은 회의들이 맨앞에 온다.\n",
        "\n",
        "# 시작시간 기준으로 정렬\n",
        "meetings.sort(key = lambda x: x[0])\n",
        "# 종료시간 기준으로 정렬\n",
        "meetings.sort(key = lambda x: x[1])\n",
        "\n",
        "for meet in meetings:\n",
        "  # 만약 회의시작 시간이 이전 회의 끝나는 시간과 같거나 크다면\n",
        "  if meet[0] >= end_time:\n",
        "    end_time = meet[1]\n",
        "    answer += 1\n",
        "  else:\n",
        "    continue\n",
        "\n",
        "print(answer)"
      ],
      "execution_count": null,
      "outputs": [
        {
          "output_type": "stream",
          "text": [
            "11\n",
            "1 4\n",
            "3 5\n",
            "0 6\n",
            "5 7\n",
            "3 8\n",
            "5 9\n",
            "6 10\n",
            "8 11\n",
            "8 12\n",
            "2 13\n",
            "12 14\n",
            "4\n"
          ],
          "name": "stdout"
        }
      ]
    },
    {
      "cell_type": "markdown",
      "metadata": {
        "id": "uEaxJiIWLWtB"
      },
      "source": [
        "# 정답 코드"
      ]
    },
    {
      "cell_type": "code",
      "metadata": {
        "id": "bhgyrFU5Lacg",
        "colab": {
          "base_uri": "https://localhost:8080/"
        },
        "outputId": "ffef230d-f0f4-4dc6-d0dc-c194ad09ea38"
      },
      "source": [
        " import sys\n",
        "## 테스트 할때는 주석처리하고 제출할때는 주석풀고\n",
        "# input = sys.stdin.readline\n",
        "N = int(input())\n",
        "meetings = [list(map(int, input().split())) for _ in range(N)]\n",
        "meetings.sort(key=lambda x: (x[1], x[0]))  # 끝나는 시각이 빠른걸로 정렬\n",
        "# 시작 시간도 정렬해주는 이유는 [2,2], [1,2] 가 있을 경우 2,2의 회의를 해버리면 1,2 회의를 진행할 수 없음\n",
        "# 그러므로 정렬을 통해 [1,2] 진행 후 [2,2] 가 진행되게 해야 한다.\n",
        "end_time = 0\n",
        "answer = 0\n",
        "for i in range(N):\n",
        "    if meetings[i][0] >= end_time:\n",
        "        answer += 1\n",
        "        end_time = meetings[i][1]\n",
        "\n",
        "print(answer)"
      ],
      "execution_count": 4,
      "outputs": [
        {
          "output_type": "stream",
          "text": [
            "11\n",
            "1 4\n",
            "3 5\n",
            "0 6\n",
            "5 7\n",
            "3 8\n",
            "5 9\n",
            "6 10\n",
            "8 11\n",
            "8 12\n",
            "2 13\n",
            "12 14\n",
            "4\n"
          ],
          "name": "stdout"
        }
      ]
    },
    {
      "cell_type": "code",
      "metadata": {
        "id": "OMNCFVQIU7en"
      },
      "source": [
        ""
      ],
      "execution_count": null,
      "outputs": []
    }
  ]
}