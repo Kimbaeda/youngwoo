{
  "nbformat": 4,
  "nbformat_minor": 0,
  "metadata": {
    "colab": {
      "name": "격자판 최대합.ipynb",
      "provenance": [],
      "collapsed_sections": [],
      "authorship_tag": "ABX9TyP5vrtNOJisfmHGCG0g2pO9",
      "include_colab_link": true
    },
    "kernelspec": {
      "name": "python3",
      "display_name": "Python 3"
    },
    "language_info": {
      "name": "python"
    }
  },
  "cells": [
    {
      "cell_type": "markdown",
      "metadata": {
        "id": "view-in-github",
        "colab_type": "text"
      },
      "source": [
        "<a href=\"https://colab.research.google.com/github/Kimbaeda/youngwoo/blob/main/%EA%B2%A9%EC%9E%90%ED%8C%90_%EC%B5%9C%EB%8C%80%ED%95%A9.ipynb\" target=\"_parent\"><img src=\"https://colab.research.google.com/assets/colab-badge.svg\" alt=\"Open In Colab\"/></a>"
      ]
    },
    {
      "cell_type": "code",
      "metadata": {
        "colab": {
          "base_uri": "https://localhost:8080/"
        },
        "id": "GfQ50eM9Q76C",
        "outputId": "50ef7dd0-57ee-494a-c8f2-1568a5960e9e"
      },
      "source": [
        "import sys\n",
        "\n",
        "# sys.stdin = open('input.txt', 'rt')\n",
        "\n",
        "N = int(input())\n",
        "\n",
        "num_li = [list(map(int, input().split())) for _ in range(N)]\n",
        "\n",
        "# print(num_li)\n",
        "\n",
        "def x_sum(arr):\n",
        "    x = []\n",
        "    for i in arr:\n",
        "        sum = 0\n",
        "        for j in i:\n",
        "            sum += j\n",
        "        x.append(sum)\n",
        "    return(x)\n",
        "\n",
        "def z_sum(arr):\n",
        "    sum = 0\n",
        "    sum1 = 0\n",
        "    for i,j in enumerate(num_li):\n",
        "        sum +=j[i]\n",
        "    for i,j in enumerate(num_li[::-1]):\n",
        "        sum1 += j[i]\n",
        "    return [sum,sum1]\n",
        "\n",
        "def y_sum(arr):\n",
        "    y = []\n",
        "    for i in range(len(arr)):\n",
        "        sum = 0\n",
        "        for j in arr:\n",
        "            sum +=j[i]\n",
        "        y.append(sum)\n",
        "    return y\n",
        "\n",
        "x = x_sum(num_li)\n",
        "y = y_sum(num_li)\n",
        "z = z_sum(num_li)\n",
        "\n",
        "xyz = x+y+z\n",
        "xyz.sort(reverse=True)\n",
        "print(xyz[0])"
      ],
      "execution_count": 1,
      "outputs": [
        {
          "output_type": "stream",
          "text": [
            "5\n",
            "10 13 10 12 15\n",
            "12 39 30 23 11\n",
            "11 25 50 53 15\n",
            "19 27 29 37 27\n",
            "19 13 30 13 19\n",
            "155\n"
          ],
          "name": "stdout"
        }
      ]
    },
    {
      "cell_type": "code",
      "metadata": {
        "id": "RVaV1pPoRK0h"
      },
      "source": [
        ""
      ],
      "execution_count": null,
      "outputs": []
    }
  ]
}