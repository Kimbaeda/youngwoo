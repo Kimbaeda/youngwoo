{
  "nbformat": 4,
  "nbformat_minor": 0,
  "metadata": {
    "colab": {
      "name": "[백준 10828] 스택.ipynb",
      "provenance": [],
      "collapsed_sections": [],
      "authorship_tag": "ABX9TyMBhu/bgi2PCXu8MqfO83Xa",
      "include_colab_link": true
    },
    "kernelspec": {
      "name": "python3",
      "display_name": "Python 3"
    },
    "language_info": {
      "name": "python"
    }
  },
  "cells": [
    {
      "cell_type": "markdown",
      "metadata": {
        "id": "view-in-github",
        "colab_type": "text"
      },
      "source": [
        "<a href=\"https://colab.research.google.com/github/Kimbaeda/youngwoo/blob/main/%5B%EB%B0%B1%EC%A4%80_10828%5D_%EC%8A%A4%ED%83%9D.ipynb\" target=\"_parent\"><img src=\"https://colab.research.google.com/assets/colab-badge.svg\" alt=\"Open In Colab\"/></a>"
      ]
    },
    {
      "cell_type": "code",
      "metadata": {
        "colab": {
          "base_uri": "https://localhost:8080/"
        },
        "id": "k3QrtU4qsuV9",
        "outputId": "941f8358-dd32-4488-8e27-0894f7138159"
      },
      "source": [
        "from collections import deque\n",
        "import sys\n",
        "# input sys.stdin.readline\n",
        "N = int(input())\n",
        "\n",
        "stack = deque()\n",
        "\n",
        "for _ in range(N):\n",
        "    command = list(map(str, input().split()))\n",
        "    if command[0] == 'push':\n",
        "        stack.append(int(command[1]))\n",
        "    if command[0] == 'pop':\n",
        "        if len(stack) == 0:\n",
        "            print(-1)\n",
        "        else:\n",
        "            print(stack[-1])\n",
        "            stack.pop()\n",
        "    if command[0] == 'size':\n",
        "        print(len(stack))\n",
        "    if command[0] == 'empty':\n",
        "        if len(stack) == 0:\n",
        "            print(1)\n",
        "        else:\n",
        "            print(0)\n",
        "    if command[0] == 'top':\n",
        "        if len(stack) == 0:\n",
        "            print(-1)\n",
        "        else:\n",
        "            print(stack[-1])"
      ],
      "execution_count": 1,
      "outputs": [
        {
          "output_type": "stream",
          "text": [
            "14\n",
            "push 1\n",
            "push 2\n",
            "top\n",
            "2\n",
            "size\n",
            "2\n",
            "empty\n",
            "0\n",
            "pop\n",
            "2\n",
            "pop\n",
            "1\n",
            "pop\n",
            "-1\n",
            "size\n",
            "0\n",
            "empty\n",
            "1\n",
            "pop\n",
            "-1\n",
            "push 3\n",
            "empty\n",
            "0\n",
            "top\n",
            "3\n"
          ],
          "name": "stdout"
        }
      ]
    },
    {
      "cell_type": "code",
      "metadata": {
        "id": "TbLVQyHPs285"
      },
      "source": [
        "p"
      ],
      "execution_count": null,
      "outputs": []
    }
  ]
}