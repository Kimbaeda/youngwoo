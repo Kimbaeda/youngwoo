{
  "nbformat": 4,
  "nbformat_minor": 0,
  "metadata": {
    "colab": {
      "name": "[백준 7562] 나이트의 이동.ipynb",
      "provenance": [],
      "authorship_tag": "ABX9TyMUskEj5n2hI7EaoECCAmU7",
      "include_colab_link": true
    },
    "kernelspec": {
      "name": "python3",
      "display_name": "Python 3"
    },
    "language_info": {
      "name": "python"
    }
  },
  "cells": [
    {
      "cell_type": "markdown",
      "metadata": {
        "id": "view-in-github",
        "colab_type": "text"
      },
      "source": [
        "<a href=\"https://colab.research.google.com/github/Kimbaeda/youngwoo/blob/main/%5B%EB%B0%B1%EC%A4%80_7562%5D_%EB%82%98%EC%9D%B4%ED%8A%B8%EC%9D%98_%EC%9D%B4%EB%8F%99.ipynb\" target=\"_parent\"><img src=\"https://colab.research.google.com/assets/colab-badge.svg\" alt=\"Open In Colab\"/></a>"
      ]
    },
    {
      "cell_type": "code",
      "metadata": {
        "colab": {
          "base_uri": "https://localhost:8080/"
        },
        "id": "Agpm6VP6aUPI",
        "outputId": "409d7b64-2010-470f-dc50-e17db4208292"
      },
      "source": [
        "from collections import deque\n",
        "import sys\n",
        "# input = sys.stdin.readline\n",
        "dx = [-1, -1, -2, -2, 1, 1, 2, 2]\n",
        "dy = [2, -2, 1, -1, 2, -2, 1, -1]\n",
        "def bfs(sx, sy, ex, ey):\n",
        "    q = deque()\n",
        "    q.append([sx, sy])\n",
        "    s[sx][sy] = 1\n",
        "    while q:\n",
        "        a, b = q.popleft()\n",
        "        if a == ex and b == ey:\n",
        "            print(s[ex][ey] -1)\n",
        "            return\n",
        "        for i in range(8):\n",
        "            x = a + dx[i]\n",
        "            y = b + dy[i]\n",
        "            if 0 <= x < n and 0 <= y < n and s[x][y] == 0:\n",
        "                q.append([x, y])\n",
        "                s[x][y] = s[a][b] + 1\n",
        "\n",
        "tc = int(input())\n",
        "for _ in range(tc):\n",
        "    n = int(input())\n",
        "    sx, sy = map(int, input().split())\n",
        "    ex, ey = map(int, input().split())\n",
        "    s = [[0] * n for _ in range(n)]\n",
        "    bfs(sx, sy, ex, ey)"
      ],
      "execution_count": 1,
      "outputs": [
        {
          "output_type": "stream",
          "text": [
            "3\n",
            "8\n",
            "0 0\n",
            "7 0\n",
            "5\n",
            "100\n",
            "0 0\n",
            "30 50\n",
            "28\n",
            "10\n",
            "1 1\n",
            "1 1\n",
            "0\n"
          ],
          "name": "stdout"
        }
      ]
    },
    {
      "cell_type": "code",
      "metadata": {
        "id": "RJpOlFNxaY6B"
      },
      "source": [
        ""
      ],
      "execution_count": null,
      "outputs": []
    }
  ]
}