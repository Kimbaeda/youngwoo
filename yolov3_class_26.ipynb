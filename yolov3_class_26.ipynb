{
  "nbformat": 4,
  "nbformat_minor": 5,
  "metadata": {
    "kernelspec": {
      "display_name": "Python 3",
      "language": "python",
      "name": "python3"
    },
    "language_info": {
      "codemirror_mode": {
        "name": "ipython",
        "version": 3
      },
      "file_extension": ".py",
      "mimetype": "text/x-python",
      "name": "python",
      "nbconvert_exporter": "python",
      "pygments_lexer": "ipython3",
      "version": "3.8.8"
    },
    "colab": {
      "name": "yolov3_class_26.ipynb",
      "provenance": [],
      "collapsed_sections": [],
      "include_colab_link": true
    }
  },
  "cells": [
    {
      "cell_type": "markdown",
      "metadata": {
        "id": "view-in-github",
        "colab_type": "text"
      },
      "source": [
        "<a href=\"https://colab.research.google.com/github/Kimbaeda/youngwoo/blob/main/yolov3_class_26.ipynb\" target=\"_parent\"><img src=\"https://colab.research.google.com/assets/colab-badge.svg\" alt=\"Open In Colab\"/></a>"
      ]
    },
    {
      "cell_type": "code",
      "metadata": {
        "id": "38c65abf"
      },
      "source": [
        "# plot 제목 한글 깨짐 방지\n",
        "import matplotlib.pyplot as plt\n",
        "from matplotlib import font_manager, rc\n",
        "font_path = \"C:/Windows/Fonts/batang.ttc\"# 바탕 보통\n",
        "font = font_manager.FontProperties(fname=font_path).get_name()\n",
        "rc('font', family=font)"
      ],
      "id": "38c65abf",
      "execution_count": null,
      "outputs": []
    },
    {
      "cell_type": "code",
      "metadata": {
        "id": "e2312a30",
        "outputId": "235c28ce-963c-48aa-9b23-9d7f6c7d0bff"
      },
      "source": [
        "# 한글 잘 나오는지 테스트\n",
        "plt.figure(figsize=(5,5))\n",
        "plt.plot([0,1], [0,1], label='한글테스트용')\n",
        "plt.legend()\n",
        "plt.show()"
      ],
      "id": "e2312a30",
      "execution_count": null,
      "outputs": [
        {
          "output_type": "display_data",
          "data": {
            "image/png": "[encoded data removed]",
            "text/plain": [
              "<Figure size 360x360 with 1 Axes>"
            ]
          },
          "metadata": {
            "tags": [],
            "needs_background": "light"
          }
        }
      ]
    },
    {
      "cell_type": "code",
      "metadata": {
        "id": "5060b93b",
        "outputId": "ffd99471-313d-4e7c-f3d4-7e813f5e9287"
      },
      "source": [
        "import torch\n",
        "\n",
        "USE_CUDA = torch.cuda.is_available()\n",
        "print(USE_CUDA)\n",
        "\n",
        "device = torch.device('cuda:0' if USE_CUDA else 'cpu')\n",
        "print('학습을 진행하는 기기:',device)"
      ],
      "id": "5060b93b",
      "execution_count": null,
      "outputs": [
        {
          "output_type": "stream",
          "text": [
            "True\n",
            "학습을 진행하는 기기: cuda:0\n"
          ],
          "name": "stdout"
        }
      ]
    },
    {
      "cell_type": "code",
      "metadata": {
        "id": "2ede4519"
      },
      "source": [
        "import os\n",
        "os.environ['KMP_DUPLICATE_LIB_OK']='True'"
      ],
      "id": "2ede4519",
      "execution_count": null,
      "outputs": []
    },
    {
      "cell_type": "code",
      "metadata": {
        "id": "2bb94501"
      },
      "source": [
        "import torch\n",
        "from IPython.display import Image  # for displaying images\n",
        "import os \n",
        "import random\n",
        "import shutil\n",
        "from sklearn.model_selection import train_test_split\n",
        "import xml.etree.ElementTree as ET\n",
        "from xml.dom import minidom\n",
        "from tqdm import tqdm\n",
        "from PIL import Image, ImageDraw\n",
        "import numpy as np\n",
        "import matplotlib.pyplot as plt\n",
        "\n",
        "random.seed(108)"
      ],
      "id": "2bb94501",
      "execution_count": null,
      "outputs": []
    },
    {
      "cell_type": "code",
      "metadata": {
        "id": "b742316f"
      },
      "source": [
        "import os\n",
        "import shutil\n",
        "def make_dir(name):\n",
        "    if not os.path.isdir(name):\n",
        "        os.makedirs(name)\n",
        "        print(name, \"폴더가 생성되었습니다.\")\n",
        "    else:\n",
        "        print(\"해당 폴더가 이미 존재합니다.\")"
      ],
      "id": "b742316f",
      "execution_count": null,
      "outputs": []
    },
    {
      "cell_type": "code",
      "metadata": {
        "id": "82ca9dfd",
        "outputId": "3f4d6a67-0a8e-4961-b3d6-dc6daff33b67"
      },
      "source": [
        "%pwd"
      ],
      "id": "82ca9dfd",
      "execution_count": null,
      "outputs": [
        {
          "output_type": "execute_result",
          "data": {
            "text/plain": [
              "'d:\\\\yolo_test'"
            ]
          },
          "metadata": {
            "tags": []
          },
          "execution_count": 9
        }
      ]
    },
    {
      "cell_type": "code",
      "metadata": {
        "id": "8d4a27ca",
        "outputId": "92f529e5-322b-4c18-bed8-64207bbe0f6e"
      },
      "source": [
        "make_dir('images')"
      ],
      "id": "8d4a27ca",
      "execution_count": null,
      "outputs": [
        {
          "output_type": "stream",
          "text": [
            "images 폴더가 생성되었습니다.\n"
          ],
          "name": "stdout"
        }
      ]
    },
    {
      "cell_type": "code",
      "metadata": {
        "id": "c16aa0b8",
        "outputId": "28eb9666-07bc-44bd-9e17-c727eb2b4ce5"
      },
      "source": [
        "# 하위폴더 리스트\n",
        "from pprint import pprint\n",
        "import os\n",
        "data_path_li = []\n",
        "for (path, dir, files) in os.walk('D:\\상품이미지'):\n",
        "    data_path_li.append(path)\n",
        "\n",
        "pprint(data_path_li)"
      ],
      "id": "c16aa0b8",
      "execution_count": null,
      "outputs": [
        {
          "output_type": "stream",
          "text": [
            "['D:\\\\상품이미지',\n",
            " 'D:\\\\상품이미지\\\\10091_꼬깔콘고소한맛72G',\n",
            " 'D:\\\\상품이미지\\\\10092_농심오징어집83G',\n",
            " 'D:\\\\상품이미지\\\\10093_농심매운새우깡90G',\n",
            " 'D:\\\\상품이미지\\\\10094_크라운)콘초66G',\n",
            " 'D:\\\\상품이미지\\\\10095_농심바나나킥75G',\n",
            " 'D:\\\\상품이미지\\\\10210_오리온)포카칩오리지널66G',\n",
            " 'D:\\\\상품이미지\\\\20171_농심알새우칩68G',\n",
            " 'D:\\\\상품이미지\\\\30060_농심벌집핏자90G',\n",
            " 'D:\\\\상품이미지\\\\30061_농심포스틱84G',\n",
            " 'D:\\\\상품이미지\\\\30133_포카칩오리지널110G',\n",
            " 'D:\\\\상품이미지\\\\40088_오리온썬핫스파이시맛80G',\n",
            " 'D:\\\\상품이미지\\\\40089_오리온꼬북칩80G',\n",
            " 'D:\\\\상품이미지\\\\40091_꼬깔콘군옥수수맛72G',\n",
            " 'D:\\\\상품이미지\\\\40095_농심새우깡90G',\n",
            " 'D:\\\\상품이미지\\\\40105_롯데)초코빼빼로54G',\n",
            " 'D:\\\\상품이미지\\\\40106_롯데)아몬드빼빼로37G',\n",
            " 'D:\\\\상품이미지\\\\40110_롯데)누드초코빼빼로50G',\n",
            " 'D:\\\\상품이미지\\\\40146_롯데쌀로별오리지널78G',\n",
            " 'D:\\\\상품이미지\\\\40154_오리온태양의맛썬64g',\n",
            " 'D:\\\\상품이미지\\\\50062_농심자갈치90G',\n",
            " 'D:\\\\상품이미지\\\\50117_크라운)콘칩(군옥수수)70G',\n",
            " 'D:\\\\상품이미지\\\\90072_오리온오징어땅콩98G',\n",
            " 'D:\\\\상품이미지\\\\90073_농심)고구마깡83G',\n",
            " 'D:\\\\상품이미지\\\\90076_크라운)죠리퐁74G',\n",
            " 'D:\\\\상품이미지\\\\90123_해태허니버터칩60G',\n",
            " 'D:\\\\상품이미지\\\\90186_오리온땅콩강정80G']\n"
          ],
          "name": "stdout"
        }
      ]
    },
    {
      "cell_type": "code",
      "metadata": {
        "id": "9659ffcf"
      },
      "source": [
        "import glob\n",
        "import shutil\n",
        "import os\n",
        "\n",
        "def jpg_cp_otherdir(src_dir,dst_dir):\n",
        "  # src_dir # 파일 경로\n",
        "  # dst_dir # 옮길 경로\n",
        "    for jpgfile in glob.iglob(os.path.join(src_dir, \"*.jpg\")):\n",
        "        shutil.copy(jpgfile, dst_dir)"
      ],
      "id": "9659ffcf",
      "execution_count": null,
      "outputs": []
    },
    {
      "cell_type": "code",
      "metadata": {
        "id": "d3306d0f"
      },
      "source": [
        "# images 폴더로 .jpg 복사\n",
        "for i in data_path_li:\n",
        "      jpg_cp_otherdir(i, \"D:\\yolo_test\\images\")"
      ],
      "id": "d3306d0f",
      "execution_count": null,
      "outputs": []
    },
    {
      "cell_type": "code",
      "metadata": {
        "id": "7e27375c",
        "outputId": "67b64933-83e1-460f-ded3-9b0cd8b6abc7"
      },
      "source": [
        "# images 안의 파일 수\n",
        "import os \n",
        "image_li = os.listdir(\"D:\\yolo_test\\images\") \n",
        "print (len(image_li))"
      ],
      "id": "7e27375c",
      "execution_count": null,
      "outputs": [
        {
          "output_type": "stream",
          "text": [
            "2964\n"
          ],
          "name": "stdout"
        }
      ]
    },
    {
      "cell_type": "code",
      "metadata": {
        "id": "40d59672",
        "outputId": "cbc95a21-dd40-4844-fee8-dd5432aad603"
      },
      "source": [
        "make_dir('annotations')"
      ],
      "id": "40d59672",
      "execution_count": null,
      "outputs": [
        {
          "output_type": "stream",
          "text": [
            "annotations 폴더가 생성되었습니다.\n"
          ],
          "name": "stdout"
        }
      ]
    },
    {
      "cell_type": "code",
      "metadata": {
        "id": "ca29a6f3",
        "outputId": "e76817ac-9d7d-40a1-a046-3b3cfadd6a48"
      },
      "source": [
        "# 하위폴더 리스트\n",
        "from pprint import pprint\n",
        "import os\n",
        "data_path_li = []\n",
        "for (path, dir, files) in os.walk('D:\\상품라벨'):\n",
        "    data_path_li.append(path)\n",
        "\n",
        "pprint(data_path_li)"
      ],
      "id": "ca29a6f3",
      "execution_count": null,
      "outputs": [
        {
          "output_type": "stream",
          "text": [
            "['D:\\\\상품라벨',\n",
            " 'D:\\\\상품라벨\\\\10091_꼬깔콘고소한맛72G',\n",
            " 'D:\\\\상품라벨\\\\10092_농심오징어집83G',\n",
            " 'D:\\\\상품라벨\\\\10093_농심매운새우깡90G',\n",
            " 'D:\\\\상품라벨\\\\10094_크라운)콘초66G',\n",
            " 'D:\\\\상품라벨\\\\10095_농심바나나킥75G',\n",
            " 'D:\\\\상품라벨\\\\10210_오리온)포카칩오리지널66G',\n",
            " 'D:\\\\상품라벨\\\\20171_농심알새우칩68G',\n",
            " 'D:\\\\상품라벨\\\\30060_농심벌집핏자90G',\n",
            " 'D:\\\\상품라벨\\\\30061_농심포스틱84G',\n",
            " 'D:\\\\상품라벨\\\\30133_포카칩오리지널110G',\n",
            " 'D:\\\\상품라벨\\\\40088_오리온썬핫스파이시맛80G',\n",
            " 'D:\\\\상품라벨\\\\40089_오리온꼬북칩80G',\n",
            " 'D:\\\\상품라벨\\\\40091_꼬깔콘군옥수수맛72G',\n",
            " 'D:\\\\상품라벨\\\\40095_농심새우깡90G',\n",
            " 'D:\\\\상품라벨\\\\40105_롯데)초코빼빼로54G',\n",
            " 'D:\\\\상품라벨\\\\40106_롯데)아몬드빼빼로37G',\n",
            " 'D:\\\\상품라벨\\\\40110_롯데)누드초코빼빼로50G',\n",
            " 'D:\\\\상품라벨\\\\40146_롯데쌀로별오리지널78G',\n",
            " 'D:\\\\상품라벨\\\\40154_오리온태양의맛썬64g',\n",
            " 'D:\\\\상품라벨\\\\50062_농심자갈치90G',\n",
            " 'D:\\\\상품라벨\\\\50117_크라운)콘칩(군옥수수)70G',\n",
            " 'D:\\\\상품라벨\\\\90072_오리온오징어땅콩98G',\n",
            " 'D:\\\\상품라벨\\\\90073_농심)고구마깡83G',\n",
            " 'D:\\\\상품라벨\\\\90076_크라운)죠리퐁74G',\n",
            " 'D:\\\\상품라벨\\\\90123_해태허니버터칩60G',\n",
            " 'D:\\\\상품라벨\\\\90186_오리온땅콩강정80G']\n"
          ],
          "name": "stdout"
        }
      ]
    },
    {
      "cell_type": "code",
      "metadata": {
        "id": "77c991b9"
      },
      "source": [
        "import glob\n",
        "import shutil\n",
        "import os\n",
        "\n",
        "def xml_cp_otherdir(src_dir,dst_dir):\n",
        "  # src_dir # 파일 경로\n",
        "  # dst_dir # 옮길 경로\n",
        "    for xmlfile in glob.iglob(os.path.join(src_dir, \"*.xml\")):\n",
        "        #print(xmlfile)\n",
        "        if xmlfile[-5:] == 'a.xml':\n",
        "            continue\n",
        "        else:\n",
        "            shutil.copy(xmlfile, dst_dir)"
      ],
      "id": "77c991b9",
      "execution_count": null,
      "outputs": []
    },
    {
      "cell_type": "code",
      "metadata": {
        "id": "e170894f"
      },
      "source": [
        "# annotations 폴더로 .xml 복사\n",
        "for i in data_path_li:\n",
        "    xml_cp_otherdir(i, r\"D:\\yolo_test\\annotations\")"
      ],
      "id": "e170894f",
      "execution_count": null,
      "outputs": []
    },
    {
      "cell_type": "code",
      "metadata": {
        "id": "b4276d0a",
        "outputId": "bc728a46-848e-484c-f3ae-fcd283bc469a"
      },
      "source": [
        "# xml 안의 파일 수\n",
        "import os \n",
        "xml_li = os.listdir(r\"D:\\yolo_test\\annotations\") \n",
        "print (len(xml_li))"
      ],
      "id": "b4276d0a",
      "execution_count": null,
      "outputs": [
        {
          "output_type": "stream",
          "text": [
            "2964\n"
          ],
          "name": "stdout"
        }
      ]
    },
    {
      "cell_type": "code",
      "metadata": {
        "id": "c631b2b4",
        "outputId": "6fca3c2d-9111-4bde-b3e8-cc5e39a7b8d6"
      },
      "source": [
        "print(f'샘플 이미지의 총 개수 : {len(image_li)}, xml 총 개수 : {len(xml_li)}')"
      ],
      "id": "c631b2b4",
      "execution_count": null,
      "outputs": [
        {
          "output_type": "stream",
          "text": [
            "샘플 이미지의 총 개수 : 2964, xml 총 개수 : 2964\n"
          ],
          "name": "stdout"
        }
      ]
    },
    {
      "cell_type": "code",
      "metadata": {
        "id": "59918468"
      },
      "source": [
        "import torch\n",
        "from IPython.display import Image  # for displaying images\n",
        "import os \n",
        "import random\n",
        "import shutil\n",
        "from sklearn.model_selection import train_test_split\n",
        "import xml.etree.ElementTree as ET\n",
        "from xml.dom import minidom\n",
        "from tqdm import tqdm\n",
        "from PIL import Image, ImageDraw, ImageFont\n",
        "import numpy as np\n",
        "import matplotlib.pyplot as plt\n",
        "\n",
        "random.seed(108)"
      ],
      "id": "59918468",
      "execution_count": null,
      "outputs": []
    },
    {
      "cell_type": "code",
      "metadata": {
        "id": "09ff652d"
      },
      "source": [
        "import re\n",
        "# Function to get the data from XML Annotation\n",
        "def extract_info_from_xml(xml_file):\n",
        "    root = ET.parse(xml_file).getroot()\n",
        "    \n",
        "    # Initialise the info dict \n",
        "    info_dict = {}\n",
        "    info_dict['bboxes'] = []\n",
        "\n",
        "    # Parse the XML Tree\n",
        "    for elem in root:\n",
        "        # Get the file name \n",
        "        if elem.tag == \"filename\":\n",
        "            info_dict['filename'] = elem.text\n",
        "            \n",
        "        # Get the image size\n",
        "        elif elem.tag == \"size\":\n",
        "            image_size = []\n",
        "            for subelem in elem:\n",
        "                image_size.append(int(subelem.text))\n",
        "            \n",
        "            info_dict['image_size'] = tuple(image_size)\n",
        "        \n",
        "        # Get details of the bounding box \n",
        "        elif elem.tag == \"object\":\n",
        "            bbox = {}\n",
        "            for subelem in elem:\n",
        "                if subelem.tag == \"name\":\n",
        "                    bbox[\"class\"] = re.sub(\"\\!|\\'|\\?|\\)|\\(|\\_\",\"\",subelem.text)\n",
        "                    \n",
        "                elif subelem.tag == \"bndbox\":\n",
        "                    for subsubelem in subelem:\n",
        "                        bbox[subsubelem.tag] = int(subsubelem.text)            \n",
        "            info_dict['bboxes'].append(bbox)\n",
        "    \n",
        "    return info_dict"
      ],
      "id": "09ff652d",
      "execution_count": null,
      "outputs": []
    },
    {
      "cell_type": "code",
      "metadata": {
        "id": "adbafef5",
        "outputId": "7753ec15-4ff1-4396-9870-bb994f0a96f2"
      },
      "source": [
        "from pprint import pprint\n",
        "pprint(extract_info_from_xml(r\"D:\\yolo_test\\annotations\\10094_0_m_1.xml\"))"
      ],
      "id": "adbafef5",
      "execution_count": null,
      "outputs": [
        {
          "output_type": "stream",
          "text": [
            "{'bboxes': [{'class': '크라운콘초66G',\n",
            "             'xmax': 1320,\n",
            "             'xmin': 149,\n",
            "             'ymax': 2360,\n",
            "             'ymin': 820},\n",
            "            {'class': '크라운콘초66G',\n",
            "             'xmax': 2092,\n",
            "             'xmin': 1110,\n",
            "             'ymax': 2278,\n",
            "             'ymin': 848},\n",
            "            {'class': '크라운콘초66G',\n",
            "             'xmax': 2791,\n",
            "             'xmin': 1823,\n",
            "             'ymax': 2200,\n",
            "             'ymin': 869}],\n",
            " 'filename': '10094_0_m_1.jpg',\n",
            " 'image_size': (2988, 2988, 3)}\n"
          ],
          "name": "stdout"
        }
      ]
    },
    {
      "cell_type": "code",
      "metadata": {
        "id": "c60dbda2",
        "outputId": "9d79baa1-85ff-4882-e6b7-75642f278154"
      },
      "source": [
        "# 하위 마지막폴더 리스트\n",
        "from pprint import pprint\n",
        "import os\n",
        "data_path_li = []\n",
        "for (path, dir, files) in os.walk('D:\\상품라벨'):\n",
        "    a = os.path.basename(os.path.normpath(path))\n",
        "    data_path_li.append(a)\n",
        "\n",
        "pprint(data_path_li)"
      ],
      "id": "c60dbda2",
      "execution_count": null,
      "outputs": [
        {
          "output_type": "stream",
          "text": [
            "['상품라벨',\n",
            " '10091_꼬깔콘고소한맛72G',\n",
            " '10092_농심오징어집83G',\n",
            " '10093_농심매운새우깡90G',\n",
            " '10094_크라운)콘초66G',\n",
            " '10095_농심바나나킥75G',\n",
            " '10210_오리온)포카칩오리지널66G',\n",
            " '20171_농심알새우칩68G',\n",
            " '30060_농심벌집핏자90G',\n",
            " '30061_농심포스틱84G',\n",
            " '30133_포카칩오리지널110G',\n",
            " '40088_오리온썬핫스파이시맛80G',\n",
            " '40089_오리온꼬북칩80G',\n",
            " '40091_꼬깔콘군옥수수맛72G',\n",
            " '40095_농심새우깡90G',\n",
            " '40105_롯데)초코빼빼로54G',\n",
            " '40106_롯데)아몬드빼빼로37G',\n",
            " '40110_롯데)누드초코빼빼로50G',\n",
            " '40146_롯데쌀로별오리지널78G',\n",
            " '40154_오리온태양의맛썬64g',\n",
            " '50062_농심자갈치90G',\n",
            " '50117_크라운)콘칩(군옥수수)70G',\n",
            " '90072_오리온오징어땅콩98G',\n",
            " '90073_농심)고구마깡83G',\n",
            " '90076_크라운)죠리퐁74G',\n",
            " '90123_해태허니버터칩60G',\n",
            " '90186_오리온땅콩강정80G']\n"
          ],
          "name": "stdout"
        }
      ]
    },
    {
      "cell_type": "code",
      "metadata": {
        "id": "21812205",
        "outputId": "c1a7d8da-b510-4b6d-c8d6-039d3988defa"
      },
      "source": [
        "class_name_li = [re.sub(\"^[0-9]+|\\_|\\!|\\'|\\?|\\)|\\(\",\"\", i) for i in data_path_li if len(i) >= 5 ]\n",
        "pprint(class_name_li)"
      ],
      "id": "21812205",
      "execution_count": null,
      "outputs": [
        {
          "output_type": "stream",
          "text": [
            "['꼬깔콘고소한맛72G',\n",
            " '농심오징어집83G',\n",
            " '농심매운새우깡90G',\n",
            " '크라운콘초66G',\n",
            " '농심바나나킥75G',\n",
            " '오리온포카칩오리지널66G',\n",
            " '농심알새우칩68G',\n",
            " '농심벌집핏자90G',\n",
            " '농심포스틱84G',\n",
            " '포카칩오리지널110G',\n",
            " '오리온썬핫스파이시맛80G',\n",
            " '오리온꼬북칩80G',\n",
            " '꼬깔콘군옥수수맛72G',\n",
            " '농심새우깡90G',\n",
            " '롯데초코빼빼로54G',\n",
            " '롯데아몬드빼빼로37G',\n",
            " '롯데누드초코빼빼로50G',\n",
            " '롯데쌀로별오리지널78G',\n",
            " '오리온태양의맛썬64g',\n",
            " '농심자갈치90G',\n",
            " '크라운콘칩군옥수수70G',\n",
            " '오리온오징어땅콩98G',\n",
            " '농심고구마깡83G',\n",
            " '크라운죠리퐁74G',\n",
            " '해태허니버터칩60G',\n",
            " '오리온땅콩강정80G']\n"
          ],
          "name": "stdout"
        }
      ]
    },
    {
      "cell_type": "code",
      "metadata": {
        "id": "b4549b08",
        "outputId": "41104312-690e-4e4a-810d-c93ce4d51f8e"
      },
      "source": [
        "print(len(class_name_li))"
      ],
      "id": "b4549b08",
      "execution_count": null,
      "outputs": [
        {
          "output_type": "stream",
          "text": [
            "26\n"
          ],
          "name": "stdout"
        }
      ]
    },
    {
      "cell_type": "code",
      "metadata": {
        "id": "8b6a77c5",
        "outputId": "8f57a24e-f759-4ecb-f476-a0007a48b1e4"
      },
      "source": [
        "class_name_to_id_mapping_test = {class_:i for i,class_ in enumerate(class_name_li)}\n",
        "print(class_name_to_id_mapping_test)"
      ],
      "id": "8b6a77c5",
      "execution_count": null,
      "outputs": [
        {
          "output_type": "stream",
          "text": [
            "{'꼬깔콘고소한맛72G': 0, '농심오징어집83G': 1, '농심매운새우깡90G': 2, '크라운콘초66G': 3, '농심바나나킥75G': 4, '오리온포카칩오리지널66G': 5, '농심알새우칩68G': 6, '농심벌집핏자90G': 7, '농심포스틱84G': 8, '포카칩오리지널110G': 9, '오리온썬핫스파이시맛80G': 10, '오리온꼬북칩80G': 11, '꼬깔콘군옥수수맛72G': 12, '농심새우깡90G': 13, '롯데초코빼빼로54G': 14, '롯데아몬드빼빼로37G': 15, '롯데누드초코빼빼로50G': 16, '롯데쌀로별오리지널78G': 17, '오리온태양의맛썬64g': 18, '농심자갈치90G': 19, '크라운콘칩군옥수수70G': 20, '오리온오징어땅콩98G': 21, '농심고구마깡83G': 22, '크라운죠리퐁74G': 23, '해태허니버터칩60G': 24, '오리온땅콩강정80G': 25}\n"
          ],
          "name": "stdout"
        }
      ]
    },
    {
      "cell_type": "code",
      "metadata": {
        "id": "745b9386"
      },
      "source": [
        "# Dictionary that maps class names to IDs\n",
        "class_name_to_id_mapping = class_name_to_id_mapping_test\n",
        "\n",
        "# Convert the info dict to the required yolo format and write it to disk\n",
        "def convert_to_yolov5(info_dict):\n",
        "    print_buffer = []\n",
        "    \n",
        "    # For each bounding box\n",
        "    for b in info_dict[\"bboxes\"]:\n",
        "        try:\n",
        "            class_id = class_name_to_id_mapping[b[\"class\"]]\n",
        "        except KeyError:\n",
        "            print(\"Invalid Class. Must be one from \", class_name_to_id_mapping.keys())\n",
        "        \n",
        "        # Transform the bbox co-ordinates as per the format required by YOLO v5\n",
        "        b_center_x = (b[\"xmin\"] + b[\"xmax\"]) / 2 \n",
        "        b_center_y = (b[\"ymin\"] + b[\"ymax\"]) / 2\n",
        "        b_width    = (b[\"xmax\"] - b[\"xmin\"])\n",
        "        b_height   = (b[\"ymax\"] - b[\"ymin\"])\n",
        "        \n",
        "        # Normalise the co-ordinates by the dimensions of the image\n",
        "        image_w, image_h, image_c = info_dict[\"image_size\"]  \n",
        "        b_center_x /= image_w \n",
        "        b_center_y /= image_h \n",
        "        b_width    /= image_w \n",
        "        b_height   /= image_h \n",
        "        \n",
        "        #Write the bbox details to the file \n",
        "        print_buffer.append(\"{} {:.3f} {:.3f} {:.3f} {:.3f}\".format(class_id, b_center_x, b_center_y, b_width, b_height))\n",
        "        \n",
        "    # Name of the file which we have to save \n",
        "    save_file_name = os.path.join(\"annotations\", info_dict[\"filename\"].replace(\"jpg\", \"txt\"))\n",
        "    \n",
        "    # Save the annotation to disk\n",
        "    print(\"\\n\".join(print_buffer), file= open(save_file_name, \"w\"))"
      ],
      "id": "745b9386",
      "execution_count": null,
      "outputs": []
    },
    {
      "cell_type": "code",
      "metadata": {
        "id": "13b3e296",
        "outputId": "8e119f3b-a54a-42df-c70a-59c9c9eb2c7d"
      },
      "source": [
        "# Get the annotations\n",
        "annotations = [os.path.join('annotations', x) for x in os.listdir('annotations') if x[-3:] == \"xml\"]\n",
        "annotations.sort()\n",
        "\n",
        "# Convert and save the annotations\n",
        "for ann in tqdm(annotations):\n",
        "    info_dict = extract_info_from_xml(ann)\n",
        "    convert_to_yolov5(info_dict)\n",
        "annotations = [os.path.join('annotations', x) for x in os.listdir('annotations') if x[-3:] == \"txt\"]"
      ],
      "id": "13b3e296",
      "execution_count": null,
      "outputs": [
        {
          "output_type": "stream",
          "text": [
            "100%|█████████████████████████████████████████████████████████████████████████████| 2964/2964 [00:10<00:00, 278.33it/s]\n"
          ],
          "name": "stderr"
        }
      ]
    },
    {
      "cell_type": "code",
      "metadata": {
        "id": "d89d1314",
        "outputId": "c96de4de-7270-4c8a-aa93-c3e46da1d2f2"
      },
      "source": [
        "random.seed(0)\n",
        "\n",
        "class_id_to_name_mapping = dict(zip(class_name_to_id_mapping.values(), class_name_to_id_mapping.keys()))\n",
        "font=ImageFont.truetype(\"C:/Windows/Fonts/batang.ttc\",10)\n",
        "\n",
        "def plot_bounding_box(image, annotation_list):\n",
        "    annotations = np.array(annotation_list)\n",
        "    w, h = image.size\n",
        "    \n",
        "    plotted_image = ImageDraw.Draw(image)\n",
        "\n",
        "    transformed_annotations = np.copy(annotations)\n",
        "    transformed_annotations[:,[1,3]] = annotations[:,[1,3]] * w\n",
        "    transformed_annotations[:,[2,4]] = annotations[:,[2,4]] * h \n",
        "    \n",
        "    transformed_annotations[:,1] = transformed_annotations[:,1] - (transformed_annotations[:,3] / 2)\n",
        "    transformed_annotations[:,2] = transformed_annotations[:,2] - (transformed_annotations[:,4] / 2)\n",
        "    transformed_annotations[:,3] = transformed_annotations[:,1] + transformed_annotations[:,3]\n",
        "    transformed_annotations[:,4] = transformed_annotations[:,2] + transformed_annotations[:,4]\n",
        "    \n",
        "    for ann in transformed_annotations:\n",
        "        obj_cls, x0, y0, x1, y1 = ann\n",
        "        plotted_image.rectangle(((x0,y0), (x1,y1)))\n",
        "        \n",
        "        plotted_image.text((x0, y0 - 10), class_id_to_name_mapping[(int(obj_cls))],font=font,encoding='utf8')\n",
        "    \n",
        "    plt.imshow(np.array(image))\n",
        "    plt.show()\n",
        "\n",
        "# Get any random annotation file \n",
        "annotation_file = random.choice(annotations)\n",
        "with open(annotation_file, \"r\") as file:\n",
        "    annotation_list = file.read().split(\"\\n\")[:-1]\n",
        "    annotation_list = [x.split(\" \") for x in annotation_list]\n",
        "    annotation_list = [[float(y) for y in x ] for x in annotation_list]\n",
        "\n",
        "#Get the corresponding image file\n",
        "image_file = annotation_file.replace(\"annotations\", \"images\").replace(\"txt\", \"jpg\")\n",
        "assert os.path.exists(image_file)\n",
        "\n",
        "#Load the image\n",
        "image = Image.open(image_file)\n",
        "\n",
        "#Plot the Bounding Box\n",
        "plot_bounding_box(image, annotation_list)"
      ],
      "id": "d89d1314",
      "execution_count": null,
      "outputs": [
        {
          "output_type": "display_data",
          "data": {
            "image/png": "[encoded data removed]",
            "text/plain": [
              "<Figure size 432x288 with 1 Axes>"
            ]
          },
          "metadata": {
            "tags": [],
            "needs_background": "light"
          }
        }
      ]
    },
    {
      "cell_type": "code",
      "metadata": {
        "id": "7191c1f9"
      },
      "source": [
        "# Read images and annotations\n",
        "images = [os.path.join('images', x) for x in os.listdir('images')]\n",
        "annotations = [os.path.join('annotations', x) for x in os.listdir('annotations') if x[-3:] == \"txt\"]\n",
        "\n",
        "images.sort()\n",
        "annotations.sort()\n",
        "\n",
        "# Split the dataset into train-valid-test splits \n",
        "train_images, val_images, train_annotations, val_annotations = train_test_split(images, annotations, test_size = 0.15, random_state = 1)\n",
        "# val_images, test_images, val_annotations, test_annotations = train_test_split(val_images, val_annotations, test_size = 0.5, random_state = 1)"
      ],
      "id": "7191c1f9",
      "execution_count": null,
      "outputs": []
    },
    {
      "cell_type": "code",
      "metadata": {
        "id": "955eb8d9",
        "outputId": "48b4e67a-4c08-470f-981a-e660333ad895"
      },
      "source": [
        "make_dir('images/train')\n",
        "make_dir('images/val')\n",
        "# make_dir('images/test')\n",
        "# make_dir('annotations/train')\n",
        "# make_dir('annotations/val')\n",
        "# make_dir('annotations/test')"
      ],
      "id": "955eb8d9",
      "execution_count": null,
      "outputs": [
        {
          "output_type": "stream",
          "text": [
            "images/train 폴더가 생성되었습니다.\n",
            "images/val 폴더가 생성되었습니다.\n"
          ],
          "name": "stdout"
        }
      ]
    },
    {
      "cell_type": "code",
      "metadata": {
        "id": "9dbcd888"
      },
      "source": [
        "#Utility function to move images \n",
        "def move_files_to_folder(list_of_files, destination_folder):\n",
        "    for f in list_of_files:\n",
        "        try:\n",
        "            shutil.move(f, destination_folder)\n",
        "        except:\n",
        "            print(f)\n",
        "            assert False\n",
        "\n",
        "# Move the splits into their folders\n",
        "move_files_to_folder(train_images, 'images/train')\n",
        "move_files_to_folder(val_images, 'images/val/')\n",
        "# move_files_to_folder(test_images, 'images/test/')\n",
        "move_files_to_folder(train_annotations, 'images/train/')\n",
        "move_files_to_folder(val_annotations, 'images/val/')\n",
        "# move_files_to_folder(test_annotations, 'annotations/test/')"
      ],
      "id": "9dbcd888",
      "execution_count": null,
      "outputs": []
    }
  ]
}