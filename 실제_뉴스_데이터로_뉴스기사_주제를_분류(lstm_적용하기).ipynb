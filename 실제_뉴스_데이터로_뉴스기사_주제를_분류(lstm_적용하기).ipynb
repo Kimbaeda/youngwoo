{
  "nbformat": 4,
  "nbformat_minor": 0,
  "metadata": {
    "colab": {
      "name": "실제 뉴스 데이터로 뉴스기사 주제를 분류(lstm 적용하기).ipynb",
      "provenance": [],
      "collapsed_sections": [],
      "toc_visible": true,
      "authorship_tag": "ABX9TyMz0Rs1s9HcK3EdFJOZAZCZ",
      "include_colab_link": true
    },
    "kernelspec": {
      "name": "python3",
      "display_name": "Python 3"
    },
    "language_info": {
      "name": "python"
    }
  },
  "cells": [
    {
      "cell_type": "markdown",
      "metadata": {
        "id": "view-in-github",
        "colab_type": "text"
      },
      "source": [
        "<a href=\"https://colab.research.google.com/github/Kimbaeda/youngwoo/blob/main/%EC%8B%A4%EC%A0%9C_%EB%89%B4%EC%8A%A4_%EB%8D%B0%EC%9D%B4%ED%84%B0%EB%A1%9C_%EB%89%B4%EC%8A%A4%EA%B8%B0%EC%82%AC_%EC%A3%BC%EC%A0%9C%EB%A5%BC_%EB%B6%84%EB%A5%98(lstm_%EC%A0%81%EC%9A%A9%ED%95%98%EA%B8%B0).ipynb\" target=\"_parent\"><img src=\"https://colab.research.google.com/assets/colab-badge.svg\" alt=\"Open In Colab\"/></a>"
      ]
    },
    {
      "cell_type": "markdown",
      "metadata": {
        "id": "E1yMJR0Z72pj"
      },
      "source": [
        "# 실제 뉴스 데이터로 뉴스기사 주제를 분류하는 텍스트 분류기 만들기\n",
        "- RNN LSTM 적용하기"
      ]
    },
    {
      "cell_type": "markdown",
      "metadata": {
        "id": "tkVEE80F7_g6"
      },
      "source": [
        "## 데이터 수집 및 전처리"
      ]
    },
    {
      "cell_type": "markdown",
      "metadata": {
        "id": "ujkNLeET7wJz"
      },
      "source": [
        "크롤링은 한시간 정도 걸림.\n",
        "크롤링한 데이터 csv로 저장 후 불러옴.\n",
        "\n",
        "[데이터 다운 링크](https://drive.google.com/file/d/1NieEXeSqTXKtY2oQAi_WMZVwcnL9M6CG/view?usp=sharing)"
      ]
    },
    {
      "cell_type": "code",
      "metadata": {
        "colab": {
          "resources": {
            "http://localhost:8080/nbextensions/google.colab/files.js": {
              "data": "Ly8gQ29weXJpZ2h0IDIwMTcgR29vZ2xlIExMQwovLwovLyBMaWNlbnNlZCB1bmRlciB0aGUgQXBhY2hlIExpY2Vuc2UsIFZlcnNpb24gMi4wICh0aGUgIkxpY2Vuc2UiKTsKLy8geW91IG1heSBub3QgdXNlIHRoaXMgZmlsZSBleGNlcHQgaW4gY29tcGxpYW5jZSB3aXRoIHRoZSBMaWNlbnNlLgovLyBZb3UgbWF5IG9idGFpbiBhIGNvcHkgb2YgdGhlIExpY2Vuc2UgYXQKLy8KLy8gICAgICBodHRwOi8vd3d3LmFwYWNoZS5vcmcvbGljZW5zZXMvTElDRU5TRS0yLjAKLy8KLy8gVW5sZXNzIHJlcXVpcmVkIGJ5IGFwcGxpY2FibGUgbGF3IG9yIGFncmVlZCB0byBpbiB3cml0aW5nLCBzb2Z0d2FyZQovLyBkaXN0cmlidXRlZCB1bmRlciB0aGUgTGljZW5zZSBpcyBkaXN0cmlidXRlZCBvbiBhbiAiQVMgSVMiIEJBU0lTLAovLyBXSVRIT1VUIFdBUlJBTlRJRVMgT1IgQ09ORElUSU9OUyBPRiBBTlkgS0lORCwgZWl0aGVyIGV4cHJlc3Mgb3IgaW1wbGllZC4KLy8gU2VlIHRoZSBMaWNlbnNlIGZvciB0aGUgc3BlY2lmaWMgbGFuZ3VhZ2UgZ292ZXJuaW5nIHBlcm1pc3Npb25zIGFuZAovLyBsaW1pdGF0aW9ucyB1bmRlciB0aGUgTGljZW5zZS4KCi8qKgogKiBAZmlsZW92ZXJ2aWV3IEhlbHBlcnMgZm9yIGdvb2dsZS5jb2xhYiBQeXRob24gbW9kdWxlLgogKi8KKGZ1bmN0aW9uKHNjb3BlKSB7CmZ1bmN0aW9uIHNwYW4odGV4dCwgc3R5bGVBdHRyaWJ1dGVzID0ge30pIHsKICBjb25zdCBlbGVtZW50ID0gZG9jdW1lbnQuY3JlYXRlRWxlbWVudCgnc3BhbicpOwogIGVsZW1lbnQudGV4dENvbnRlbnQgPSB0ZXh0OwogIGZvciAoY29uc3Qga2V5IG9mIE9iamVjdC5rZXlzKHN0eWxlQXR0cmlidXRlcykpIHsKICAgIGVsZW1lbnQuc3R5bGVba2V5XSA9IHN0eWxlQXR0cmlidXRlc1trZXldOwogIH0KICByZXR1cm4gZWxlbWVudDsKfQoKLy8gTWF4IG51bWJlciBvZiBieXRlcyB3aGljaCB3aWxsIGJlIHVwbG9hZGVkIGF0IGEgdGltZS4KY29uc3QgTUFYX1BBWUxPQURfU0laRSA9IDEwMCAqIDEwMjQ7CgpmdW5jdGlvbiBfdXBsb2FkRmlsZXMoaW5wdXRJZCwgb3V0cHV0SWQpIHsKICBjb25zdCBzdGVwcyA9IHVwbG9hZEZpbGVzU3RlcChpbnB1dElkLCBvdXRwdXRJZCk7CiAgY29uc3Qgb3V0cHV0RWxlbWVudCA9IGRvY3VtZW50LmdldEVsZW1lbnRCeUlkKG91dHB1dElkKTsKICAvLyBDYWNoZSBzdGVwcyBvbiB0aGUgb3V0cHV0RWxlbWVudCB0byBtYWtlIGl0IGF2YWlsYWJsZSBmb3IgdGhlIG5leHQgY2FsbAogIC8vIHRvIHVwbG9hZEZpbGVzQ29udGludWUgZnJvbSBQeXRob24uCiAgb3V0cHV0RWxlbWVudC5zdGVwcyA9IHN0ZXBzOwoKICByZXR1cm4gX3VwbG9hZEZpbGVzQ29udGludWUob3V0cHV0SWQpOwp9CgovLyBUaGlzIGlzIHJvdWdobHkgYW4gYXN5bmMgZ2VuZXJhdG9yIChub3Qgc3VwcG9ydGVkIGluIHRoZSBicm93c2VyIHlldCksCi8vIHdoZXJlIHRoZXJlIGFyZSBtdWx0aXBsZSBhc3luY2hyb25vdXMgc3RlcHMgYW5kIHRoZSBQeXRob24gc2lkZSBpcyBnb2luZwovLyB0byBwb2xsIGZvciBjb21wbGV0aW9uIG9mIGVhY2ggc3RlcC4KLy8gVGhpcyB1c2VzIGEgUHJvbWlzZSB0byBibG9jayB0aGUgcHl0aG9uIHNpZGUgb24gY29tcGxldGlvbiBvZiBlYWNoIHN0ZXAsCi8vIHRoZW4gcGFzc2VzIHRoZSByZXN1bHQgb2YgdGhlIHByZXZpb3VzIHN0ZXAgYXMgdGhlIGlucHV0IHRvIHRoZSBuZXh0IHN0ZXAuCmZ1bmN0aW9uIF91cGxvYWRGaWxlc0NvbnRpbnVlKG91dHB1dElkKSB7CiAgY29uc3Qgb3V0cHV0RWxlbWVudCA9IGRvY3VtZW50LmdldEVsZW1lbnRCeUlkKG91dHB1dElkKTsKICBjb25zdCBzdGVwcyA9IG91dHB1dEVsZW1lbnQuc3RlcHM7CgogIGNvbnN0IG5leHQgPSBzdGVwcy5uZXh0KG91dHB1dEVsZW1lbnQubGFzdFByb21pc2VWYWx1ZSk7CiAgcmV0dXJuIFByb21pc2UucmVzb2x2ZShuZXh0LnZhbHVlLnByb21pc2UpLnRoZW4oKHZhbHVlKSA9PiB7CiAgICAvLyBDYWNoZSB0aGUgbGFzdCBwcm9taXNlIHZhbHVlIHRvIG1ha2UgaXQgYXZhaWxhYmxlIHRvIHRoZSBuZXh0CiAgICAvLyBzdGVwIG9mIHRoZSBnZW5lcmF0b3IuCiAgICBvdXRwdXRFbGVtZW50Lmxhc3RQcm9taXNlVmFsdWUgPSB2YWx1ZTsKICAgIHJldHVybiBuZXh0LnZhbHVlLnJlc3BvbnNlOwogIH0pOwp9CgovKioKICogR2VuZXJhdG9yIGZ1bmN0aW9uIHdoaWNoIGlzIGNhbGxlZCBiZXR3ZWVuIGVhY2ggYXN5bmMgc3RlcCBvZiB0aGUgdXBsb2FkCiAqIHByb2Nlc3MuCiAqIEBwYXJhbSB7c3RyaW5nfSBpbnB1dElkIEVsZW1lbnQgSUQgb2YgdGhlIGlucHV0IGZpbGUgcGlja2VyIGVsZW1lbnQuCiAqIEBwYXJhbSB7c3RyaW5nfSBvdXRwdXRJZCBFbGVtZW50IElEIG9mIHRoZSBvdXRwdXQgZGlzcGxheS4KICogQHJldHVybiB7IUl0ZXJhYmxlPCFPYmplY3Q+fSBJdGVyYWJsZSBvZiBuZXh0IHN0ZXBzLgogKi8KZnVuY3Rpb24qIHVwbG9hZEZpbGVzU3RlcChpbnB1dElkLCBvdXRwdXRJZCkgewogIGNvbnN0IGlucHV0RWxlbWVudCA9IGRvY3VtZW50LmdldEVsZW1lbnRCeUlkKGlucHV0SWQpOwogIGlucHV0RWxlbWVudC5kaXNhYmxlZCA9IGZhbHNlOwoKICBjb25zdCBvdXRwdXRFbGVtZW50ID0gZG9jdW1lbnQuZ2V0RWxlbWVudEJ5SWQob3V0cHV0SWQpOwogIG91dHB1dEVsZW1lbnQuaW5uZXJIVE1MID0gJyc7CgogIGNvbnN0IHBpY2tlZFByb21pc2UgPSBuZXcgUHJvbWlzZSgocmVzb2x2ZSkgPT4gewogICAgaW5wdXRFbGVtZW50LmFkZEV2ZW50TGlzdGVuZXIoJ2NoYW5nZScsIChlKSA9PiB7CiAgICAgIHJlc29sdmUoZS50YXJnZXQuZmlsZXMpOwogICAgfSk7CiAgfSk7CgogIGNvbnN0IGNhbmNlbCA9IGRvY3VtZW50LmNyZWF0ZUVsZW1lbnQoJ2J1dHRvbicpOwogIGlucHV0RWxlbWVudC5wYXJlbnRFbGVtZW50LmFwcGVuZENoaWxkKGNhbmNlbCk7CiAgY2FuY2VsLnRleHRDb250ZW50ID0gJ0NhbmNlbCB1cGxvYWQnOwogIGNvbnN0IGNhbmNlbFByb21pc2UgPSBuZXcgUHJvbWlzZSgocmVzb2x2ZSkgPT4gewogICAgY2FuY2VsLm9uY2xpY2sgPSAoKSA9PiB7CiAgICAgIHJlc29sdmUobnVsbCk7CiAgICB9OwogIH0pOwoKICAvLyBXYWl0IGZvciB0aGUgdXNlciB0byBwaWNrIHRoZSBmaWxlcy4KICBjb25zdCBmaWxlcyA9IHlpZWxkIHsKICAgIHByb21pc2U6IFByb21pc2UucmFjZShbcGlja2VkUHJvbWlzZSwgY2FuY2VsUHJvbWlzZV0pLAogICAgcmVzcG9uc2U6IHsKICAgICAgYWN0aW9uOiAnc3RhcnRpbmcnLAogICAgfQogIH07CgogIGNhbmNlbC5yZW1vdmUoKTsKCiAgLy8gRGlzYWJsZSB0aGUgaW5wdXQgZWxlbWVudCBzaW5jZSBmdXJ0aGVyIHBpY2tzIGFyZSBub3QgYWxsb3dlZC4KICBpbnB1dEVsZW1lbnQuZGlzYWJsZWQgPSB0cnVlOwoKICBpZiAoIWZpbGVzKSB7CiAgICByZXR1cm4gewogICAgICByZXNwb25zZTogewogICAgICAgIGFjdGlvbjogJ2NvbXBsZXRlJywKICAgICAgfQogICAgfTsKICB9CgogIGZvciAoY29uc3QgZmlsZSBvZiBmaWxlcykgewogICAgY29uc3QgbGkgPSBkb2N1bWVudC5jcmVhdGVFbGVtZW50KCdsaScpOwogICAgbGkuYXBwZW5kKHNwYW4oZmlsZS5uYW1lLCB7Zm9udFdlaWdodDogJ2JvbGQnfSkpOwogICAgbGkuYXBwZW5kKHNwYW4oCiAgICAgICAgYCgke2ZpbGUudHlwZSB8fCAnbi9hJ30pIC0gJHtmaWxlLnNpemV9IGJ5dGVzLCBgICsKICAgICAgICBgbGFzdCBtb2RpZmllZDogJHsKICAgICAgICAgICAgZmlsZS5sYXN0TW9kaWZpZWREYXRlID8gZmlsZS5sYXN0TW9kaWZpZWREYXRlLnRvTG9jYWxlRGF0ZVN0cmluZygpIDoKICAgICAgICAgICAgICAgICAgICAgICAgICAgICAgICAgICAgJ24vYSd9IC0gYCkpOwogICAgY29uc3QgcGVyY2VudCA9IHNwYW4oJzAlIGRvbmUnKTsKICAgIGxpLmFwcGVuZENoaWxkKHBlcmNlbnQpOwoKICAgIG91dHB1dEVsZW1lbnQuYXBwZW5kQ2hpbGQobGkpOwoKICAgIGNvbnN0IGZpbGVEYXRhUHJvbWlzZSA9IG5ldyBQcm9taXNlKChyZXNvbHZlKSA9PiB7CiAgICAgIGNvbnN0IHJlYWRlciA9IG5ldyBGaWxlUmVhZGVyKCk7CiAgICAgIHJlYWRlci5vbmxvYWQgPSAoZSkgPT4gewogICAgICAgIHJlc29sdmUoZS50YXJnZXQucmVzdWx0KTsKICAgICAgfTsKICAgICAgcmVhZGVyLnJlYWRBc0FycmF5QnVmZmVyKGZpbGUpOwogICAgfSk7CiAgICAvLyBXYWl0IGZvciB0aGUgZGF0YSB0byBiZSByZWFkeS4KICAgIGxldCBmaWxlRGF0YSA9IHlpZWxkIHsKICAgICAgcHJvbWlzZTogZmlsZURhdGFQcm9taXNlLAogICAgICByZXNwb25zZTogewogICAgICAgIGFjdGlvbjogJ2NvbnRpbnVlJywKICAgICAgfQogICAgfTsKCiAgICAvLyBVc2UgYSBjaHVua2VkIHNlbmRpbmcgdG8gYXZvaWQgbWVzc2FnZSBzaXplIGxpbWl0cy4gU2VlIGIvNjIxMTU2NjAuCiAgICBsZXQgcG9zaXRpb24gPSAwOwogICAgZG8gewogICAgICBjb25zdCBsZW5ndGggPSBNYXRoLm1pbihmaWxlRGF0YS5ieXRlTGVuZ3RoIC0gcG9zaXRpb24sIE1BWF9QQVlMT0FEX1NJWkUpOwogICAgICBjb25zdCBjaHVuayA9IG5ldyBVaW50OEFycmF5KGZpbGVEYXRhLCBwb3NpdGlvbiwgbGVuZ3RoKTsKICAgICAgcG9zaXRpb24gKz0gbGVuZ3RoOwoKICAgICAgY29uc3QgYmFzZTY0ID0gYnRvYShTdHJpbmcuZnJvbUNoYXJDb2RlLmFwcGx5KG51bGwsIGNodW5rKSk7CiAgICAgIHlpZWxkIHsKICAgICAgICByZXNwb25zZTogewogICAgICAgICAgYWN0aW9uOiAnYXBwZW5kJywKICAgICAgICAgIGZpbGU6IGZpbGUubmFtZSwKICAgICAgICAgIGRhdGE6IGJhc2U2NCwKICAgICAgICB9LAogICAgICB9OwoKICAgICAgbGV0IHBlcmNlbnREb25lID0gZmlsZURhdGEuYnl0ZUxlbmd0aCA9PT0gMCA/CiAgICAgICAgICAxMDAgOgogICAgICAgICAgTWF0aC5yb3VuZCgocG9zaXRpb24gLyBmaWxlRGF0YS5ieXRlTGVuZ3RoKSAqIDEwMCk7CiAgICAgIHBlcmNlbnQudGV4dENvbnRlbnQgPSBgJHtwZXJjZW50RG9uZX0lIGRvbmVgOwoKICAgIH0gd2hpbGUgKHBvc2l0aW9uIDwgZmlsZURhdGEuYnl0ZUxlbmd0aCk7CiAgfQoKICAvLyBBbGwgZG9uZS4KICB5aWVsZCB7CiAgICByZXNwb25zZTogewogICAgICBhY3Rpb246ICdjb21wbGV0ZScsCiAgICB9CiAgfTsKfQoKc2NvcGUuZ29vZ2xlID0gc2NvcGUuZ29vZ2xlIHx8IHt9OwpzY29wZS5nb29nbGUuY29sYWIgPSBzY29wZS5nb29nbGUuY29sYWIgfHwge307CnNjb3BlLmdvb2dsZS5jb2xhYi5fZmlsZXMgPSB7CiAgX3VwbG9hZEZpbGVzLAogIF91cGxvYWRGaWxlc0NvbnRpbnVlLAp9Owp9KShzZWxmKTsK",
              "ok": true,
              "headers": [
                [
                  "content-type",
                  "application/javascript"
                ]
              ],
              "status": 200,
              "status_text": ""
            }
          },
          "base_uri": "https://localhost:8080/",
          "height": 76
        },
        "id": "gBA5J-Wu7Kzd",
        "outputId": "6b80786c-d40b-4015-d0b2-8e6fb2959787"
      },
      "source": [
        "#데이터 입력\n",
        "from google.colab import files\n",
        "uploaded = files.upload()\n",
        "my_data = 'news_data.csv'\n"
      ],
      "execution_count": null,
      "outputs": [
        {
          "output_type": "display_data",
          "data": {
            "text/html": [
              "\n",
              "     <input type=\"file\" id=\"files-3ee5f530-5655-4531-b912-69aa25aa4cc0\" name=\"files[]\" multiple disabled\n",
              "        style=\"border:none\" />\n",
              "     <output id=\"result-3ee5f530-5655-4531-b912-69aa25aa4cc0\">\n",
              "      Upload widget is only available when the cell has been executed in the\n",
              "      current browser session. Please rerun this cell to enable.\n",
              "      </output>\n",
              "      <script src=\"/nbextensions/google.colab/files.js\"></script> "
            ],
            "text/plain": [
              "<IPython.core.display.HTML object>"
            ]
          },
          "metadata": {
            "tags": []
          }
        },
        {
          "output_type": "stream",
          "text": [
            "Saving news_data.csv to news_data.csv\n"
          ],
          "name": "stdout"
        }
      ]
    },
    {
      "cell_type": "code",
      "metadata": {
        "colab": {
          "base_uri": "https://localhost:8080/",
          "height": 204
        },
        "id": "SY_R_pZe1bl5",
        "outputId": "02d48c9d-7eea-4ceb-8268-6960e02fe0f6"
      },
      "source": [
        "import pandas as pd\n",
        "\n",
        "df = pd.read_csv(my_data)\n",
        "df.head()"
      ],
      "execution_count": null,
      "outputs": [
        {
          "output_type": "execute_result",
          "data": {
            "text/html": [
              "<div>\n",
              "<style scoped>\n",
              "    .dataframe tbody tr th:only-of-type {\n",
              "        vertical-align: middle;\n",
              "    }\n",
              "\n",
              "    .dataframe tbody tr th {\n",
              "        vertical-align: top;\n",
              "    }\n",
              "\n",
              "    .dataframe thead th {\n",
              "        text-align: right;\n",
              "    }\n",
              "</style>\n",
              "<table border=\"1\" class=\"dataframe\">\n",
              "  <thead>\n",
              "    <tr style=\"text-align: right;\">\n",
              "      <th></th>\n",
              "      <th>news</th>\n",
              "      <th>code</th>\n",
              "    </tr>\n",
              "  </thead>\n",
              "  <tbody>\n",
              "    <tr>\n",
              "      <th>0</th>\n",
              "      <td>파주시청. 사진제공=파주시 파주시청. 사진제공=파주시\\n\\n[파주=파이낸셜뉴스 강근...</td>\n",
              "      <td>사회</td>\n",
              "    </tr>\n",
              "    <tr>\n",
              "      <th>1</th>\n",
              "      <td>동영상 뉴스\\n\\n이천 물류창고 화재 발화지점으로 지목된 지하 2층에서 산소절단기의...</td>\n",
              "      <td>사회</td>\n",
              "    </tr>\n",
              "    <tr>\n",
              "      <th>2</th>\n",
              "      <td>황범순 의정부시 부시장 을지대학교 의정부캠퍼스 및 부속병원 공사현장 안전점검. 사진...</td>\n",
              "      <td>사회</td>\n",
              "    </tr>\n",
              "    <tr>\n",
              "      <th>3</th>\n",
              "      <td>귀갓길 여성을 쫓아가 성범죄를 시도한 20대 남성이 구속됐습니다.서울 강남경찰서는 ...</td>\n",
              "      <td>사회</td>\n",
              "    </tr>\n",
              "    <tr>\n",
              "      <th>4</th>\n",
              "      <td>(서울=연합뉴스) 대한약사회가 6일부터 코로나바이러스 감염증 대응 체계를 '사회적 ...</td>\n",
              "      <td>사회</td>\n",
              "    </tr>\n",
              "  </tbody>\n",
              "</table>\n",
              "</div>"
            ],
            "text/plain": [
              "                                                news code\n",
              "0  파주시청. 사진제공=파주시 파주시청. 사진제공=파주시\\n\\n[파주=파이낸셜뉴스 강근...   사회\n",
              "1  동영상 뉴스\\n\\n이천 물류창고 화재 발화지점으로 지목된 지하 2층에서 산소절단기의...   사회\n",
              "2  황범순 의정부시 부시장 을지대학교 의정부캠퍼스 및 부속병원 공사현장 안전점검. 사진...   사회\n",
              "3  귀갓길 여성을 쫓아가 성범죄를 시도한 20대 남성이 구속됐습니다.서울 강남경찰서는 ...   사회\n",
              "4  (서울=연합뉴스) 대한약사회가 6일부터 코로나바이러스 감염증 대응 체계를 '사회적 ...   사회"
            ]
          },
          "metadata": {
            "tags": []
          },
          "execution_count": 2
        }
      ]
    },
    {
      "cell_type": "code",
      "metadata": {
        "colab": {
          "base_uri": "https://localhost:8080/"
        },
        "id": "gh0mhge58R2D",
        "outputId": "a5d27673-45f9-4e90-9e61-d43c17255b38"
      },
      "source": [
        "df.info()"
      ],
      "execution_count": null,
      "outputs": [
        {
          "output_type": "stream",
          "text": [
            "<class 'pandas.core.frame.DataFrame'>\n",
            "RangeIndex: 5249 entries, 0 to 5248\n",
            "Data columns (total 2 columns):\n",
            " #   Column  Non-Null Count  Dtype \n",
            "---  ------  --------------  ----- \n",
            " 0   news    5249 non-null   object\n",
            " 1   code    5249 non-null   object\n",
            "dtypes: object(2)\n",
            "memory usage: 82.1+ KB\n"
          ],
          "name": "stdout"
        }
      ]
    },
    {
      "cell_type": "code",
      "metadata": {
        "id": "BGTkte_e7qcE"
      },
      "source": [
        "# 정규 표현식을 이용해서 한글 외의 문자는 전부제거\n",
        "df['news_clean'] = df['news'].str.replace(\"[^ㄱ-하-ㅣ가-힣]\",\" \") # 한글이 아니면 전부 제거"
      ],
      "execution_count": null,
      "outputs": []
    },
    {
      "cell_type": "code",
      "metadata": {
        "colab": {
          "base_uri": "https://localhost:8080/"
        },
        "id": "_hloXR3o8Whp",
        "outputId": "4d0927ed-8b84-475b-c2e2-f5beca494305"
      },
      "source": [
        "# 데이터에 Null값이 없는지 확인\n",
        "df.isna().sum()"
      ],
      "execution_count": null,
      "outputs": [
        {
          "output_type": "execute_result",
          "data": {
            "text/plain": [
              "news          0\n",
              "code          0\n",
              "news_clean    0\n",
              "dtype: int64"
            ]
          },
          "metadata": {
            "tags": []
          },
          "execution_count": 5
        }
      ]
    },
    {
      "cell_type": "code",
      "metadata": {
        "colab": {
          "base_uri": "https://localhost:8080/"
        },
        "id": "pg-nhITi8C-Y",
        "outputId": "d93765f4-d461-45fe-a012-66c7acff95e1"
      },
      "source": [
        "# 중복된 샘플들을 제거하세요.\n",
        "df.drop_duplicates(subset=['news_clean'], inplace=True)\n",
        "print('뉴스 기사의 갯수: ',len(df))"
      ],
      "execution_count": null,
      "outputs": [
        {
          "output_type": "stream",
          "text": [
            "뉴스 기사의 갯수:  3985\n"
          ],
          "name": "stdout"
        }
      ]
    },
    {
      "cell_type": "code",
      "metadata": {
        "colab": {
          "base_uri": "https://localhost:8080/"
        },
        "id": "8oS66hqY8ZFj",
        "outputId": "1ed0320f-427c-4c43-fc7a-73f7961afcd4"
      },
      "source": [
        "df.info()"
      ],
      "execution_count": null,
      "outputs": [
        {
          "output_type": "stream",
          "text": [
            "<class 'pandas.core.frame.DataFrame'>\n",
            "Int64Index: 3985 entries, 0 to 4954\n",
            "Data columns (total 3 columns):\n",
            " #   Column      Non-Null Count  Dtype \n",
            "---  ------      --------------  ----- \n",
            " 0   news        3985 non-null   object\n",
            " 1   code        3985 non-null   object\n",
            " 2   news_clean  3985 non-null   object\n",
            "dtypes: object(3)\n",
            "memory usage: 124.5+ KB\n"
          ],
          "name": "stdout"
        }
      ]
    },
    {
      "cell_type": "code",
      "metadata": {
        "id": "VJs9tZpe8ced"
      },
      "source": [
        "news_clean = df['news_clean'].values.tolist()"
      ],
      "execution_count": null,
      "outputs": []
    },
    {
      "cell_type": "code",
      "metadata": {
        "colab": {
          "base_uri": "https://localhost:8080/"
        },
        "id": "sTBEYrEs87oX",
        "outputId": "97a44c6d-7143-437e-94fe-08d1fb03afbe"
      },
      "source": [
        "news_clean[0:5]"
      ],
      "execution_count": null,
      "outputs": [
        {
          "output_type": "execute_result",
          "data": {
            "text/plain": [
              "['파주시청  사진제공 파주시 파주시청  사진제공 파주시   파주 파이낸셜뉴스 강근주 기자  파주시는  일 관내 취약계층  만    가구에 대해 정부 긴급재난지원금 입금을 완료했다 파주시민이 받는 긴급재난지원금은   인 이상 가구  기준으로   만    원을 받게 되며   인 가구는   만    원   인 가구   만    원   인 가구   만    원이다 정부가 발표한 긴급재난지원금이 파주시민에게 지급한 금액과 다른 이유는 국비-지방비 부담 비율 때문이다 파주시는 이미 모든 시민에게  경기도-파주시 재난기본소득   인당 각   만원 을 지급하고 있어 시민에게 국비 지원금만 지급하며  인 가구 기준으로 총 지원 금액은  파주시 재난기본소득    만원   경기도 재난기본소득    만원   정부 긴급재난지원금    만    원 등 총    만    원을 받게 된다 취약계층이 아닌 시민은 오는  월  일부터 소지하고 있는 신용 체크카드사 홈페이지에서 긴급재난지원금 지원을 신청할 수 있다  세대주가 가족 지원금을 일괄 신청해야 한다 한편 파주시는  일 김정기 부시장을 단장으로 하는  긴급재난지원금 추진 태스크포스 를 구성해 긴급재난지원금이 원활하게 지급될 수 있도록 지원한다   저작권자   파이낸셜뉴스  무단 전재-재배포 금지',\n",
              " '동영상 뉴스  이천 물류창고 화재 발화지점으로 지목된 지하  층에서 산소절단기의 산소 공급 호스가 끊어진 채 발견돼  경찰이 폭발 가능성을 수사하고 있습니다    이 확보한 현장 감식 사진을 보면  산소절단기와 연결된 산소 공급 호스가 날카롭게 절단돼 있었습니다 이에 전문가들은 산소 공급 호스가  기계적 충격에 의해 절단이 됐고  실제 산소가 샜다면 폭발이 일어날 수 있다 는 의견을 제시했습니다 지하  층에선 이 밖에도 전동절단기와 그라인더 등 불꽃을 발생시킬 수 있는 작업 도구가 다수 나와 경찰이 집중 분석하고 있습니다 경찰은 또 건물 옆에서 우레탄을 혼합해 작업 현장으로 보내는 차량을 발견해  화재 당시 우레탄폼 발포 작업과 함께 불꽃이 튀는 화기 작업이 동시에 진행됐는지를 조사하고 있습니다    당신의 제보가 뉴스가 됩니다     은 여러분의 소중한 제보를 기다립니다  카카오톡     을 검색해 채널 추가  전화    -   -      메일                    온라인 제보                저작권자                   무단전재 및 재배포 금지 ',\n",
              " '황범순 의정부시 부시장 을지대학교 의정부캠퍼스 및 부속병원 공사현장 안전점검  사진제공 의정부시 황범순 의정부시 부시장 을지대학교 의정부캠퍼스 및 부속병원 공사현장 안전점검  사진제공 의정부시  황범순 의정부시 부시장 을지대학교 의정부캠퍼스 및 부속병원 공사현장 안전점검  사진제공 의정부시 황범순 의정부시 부시장 을지대학교 의정부캠퍼스 및 부속병원 공사현장 안전점검  사진제공 의정부시   의정부 파이낸셜뉴스 강근주 기자  황범순 의정부시 부시장은  일 시공 중인 을지대학교 의정부캠퍼스 및 부속병원 공사현장에 방문해 긴급 안전점검을 진행했다 이번 긴급점검은  월  일 경기도 이천시 물류창고 신축공사장 화재 참사와 관련해  의정부에도 유사한 사례가 발생하지 않도록 사전 대비 차원에서 이뤄졌다  특히 의정부소방서  고용노동청 의정부지청도 동행해 소방법과 산업보건법 준수 여부 및 공사 전반적인 추진상황을 점검했다 합동점검반은 우레탄폼 발포와 용접  금속류 절단 등 화재발생 빈도가 높은 작업 등에 대한 소방안전 관리와 밀폐된 공간의 화제 위험요소  임시소방시설 설치 등 환경 의무사항 이행 여부 등을 집중 살펴봤다 황범순 부시장은 현장관계자들 노고를 격려하며  항상 경각심을 갖고 화재 및 재난 예방에 만전을 다해 달라 며  코로나   와 관련해 건설현장 종사자 간  사회적 거리두기  방역지침도 준수해 달라 고 요청했다   저작권자   파이낸셜뉴스  무단 전재-재배포 금지',\n",
              " '귀갓길 여성을 쫓아가 성범죄를 시도한   대 남성이 구속됐습니다 서울 강남경찰서는 강간상해 혐의로   대  씨를 구속해 수사 중이라고 오늘  일  밝혔습니다  씨는 지난달   일 새벽 서울 강남구에서 귀가하던 피해 여성을 근처 지하철역에서부터 따라가 성폭행을 시도하려다 도망간 혐의를 받습니다  씨는 피해 여성의 신고를 받고 주변을 수색하던 경찰에 붙잡혔습니다 이 과정에서 피해 여성은 경미한 부상을 입은 것으로 전해졌습니다 경찰은  씨를 상대로 범행 경위 등을 추가 조사한 뒤 조만간 검찰에 넘길 방침입니다 안희재 기자                                                       무단복제 및 재배포 금지',\n",
              " ' 서울 연합뉴스  대한약사회가  일부터 코로나바이러스 감염증 대응 체계를  사회적 거리두기 에서  생활 속 거리두기 로 전환함에 따른 대국민 안내문을 발표했다 대한약사회는      와     은 황사 등 미세먼지 차단 효과에 따른 구분 이라며  코로나   와 같은 침방울을 통한 감염 전파 상황에서는 효과에 큰 차이가 없다 고 밝혔다 이어  코로나-   감염환자를 돌보는 보호자나 의료진이 아닌 일반인이 보건용 마스크를 착용하는 경우      사용으로 감염 예방 목적을 충분히 달성할 수 있고 오히려 호흡하기 쉬워 장시간 착용 시에는     이 적합하다 고 덧붙였다 사진은 생활 속 거리두기 전환에 따른 대국민 안내 포스터           대한약사회 제공  재판매 및    금지                ']"
            ]
          },
          "metadata": {
            "tags": []
          },
          "execution_count": 9
        }
      ]
    },
    {
      "cell_type": "code",
      "metadata": {
        "colab": {
          "base_uri": "https://localhost:8080/"
        },
        "id": "gO4RCrPF9utl",
        "outputId": "4f4e1122-2cea-49ce-b53c-0f335688b819"
      },
      "source": [
        "# 총 샘플의 갯수\n",
        "len(news_clean)"
      ],
      "execution_count": null,
      "outputs": [
        {
          "output_type": "execute_result",
          "data": {
            "text/plain": [
              "3985"
            ]
          },
          "metadata": {
            "tags": []
          },
          "execution_count": 10
        }
      ]
    },
    {
      "cell_type": "code",
      "metadata": {
        "colab": {
          "base_uri": "https://localhost:8080/"
        },
        "id": "g8DsjD70_PuK",
        "outputId": "6e831a12-e7b6-4328-8d9a-b17b6c3aa6cf"
      },
      "source": [
        "df.code.unique()"
      ],
      "execution_count": null,
      "outputs": [
        {
          "output_type": "execute_result",
          "data": {
            "text/plain": [
              "array(['사회', '생활/문화', 'IT/과학'], dtype=object)"
            ]
          },
          "metadata": {
            "tags": []
          },
          "execution_count": 11
        }
      ]
    },
    {
      "cell_type": "code",
      "metadata": {
        "id": "iOcbQV_x5Zuy",
        "colab": {
          "base_uri": "https://localhost:8080/"
        },
        "outputId": "e9b22d87-f83f-4327-b362-2012789738cb"
      },
      "source": [
        "from sklearn.preprocessing import LabelEncoder\n",
        "\n",
        "\n",
        "y = df['code'].values\n",
        "\n",
        "encoder =  LabelEncoder()\n",
        "y1 = encoder.fit_transform(y)\n",
        "Y = pd.get_dummies(y1).values\n",
        "Y"
      ],
      "execution_count": null,
      "outputs": [
        {
          "output_type": "execute_result",
          "data": {
            "text/plain": [
              "array([[0, 1, 0],\n",
              "       [0, 1, 0],\n",
              "       [0, 1, 0],\n",
              "       ...,\n",
              "       [1, 0, 0],\n",
              "       [1, 0, 0],\n",
              "       [1, 0, 0]], dtype=uint8)"
            ]
          },
          "metadata": {
            "tags": []
          },
          "execution_count": 12
        }
      ]
    },
    {
      "cell_type": "code",
      "metadata": {
        "id": "m4QBMshEaoUk"
      },
      "source": [
        "from sklearn.model_selection import train_test_split\n",
        "\n",
        "# 훈련 세트와 테스트 세트로 나눔\n",
        "x_train, x_test,y_train, y_test = train_test_split(\n",
        "    df.news_clean, Y,test_size=0.2, random_state=1)"
      ],
      "execution_count": null,
      "outputs": []
    },
    {
      "cell_type": "markdown",
      "metadata": {
        "id": "4H2cgSNu7Ktn"
      },
      "source": [
        "## 토큰화"
      ]
    },
    {
      "cell_type": "code",
      "metadata": {
        "id": "yrYtqRLmfWcG"
      },
      "source": [
        "stopwords = ['의','가','이','은','들','는','좀','잘','걍','과','도','를','으로','자','에','와','한','하다']"
      ],
      "execution_count": null,
      "outputs": []
    },
    {
      "cell_type": "code",
      "metadata": {
        "colab": {
          "base_uri": "https://localhost:8080/"
        },
        "id": "Q8b665sPwJ1E",
        "outputId": "99e4cd4d-be81-4c2f-8335-be19720860fd"
      },
      "source": [
        "!pip install konlpy"
      ],
      "execution_count": null,
      "outputs": [
        {
          "output_type": "stream",
          "text": [
            "Collecting konlpy\n",
            "\u001b[?25l  Downloading https://files.pythonhosted.org/packages/85/0e/f385566fec837c0b83f216b2da65db9997b35dd675e107752005b7d392b1/konlpy-0.5.2-py2.py3-none-any.whl (19.4MB)\n",
            "\u001b[K     |████████████████████████████████| 19.4MB 33.7MB/s \n",
            "\u001b[?25hRequirement already satisfied: numpy>=1.6 in /usr/local/lib/python3.7/dist-packages (from konlpy) (1.19.5)\n",
            "Collecting beautifulsoup4==4.6.0\n",
            "\u001b[?25l  Downloading https://files.pythonhosted.org/packages/9e/d4/10f46e5cfac773e22707237bfcd51bbffeaf0a576b0a847ec7ab15bd7ace/beautifulsoup4-4.6.0-py3-none-any.whl (86kB)\n",
            "\u001b[K     |████████████████████████████████| 92kB 6.2MB/s \n",
            "\u001b[?25hCollecting JPype1>=0.7.0\n",
            "\u001b[?25l  Downloading https://files.pythonhosted.org/packages/98/88/f817ef1af6f794e8f11313dcd1549de833f4599abcec82746ab5ed086686/JPype1-1.3.0-cp37-cp37m-manylinux_2_5_x86_64.manylinux1_x86_64.whl (448kB)\n",
            "\u001b[K     |████████████████████████████████| 450kB 34.5MB/s \n",
            "\u001b[?25hRequirement already satisfied: lxml>=4.1.0 in /usr/local/lib/python3.7/dist-packages (from konlpy) (4.2.6)\n",
            "Collecting colorama\n",
            "  Downloading https://files.pythonhosted.org/packages/44/98/5b86278fbbf250d239ae0ecb724f8572af1c91f4a11edf4d36a206189440/colorama-0.4.4-py2.py3-none-any.whl\n",
            "Requirement already satisfied: tweepy>=3.7.0 in /usr/local/lib/python3.7/dist-packages (from konlpy) (3.10.0)\n",
            "Requirement already satisfied: typing-extensions; python_version < \"3.8\" in /usr/local/lib/python3.7/dist-packages (from JPype1>=0.7.0->konlpy) (3.7.4.3)\n",
            "Requirement already satisfied: requests[socks]>=2.11.1 in /usr/local/lib/python3.7/dist-packages (from tweepy>=3.7.0->konlpy) (2.23.0)\n",
            "Requirement already satisfied: six>=1.10.0 in /usr/local/lib/python3.7/dist-packages (from tweepy>=3.7.0->konlpy) (1.15.0)\n",
            "Requirement already satisfied: requests-oauthlib>=0.7.0 in /usr/local/lib/python3.7/dist-packages (from tweepy>=3.7.0->konlpy) (1.3.0)\n",
            "Requirement already satisfied: chardet<4,>=3.0.2 in /usr/local/lib/python3.7/dist-packages (from requests[socks]>=2.11.1->tweepy>=3.7.0->konlpy) (3.0.4)\n",
            "Requirement already satisfied: urllib3!=1.25.0,!=1.25.1,<1.26,>=1.21.1 in /usr/local/lib/python3.7/dist-packages (from requests[socks]>=2.11.1->tweepy>=3.7.0->konlpy) (1.24.3)\n",
            "Requirement already satisfied: idna<3,>=2.5 in /usr/local/lib/python3.7/dist-packages (from requests[socks]>=2.11.1->tweepy>=3.7.0->konlpy) (2.10)\n",
            "Requirement already satisfied: certifi>=2017.4.17 in /usr/local/lib/python3.7/dist-packages (from requests[socks]>=2.11.1->tweepy>=3.7.0->konlpy) (2021.5.30)\n",
            "Requirement already satisfied: PySocks!=1.5.7,>=1.5.6; extra == \"socks\" in /usr/local/lib/python3.7/dist-packages (from requests[socks]>=2.11.1->tweepy>=3.7.0->konlpy) (1.7.1)\n",
            "Requirement already satisfied: oauthlib>=3.0.0 in /usr/local/lib/python3.7/dist-packages (from requests-oauthlib>=0.7.0->tweepy>=3.7.0->konlpy) (3.1.1)\n",
            "Installing collected packages: beautifulsoup4, JPype1, colorama, konlpy\n",
            "  Found existing installation: beautifulsoup4 4.6.3\n",
            "    Uninstalling beautifulsoup4-4.6.3:\n",
            "      Successfully uninstalled beautifulsoup4-4.6.3\n",
            "Successfully installed JPype1-1.3.0 beautifulsoup4-4.6.0 colorama-0.4.4 konlpy-0.5.2\n"
          ],
          "name": "stdout"
        }
      ]
    },
    {
      "cell_type": "code",
      "metadata": {
        "id": "-9SioQLXNvN9"
      },
      "source": [
        "from konlpy.tag import Okt\n",
        "\n",
        "okt = Okt()\n"
      ],
      "execution_count": null,
      "outputs": []
    },
    {
      "cell_type": "code",
      "metadata": {
        "id": "AVTmGanVbEw4"
      },
      "source": [
        "X_train = []\n",
        "for sentence in x_train:\n",
        "    temp_X = okt.morphs(sentence, stem=True) # 토큰화\n",
        "    temp_X = [word for word in temp_X if not word in stopwords] # 불용어 제거\n",
        "    X_train.append(temp_X)"
      ],
      "execution_count": null,
      "outputs": []
    },
    {
      "cell_type": "code",
      "metadata": {
        "colab": {
          "base_uri": "https://localhost:8080/"
        },
        "id": "AZULiXIGcazQ",
        "outputId": "402e4950-62f9-4d62-f198-6db05e5f3c33"
      },
      "source": [
        "print(X_train[:3])"
      ],
      "execution_count": null,
      "outputs": [
        {
          "output_type": "stream",
          "text": [
            "[['박', '문정', '교수', '박', '문정', '교수', '리튬', '유기', '전지', '개념', '리튬', '유기', '전지', '개념', '포항', '뉴시스', '강', '진구', '기자', '포스텍', '화학', '박', '문정', '교수', '김보람', '씨', '커피', '원', '재료', '인', '카페', '인산', '을', '원료', '로', '합성', '폴리', '비닐', '카테콜', '고분자', '양', '극', '재', '로', '사용', '자연', '친', '화', '적', '인', '리튬', '유기', '전지', '개발', '일', '밝히다', '리튬이온', '만', '선택', '적', '움직이다', '고분자', '나노입자', '전해질', '로', '사용', '고속', '충전', '을', '가능', '케', '방법', '을', '찾아내다', '현재', '까지', '리튬', '유기', '전지', '지속', '적', '인', '연구', '에도', '불구', '용량', '작다', '수명', '짧다', '충전', '속도', '느리다', '늘다', '평가', '받다', '오다', '리튬', '이온', '전지', '전해질', '음극', '양극', '을', '담그다', '구조', '다', '리튬', '이온', '전해질', '을', '이동해', '양극', '에서', '음극', '충전', '되다', '음극', '에서', '양극', '방전', '되다', '과정', '반복', '되다', '즉', '전해질', '리튬', '이온', '이동', '수', '있다', '성질', '을', '가지다', '물질', '인', '셈', '이다', '대부분', '리튬', '이온', '전지', '전이금속', '양', '극', '재', '액체', '유기', '화합물', '을', '전해질', '로', '사용', '하고', '있다', '전이금속', '이란', '원자', '전자', '배치', '에서', '가장', '바깥', '부분', '껍질', '불완전하다', '양이온', '을', '만들다', '원소', '로', '주기율표', '주기', '족', '원소', '을', '말', '전이금속', '원가', '비싸다', '뿐', '아니다', '독성', '있다', '액체', '전해질', '가연성', '므', '로', '배터리', '온도', '상승', '화재', '나', '폭발', '위험', '있다', '고질', '적', '인', '문제', '상존', '오다', '박', '교수', '연', '구', '팀', '커피', '원', '재료', '인', '카페', '인산', '을', '원료', '로', '합성', '고분자', '리튬', '이온', '전지', '양극', '사용', '하고', '액체', '전해질', '을', '대신', '고체', '인', '단일', '이온', '전도성', '고분자', '나노입자', '전해질', '로', '사용', '고분자', '양', '극', '재는', '이상', '높다', '환원', '전압', '을', '보이다', '현재', '상용', '화', '되다', '전이금속', '기반', '양', '극', '재의', '가다', '역', '용량', '보다', '배', '이상', '높다', '단위', '질량', '당', '높다', '방전', '용량', '을', '보이다', '커피', '에서', '쉬다', '추출', '수', '있다', '카페', '인산', '을', '양', '극', '재의', '원료', '로', '사용', '친환경', '적', '이라는', '강점', '있다', '액체', '전해질', '을', '고체', '상태', '단일', '이온', '고분자', '나노입자', '전해질', '로', '대체', '함', '으로써', '내열성', '높이다', '도의', '고온', '에서도', '동작', '가능하다', '우주', '같다', '진공상태', '에서도', '사용', '수', '있다', '뿐', '만', '아니다', '분', '충전', '을', '통해', '-', '이상', '높다', '용량', '을', '얻다', '사이클', '이상', '연속', '적', '인', '충', '방전', '동안', '에도', '용량', '전혀', '감소', '않다', '안정', '성', '을', '입증', '함', '으로써', '년', '이상', '사용', '성능', '감소', '않다', '휴대폰', '배터리', '시대', '맞이', '수', '있다', '가능성', '을', '열다', '이다', '전체', '고체', '상태', '이고', '친환경', '적', '고속', '충', '방전', '가능하다', '수명', '길어지다', '리튬', '유기', '전기', '개발', '첫', '번째', '성공사례', '다', '연구', '성', '과는', '에너지', '화학', '분야', '권위', '있다', '학술지', '인', '켐서스켐', '최신', '판', '표지', '논문', '게재', '돼다', '연구', '미래창조과학부', '기초', '연구', '사업', '단', '일이', '온', '수송', '고분자', '기반', '차세대', '전해질', '소재', '개발', '미래', '소재', '디스커버리', '지원', '하이퍼', '이온', '이송', '채널', '소재', '합성', '및', '구조', '화', '기술', '집단', '연', '구지원', '혼성', '계', '면', '화학', '구조', '연구', '센터', '지원', '수행', '돼다', '교신저자', '로', '연구', '주도하다', '박', '문정', '교수', '매일', '마시다', '커피', '원', '재료', '로', '모든', '물질', '고체', '로', '이뤄지다', '리튬', '유기', '전지', '만들다', '동시', '높다', '용량', '고속', '충전', '특성', '을', '이끌다', '내다', '것', '이번', '연구', '처음', '라며', '리튬전지', '용량', '작고', '수명', '짧다', '통념', '을', '뒤엎었다', '점', '에서', '고', '무적', '이라고', '전', '공감', '언론', '뉴시스'], ['사진', '픽사', '베이', '지다', '넷', '코리아', '선민', '규', '기자', '과학기술', '정보통신부', '가상', '증강현실', '을', '활용', '실감', '콘텐츠', '제작', '을', '지원', '위해', '원격', '회의', '협업', '교육', '유통', '등', '분야', '개', '과제', '총', '억원', '을', '지원', '다', '고', '일', '밝히다', '실감', '콘텐츠', '제작', '지원', '지난해', '월', '기', '정통부', '내놓다', '실감', '콘텐츠', '신', '시장', '창', '추다', '프로젝트', '일환', '이다', '지원', '원격', '회의', '협업', '분야', '개', '과제', '억원', '원격', '교육', '훈련', '분야', '개', '과제', '억원', '쇼핑몰', '개발', '개', '과제', '억원', '등', '나누다', '진행', '되다', '구체', '적', '원격', '회의', '협업', '분야', '과제', '원격', '위치', '전문가', '을', '활용', '지하', '시설', '물', '을', '관리', '수', '있다', '시스템', '제품', '설계', '도면', '을', '로', '구현', '원격지', '다수', '참여자', '동시', '참여', '수', '있다', '시스템', '로', '촬영', '실사', '기반', '원격', '화상회의', '구현', '시스템', '현장', '작업', '매뉴얼', '을', '통해', '설비', '상태', '확인', '수', '있다', '플랫폼', '등', '개다', '원격', '교육', '훈련', '분야', '기계', '정비', '등', '고', '숙련', '필요하다', '실습', '분야', '대한', '훈련', '콘텐츠', '수학', '과목', '추상', '적', '인', '개념', '을', '로', '시각', '화해', '보여주다', '교과', '학습', '용', '콘텐츠', '해외', '공항', '이나', '마트', '가상공간', '구현', '외국어', '학습', '을', '돕다', '교육', '콘텐츠', '홀로그램', '교수', '구현', '원격', '에서도', '대학', '강의', '제공', '시스템', '등', '개발', '재원', '투입', '되다', '마지막', '유통', '분야', '가상공간', '에서', '개인', '아바타', '생', '성하다', '차원', '의상', '을', '가상', '피팅', '가능하다', '쇼핑몰', '개발', '지원이', '이뤄지다', '송경희', '기', '정통부', '소프트웨어', '정책', '관', '궁극', '적', '인', '목표', '현실', '처럼', '느끼다', '것', '물리', '적', '인', '시', '공간', '한계', '극복', '비대', '면', '산업', '을', '이끌다', '핵심', '기술', '라며', '기', '정통부', '개인', '기업', '을', '활용', '소통', '부가가치', '창', '출하', '시대', '앞당겨지다', '수', '있다', '지속', '적', '노력', '것', '이라고', '밝히다', '선민', '규', '기자', '메', '뉴스', '무단', '전', '재', '및', '재', '배포', '금지'], ['서울', '연합뉴스', '배우', '임채무', '가다', '억원', '을', '투자', '여', '년', '간', '운영', '경기도', '양주', '두', '리랜드', '년', '만에', '재개', '장하다', '임채무', '왜', '거액', '빚', '을', '지다', '두', '리랜드', '놓다', '못', '것', '이다', '그', '천진하다', '두', '리랜드', '오다', '모든', '사람', '그저', '즐겁다', '마음', '이라고', '말', '어린이날', '하루', '전인', '일', '놀이', '공원', '두', '리랜드', '에서', '임채무', '대표', '만나다', '그간', '이야기', '을', '들다', '보다', '자세하다', '내용', '영상', '보시', '죠']]\n"
          ],
          "name": "stdout"
        }
      ]
    },
    {
      "cell_type": "code",
      "metadata": {
        "id": "-IMP5h2ra_um"
      },
      "source": [
        "X_test = []\n",
        "for sentence in x_test:\n",
        "    temp_X = okt.morphs(sentence, stem=True) # 토큰화\n",
        "    temp_X = [word for word in temp_X if not word in stopwords] # 불용어 제거\n",
        "    X_test.append(temp_X)"
      ],
      "execution_count": null,
      "outputs": []
    },
    {
      "cell_type": "markdown",
      "metadata": {
        "id": "Y4dvkg4VxhjD"
      },
      "source": [
        "## 정수 인코딩"
      ]
    },
    {
      "cell_type": "code",
      "metadata": {
        "id": "mB2IEXC3bV8q"
      },
      "source": [
        "from tensorflow.keras.preprocessing.text import Tokenizer\n",
        "tokenizer = Tokenizer()\n",
        "tokenizer.fit_on_texts(X_train)"
      ],
      "execution_count": null,
      "outputs": []
    },
    {
      "cell_type": "code",
      "metadata": {
        "id": "VfFQLgrMcffG"
      },
      "source": [
        "# print(tokenizer.word_index)"
      ],
      "execution_count": 76,
      "outputs": []
    },
    {
      "cell_type": "code",
      "metadata": {
        "colab": {
          "base_uri": "https://localhost:8080/"
        },
        "id": "iP5PvlHScpfW",
        "outputId": "26739126-bfef-4400-ba6b-7546579510f6"
      },
      "source": [
        "threshold = 3\n",
        "total_cnt = len(tokenizer.word_index) # 단어의 수\n",
        "rare_cnt = 0 # 등장 빈도수가 threshold보다 작은 단어의 개수를 카운트\n",
        "total_freq = 0 # 훈련 데이터의 전체 단어 빈도수 총 합\n",
        "rare_freq = 0 # 등장 빈도수가 threshold보다 작은 단어의 등장 빈도수의 총 합\n",
        "\n",
        "# 단어와 빈도수의 쌍(pair)을 key와 value로 받는다.\n",
        "for key, value in tokenizer.word_counts.items():\n",
        "    total_freq = total_freq + value\n",
        "\n",
        "    # 단어의 등장 빈도수가 threshold보다 작으면\n",
        "    if(value < threshold):\n",
        "        rare_cnt = rare_cnt + 1\n",
        "        rare_freq = rare_freq + value\n",
        "\n",
        "print('단어 집합(vocabulary)의 크기 :',total_cnt)\n",
        "print('등장 빈도가 %s번 이하인 희귀 단어의 수: %s'%(threshold - 1, rare_cnt))\n",
        "print(\"단어 집합에서 희귀 단어의 비율:\", (rare_cnt / total_cnt)*100)\n",
        "print(\"전체 등장 빈도에서 희귀 단어 등장 빈도 비율:\", (rare_freq / total_freq)*100)"
      ],
      "execution_count": null,
      "outputs": [
        {
          "output_type": "stream",
          "text": [
            "단어 집합(vocabulary)의 크기 : 29082\n",
            "등장 빈도가 2번 이하인 희귀 단어의 수: 12312\n",
            "단어 집합에서 희귀 단어의 비율: 42.3354652362286\n",
            "전체 등장 빈도에서 희귀 단어 등장 빈도 비율: 1.6677184731656376\n"
          ],
          "name": "stdout"
        }
      ]
    },
    {
      "cell_type": "code",
      "metadata": {
        "colab": {
          "base_uri": "https://localhost:8080/"
        },
        "id": "SOAQbkZXct7Y",
        "outputId": "5136390c-8fa0-4e5d-e76d-f466d1e32339"
      },
      "source": [
        "# 전체 단어 개수 중 빈도수 2이하인 단어는 제거.\n",
        "# 0번 패딩 토큰을 고려하여 + 1\n",
        "vocab_size = total_cnt - rare_cnt + 1\n",
        "print('단어 집합의 크기 :',vocab_size)"
      ],
      "execution_count": null,
      "outputs": [
        {
          "output_type": "stream",
          "text": [
            "단어 집합의 크기 : 16771\n"
          ],
          "name": "stdout"
        }
      ]
    },
    {
      "cell_type": "code",
      "metadata": {
        "id": "JzRVjZ7Zcw3T"
      },
      "source": [
        "tokenizer = Tokenizer(vocab_size) \n",
        "tokenizer.fit_on_texts(X_train)\n",
        "X_train = tokenizer.texts_to_sequences(X_train)\n",
        "X_test = tokenizer.texts_to_sequences(X_test)"
      ],
      "execution_count": null,
      "outputs": []
    },
    {
      "cell_type": "code",
      "metadata": {
        "colab": {
          "base_uri": "https://localhost:8080/"
        },
        "id": "r0EuYfsycziC",
        "outputId": "3aa96ec0-fcd0-4445-9949-c67bbc671739"
      },
      "source": [
        "print(X_train[:3])"
      ],
      "execution_count": null,
      "outputs": [
        {
          "output_type": "stream",
          "text": [
            "[[719, 4794, 168, 719, 4794, 168, 4435, 3487, 3349, 2081, 4435, 3487, 3349, 2081, 931, 111, 814, 7742, 17, 3769, 1416, 719, 4794, 168, 8681, 82, 1271, 46, 1559, 15, 1492, 7371, 1, 2037, 5, 2471, 4662, 6209, 14419, 3946, 402, 1090, 18, 5, 118, 1622, 2038, 124, 11, 15, 4435, 3487, 3349, 73, 6, 33, 8682, 24, 437, 11, 3619, 3946, 9218, 4136, 5, 118, 2929, 1532, 1, 3250, 5742, 562, 1, 4918, 173, 29, 4435, 3487, 3349, 369, 11, 15, 204, 125, 1834, 1171, 1091, 6739, 2878, 1532, 882, 4436, 48, 237, 25, 42, 4435, 4795, 3349, 4136, 10616, 8186, 1, 9219, 686, 22, 4435, 4795, 4136, 1, 5570, 8186, 4, 10616, 1532, 3, 10616, 4, 8186, 8187, 3, 257, 2207, 3, 3251, 4136, 4435, 4795, 1113, 10, 2, 7055, 1, 961, 606, 15, 2082, 7, 772, 4435, 4795, 3349, 7056, 402, 1090, 18, 6449, 3487, 5974, 1, 4136, 5, 118, 13, 2, 7056, 1237, 5571, 122, 1756, 4, 208, 5743, 433, 6210, 1, 178, 5, 1921, 9836, 1, 35, 7056, 7743, 3546, 477, 92, 4663, 2, 6449, 4136, 7744, 10617, 5, 1640, 2830, 1800, 346, 107, 2060, 805, 2, 9220, 11, 15, 169, 11599, 42, 719, 168, 98, 165, 183, 1271, 46, 1559, 15, 1492, 7371, 1, 2037, 5, 2471, 3946, 4435, 4795, 3349, 8186, 118, 13, 6449, 4136, 1, 1040, 7372, 15, 4437, 4795, 11600, 3946, 9218, 4136, 5, 118, 3946, 402, 1090, 7745, 104, 170, 3075, 11601, 1, 176, 173, 1533, 124, 3, 7056, 292, 402, 1090, 11602, 60, 981, 1171, 37, 404, 104, 170, 1742, 5975, 280, 170, 8187, 1171, 1, 176, 1271, 4, 480, 3547, 10, 2, 1492, 7371, 1, 402, 1090, 11602, 2037, 5, 118, 1560, 11, 370, 2349, 2, 6449, 4136, 1, 7372, 326, 4437, 4795, 3946, 9218, 4136, 5, 2083, 1103, 1801, 12764, 663, 2350, 6740, 380, 4038, 191, 837, 84, 14420, 380, 118, 10, 2, 477, 24, 92, 211, 1532, 1, 44, 26, 104, 170, 1171, 1, 838, 14421, 104, 1655, 11, 15, 6211, 8187, 322, 125, 1171, 2185, 253, 27, 624, 50, 1, 2504, 1103, 1801, 16, 104, 118, 949, 253, 27, 3770, 1640, 656, 2103, 10, 2, 538, 1, 391, 7, 372, 7372, 326, 625, 1560, 11, 2929, 6211, 8187, 191, 6739, 4327, 4435, 3487, 1726, 73, 438, 995, 14422, 22, 204, 50, 1943, 1328, 1416, 289, 5396, 2, 2785, 15, 14423, 1944, 743, 5572, 1972, 2584, 23, 204, 1623, 204, 62, 493, 896, 448, 5976, 3946, 292, 1676, 4136, 653, 73, 445, 653, 54, 3548, 4795, 3300, 566, 653, 2471, 20, 686, 124, 99, 1336, 98, 281, 248, 1416, 686, 204, 154, 54, 976, 23, 10618, 5, 204, 1785, 719, 4794, 168, 1272, 4438, 1271, 46, 1559, 5, 304, 606, 7372, 5, 634, 4435, 3487, 3349, 178, 732, 170, 1171, 2929, 1532, 1458, 1, 855, 215, 9, 69, 204, 482, 207, 8188, 1171, 5213, 6739, 2878, 9221, 1, 14424, 188, 4, 14, 8683, 79, 12, 426, 468, 111], [43, 14425, 7057, 397, 1348, 229, 9222, 2627, 17, 522, 900, 780, 3771, 1, 132, 2831, 319, 282, 1, 54, 39, 1677, 443, 1126, 222, 1024, 8, 289, 59, 883, 163, 142, 1, 54, 22, 14, 6, 33, 2831, 319, 282, 54, 129, 21, 94, 1114, 1453, 2831, 319, 277, 70, 596, 383, 1010, 2657, 7, 54, 1677, 443, 1126, 289, 59, 883, 142, 1677, 222, 912, 289, 59, 883, 142, 3620, 73, 59, 883, 142, 8, 861, 58, 3, 1219, 11, 1677, 443, 1126, 289, 883, 1677, 908, 615, 1, 132, 1922, 102, 399, 1, 177, 10, 2, 236, 174, 1357, 14426, 1, 5, 1273, 1818, 4223, 732, 205, 10, 2, 236, 5, 567, 3422, 292, 1677, 3350, 1273, 236, 184, 526, 3856, 1, 44, 4224, 326, 149, 10, 2, 392, 8, 2039, 1677, 222, 912, 289, 4550, 1493, 8, 14, 272, 2786, 289, 64, 912, 319, 12765, 3947, 7746, 11, 15, 2081, 1, 5, 1710, 3690, 1274, 4328, 1373, 506, 319, 179, 2104, 232, 2693, 5214, 1273, 7058, 1373, 1, 1608, 222, 319, 7373, 168, 1273, 1677, 380, 398, 964, 28, 236, 8, 73, 4329, 1507, 3, 1074, 1024, 289, 5214, 4, 449, 5744, 1070, 4225, 982, 3076, 1, 780, 9837, 191, 3620, 73, 2879, 634, 9838, 94, 1114, 843, 296, 156, 5745, 11, 15, 844, 965, 376, 950, 9, 2542, 11, 15, 38, 434, 1786, 515, 951, 248, 110, 1, 855, 642, 99, 207, 94, 1114, 449, 87, 1, 132, 1104, 3488, 596, 6212, 656, 9839, 10, 2, 369, 11, 462, 9, 79, 33, 9222, 2627, 17, 1156, 40, 47, 12, 18, 20, 18, 41, 31], [30, 130, 1161, 14427, 60, 142, 1, 382, 182, 16, 137, 88, 458, 7059, 197, 12766, 16, 469, 255, 4226, 14427, 1819, 8684, 2742, 1, 397, 197, 12766, 1472, 143, 9, 7, 61, 197, 12766, 42, 304, 114, 6450, 2974, 539, 79, 35, 1369, 626, 5215, 6, 2628, 778, 197, 12766, 4, 14427, 106, 850, 2018, 574, 1, 198, 37, 1203, 273, 212, 5216, 1891]]\n"
          ],
          "name": "stdout"
        }
      ]
    },
    {
      "cell_type": "markdown",
      "metadata": {
        "id": "WXdr2QFSxrfw"
      },
      "source": [
        "## 빈 샘플(empty samples) 제거"
      ]
    },
    {
      "cell_type": "code",
      "metadata": {
        "id": "1FzNZAFhc6c5"
      },
      "source": [
        "drop_train = [index for index, sentence in enumerate(X_train) if len(sentence) < 1]"
      ],
      "execution_count": null,
      "outputs": []
    },
    {
      "cell_type": "code",
      "metadata": {
        "colab": {
          "base_uri": "https://localhost:8080/"
        },
        "id": "dBwhfyi0dPJQ",
        "outputId": "ab242e13-f404-44c7-c6f8-3ab20e305bf0"
      },
      "source": [
        "import numpy as np\n",
        "\n",
        "# 빈 샘플들을 제거\n",
        "X_train = np.delete(X_train, drop_train, axis=0)\n",
        "y_train = np.delete(y_train, drop_train, axis=0)\n",
        "print(len(X_train))\n",
        "print(len(y_train))"
      ],
      "execution_count": null,
      "outputs": [
        {
          "output_type": "stream",
          "text": [
            "3188\n",
            "3188\n"
          ],
          "name": "stdout"
        },
        {
          "output_type": "stream",
          "text": [
            "/usr/local/lib/python3.7/dist-packages/numpy/core/_asarray.py:83: VisibleDeprecationWarning: Creating an ndarray from ragged nested sequences (which is a list-or-tuple of lists-or-tuples-or ndarrays with different lengths or shapes) is deprecated. If you meant to do this, you must specify 'dtype=object' when creating the ndarray\n",
            "  return array(a, dtype, copy=False, order=order)\n"
          ],
          "name": "stderr"
        }
      ]
    },
    {
      "cell_type": "markdown",
      "metadata": {
        "id": "4ggogecw663E"
      },
      "source": [
        "## 패딩"
      ]
    },
    {
      "cell_type": "code",
      "metadata": {
        "colab": {
          "base_uri": "https://localhost:8080/",
          "height": 315
        },
        "id": "gpMnQDipeY1t",
        "outputId": "29254e91-3471-4f23-f40e-3b08b6354dcd"
      },
      "source": [
        "import matplotlib.pyplot as plt\n",
        "\n",
        "print('기사의 최대 길이 :',max(len(l) for l in X_train))\n",
        "print('기사의 평균 길이 :',sum(map(len, X_train))/len(X_train))\n",
        "plt.hist([len(s) for s in X_train], bins=50)\n",
        "plt.xlabel('length of samples')\n",
        "plt.ylabel('number of samples')\n",
        "plt.show()"
      ],
      "execution_count": null,
      "outputs": [
        {
          "output_type": "stream",
          "text": [
            "기사의 최대 길이 : 5421\n",
            "기사의 평균 길이 : 301.56148055207024\n"
          ],
          "name": "stdout"
        },
        {
          "output_type": "display_data",
          "data": {
            "image/png": "[encoded data removed]",
            "text/plain": [
              "<Figure size 432x288 with 1 Axes>"
            ]
          },
          "metadata": {
            "tags": [],
            "needs_background": "light"
          }
        }
      ]
    },
    {
      "cell_type": "code",
      "metadata": {
        "id": "T4BVM25HdRUc"
      },
      "source": [
        "def below_threshold_len(max_len, nested_list):\n",
        "  cnt = 0\n",
        "  for s in nested_list:\n",
        "    if(len(s) <= max_len):\n",
        "        cnt = cnt + 1\n",
        "  print('전체 샘플 중 길이가 %s 이하인 샘플의 비율: %s'%(max_len, (cnt / len(nested_list))*100))"
      ],
      "execution_count": null,
      "outputs": []
    },
    {
      "cell_type": "code",
      "metadata": {
        "colab": {
          "base_uri": "https://localhost:8080/"
        },
        "id": "equ4At6ddWr8",
        "outputId": "020e3bd7-5345-40e2-ad66-3a1e60764bb2"
      },
      "source": [
        "max_len = 1000\n",
        "below_threshold_len(max_len, X_train)"
      ],
      "execution_count": null,
      "outputs": [
        {
          "output_type": "stream",
          "text": [
            "전체 샘플 중 길이가 1000 이하인 샘플의 비율: 98.68255959849435\n"
          ],
          "name": "stdout"
        }
      ]
    },
    {
      "cell_type": "code",
      "metadata": {
        "id": "AKrEEO7zdYBn"
      },
      "source": [
        "from tensorflow.keras.preprocessing.sequence import pad_sequences\n",
        "X_train = pad_sequences(X_train, maxlen = max_len)\n",
        "X_test = pad_sequences(X_test, maxlen = max_len)"
      ],
      "execution_count": null,
      "outputs": []
    },
    {
      "cell_type": "code",
      "metadata": {
        "colab": {
          "base_uri": "https://localhost:8080/"
        },
        "id": "7unAZGFcysb3",
        "outputId": "e639048a-c9b3-43f2-bdc7-58168a4990af"
      },
      "source": [
        "print(x_train.shape)\n",
        "print(x_test.shape)\n",
        "print(y_train.shape)\n",
        "print(y_test.shape)"
      ],
      "execution_count": null,
      "outputs": [
        {
          "output_type": "stream",
          "text": [
            "(3188,)\n",
            "(797,)\n",
            "(3188, 3)\n",
            "(797, 3)\n"
          ],
          "name": "stdout"
        }
      ]
    },
    {
      "cell_type": "markdown",
      "metadata": {
        "id": "UsW2vY9p6zxz"
      },
      "source": [
        "## 모델"
      ]
    },
    {
      "cell_type": "code",
      "metadata": {
        "id": "yMMEauwJdbp7"
      },
      "source": [
        "from tensorflow.keras.layers import Embedding, Dense, LSTM\n",
        "from tensorflow.keras.models import Sequential\n",
        "from tensorflow.keras.models import load_model\n",
        "from tensorflow.keras.callbacks import EarlyStopping, ModelCheckpoint"
      ],
      "execution_count": null,
      "outputs": []
    },
    {
      "cell_type": "code",
      "metadata": {
        "colab": {
          "base_uri": "https://localhost:8080/"
        },
        "id": "SulqJIdKg4oG",
        "outputId": "7816e847-7aeb-48cd-f831-806d494d3c04"
      },
      "source": [
        "model = Sequential()\n",
        "model.add(Embedding(vocab_size, 100))\n",
        "model.add(LSTM(128))\n",
        "model.add(Dense(3, activation='softmax'))\n",
        "model.summary()"
      ],
      "execution_count": null,
      "outputs": [
        {
          "output_type": "stream",
          "text": [
            "Model: \"sequential\"\n",
            "_________________________________________________________________\n",
            "Layer (type)                 Output Shape              Param #   \n",
            "=================================================================\n",
            "embedding (Embedding)        (None, None, 100)         1677100   \n",
            "_________________________________________________________________\n",
            "lstm (LSTM)                  (None, 128)               117248    \n",
            "_________________________________________________________________\n",
            "dense (Dense)                (None, 3)                 387       \n",
            "=================================================================\n",
            "Total params: 1,794,735\n",
            "Trainable params: 1,794,735\n",
            "Non-trainable params: 0\n",
            "_________________________________________________________________\n"
          ],
          "name": "stdout"
        }
      ]
    },
    {
      "cell_type": "code",
      "metadata": {
        "id": "P8o_qMxdg7HO"
      },
      "source": [
        "es = EarlyStopping(monitor='val_loss', mode='min', verbose=1, patience=4)\n",
        "mc = ModelCheckpoint('best_model.h5', monitor='val_acc', mode='max', verbose=1, save_best_only=True)"
      ],
      "execution_count": null,
      "outputs": []
    },
    {
      "cell_type": "code",
      "metadata": {
        "colab": {
          "base_uri": "https://localhost:8080/"
        },
        "id": "6MaHUbw7hFLI",
        "outputId": "fafab26f-caad-439e-e3b8-23a693f66216"
      },
      "source": [
        "model.compile(optimizer='adam', loss='categorical_crossentropy', metrics=['acc'])\n",
        "history = model.fit(X_train, y_train, epochs=15, callbacks=[es, mc], batch_size=60, validation_split=0.2)"
      ],
      "execution_count": null,
      "outputs": [
        {
          "output_type": "stream",
          "text": [
            "Epoch 1/15\n",
            "43/43 [==============================] - 99s 2s/step - loss: 1.0250 - acc: 0.4471 - val_loss: 0.8623 - val_acc: 0.5690\n",
            "\n",
            "Epoch 00001: val_acc improved from -inf to 0.56897, saving model to best_model.h5\n",
            "Epoch 2/15\n",
            "43/43 [==============================] - 94s 2s/step - loss: 0.5985 - acc: 0.7459 - val_loss: 0.5908 - val_acc: 0.7398\n",
            "\n",
            "Epoch 00002: val_acc improved from 0.56897 to 0.73981, saving model to best_model.h5\n",
            "Epoch 3/15\n",
            "43/43 [==============================] - 94s 2s/step - loss: 0.3411 - acc: 0.8867 - val_loss: 0.5463 - val_acc: 0.7759\n",
            "\n",
            "Epoch 00003: val_acc improved from 0.73981 to 0.77586, saving model to best_model.h5\n",
            "Epoch 4/15\n",
            "43/43 [==============================] - 94s 2s/step - loss: 0.2118 - acc: 0.9255 - val_loss: 0.8187 - val_acc: 0.7414\n",
            "\n",
            "Epoch 00004: val_acc did not improve from 0.77586\n",
            "Epoch 5/15\n",
            "43/43 [==============================] - 94s 2s/step - loss: 0.1060 - acc: 0.9671 - val_loss: 0.5686 - val_acc: 0.7994\n",
            "\n",
            "Epoch 00005: val_acc improved from 0.77586 to 0.79937, saving model to best_model.h5\n",
            "Epoch 6/15\n",
            "43/43 [==============================] - 94s 2s/step - loss: 0.0613 - acc: 0.9851 - val_loss: 0.6797 - val_acc: 0.7978\n",
            "\n",
            "Epoch 00006: val_acc did not improve from 0.79937\n",
            "Epoch 7/15\n",
            "43/43 [==============================] - 94s 2s/step - loss: 0.0285 - acc: 0.9937 - val_loss: 0.7063 - val_acc: 0.8041\n",
            "\n",
            "Epoch 00007: val_acc improved from 0.79937 to 0.80408, saving model to best_model.h5\n",
            "Epoch 00007: early stopping\n"
          ],
          "name": "stdout"
        }
      ]
    },
    {
      "cell_type": "code",
      "metadata": {
        "colab": {
          "base_uri": "https://localhost:8080/"
        },
        "id": "HszLHEr7j4xl",
        "outputId": "e94aadfb-cc47-4010-ee91-f8ae8ff1132a"
      },
      "source": [
        "loaded_model = load_model('best_model.h5')\n",
        "print(\"\\n 테스트 정확도: %.4f\" % (loaded_model.evaluate(X_test, y_test)[1]))"
      ],
      "execution_count": null,
      "outputs": [
        {
          "output_type": "stream",
          "text": [
            "25/25 [==============================] - 7s 272ms/step - loss: 0.6902 - acc: 0.8218\n",
            "\n",
            " 테스트 정확도: 0.8218\n"
          ],
          "name": "stdout"
        }
      ]
    },
    {
      "cell_type": "code",
      "metadata": {
        "colab": {
          "base_uri": "https://localhost:8080/"
        },
        "id": "o0T-tVrY1tRZ",
        "outputId": "aa9dc0e0-85ca-4ced-a615-c3eeb3b9dd18"
      },
      "source": [
        "from sklearn.metrics import classification_report,confusion_matrix\n",
        "\n",
        "y_pred = model.predict(X_test)\n",
        "y_test_class = np.argmax(y_test,axis=1)\n",
        "y_pred_class = np.argmax(y_pred,axis=1)\n",
        "\n",
        "print(classification_report(y_test_class,y_pred_class))\n",
        "print(confusion_matrix(y_test_class,y_pred_class))"
      ],
      "execution_count": null,
      "outputs": [
        {
          "output_type": "stream",
          "text": [
            "              precision    recall  f1-score   support\n",
            "\n",
            "           0       0.87      0.77      0.81       166\n",
            "           1       0.83      0.84      0.83       339\n",
            "           2       0.79      0.83      0.81       292\n",
            "\n",
            "    accuracy                           0.82       797\n",
            "   macro avg       0.83      0.81      0.82       797\n",
            "weighted avg       0.82      0.82      0.82       797\n",
            "\n",
            "[[127  19  20]\n",
            " [ 11 285  43]\n",
            " [  8  41 243]]\n"
          ],
          "name": "stdout"
        }
      ]
    },
    {
      "cell_type": "markdown",
      "metadata": {
        "id": "AS2c8sut3CBb"
      },
      "source": [
        "## 예측"
      ]
    },
    {
      "cell_type": "code",
      "metadata": {
        "id": "NbTwoxpltkc0"
      },
      "source": [
        "def sentiment_predict(new_sentence):\n",
        "  new_sentence = okt.morphs(new_sentence, stem=True) # 토큰화\n",
        "  new_sentence = [word for word in new_sentence if not word in stopwords] # 불용어 제거\n",
        "  encoded = tokenizer.texts_to_sequences([new_sentence]) # 정수 인코딩\n",
        "  pad_new = pad_sequences(encoded, maxlen = max_len) # 패딩\n",
        "  score = df.code.unique()[model.predict_classes(pad_new)] # 예측\n",
        "  return score"
      ],
      "execution_count": null,
      "outputs": []
    },
    {
      "cell_type": "code",
      "metadata": {
        "colab": {
          "base_uri": "https://localhost:8080/"
        },
        "id": "zOR7cG2Tu8rW",
        "outputId": "c7de7ca7-048a-45d3-a07d-ac6b44c99dfb"
      },
      "source": [
        "sentiment_predict('한남대 조형예술학부 회화전공 박경범 교수(왼쪽)가 이광섭 총장에게 발전기금')"
      ],
      "execution_count": null,
      "outputs": [
        {
          "output_type": "stream",
          "text": [
            "/usr/local/lib/python3.7/dist-packages/tensorflow/python/keras/engine/sequential.py:455: UserWarning: `model.predict_classes()` is deprecated and will be removed after 2021-01-01. Please use instead:* `np.argmax(model.predict(x), axis=-1)`,   if your model does multi-class classification   (e.g. if it uses a `softmax` last-layer activation).* `(model.predict(x) > 0.5).astype(\"int32\")`,   if your model does binary classification   (e.g. if it uses a `sigmoid` last-layer activation).\n",
            "  warnings.warn('`model.predict_classes()` is deprecated and '\n"
          ],
          "name": "stderr"
        },
        {
          "output_type": "execute_result",
          "data": {
            "text/plain": [
              "array(['생활/문화'], dtype=object)"
            ]
          },
          "metadata": {
            "tags": []
          },
          "execution_count": 75
        }
      ]
    },
    {
      "cell_type": "markdown",
      "metadata": {
        "id": "PKsLWHgR6kHg"
      },
      "source": [
        "![image.png](data:image/png;base64,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)"
      ]
    },
    {
      "cell_type": "code",
      "metadata": {
        "colab": {
          "base_uri": "https://localhost:8080/"
        },
        "id": "vuFLgIm9wLsp",
        "outputId": "04b10d91-7e22-4acc-cef3-7777b95f63d2"
      },
      "source": [
        "sentiment_predict('귀갓길 여성을 쫓아가 성범죄를 시도한 20대 남성이 구속됐습니다.')"
      ],
      "execution_count": null,
      "outputs": [
        {
          "output_type": "stream",
          "text": [
            "/usr/local/lib/python3.7/dist-packages/tensorflow/python/keras/engine/sequential.py:455: UserWarning: `model.predict_classes()` is deprecated and will be removed after 2021-01-01. Please use instead:* `np.argmax(model.predict(x), axis=-1)`,   if your model does multi-class classification   (e.g. if it uses a `softmax` last-layer activation).* `(model.predict(x) > 0.5).astype(\"int32\")`,   if your model does binary classification   (e.g. if it uses a `sigmoid` last-layer activation).\n",
            "  warnings.warn('`model.predict_classes()` is deprecated and '\n"
          ],
          "name": "stderr"
        },
        {
          "output_type": "execute_result",
          "data": {
            "text/plain": [
              "array(['사회'], dtype=object)"
            ]
          },
          "metadata": {
            "tags": []
          },
          "execution_count": 68
        }
      ]
    },
    {
      "cell_type": "markdown",
      "metadata": {
        "id": "X0l27Lfk5Wwr"
      },
      "source": [
        "![image.png](data:image/png;base64,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)"
      ]
    },
    {
      "cell_type": "code",
      "metadata": {
        "colab": {
          "base_uri": "https://localhost:8080/"
        },
        "id": "1nqhFyHe4rOn",
        "outputId": "2657dbe4-c3b3-4b63-db99-866a23f67cec"
      },
      "source": [
        "sentiment_predict('머리를 긁고 있는 오랑우탄. 몸을 긁는 행동을 따라 하는 것은 부정적 감정과 관련')"
      ],
      "execution_count": null,
      "outputs": [
        {
          "output_type": "stream",
          "text": [
            "/usr/local/lib/python3.7/dist-packages/tensorflow/python/keras/engine/sequential.py:455: UserWarning: `model.predict_classes()` is deprecated and will be removed after 2021-01-01. Please use instead:* `np.argmax(model.predict(x), axis=-1)`,   if your model does multi-class classification   (e.g. if it uses a `softmax` last-layer activation).* `(model.predict(x) > 0.5).astype(\"int32\")`,   if your model does binary classification   (e.g. if it uses a `sigmoid` last-layer activation).\n",
            "  warnings.warn('`model.predict_classes()` is deprecated and '\n"
          ],
          "name": "stderr"
        },
        {
          "output_type": "execute_result",
          "data": {
            "text/plain": [
              "array(['IT/과학'], dtype=object)"
            ]
          },
          "metadata": {
            "tags": []
          },
          "execution_count": 66
        }
      ]
    },
    {
      "cell_type": "markdown",
      "metadata": {
        "id": "IggPgCqy5Awu"
      },
      "source": [
        "![image.png](data:image/png;base64,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)"
      ]
    },
    {
      "cell_type": "code",
      "metadata": {
        "id": "HPBJzN7J4Y9g"
      },
      "source": [
        ""
      ],
      "execution_count": null,
      "outputs": []
    }
  ]
}